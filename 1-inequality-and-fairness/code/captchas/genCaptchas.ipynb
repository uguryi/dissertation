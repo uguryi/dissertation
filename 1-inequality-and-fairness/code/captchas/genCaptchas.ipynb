{
 "cells": [
  {
   "cell_type": "markdown",
   "metadata": {},
   "source": [
    "### Last updated: 2018-12-20"
   ]
  },
  {
   "cell_type": "markdown",
   "metadata": {},
   "source": [
    "### Import libraries"
   ]
  },
  {
   "cell_type": "code",
   "execution_count": null,
   "metadata": {},
   "outputs": [],
   "source": [
    "import numpy as np\n",
    "import os\n",
    "import sys"
   ]
  },
  {
   "cell_type": "markdown",
   "metadata": {},
   "source": [
    "### Store path to repo"
   ]
  },
  {
   "cell_type": "code",
   "execution_count": null,
   "metadata": {},
   "outputs": [],
   "source": [
    "path_to_repo = \"path/to/repo\""
   ]
  },
  {
   "cell_type": "markdown",
   "metadata": {},
   "source": [
    "### Read text file with 10,000 English (USA) words (no swears)"
   ]
  },
  {
   "cell_type": "code",
   "execution_count": null,
   "metadata": {},
   "outputs": [],
   "source": [
    "# I downloaded this file from https://github.com/first20hours/google-10000-english\n",
    "\n",
    "text_file = open(os.path.join(path_to_repo, \"data\", \"captchas\", \n",
    "                              \"google-10000-english-usa-no-swears-long.txt\"), \"r\")\n",
    "\n",
    "lines = text_file.read().split('\\n')\n",
    "lines = [e for e in lines if e]\n",
    "lines[:10]"
   ]
  },
  {
   "cell_type": "markdown",
   "metadata": {},
   "source": [
    "### Define function to generate captchas"
   ]
  },
  {
   "cell_type": "code",
   "execution_count": null,
   "metadata": {},
   "outputs": [],
   "source": [
    "def genCaptchas(lst, N, k):\n",
    "    \"\"\"\n",
    "    Select N random words from lst, generate captchas for each\n",
    "    by replacing letters in k randomly selected indices, \n",
    "    return list of lists with captcha as first element and \n",
    "    original word as second element in each sublist\n",
    "    \n",
    "    lst - list object\n",
    "    N - int\n",
    "    k - int\n",
    "    \"\"\"\n",
    "    random_words = np.random.choice(lst, N, replace = False)\n",
    "    \n",
    "    len_words = [len(random_word) for random_word in random_words]\n",
    "    \n",
    "    random_ids = [np.random.choice(len_words[i], \n",
    "                                   k, \n",
    "                                   replace=False) for i in range(len(len_words))]\n",
    "    \n",
    "    captchas = [random_word for random_word in random_words]\n",
    "    \n",
    "    for i in range(len(len_words)):\n",
    "        for j in range(len_words[i]):\n",
    "            if j in random_ids[i]:\n",
    "                captchas[i] = captchas[i][:j] + '_' + captchas[i][j+1:]\n",
    "    return [np.asarray(captchas), random_words]"
   ]
  },
  {
   "cell_type": "markdown",
   "metadata": {},
   "source": [
    "### Generate captchas and write them to text files"
   ]
  },
  {
   "cell_type": "markdown",
   "metadata": {},
   "source": [
    "##### Select iteration number"
   ]
  },
  {
   "cell_type": "code",
   "execution_count": null,
   "metadata": {},
   "outputs": [],
   "source": [
    "iteration_no = \"0-\""
   ]
  },
  {
   "cell_type": "markdown",
   "metadata": {},
   "source": [
    "##### Captchas to be used in the demo run"
   ]
  },
  {
   "cell_type": "code",
   "execution_count": null,
   "metadata": {},
   "outputs": [],
   "source": [
    "lst = genCaptchas(lines, 100, 3)\n",
    "\n",
    "sys.stdout = open(os.path.join(path_to_repo, \"data\", \"captchas\", \"output\", \n",
    "                               iteration_no + \"captchas-100-3-demo.txt\"), \"w\")\n",
    "\n",
    "for i in range(len(lst[0])):\n",
    "    print(lst[0][i])\n",
    "\n",
    "sys.stdout = open(os.path.join(path_to_repo, \"data\", \"captchas\", \"output\",\n",
    "                               iteration_no + \"answers-100-3-demo.txt\"), \"w\")\n",
    "\n",
    "for i in range(len(lst[1])):\n",
    "    print(lst[1][i])"
   ]
  },
  {
   "cell_type": "markdown",
   "metadata": {},
   "source": [
    "##### Captchas to be used in the real game"
   ]
  },
  {
   "cell_type": "code",
   "execution_count": null,
   "metadata": {},
   "outputs": [],
   "source": [
    "lst = genCaptchas(lines, 100, 3)\n",
    "\n",
    "sys.stdout = open(os.path.join(path_to_repo, \"data\", \"captchas\", \"output\", \n",
    "                               iteration_no + \"captchas-100-3-real.txt\"), \"w\")\n",
    "\n",
    "for i in range(len(lst[0])):\n",
    "    print(lst[0][i])\n",
    "\n",
    "sys.stdout = open(os.path.join(path_to_repo, \"data\", \"captchas\", \"output\",\n",
    "                               iteration_no + \"answers-100-3-real.txt\"), \"w\")\n",
    "\n",
    "for i in range(len(lst[1])):\n",
    "    print(lst[1][i])"
   ]
  },
  {
   "cell_type": "markdown",
   "metadata": {},
   "source": [
    "##### Generate 80 separate sets of captchas"
   ]
  },
  {
   "cell_type": "code",
   "execution_count": null,
   "metadata": {},
   "outputs": [],
   "source": [
    "for i in range(1,81):\n",
    "    \n",
    "    # Iteration number\n",
    "    iteration_no = str(i) + \"-\"\n",
    "    \n",
    "    # Captchas for demo run\n",
    "    lst = genCaptchas(lines, 100, 3)\n",
    "    sys.stdout = open(os.path.join(path_to_repo, \"data\", \"captchas\", \"output\", \n",
    "                                   iteration_no + \"captchas-100-3-demo.txt\"), \"w\")\n",
    "    for i in range(len(lst[0])):\n",
    "        print(lst[0][i])\n",
    "    sys.stdout = open(os.path.join(path_to_repo, \"data\", \"captchas\", \"output\",\n",
    "                                   iteration_no + \"answers-100-3-demo.txt\"), \"w\")\n",
    "    for i in range(len(lst[1])):\n",
    "        print(lst[1][i])\n",
    "        \n",
    "    # Captchas for real run\n",
    "    lst = genCaptchas(lines, 100, 3)\n",
    "    sys.stdout = open(os.path.join(path_to_repo, \"data\", \"captchas\", \"output\", \n",
    "                                   iteration_no + \"captchas-100-3-real.txt\"), \"w\")\n",
    "    for i in range(len(lst[0])):\n",
    "        print(lst[0][i])\n",
    "    sys.stdout = open(os.path.join(path_to_repo, \"data\", \"captchas\", \"output\",\n",
    "                                   iteration_no + \"answers-100-3-real.txt\"), \"w\")\n",
    "    for i in range(len(lst[1])):\n",
    "        print(lst[1][i])"
   ]
  }
 ],
 "metadata": {
  "kernelspec": {
   "display_name": "Python 3",
   "language": "python",
   "name": "python3"
  },
  "language_info": {
   "codemirror_mode": {
    "name": "ipython",
    "version": 3
   },
   "file_extension": ".py",
   "mimetype": "text/x-python",
   "name": "python",
   "nbconvert_exporter": "python",
   "pygments_lexer": "ipython3",
   "version": "3.7.1"
  }
 },
 "nbformat": 4,
 "nbformat_minor": 2
}
