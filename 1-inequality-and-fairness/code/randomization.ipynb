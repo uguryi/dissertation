{
 "cells": [
  {
   "cell_type": "code",
   "execution_count": null,
   "metadata": {},
   "outputs": [],
   "source": [
    "from random import shuffle\n",
    "\n",
    "dic = {\n",
    "    1:  'ee_ee',\n",
    "    2:  'ee_eu',\n",
    "    3:  'ee_re',\n",
    "    4:  'ee_ru',\n",
    "    5:  'eu_ee',\n",
    "    6:  'eu_eu',\n",
    "    7:  'eu_re',\n",
    "    8:  'eu_ru',\n",
    "    9:  're_ee',\n",
    "    10: 're_eu',\n",
    "    11: 're_re',\n",
    "    12: 're_ru',\n",
    "    13: 'ru_ee',\n",
    "    14: 'ru_eu',\n",
    "    15: 'ru_re',\n",
    "    16: 'ru_ru',\n",
    "}\n",
    "\n",
    "lst = list(range(1,17))\n",
    "\n",
    "for i in range(1,11):\n",
    "    shuffle(lst)\n",
    "    temp = [dic[num] for num in lst]\n",
    "    print(f'{i}: ' + ', '.join(temp))\n",
    "    print()"
   ]
  },
  {
   "cell_type": "code",
   "execution_count": null,
   "metadata": {},
   "outputs": [],
   "source": [
    "from random import shuffle\n",
    "\n",
    "dic = {\n",
    "    1:  'ee_ee',\n",
    "    2:  'ee_eu',\n",
    "    3:  'ee_re',\n",
    "    4:  'ee_ru',\n",
    "    5:  'eu_ee',\n",
    "    6:  'eu_eu',\n",
    "    7:  'eu_re',\n",
    "    8:  'eu_ru',\n",
    "    9:  're_ee',\n",
    "    10: 're_eu',\n",
    "    11: 're_re',\n",
    "    12: 're_ru',\n",
    "    13: 'ru_ee',\n",
    "    14: 'ru_eu',\n",
    "    15: 'ru_re',\n",
    "    16: 'ru_ru',\n",
    "}\n",
    "\n",
    "lst = list(range(1,17))\n",
    "\n",
    "for i in range(11,21):\n",
    "    shuffle(lst)\n",
    "    temp = [dic[num] for num in lst]\n",
    "    print(f'{i}: ' + ', '.join(temp))\n",
    "    print()"
   ]
  },
  {
   "cell_type": "code",
   "execution_count": null,
   "metadata": {},
   "outputs": [],
   "source": []
  }
 ],
 "metadata": {
  "kernelspec": {
   "display_name": "Python 3",
   "language": "python",
   "name": "python3"
  },
  "language_info": {
   "codemirror_mode": {
    "name": "ipython",
    "version": 3
   },
   "file_extension": ".py",
   "mimetype": "text/x-python",
   "name": "python",
   "nbconvert_exporter": "python",
   "pygments_lexer": "ipython3",
   "version": "3.7.1"
  }
 },
 "nbformat": 4,
 "nbformat_minor": 2
}
