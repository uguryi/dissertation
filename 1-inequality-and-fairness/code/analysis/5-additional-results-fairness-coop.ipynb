{
 "cells": [
  {
   "cell_type": "markdown",
   "metadata": {},
   "source": [
    "### Import necessary libraries, set options"
   ]
  },
  {
   "cell_type": "code",
   "execution_count": null,
   "metadata": {},
   "outputs": [],
   "source": [
    "import matplotlib.pyplot as plt\n",
    "import numpy as np\n",
    "import os\n",
    "import pandas as pd\n",
    "import patsy\n",
    "import seaborn as sns\n",
    "import statsmodels.api as sm\n",
    "import warnings\n",
    "\n",
    "from statsmodels.formula.api import glm\n",
    "\n",
    "pd.set_option('display.max_columns', 125)\n",
    "warnings.filterwarnings(\"ignore\")"
   ]
  },
  {
   "cell_type": "markdown",
   "metadata": {},
   "source": [
    "### Read in pickled datasets"
   ]
  },
  {
   "cell_type": "code",
   "execution_count": null,
   "metadata": {},
   "outputs": [],
   "source": [
    "path_to_diss = os.path.join(\"path/to/dissertation/chapter\")\n",
    "\n",
    "path_to_data = os.path.join(path_to_diss, \"path/to/data/processed-data\")"
   ]
  },
  {
   "cell_type": "markdown",
   "metadata": {},
   "source": [
    "##### Between-individual"
   ]
  },
  {
   "cell_type": "code",
   "execution_count": null,
   "metadata": {
    "scrolled": true
   },
   "outputs": [],
   "source": [
    "data_final = pd.read_pickle(path_to_data + \"/pkl/data_final.pkl\")\n",
    "print(len(data_final))\n",
    "data_final.head()"
   ]
  },
  {
   "cell_type": "code",
   "execution_count": null,
   "metadata": {
    "scrolled": true
   },
   "outputs": [],
   "source": [
    "data_final_coop = pd.read_pickle(path_to_data + \"/pkl/data_final_coop.pkl\")\n",
    "print(len(data_final_coop))\n",
    "data_final_coop.head()"
   ]
  },
  {
   "cell_type": "code",
   "execution_count": null,
   "metadata": {
    "scrolled": true
   },
   "outputs": [],
   "source": [
    "data_pid_version = pd.read_pickle(path_to_data + \"/pkl/data_pid_version.pkl\")\n",
    "print(len(data_pid_version))\n",
    "data_pid_version.head()"
   ]
  },
  {
   "cell_type": "code",
   "execution_count": null,
   "metadata": {
    "scrolled": true
   },
   "outputs": [],
   "source": [
    "data_pid = pd.read_pickle(path_to_data + \"/pkl/data_pid.pkl\")\n",
    "print(len(data_pid))\n",
    "data_pid.head()"
   ]
  },
  {
   "cell_type": "markdown",
   "metadata": {},
   "source": [
    "##### Between-session"
   ]
  },
  {
   "cell_type": "code",
   "execution_count": null,
   "metadata": {
    "scrolled": true
   },
   "outputs": [],
   "source": [
    "session_data = pd.read_pickle(path_to_data + \"/pkl/session_data.pkl\")\n",
    "print(len(session_data))\n",
    "session_data.head()"
   ]
  },
  {
   "cell_type": "code",
   "execution_count": null,
   "metadata": {},
   "outputs": [],
   "source": [
    "session_data_coop = pd.read_pickle(path_to_data + \"/pkl/session_data_coop.pkl\")\n",
    "print(len(session_data_coop))\n",
    "session_data_coop.head()"
   ]
  },
  {
   "cell_type": "code",
   "execution_count": null,
   "metadata": {
    "scrolled": true
   },
   "outputs": [],
   "source": [
    "session_data_pid_version = pd.read_pickle(path_to_data + \"/pkl/session_data_pid_version.pkl\")\n",
    "print(len(session_data_pid_version))\n",
    "session_data_pid_version.head()"
   ]
  },
  {
   "cell_type": "markdown",
   "metadata": {},
   "source": [
    "##### Within-individual"
   ]
  },
  {
   "cell_type": "code",
   "execution_count": null,
   "metadata": {},
   "outputs": [],
   "source": [
    "data_within = pd.read_pickle(path_to_data + \"/pkl/data_within.pkl\")\n",
    "print(len(data_within))\n",
    "data_within.head()"
   ]
  },
  {
   "cell_type": "code",
   "execution_count": null,
   "metadata": {
    "scrolled": true
   },
   "outputs": [],
   "source": [
    "data_within_coop = pd.read_pickle(path_to_data + \"/pkl/data_within_coop.pkl\")\n",
    "print(len(data_within_coop))\n",
    "data_within_coop.head()"
   ]
  },
  {
   "cell_type": "code",
   "execution_count": null,
   "metadata": {
    "scrolled": true
   },
   "outputs": [],
   "source": [
    "data_within_pid = pd.read_pickle(path_to_data + \"/pkl/data_within_pid.pkl\")\n",
    "print(len(data_within_pid))\n",
    "data_within_pid.head()"
   ]
  },
  {
   "cell_type": "markdown",
   "metadata": {},
   "source": [
    "##### Within-session"
   ]
  },
  {
   "cell_type": "code",
   "execution_count": null,
   "metadata": {},
   "outputs": [],
   "source": [
    "session_data_within = pd.read_pickle(path_to_data + \"/pkl/session_data_within.pkl\")\n",
    "print(len(session_data_within))\n",
    "session_data_within.head()"
   ]
  },
  {
   "cell_type": "code",
   "execution_count": null,
   "metadata": {},
   "outputs": [],
   "source": [
    "session_data_within_coop = pd.read_pickle(path_to_data + \"/pkl/session_data_within_coop.pkl\")\n",
    "print(len(session_data_within_coop))\n",
    "session_data_within_coop.head()"
   ]
  },
  {
   "cell_type": "code",
   "execution_count": null,
   "metadata": {
    "scrolled": false
   },
   "outputs": [],
   "source": [
    "session_data_within_pid = pd.read_pickle(path_to_data + \"/pkl/session_data_within_pid.pkl\")\n",
    "print(len(session_data_within_pid))\n",
    "session_data_within_pid.head()"
   ]
  },
  {
   "cell_type": "markdown",
   "metadata": {},
   "source": [
    "### Generate within-subjects interaction term"
   ]
  },
  {
   "cell_type": "code",
   "execution_count": null,
   "metadata": {},
   "outputs": [],
   "source": [
    "data_within_pid['game1_int'] = data_within_pid['earned_v1'] * data_within_pid['equal_v1']\n",
    "data_within_pid['game2_int'] = data_within_pid['earned_v2'] * data_within_pid['equal_v2']\n",
    "data_within_pid['delta_int'] = data_within_pid['game2_int'] - data_within_pid['game1_int']"
   ]
  },
  {
   "cell_type": "code",
   "execution_count": null,
   "metadata": {},
   "outputs": [],
   "source": [
    "data_within_coop['game1_int'] = data_within_coop['earned_v1'] * data_within_coop['equal_v1']\n",
    "data_within_coop['game2_int'] = data_within_coop['earned_v2'] * data_within_coop['equal_v2']\n",
    "data_within_coop['delta_int'] = data_within_coop['game2_int'] - data_within_coop['game1_int']"
   ]
  },
  {
   "cell_type": "code",
   "execution_count": null,
   "metadata": {},
   "outputs": [],
   "source": [
    "session_data_within_pid['game1_int'] = session_data_within_pid['earned1'] * session_data_within_pid['equal1']\n",
    "session_data_within_pid['game2_int'] = session_data_within_pid['earned2'] * session_data_within_pid['equal2']\n",
    "session_data_within_pid['delta_int'] = session_data_within_pid['game2_int'] - session_data_within_pid['game1_int']"
   ]
  },
  {
   "cell_type": "code",
   "execution_count": null,
   "metadata": {},
   "outputs": [],
   "source": [
    "session_data_within_coop['game1_int'] = session_data_within_coop['earned1'] * session_data_within_coop['equal1']\n",
    "session_data_within_coop['game2_int'] = session_data_within_coop['earned2'] * session_data_within_coop['equal2']\n",
    "session_data_within_coop['delta_int'] = session_data_within_coop['game2_int'] - session_data_within_coop['game1_int']"
   ]
  },
  {
   "cell_type": "markdown",
   "metadata": {},
   "source": [
    "### Fairness ~ conditions"
   ]
  },
  {
   "cell_type": "markdown",
   "metadata": {},
   "source": [
    "##### Overview"
   ]
  },
  {
   "cell_type": "code",
   "execution_count": null,
   "metadata": {
    "scrolled": false
   },
   "outputs": [],
   "source": [
    "print(np.mean(data_pid_version.f_score))\n",
    "print()\n",
    "\n",
    "print(data_pid_version.groupby('version')['f_score'].mean())\n",
    "print()\n",
    "\n",
    "print(data_pid_version.groupby('condition')['f_score'].mean())\n",
    "print()\n",
    "\n",
    "print(data_pid_version.groupby(['version', 'condition'])['f_score'].mean())"
   ]
  },
  {
   "cell_type": "markdown",
   "metadata": {},
   "source": [
    "##### Figures"
   ]
  },
  {
   "cell_type": "code",
   "execution_count": null,
   "metadata": {},
   "outputs": [],
   "source": [
    "fig, ax = plt.subplots(1, 3, figsize = (15, 5))\n",
    "\n",
    "for i in range(3):\n",
    "\n",
    "    if i == 0:\n",
    "        temp = data_pid_version[data_pid_version['version'] == 1].groupby('condition')['f_score'].mean().reset_index()\n",
    "        ax[i].set_title(\"First game only\")\n",
    "    elif i == 1:\n",
    "        temp = data_pid_version[data_pid_version['version'] == 2].groupby('condition')['f_score'].mean().reset_index()\n",
    "        ax[i].set_title(\"Second game only\")\n",
    "    else:\n",
    "        temp = data_pid_version.groupby('condition')['f_score'].mean().reset_index()\n",
    "        ax[i].set_title(\"Pooled\")\n",
    "\n",
    "    groupedvalues = temp.sort_values(by = ['f_score']).reset_index(drop = True)\n",
    "    #pal = sns.color_palette(\"Reds_d\", len(groupedvalues))\n",
    "    #rank = groupedvalues[\"f_score\"].argsort().argsort()\n",
    "    #sns.barplot(x='condition', y='f_score', data=groupedvalues, palette=np.array(pal[::-1])[rank], ax=ax[i])\n",
    "    clrs = ['tomato', 'royalblue', 'limegreen', 'orange']\n",
    "    sns.barplot(x = 'condition', y = 'f_score', data = groupedvalues, palette = clrs, ax = ax[i])\n",
    "    for index, row in groupedvalues.iterrows():\n",
    "        ax[i].text(row.name, row.f_score, round(row.f_score, 2), color = 'black', ha = \"center\")\n",
    "    ax[i].set(xlabel = '', ylabel = 'Average fairness score')\n",
    "    ax[i].set_xticklabels(['RU', 'EE', 'RE', 'EU'])\n",
    "    ax[i].set(ylim=(0, 6))\n",
    "    \n",
    "fig.savefig(os.path.join(path_to_diss, \"paper/figures/appendices/figureA5.1.png\"), \n",
    "            bbox_inches = 'tight', \n",
    "            pad_inches = 0.25)"
   ]
  },
  {
   "cell_type": "markdown",
   "metadata": {},
   "source": [
    "##### Pairwise fairness and preference comparisons"
   ]
  },
  {
   "cell_type": "code",
   "execution_count": null,
   "metadata": {},
   "outputs": [],
   "source": [
    "dic_more_fair = {\n",
    "    'ee_vs_re': [],\n",
    "    'ee_vs_eu': [],\n",
    "    'ee_vs_ru': [],\n",
    "    're_vs_eu': [],\n",
    "    're_vs_ru': [],\n",
    "    'eu_vs_ru': []\n",
    "}\n",
    "\n",
    "dic_prefer = {\n",
    "    'ee_vs_re': [],\n",
    "    'ee_vs_eu': [],\n",
    "    'ee_vs_ru': [],\n",
    "    're_vs_eu': [],\n",
    "    're_vs_ru': [],\n",
    "    'eu_vs_ru': []\n",
    "}"
   ]
  },
  {
   "cell_type": "code",
   "execution_count": null,
   "metadata": {},
   "outputs": [],
   "source": [
    "for index, row in data_pid.iterrows():\n",
    "    if (row[\"earned1\"] == 1 and row[\"equal1\"] == 1 and row[\"earned2\"] == 0 and row[\"equal2\"] == 1) or \\\n",
    "       (row[\"earned1\"] == 0 and row[\"equal1\"] == 1 and row[\"earned2\"] == 1 and row[\"equal2\"] == 1):\n",
    "            dic_more_fair['ee_vs_re'].append(row['more_fair'])\n",
    "            dic_prefer['ee_vs_re'].append(row['prefer'])\n",
    "    elif (row[\"earned1\"] == 1 and row[\"equal1\"] == 1 and row[\"earned2\"] == 1 and row[\"equal2\"] == 0) or \\\n",
    "       (row[\"earned1\"] == 1 and row[\"equal1\"] == 0 and row[\"earned2\"] == 1 and row[\"equal2\"] == 1):\n",
    "            dic_more_fair['ee_vs_eu'].append(row['more_fair'])\n",
    "            dic_prefer['ee_vs_eu'].append(row['prefer'])\n",
    "    elif (row[\"earned1\"] == 1 and row[\"equal1\"] == 1 and row[\"earned2\"] == 0 and row[\"equal2\"] == 0) or \\\n",
    "       (row[\"earned1\"] == 0 and row[\"equal1\"] == 0 and row[\"earned2\"] == 1 and row[\"equal2\"] == 1):\n",
    "            dic_more_fair['ee_vs_ru'].append(row['more_fair'])\n",
    "            dic_prefer['ee_vs_ru'].append(row['prefer'])  \n",
    "    elif (row[\"earned1\"] == 0 and row[\"equal1\"] == 1 and row[\"earned2\"] == 1 and row[\"equal2\"] == 0) or \\\n",
    "       (row[\"earned1\"] == 1 and row[\"equal1\"] == 0 and row[\"earned2\"] == 0 and row[\"equal2\"] == 1):\n",
    "            dic_more_fair['re_vs_eu'].append(row['more_fair'])\n",
    "            dic_prefer['re_vs_eu'].append(row['prefer'])\n",
    "    elif (row[\"earned1\"] == 0 and row[\"equal1\"] == 1 and row[\"earned2\"] == 0 and row[\"equal2\"] == 0) or \\\n",
    "       (row[\"earned1\"] == 0 and row[\"equal1\"] == 0 and row[\"earned2\"] == 0 and row[\"equal2\"] == 1):\n",
    "            dic_more_fair['re_vs_ru'].append(row['more_fair'])\n",
    "            dic_prefer['re_vs_ru'].append(row['prefer'])       \n",
    "    elif (row[\"earned1\"] == 1 and row[\"equal1\"] == 0 and row[\"earned2\"] == 0 and row[\"equal2\"] == 0) or \\\n",
    "       (row[\"earned1\"] == 0 and row[\"equal1\"] == 0 and row[\"earned2\"] == 1 and row[\"equal2\"] == 0):\n",
    "            dic_more_fair['eu_vs_ru'].append(row['more_fair'])\n",
    "            dic_prefer['eu_vs_ru'].append(row['prefer'])"
   ]
  },
  {
   "cell_type": "code",
   "execution_count": null,
   "metadata": {
    "scrolled": false
   },
   "outputs": [],
   "source": [
    "for key in dic_more_fair.keys():\n",
    "    temp_dict = {}\n",
    "    for condition in np.unique(dic_more_fair[key]):\n",
    "        if condition != '':\n",
    "            temp_dict[condition] = [dic_more_fair[key].count(condition)]\n",
    "    dic_more_fair[key] = temp_dict\n",
    "    tot = 0\n",
    "    for key2 in dic_more_fair[key].keys():\n",
    "        tot += dic_more_fair[key][key2][0]\n",
    "    for key2 in dic_more_fair[key].keys():\n",
    "        raw_count = dic_more_fair[key][key2][0]\n",
    "        perc = round(raw_count / tot * 100, 2)\n",
    "        dic_more_fair[key][key2].append(perc)\n",
    "    \n",
    "dic_more_fair"
   ]
  },
  {
   "cell_type": "code",
   "execution_count": null,
   "metadata": {},
   "outputs": [],
   "source": [
    "for key in dic_prefer.keys():\n",
    "    temp_dict = {}\n",
    "    for condition in np.unique(dic_prefer[key]):\n",
    "        if condition != '':\n",
    "            temp_dict[condition] = [dic_prefer[key].count(condition)]\n",
    "    dic_prefer[key] = temp_dict\n",
    "    tot = 0\n",
    "    for key2 in dic_prefer[key].keys():\n",
    "        tot += dic_prefer[key][key2][0]\n",
    "    for key2 in dic_prefer[key].keys():\n",
    "        raw_count = dic_prefer[key][key2][0]\n",
    "        perc = round(raw_count / tot * 100, 2)\n",
    "        dic_prefer[key][key2].append(perc)\n",
    "    \n",
    "dic_prefer"
   ]
  },
  {
   "cell_type": "markdown",
   "metadata": {
    "scrolled": true
   },
   "source": [
    "##### Between-individual"
   ]
  },
  {
   "cell_type": "code",
   "execution_count": null,
   "metadata": {
    "scrolled": true
   },
   "outputs": [],
   "source": [
    "# Between first only\n",
    "\n",
    "y, X = patsy.dmatrices(\n",
    "    'f_score ~ earned * equal', \n",
    "    data_pid_version[data_pid_version['version'] == 1],\n",
    "    return_type = 'dataframe'\n",
    ")\n",
    "\n",
    "session_c = data_pid_version[(data_pid_version['version'] == 1)                           &\n",
    "                             (data_pid_version['version'] == data_pid_version['version']) &\n",
    "                             (data_pid_version['f_score'] == data_pid_version['f_score']) &\n",
    "                             (data_pid_version['earned']  == data_pid_version['earned'])  &\n",
    "                             (data_pid_version['equal']   == data_pid_version['equal'])]['session_no']\n",
    "\n",
    "ols = sm.OLS(y, X)\n",
    "ols.fit(cov_type='cluster', cov_kwds={'groups': [session_c]}).summary()"
   ]
  },
  {
   "cell_type": "code",
   "execution_count": null,
   "metadata": {
    "scrolled": true
   },
   "outputs": [],
   "source": [
    "# Between second only\n",
    "\n",
    "y, X = patsy.dmatrices(\n",
    "    'f_score ~ earned * equal', \n",
    "    data_pid_version[data_pid_version['version'] == 2],\n",
    "    return_type = 'dataframe'\n",
    ")\n",
    "\n",
    "session_c = data_pid_version[(data_pid_version['version'] == 2)                           &\n",
    "                             (data_pid_version['version'] == data_pid_version['version']) &\n",
    "                             (data_pid_version['f_score'] == data_pid_version['f_score']) &\n",
    "                             (data_pid_version['earned']  == data_pid_version['earned'])  &\n",
    "                             (data_pid_version['equal']   == data_pid_version['equal'])]['session_no']\n",
    "\n",
    "ols = sm.OLS(y, X)\n",
    "ols.fit(cov_type='cluster', cov_kwds={'groups': [session_c]}).summary()"
   ]
  },
  {
   "cell_type": "code",
   "execution_count": null,
   "metadata": {
    "scrolled": true
   },
   "outputs": [],
   "source": [
    "# Between pooled\n",
    "\n",
    "y, X = patsy.dmatrices(\n",
    "    'f_score ~ earned * equal + C(version)', \n",
    "    data_pid_version,\n",
    "    return_type = 'dataframe'\n",
    ")\n",
    "\n",
    "session_c = data_pid_version[(data_pid_version['version'] == data_pid_version['version']) &\n",
    "                             (data_pid_version['f_score'] == data_pid_version['f_score']) &\n",
    "                             (data_pid_version['earned']  == data_pid_version['earned'])  &\n",
    "                             (data_pid_version['equal']   == data_pid_version['equal'])]['session_no']\n",
    "\n",
    "pid_c     = data_pid_version[(data_pid_version['version'] == data_pid_version['version']) &\n",
    "                             (data_pid_version['f_score'] == data_pid_version['f_score']) &\n",
    "                             (data_pid_version['earned']  == data_pid_version['earned'])  &\n",
    "                             (data_pid_version['equal']   == data_pid_version['equal'])]['pid']\n",
    "\n",
    "ols = sm.OLS(y, X)\n",
    "ols.fit(cov_type='cluster', cov_kwds={'groups': [session_c, pid_c]}).summary()"
   ]
  },
  {
   "cell_type": "code",
   "execution_count": null,
   "metadata": {
    "scrolled": true
   },
   "outputs": [],
   "source": [
    "# Between version interaction\n",
    "\n",
    "y, X = patsy.dmatrices(\n",
    "    'f_score ~ earned * equal * C(version)', \n",
    "    data_pid_version,\n",
    "    return_type = 'dataframe'\n",
    ")\n",
    "\n",
    "session_c = data_pid_version[(data_pid_version['version'] == data_pid_version['version']) &\n",
    "                             (data_pid_version['f_score'] == data_pid_version['f_score']) &\n",
    "                             (data_pid_version['earned']  == data_pid_version['earned'])  &\n",
    "                             (data_pid_version['equal']   == data_pid_version['equal'])]['session_no']\n",
    "\n",
    "pid_c     = data_pid_version[(data_pid_version['version'] == data_pid_version['version']) &\n",
    "                             (data_pid_version['f_score'] == data_pid_version['f_score']) &\n",
    "                             (data_pid_version['earned']  == data_pid_version['earned'])  &\n",
    "                             (data_pid_version['equal']   == data_pid_version['equal'])]['pid']\n",
    "\n",
    "ols = sm.OLS(y, X)\n",
    "ols.fit(cov_type='cluster', cov_kwds={'groups': [session_c, pid_c]}).summary()"
   ]
  },
  {
   "cell_type": "code",
   "execution_count": null,
   "metadata": {
    "scrolled": true
   },
   "outputs": [],
   "source": [
    "# Between first only + change_in_score\n",
    "\n",
    "y, X = patsy.dmatrices(\n",
    "    'f_score ~ earned * equal + change_in_score', \n",
    "    data_pid_version[data_pid_version['version'] == 1],\n",
    "    return_type = 'dataframe'\n",
    ")\n",
    "\n",
    "session_c = data_pid_version[(data_pid_version['version'] == 1)                                           &\n",
    "                             (data_pid_version['change_in_score'] == data_pid_version['change_in_score']) &\n",
    "                             (data_pid_version['version']         == data_pid_version['version'])         &\n",
    "                             (data_pid_version['f_score']         == data_pid_version['f_score'])         &\n",
    "                             (data_pid_version['earned']          == data_pid_version['earned'])          &\n",
    "                             (data_pid_version['equal']           == data_pid_version['equal'])]['session_no']\n",
    "\n",
    "ols = sm.OLS(y, X)\n",
    "ols.fit(cov_type='cluster', cov_kwds={'groups': [session_c]}).summary()"
   ]
  },
  {
   "cell_type": "code",
   "execution_count": null,
   "metadata": {
    "scrolled": true
   },
   "outputs": [],
   "source": [
    "# Between second only + change_in_score\n",
    "\n",
    "y, X = patsy.dmatrices(\n",
    "    'f_score ~ earned * equal + change_in_score', \n",
    "    data_pid_version[data_pid_version['version'] == 2],\n",
    "    return_type = 'dataframe'\n",
    ")\n",
    "\n",
    "session_c = data_pid_version[(data_pid_version['version'] == 2)                                           &\n",
    "                             (data_pid_version['change_in_score'] == data_pid_version['change_in_score']) &\n",
    "                             (data_pid_version['version']         == data_pid_version['version'])         &\n",
    "                             (data_pid_version['f_score']         == data_pid_version['f_score'])         &\n",
    "                             (data_pid_version['earned']          == data_pid_version['earned'])          &\n",
    "                             (data_pid_version['equal']           == data_pid_version['equal'])]['session_no']\n",
    "\n",
    "ols = sm.OLS(y, X)\n",
    "ols.fit(cov_type='cluster', cov_kwds={'groups': [session_c]}).summary()"
   ]
  },
  {
   "cell_type": "code",
   "execution_count": null,
   "metadata": {
    "scrolled": true
   },
   "outputs": [],
   "source": [
    "# Between pooled + change_in_score\n",
    "\n",
    "y, X = patsy.dmatrices(\n",
    "    'f_score ~ earned * equal + C(version) + change_in_score', \n",
    "    data_pid_version,\n",
    "    return_type = 'dataframe'\n",
    ")\n",
    "\n",
    "session_c = data_pid_version[(data_pid_version['change_in_score'] == data_pid_version['change_in_score']) &\n",
    "                             (data_pid_version['version']         == data_pid_version['version'])         &\n",
    "                             (data_pid_version['f_score']         == data_pid_version['f_score'])         &\n",
    "                             (data_pid_version['earned']          == data_pid_version['earned'])          &\n",
    "                             (data_pid_version['equal']           == data_pid_version['equal'])]['session_no']\n",
    "\n",
    "pid_c     = data_pid_version[(data_pid_version['change_in_score'] == data_pid_version['change_in_score']) &\n",
    "                             (data_pid_version['version']         == data_pid_version['version'])         &\n",
    "                             (data_pid_version['f_score']         == data_pid_version['f_score'])         &\n",
    "                             (data_pid_version['earned']          == data_pid_version['earned'])          &\n",
    "                             (data_pid_version['equal']           == data_pid_version['equal'])]['pid']\n",
    "\n",
    "ols = sm.OLS(y, X)\n",
    "ols.fit(cov_type='cluster', cov_kwds={'groups': [session_c, pid_c]}).summary()"
   ]
  },
  {
   "cell_type": "code",
   "execution_count": null,
   "metadata": {
    "scrolled": true
   },
   "outputs": [],
   "source": [
    "# Between version interaction + change_in_score\n",
    "\n",
    "y, X = patsy.dmatrices(\n",
    "    'f_score ~ earned * equal * C(version) + change_in_score', \n",
    "    data_pid_version,\n",
    "    return_type = 'dataframe'\n",
    ")\n",
    "\n",
    "session_c = data_pid_version[(data_pid_version['change_in_score'] == data_pid_version['change_in_score']) &\n",
    "                             (data_pid_version['version']         == data_pid_version['version'])         &\n",
    "                             (data_pid_version['f_score']         == data_pid_version['f_score'])         &\n",
    "                             (data_pid_version['earned']          == data_pid_version['earned'])          &\n",
    "                             (data_pid_version['equal']           == data_pid_version['equal'])]['session_no']\n",
    "\n",
    "pid_c     = data_pid_version[(data_pid_version['change_in_score'] == data_pid_version['change_in_score']) &\n",
    "                             (data_pid_version['version']         == data_pid_version['version'])         &\n",
    "                             (data_pid_version['f_score']         == data_pid_version['f_score'])         &\n",
    "                             (data_pid_version['earned']          == data_pid_version['earned'])          &\n",
    "                             (data_pid_version['equal']           == data_pid_version['equal'])]['pid']\n",
    "\n",
    "ols = sm.OLS(y, X)\n",
    "ols.fit(cov_type='cluster', cov_kwds={'groups': [session_c, pid_c]}).summary()"
   ]
  },
  {
   "cell_type": "markdown",
   "metadata": {
    "scrolled": true
   },
   "source": [
    "##### Between-session"
   ]
  },
  {
   "cell_type": "code",
   "execution_count": null,
   "metadata": {
    "scrolled": true
   },
   "outputs": [],
   "source": [
    "y, X = patsy.dmatrices(\n",
    "    'f_score ~ earned * equal', \n",
    "    session_data_pid_version[session_data_pid_version['version'] == 1],\n",
    "    return_type = 'dataframe'\n",
    ")\n",
    "\n",
    "ols = sm.OLS(y, X)\n",
    "ols.fit().summary()"
   ]
  },
  {
   "cell_type": "code",
   "execution_count": null,
   "metadata": {
    "scrolled": true
   },
   "outputs": [],
   "source": [
    "y, X = patsy.dmatrices(\n",
    "    'f_score ~ earned * equal', \n",
    "    session_data_pid_version[session_data_pid_version['version'] == 2],\n",
    "    return_type = 'dataframe'\n",
    ")\n",
    "\n",
    "ols = sm.OLS(y, X)\n",
    "ols.fit().summary()"
   ]
  },
  {
   "cell_type": "code",
   "execution_count": null,
   "metadata": {
    "scrolled": true
   },
   "outputs": [],
   "source": [
    "y, X = patsy.dmatrices(\n",
    "    'f_score ~ earned * equal + C(version)', \n",
    "    session_data_pid_version,\n",
    "    return_type = 'dataframe'\n",
    ")\n",
    "\n",
    "session_c = session_data_pid_version[\n",
    "    (session_data_pid_version['version'] == session_data_pid_version['version']) &\n",
    "    (session_data_pid_version['f_score'] == session_data_pid_version['f_score']) &\n",
    "    (session_data_pid_version['earned']  == session_data_pid_version['earned'])  &\n",
    "    (session_data_pid_version['equal']   == session_data_pid_version['equal'])]['session_no']\n",
    "\n",
    "ols = sm.OLS(y, X)\n",
    "ols.fit(cov_type='cluster', cov_kwds={'groups': [session_c]}).summary()"
   ]
  },
  {
   "cell_type": "code",
   "execution_count": null,
   "metadata": {
    "scrolled": true
   },
   "outputs": [],
   "source": [
    "y, X = patsy.dmatrices(\n",
    "    'f_score ~ earned * equal * C(version)', \n",
    "    session_data_pid_version,\n",
    "    return_type = 'dataframe'\n",
    ")\n",
    "\n",
    "session_c = session_data_pid_version[\n",
    "    (session_data_pid_version['version'] == session_data_pid_version['version']) &\n",
    "    (session_data_pid_version['f_score'] == session_data_pid_version['f_score']) &\n",
    "    (session_data_pid_version['earned']  == session_data_pid_version['earned'])  &\n",
    "    (session_data_pid_version['equal']   == session_data_pid_version['equal'])]['session_no']\n",
    "\n",
    "ols = sm.OLS(y, X)\n",
    "ols.fit(cov_type='cluster', cov_kwds={'groups': [session_c]}).summary()"
   ]
  },
  {
   "cell_type": "markdown",
   "metadata": {
    "scrolled": true
   },
   "source": [
    "##### Within-individual"
   ]
  },
  {
   "cell_type": "code",
   "execution_count": null,
   "metadata": {
    "scrolled": true
   },
   "outputs": [],
   "source": [
    "# y, X = patsy.dmatrices(\n",
    "#     'delta_f_score ~ delta_earned + delta_equal + delta_int', \n",
    "#     # 'delta_f_score ~ delta_earned * delta_equal'\n",
    "#     data_within_pid,\n",
    "#     return_type = 'dataframe'\n",
    "# )\n",
    "\n",
    "# session_c = data_within_pid[(data_within_pid['delta_f_score'] == data_within_pid['delta_f_score']) &\n",
    "#                             (data_within_pid['delta_earned']  == data_within_pid['delta_earned'])  &\n",
    "#                             (data_within_pid['delta_equal']   == data_within_pid['delta_equal'])]['session_no']\n",
    "\n",
    "# ols = sm.OLS(y, X)\n",
    "# ols.fit(cov_type='cluster', cov_kwds={'groups': [session_c]}).summary()"
   ]
  },
  {
   "cell_type": "code",
   "execution_count": null,
   "metadata": {
    "scrolled": true
   },
   "outputs": [],
   "source": [
    "temp = data_within_pid.copy()\n",
    "\n",
    "temp['delta_earned'] = temp['delta_earned'].apply(lambda row: 2 if row == -1 else row)\n",
    "temp['delta_equal']  = temp['delta_equal'].apply(lambda row: 2 if row == -1 else row)\n",
    "\n",
    "y, X = patsy.dmatrices(\n",
    "    'delta_f_score ~ C(delta_earned) * C(delta_equal)',\n",
    "    temp,\n",
    "    return_type = 'dataframe'\n",
    ")\n",
    "\n",
    "session_c = temp[(temp['delta_f_score'] == temp['delta_f_score']) &\n",
    "                 (temp['delta_earned']  == temp['delta_earned'])  &\n",
    "                 (temp['delta_equal']   == temp['delta_equal'])]['session_no']\n",
    "\n",
    "ols = sm.OLS(y, X)\n",
    "ols.fit(cov_type='cluster', cov_kwds={'groups': [session_c]}).summary()"
   ]
  },
  {
   "cell_type": "code",
   "execution_count": null,
   "metadata": {
    "scrolled": true
   },
   "outputs": [],
   "source": [
    "y, X = patsy.dmatrices(\n",
    "    'delta_f_score ~ delta_earned + delta_equal + delta_int + delta_change_in_score',\n",
    "    # 'delta_f_score ~ delta_earned * delta_equal + delta_change_in_score'\n",
    "    data_within_pid,\n",
    "    return_type = 'dataframe'\n",
    ")\n",
    "\n",
    "session_c = data_within_pid[\n",
    "    (data_within_pid['delta_change_in_score'] == data_within_pid['delta_change_in_score']) &\n",
    "    (data_within_pid['delta_f_score']         == data_within_pid['delta_f_score'])         &\n",
    "    (data_within_pid['delta_earned']          == data_within_pid['delta_earned'])          &\n",
    "    (data_within_pid['delta_equal']           == data_within_pid['delta_equal'])]['session_no']\n",
    "\n",
    "ols = sm.OLS(y, X)\n",
    "ols.fit(cov_type='cluster', cov_kwds={'groups': [session_c]}).summary()"
   ]
  },
  {
   "cell_type": "markdown",
   "metadata": {
    "scrolled": true
   },
   "source": [
    "##### Within-session"
   ]
  },
  {
   "cell_type": "code",
   "execution_count": null,
   "metadata": {
    "scrolled": true
   },
   "outputs": [],
   "source": [
    "y, X = patsy.dmatrices(\n",
    "    'delta_f_score ~ delta_earned + delta_equal + delta_int',\n",
    "    # 'delta_f_score ~ delta_earned * delta_equal'\n",
    "    session_data_within_pid,\n",
    "    return_type = 'dataframe'\n",
    ")\n",
    "\n",
    "ols = sm.OLS(y, X)\n",
    "ols.fit().summary()"
   ]
  },
  {
   "cell_type": "code",
   "execution_count": null,
   "metadata": {
    "scrolled": true
   },
   "outputs": [],
   "source": [
    "temp = session_data_within_pid.copy()\n",
    "\n",
    "temp['delta_earned'] = temp['delta_earned'].apply(lambda row: 2 if row == -1 else row)\n",
    "temp['delta_equal']  = temp['delta_equal'].apply(lambda row: 2 if row == -1 else row)\n",
    "\n",
    "y, X = patsy.dmatrices(\n",
    "    'delta_f_score ~ C(delta_earned) * C(delta_equal)',\n",
    "    temp,\n",
    "    return_type = 'dataframe'\n",
    ")\n",
    "\n",
    "ols = sm.OLS(y, X)\n",
    "ols.fit().summary()"
   ]
  },
  {
   "cell_type": "markdown",
   "metadata": {},
   "source": [
    "### Cooperation ~ conditions"
   ]
  },
  {
   "cell_type": "markdown",
   "metadata": {
    "scrolled": false
   },
   "source": [
    "##### Overview"
   ]
  },
  {
   "cell_type": "code",
   "execution_count": null,
   "metadata": {},
   "outputs": [],
   "source": [
    "print(np.mean(data_final_coop.coopChoice))\n",
    "print()\n",
    "\n",
    "print(data_final_coop.groupby('version')['coopChoice'].mean())\n",
    "print()\n",
    "\n",
    "print(data_final_coop.groupby('round')['coopChoice'].mean())\n",
    "print()"
   ]
  },
  {
   "cell_type": "code",
   "execution_count": null,
   "metadata": {},
   "outputs": [],
   "source": [
    "print(data_final_coop.groupby('condition')['coopChoice'].mean())\n",
    "print()\n",
    "\n",
    "print(data_final_coop.groupby(['version', 'condition'])['coopChoice'].mean())"
   ]
  },
  {
   "cell_type": "markdown",
   "metadata": {
    "scrolled": true
   },
   "source": [
    "##### Figures"
   ]
  },
  {
   "cell_type": "code",
   "execution_count": null,
   "metadata": {},
   "outputs": [],
   "source": [
    "data_final_coop.groupby(['round', 'version']).mean()['coopChoice'].unstack().plot(style = ['-', '--'],\n",
    "                                                                                  color = 'black')\n",
    "plt.xlabel('Round')\n",
    "plt.ylabel('Average Cooperation')\n",
    "plt.title('Average Cooperation by Round')\n",
    "plt.legend(['First game', 'Second game'])\n",
    "plt.xticks(np.arange(1, 11, step=1))\n",
    "\n",
    "plt.savefig(os.path.join(path_to_diss, \"paper/figures/appendices/figureA5.2.png\"))\n",
    "\n",
    "plt.show()"
   ]
  },
  {
   "cell_type": "code",
   "execution_count": null,
   "metadata": {},
   "outputs": [],
   "source": [
    "fig, ax = plt.subplots(1, 3, figsize = (15, 5))\n",
    "clrs = ['royalblue', 'orange', 'limegreen', 'tomato']\n",
    "\n",
    "for i in range(3):\n",
    "    if i == 0:\n",
    "        temp = data_final_coop[\n",
    "            data_final_coop['version'] == 1].groupby(['round',\n",
    "                                                      'condition']).mean()['coopChoice'].unstack().plot(color = clrs, \n",
    "                                                                                                        ax = ax[i])\n",
    "        ax[i].set_title('First game only')\n",
    "        ax[i].set_xticks(np.arange(1, 10, step = 1))\n",
    "    elif i == 1:\n",
    "        temp = data_final_coop[\n",
    "            data_final_coop['version'] == 2].groupby(['round',\n",
    "                                                      'condition']).mean()['coopChoice'].unstack().plot(color = clrs,\n",
    "                                                                                                        ax = ax[i])\n",
    "        ax[i].set_title('Second game only')\n",
    "        ax[i].set_xticks(np.arange(1, 11, step = 1))\n",
    "    else:\n",
    "        temp = data_final_coop[\n",
    "            data_final_coop['round'] != 10].groupby(['round',\n",
    "                                                     'condition']).mean()['coopChoice'].unstack().plot(color = clrs,\n",
    "                                                                                                       ax = ax[i])\n",
    "        ax[i].set_title('Pooled')\n",
    "        ax[i].set_xticks(np.arange(1, 10, step = 1))\n",
    "    ax[i].set_xlabel('Round')\n",
    "    ax[i].set_ylabel('Average Cooperation')\n",
    "    ax[i].set_yticks(np.arange(0.35, 0.85, step = 0.05))\n",
    "    ax[i].legend(['EE', 'EU', 'RE', 'RU'])\n",
    "    \n",
    "fig.savefig(os.path.join(path_to_diss, \"paper/figures/appendices/figureA5.3.png\"), \n",
    "            bbox_inches = 'tight', \n",
    "            pad_inches = 0.25)"
   ]
  },
  {
   "cell_type": "code",
   "execution_count": null,
   "metadata": {},
   "outputs": [],
   "source": [
    "data = {'Experimental condition': ['RU to RU', 'RU to EE', 'RU to RE', 'RU to EU', \n",
    "                                   'EE to RU', 'EE to EE', 'EE to RE', 'EE to EU', \n",
    "                                   'RE to RU', 'RE to EE', 'RE to RE', 'RE to EU', \n",
    "                                   'EU to RU', 'EU to EE', 'EU to RE', 'EU to EU'],\n",
    "        'Change in fairness score': [ 0.4393,  0.2451,  0.4959,  1.5124, \n",
    "                                     -0.1759,  0.0374,  0.2162,  1.4580, \n",
    "                                     -0.3945, -0.4087,  0.5403,  0.7417, \n",
    "                                     -1.2234, -1.0642, -1.0096, -0.2833],\n",
    "        'Change in cooperation': [ 0.0332, -0.0404, -0.0230, -0.0192, \n",
    "                                   0.0510, -0.0232, -0.0014, -0.0266, \n",
    "                                   0.0103, -0.0888,  0.0175, -0.0174, \n",
    "                                   0.0016,  0.0674,  0.0588,  0.0002]}\n",
    "\n",
    "df = pd.DataFrame(data)\n",
    "\n",
    "df.columns = ['g', 'x', 'y']\n",
    "\n",
    "x = list(df['x'])\n",
    "y = list(df['y'])\n",
    "\n",
    "p1 = np.polyfit(x, y, 1)\n",
    "\n",
    "plt.rcParams[\"figure.figsize\"] = [10, 8]\n",
    "\n",
    "plt.xlim(-1.7, 1.7)\n",
    "plt.ylim(-0.095, 0.095)\n",
    "\n",
    "plt.xlabel('Change in perceived fairness score')\n",
    "plt.ylabel('Change in probability of cooperating')\n",
    "\n",
    "plt.scatter(x, y)\n",
    "xlims = plt.xlim()\n",
    "x.insert(0, xlims[0])\n",
    "y.insert(0, np.polyval(p1, xlims[0]))\n",
    "x.append(xlims[1])\n",
    "y.append(np.polyval(p1, xlims[1]))\n",
    "plt.plot(x, np.polyval(p1,x), 'r-', linewidth = 1.5)\n",
    "plt.xlim(xlims)\n",
    "\n",
    "for line in range(0, df.shape[0]):\n",
    "     plt.text(df.x[line]-0.1, \n",
    "              df.y[line]+0.0025, \n",
    "              df.g[line], \n",
    "              horizontalalignment='left', \n",
    "              size='small', \n",
    "              color='black')\n",
    "\n",
    "plt.savefig(os.path.join(path_to_diss, \"paper/figures/appendices/figureA4.1.png\"))        \n",
    "\n",
    "plt.show()"
   ]
  },
  {
   "cell_type": "markdown",
   "metadata": {
    "scrolled": true
   },
   "source": [
    "##### Cooperation history"
   ]
  },
  {
   "cell_type": "code",
   "execution_count": null,
   "metadata": {},
   "outputs": [],
   "source": [
    "def get_coop_history(row):\n",
    "    return list(row)[1:]"
   ]
  },
  {
   "cell_type": "code",
   "execution_count": null,
   "metadata": {},
   "outputs": [],
   "source": [
    "df_wide_v1 = data_final_coop[data_final_coop['version'] == 1][\n",
    "    ['pid', 'round', 'coopChoice']\n",
    "].pivot(index = 'pid', columns = 'round', values = 'coopChoice').reset_index().rename_axis(None, axis = 1)\n",
    "\n",
    "df_wide_v1.head()"
   ]
  },
  {
   "cell_type": "code",
   "execution_count": null,
   "metadata": {
    "scrolled": true
   },
   "outputs": [],
   "source": [
    "df_wide_v2 = data_final_coop[data_final_coop['version'] == 2][\n",
    "    ['pid', 'round', 'coopChoice']\n",
    "].pivot(index = 'pid', columns = 'round', values = 'coopChoice').reset_index().rename_axis(None, axis = 1)\n",
    "\n",
    "df_wide_v2.head()"
   ]
  },
  {
   "cell_type": "code",
   "execution_count": null,
   "metadata": {
    "scrolled": true
   },
   "outputs": [],
   "source": [
    "df_wide_v1['coop_history'] = df_wide_v1.apply(get_coop_history, axis = 1)\n",
    "df_wide_v1.head()"
   ]
  },
  {
   "cell_type": "code",
   "execution_count": null,
   "metadata": {},
   "outputs": [],
   "source": [
    "df_wide_v2['coop_history'] = df_wide_v2.apply(get_coop_history, axis = 1)\n",
    "df_wide_v2.head()"
   ]
  },
  {
   "cell_type": "code",
   "execution_count": null,
   "metadata": {},
   "outputs": [],
   "source": [
    "d1 = {}\n",
    "for ch in df_wide_v1['coop_history']:\n",
    "    if str(ch) in d1.keys():\n",
    "        d1[str(ch)] += 1\n",
    "    else:\n",
    "        d1[str(ch)] = 1\n",
    "d1"
   ]
  },
  {
   "cell_type": "code",
   "execution_count": null,
   "metadata": {},
   "outputs": [],
   "source": [
    "d2 = {}\n",
    "for ch in df_wide_v2['coop_history']:\n",
    "    if str(ch) in d2.keys():\n",
    "        d2[str(ch)] += 1\n",
    "    else:\n",
    "        d2[str(ch)] = 1\n",
    "d2"
   ]
  },
  {
   "cell_type": "code",
   "execution_count": null,
   "metadata": {},
   "outputs": [],
   "source": [
    "ni1 = 0\n",
    "o1  = 0\n",
    "\n",
    "for ch in df_wide_v1['coop_history']:\n",
    "    if sorted(ch, reverse = True) == ch:\n",
    "        ni1 += 1\n",
    "    else:\n",
    "        o1 += 1\n",
    "        \n",
    "ni1/(ni1+o1)"
   ]
  },
  {
   "cell_type": "code",
   "execution_count": null,
   "metadata": {},
   "outputs": [],
   "source": [
    "ni2 = 0\n",
    "o2  = 0\n",
    "\n",
    "for ch in df_wide_v2['coop_history']:\n",
    "    if sorted(ch, reverse = True) == ch:\n",
    "        ni2 += 1\n",
    "    else:\n",
    "        o2 += 1\n",
    "        \n",
    "ni2/(ni2+o2)"
   ]
  },
  {
   "cell_type": "markdown",
   "metadata": {},
   "source": [
    "##### Trust as a predictor of cooperation in the second game"
   ]
  },
  {
   "cell_type": "code",
   "execution_count": null,
   "metadata": {
    "scrolled": true
   },
   "outputs": [],
   "source": [
    "temp = data_final_coop.groupby(['session_no', \n",
    "                                'version']).mean().reset_index()[['session_no', \n",
    "                                                                  'version',\n",
    "                                                                  'coopChoice', \n",
    "                                                                  'trust_score']]\n",
    "\n",
    "temp1 = temp[temp['version'] == 1]\n",
    "temp2 = temp[temp['version'] == 2]\n",
    "\n",
    "temp = temp1.merge(right = temp2, how = \"inner\", on = [\"session_no\"], suffixes = (\"_v1\", \"_v2\"))\n",
    "temp.head()"
   ]
  },
  {
   "cell_type": "code",
   "execution_count": null,
   "metadata": {
    "scrolled": true
   },
   "outputs": [],
   "source": [
    "y, X = patsy.dmatrices(\n",
    "    'coopChoice_v2 ~ trust_score_v1 + coopChoice_v1', \n",
    "    temp,\n",
    "    return_type = 'dataframe'\n",
    ")\n",
    "\n",
    "ols = sm.OLS(y, X)\n",
    "ols.fit().summary()"
   ]
  },
  {
   "cell_type": "code",
   "execution_count": null,
   "metadata": {
    "scrolled": true
   },
   "outputs": [],
   "source": [
    "y, X = patsy.dmatrices(\n",
    "    'trust_score_v1 ~ coopChoice_v1', \n",
    "    temp,\n",
    "    return_type = 'dataframe'\n",
    ")\n",
    "\n",
    "ols = sm.OLS(y, X)\n",
    "ols.fit().summary()"
   ]
  },
  {
   "cell_type": "code",
   "execution_count": null,
   "metadata": {},
   "outputs": [],
   "source": [
    "np.corrcoef(temp['trust_score_v1'], temp['coopChoice_v1'])"
   ]
  },
  {
   "cell_type": "markdown",
   "metadata": {},
   "source": [
    "##### Average number of neighbors"
   ]
  },
  {
   "cell_type": "code",
   "execution_count": null,
   "metadata": {},
   "outputs": [],
   "source": [
    "def count_num_neighbors(row):\n",
    "    return len(row['neighborsList'])"
   ]
  },
  {
   "cell_type": "code",
   "execution_count": null,
   "metadata": {},
   "outputs": [],
   "source": [
    "np.mean(data_final_coop.apply(count_num_neighbors, axis = 1))"
   ]
  },
  {
   "cell_type": "markdown",
   "metadata": {},
   "source": [
    "##### Average game scores"
   ]
  },
  {
   "cell_type": "code",
   "execution_count": null,
   "metadata": {
    "scrolled": false
   },
   "outputs": [],
   "source": [
    "print(np.mean(data_pid['score1']))\n",
    "print(np.mean(data_pid['score2']))\n",
    "print(np.mean(data_pid['score3']))"
   ]
  },
  {
   "cell_type": "markdown",
   "metadata": {},
   "source": [
    "##### Why people cooperate"
   ]
  },
  {
   "cell_type": "code",
   "execution_count": null,
   "metadata": {},
   "outputs": [],
   "source": [
    "dic_why = {\n",
    "    \"altruism\": 0,\n",
    "    \"encourage\": 0,\n",
    "    \"choseA\": 0,\n",
    "    \"choseB\": 0,\n",
    "    \"equal\": 0,\n",
    "    \"more\": 0,\n",
    "    \"less\": 0,\n",
    "    \"fair\": 0,\n",
    "    \"notfair\": 0,\n",
    "    \"other\": 0,\n",
    "    \"other_text\": []\n",
    "}"
   ]
  },
  {
   "cell_type": "code",
   "execution_count": null,
   "metadata": {},
   "outputs": [],
   "source": [
    "for index, row in data_pid.iterrows():\n",
    "    if row[\"why_coop_list\"] == row[\"why_coop_list\"]:\n",
    "        if \"other\" in list(row[\"why_coop_list\"]):\n",
    "            dic_why[\"other_text\"].append(row[\"why_coop_other\"])\n",
    "        for e in row[\"why_coop_list\"]:\n",
    "            dic_why[e] += 1"
   ]
  },
  {
   "cell_type": "code",
   "execution_count": null,
   "metadata": {},
   "outputs": [],
   "source": [
    "dict((key,value) for key, value in dic_why.items() if key != \"other_text\")"
   ]
  },
  {
   "cell_type": "code",
   "execution_count": null,
   "metadata": {
    "scrolled": true
   },
   "outputs": [],
   "source": [
    "print(len(dic_why[\"other_text\"]) == dic_why[\"other\"])\n",
    "\n",
    "dic_why[\"other_text\"]"
   ]
  },
  {
   "cell_type": "markdown",
   "metadata": {
    "scrolled": false
   },
   "source": [
    "##### Between-individual (using Logit here but same conclusions with OLS)"
   ]
  },
  {
   "cell_type": "code",
   "execution_count": null,
   "metadata": {
    "scrolled": true
   },
   "outputs": [],
   "source": [
    "y, X = patsy.dmatrices(\n",
    "    'coopChoice ~ earned * equal + C(round)', \n",
    "    data_final_coop[data_final_coop['version'] == 1],\n",
    "    return_type = 'dataframe'\n",
    ")\n",
    "\n",
    "session_c = data_final_coop[(data_final_coop['version']    == 1)                             &\n",
    "                            (data_final_coop['version']    == data_final_coop['version'])    &\n",
    "                            (data_final_coop['round']      == data_final_coop['round'])      &\n",
    "                            (data_final_coop['coopChoice'] == data_final_coop['coopChoice']) &\n",
    "                            (data_final_coop['earned']     == data_final_coop['earned'])     &\n",
    "                            (data_final_coop['equal']      == data_final_coop['equal'])]['session_no']\n",
    "\n",
    "pid_c     = data_final_coop[(data_final_coop['version']    == 1)                             &\n",
    "                            (data_final_coop['version']    == data_final_coop['version'])    &\n",
    "                            (data_final_coop['round']      == data_final_coop['round'])      &\n",
    "                            (data_final_coop['coopChoice'] == data_final_coop['coopChoice']) &\n",
    "                            (data_final_coop['earned']     == data_final_coop['earned'])     &\n",
    "                            (data_final_coop['equal']      == data_final_coop['equal'])]['pid']\n",
    "\n",
    "logit = sm.Logit(y, X)\n",
    "logit.fit(cov_type='cluster', cov_kwds={'groups': [session_c, pid_c]}).summary()"
   ]
  },
  {
   "cell_type": "code",
   "execution_count": null,
   "metadata": {
    "scrolled": true
   },
   "outputs": [],
   "source": [
    "y, X = patsy.dmatrices(\n",
    "    'coopChoice ~ earned * equal + C(round)', \n",
    "    data_final_coop[data_final_coop['version'] == 2],\n",
    "    return_type = 'dataframe'\n",
    ")\n",
    "\n",
    "session_c = data_final_coop[(data_final_coop['version']    == 2)                             &\n",
    "                            (data_final_coop['version']    == data_final_coop['version'])    &\n",
    "                            (data_final_coop['round']      == data_final_coop['round'])      &\n",
    "                            (data_final_coop['coopChoice'] == data_final_coop['coopChoice']) &\n",
    "                            (data_final_coop['earned']     == data_final_coop['earned'])     &\n",
    "                            (data_final_coop['equal']      == data_final_coop['equal'])]['session_no']\n",
    "\n",
    "pid_c     = data_final_coop[(data_final_coop['version']    == 2)                             &\n",
    "                            (data_final_coop['version']    == data_final_coop['version'])    &\n",
    "                            (data_final_coop['round']      == data_final_coop['round'])      &\n",
    "                            (data_final_coop['coopChoice'] == data_final_coop['coopChoice']) &\n",
    "                            (data_final_coop['earned']     == data_final_coop['earned'])     &\n",
    "                            (data_final_coop['equal']      == data_final_coop['equal'])]['pid']\n",
    "\n",
    "logit = sm.Logit(y, X)\n",
    "logit.fit(cov_type='cluster', cov_kwds={'groups': [session_c, pid_c]}).summary()"
   ]
  },
  {
   "cell_type": "code",
   "execution_count": null,
   "metadata": {
    "scrolled": true
   },
   "outputs": [],
   "source": [
    "y, X = patsy.dmatrices(\n",
    "    'coopChoice ~ earned * equal + C(version) + C(round)', \n",
    "    data_final_coop[data_final_coop['round'] != 10],\n",
    "    return_type = 'dataframe'\n",
    ")\n",
    "\n",
    "session_c = data_final_coop[(data_final_coop['round']      != 10)                            &\n",
    "                            (data_final_coop['version']    == data_final_coop['version'])    &\n",
    "                            (data_final_coop['round']      == data_final_coop['round'])      &\n",
    "                            (data_final_coop['coopChoice'] == data_final_coop['coopChoice']) &\n",
    "                            (data_final_coop['earned']     == data_final_coop['earned'])     &\n",
    "                            (data_final_coop['equal']      == data_final_coop['equal'])]['session_no']\n",
    "\n",
    "pid_c     = data_final_coop[(data_final_coop['round']      != 10)                            &\n",
    "                            (data_final_coop['version']    == data_final_coop['version'])    &\n",
    "                            (data_final_coop['round']      == data_final_coop['round'])      &\n",
    "                            (data_final_coop['coopChoice'] == data_final_coop['coopChoice']) &\n",
    "                            (data_final_coop['earned']     == data_final_coop['earned'])     &\n",
    "                            (data_final_coop['equal']      == data_final_coop['equal'])]['pid']\n",
    "\n",
    "logit = sm.Logit(y, X)\n",
    "logit.fit(cov_type='cluster', cov_kwds={'groups': [session_c, pid_c]}).summary()"
   ]
  },
  {
   "cell_type": "code",
   "execution_count": null,
   "metadata": {
    "scrolled": true
   },
   "outputs": [],
   "source": [
    "y, X = patsy.dmatrices(\n",
    "    'coopChoice ~ earned * equal * C(version) + C(round)', \n",
    "    data_final_coop[data_final_coop['round'] != 10],\n",
    "    return_type = 'dataframe'\n",
    ")\n",
    "\n",
    "session_c = data_final_coop[(data_final_coop['round']      != 10)                            &\n",
    "                            (data_final_coop['version']    == data_final_coop['version'])    &\n",
    "                            (data_final_coop['round']      == data_final_coop['round'])      &\n",
    "                            (data_final_coop['coopChoice'] == data_final_coop['coopChoice']) &\n",
    "                            (data_final_coop['earned']     == data_final_coop['earned'])     &\n",
    "                            (data_final_coop['equal']      == data_final_coop['equal'])]['session_no']\n",
    "\n",
    "pid_c     = data_final_coop[(data_final_coop['round']      != 10)                            &\n",
    "                            (data_final_coop['version']    == data_final_coop['version'])    &\n",
    "                            (data_final_coop['round']      == data_final_coop['round'])      &\n",
    "                            (data_final_coop['coopChoice'] == data_final_coop['coopChoice']) &\n",
    "                            (data_final_coop['earned']     == data_final_coop['earned'])     &\n",
    "                            (data_final_coop['equal']      == data_final_coop['equal'])]['pid']\n",
    "\n",
    "logit = sm.Logit(y, X)\n",
    "logit.fit(cov_type='cluster', cov_kwds={'groups': [session_c, pid_c]}).summary()"
   ]
  },
  {
   "cell_type": "code",
   "execution_count": null,
   "metadata": {
    "scrolled": true
   },
   "outputs": [],
   "source": [
    "y, X = patsy.dmatrices(\n",
    "    'coopChoice ~ earned * equal + C(round) + scoreBeforeCoop', \n",
    "    data_final_coop[data_final_coop['version'] == 1],\n",
    "    return_type = 'dataframe'\n",
    ")\n",
    "\n",
    "session_c = data_final_coop[(data_final_coop['version']    == 1)                                  &\n",
    "                            (data_final_coop['version']    == data_final_coop['version'])         &\n",
    "                            (data_final_coop['round']      == data_final_coop['round'])           &\n",
    "                            (data_final_coop['coopChoice'] == data_final_coop['coopChoice'])      &\n",
    "                            (data_final_coop['earned']     == data_final_coop['earned'])          &\n",
    "                            (data_final_coop['equal']      == data_final_coop['equal'])]['session_no']\n",
    "\n",
    "pid_c     = data_final_coop[(data_final_coop['version']    == 1)                                  &\n",
    "                            (data_final_coop['version']    == data_final_coop['version'])         &\n",
    "                            (data_final_coop['round']      == data_final_coop['round'])           &\n",
    "                            (data_final_coop['coopChoice'] == data_final_coop['coopChoice'])      &\n",
    "                            (data_final_coop['earned']     == data_final_coop['earned'])          &\n",
    "                            (data_final_coop['equal']      == data_final_coop['equal'])]['pid']\n",
    "\n",
    "logit = sm.Logit(y, X)\n",
    "logit.fit(cov_type='cluster', cov_kwds={'groups': [session_c, pid_c]}).summary()"
   ]
  },
  {
   "cell_type": "code",
   "execution_count": null,
   "metadata": {
    "scrolled": true
   },
   "outputs": [],
   "source": [
    "y, X = patsy.dmatrices(\n",
    "    'coopChoice ~ earned * equal + C(round) + scoreBeforeCoop', \n",
    "    data_final_coop[data_final_coop['version'] == 2],\n",
    "    return_type = 'dataframe'\n",
    ")\n",
    "\n",
    "session_c = data_final_coop[(data_final_coop['version']    == 2)                                  &\n",
    "                            (data_final_coop['version']    == data_final_coop['version'])         &\n",
    "                            (data_final_coop['round']      == data_final_coop['round'])           &\n",
    "                            (data_final_coop['coopChoice'] == data_final_coop['coopChoice'])      &\n",
    "                            (data_final_coop['earned']     == data_final_coop['earned'])          &\n",
    "                            (data_final_coop['equal']      == data_final_coop['equal'])]['session_no']\n",
    "\n",
    "pid_c     = data_final_coop[(data_final_coop['version']    == 2)                                  &\n",
    "                            (data_final_coop['version']    == data_final_coop['version'])         &\n",
    "                            (data_final_coop['round']      == data_final_coop['round'])           &\n",
    "                            (data_final_coop['coopChoice'] == data_final_coop['coopChoice'])      &\n",
    "                            (data_final_coop['earned']     == data_final_coop['earned'])          &\n",
    "                            (data_final_coop['equal']      == data_final_coop['equal'])]['pid']\n",
    "\n",
    "logit = sm.Logit(y, X)\n",
    "logit.fit(cov_type='cluster', cov_kwds={'groups': [session_c, pid_c]}).summary()"
   ]
  },
  {
   "cell_type": "code",
   "execution_count": null,
   "metadata": {
    "scrolled": true
   },
   "outputs": [],
   "source": [
    "y, X = patsy.dmatrices(\n",
    "    'coopChoice ~ earned * equal + C(version) + C(round) + scoreBeforeCoop', \n",
    "    data_final_coop,\n",
    "    return_type = 'dataframe'\n",
    ")\n",
    "\n",
    "session_c = data_final_coop[(data_final_coop['scoreBeforeCoop'] == data_final_coop['scoreBeforeCoop']) &\n",
    "                            (data_final_coop['version']         == data_final_coop['version'])         &\n",
    "                            (data_final_coop['round']           == data_final_coop['round'])           &\n",
    "                            (data_final_coop['coopChoice']      == data_final_coop['coopChoice'])      &\n",
    "                            (data_final_coop['earned']          == data_final_coop['earned'])          &\n",
    "                            (data_final_coop['equal']           == data_final_coop['equal'])]['session_no']\n",
    "\n",
    "pid_c     = data_final_coop[(data_final_coop['scoreBeforeCoop'] == data_final_coop['scoreBeforeCoop']) &\n",
    "                            (data_final_coop['version']         == data_final_coop['version'])         &\n",
    "                            (data_final_coop['round']           == data_final_coop['round'])           &\n",
    "                            (data_final_coop['coopChoice']      == data_final_coop['coopChoice'])      &\n",
    "                            (data_final_coop['earned']          == data_final_coop['earned'])          &\n",
    "                            (data_final_coop['equal']           == data_final_coop['equal'])]['pid']\n",
    "\n",
    "logit = sm.Logit(y, X)\n",
    "logit.fit(cov_type='cluster', cov_kwds={'groups': [session_c, pid_c]}).summary()"
   ]
  },
  {
   "cell_type": "code",
   "execution_count": null,
   "metadata": {
    "scrolled": true
   },
   "outputs": [],
   "source": [
    "y, X = patsy.dmatrices(\n",
    "    'coopChoice ~ earned * equal * C(version) + C(round) + scoreBeforeCoop', \n",
    "    data_final_coop,\n",
    "    return_type = 'dataframe'\n",
    ")\n",
    "\n",
    "session_c = data_final_coop[(data_final_coop['scoreBeforeCoop'] == data_final_coop['scoreBeforeCoop']) &\n",
    "                            (data_final_coop['version']         == data_final_coop['version'])         &\n",
    "                            (data_final_coop['round']           == data_final_coop['round'])           &\n",
    "                            (data_final_coop['coopChoice']      == data_final_coop['coopChoice'])      &\n",
    "                            (data_final_coop['earned']          == data_final_coop['earned'])          &\n",
    "                            (data_final_coop['equal']           == data_final_coop['equal'])]['session_no']\n",
    "\n",
    "pid_c     = data_final_coop[(data_final_coop['scoreBeforeCoop'] == data_final_coop['scoreBeforeCoop']) &\n",
    "                            (data_final_coop['version']         == data_final_coop['version'])         &\n",
    "                            (data_final_coop['round']           == data_final_coop['round'])           &\n",
    "                            (data_final_coop['coopChoice']      == data_final_coop['coopChoice'])      &\n",
    "                            (data_final_coop['earned']          == data_final_coop['earned'])          &\n",
    "                            (data_final_coop['equal']           == data_final_coop['equal'])]['pid']\n",
    "\n",
    "logit = sm.Logit(y, X)\n",
    "logit.fit(cov_type='cluster', cov_kwds={'groups': [session_c, pid_c]}).summary()"
   ]
  },
  {
   "cell_type": "markdown",
   "metadata": {
    "scrolled": true
   },
   "source": [
    "##### Between-session"
   ]
  },
  {
   "cell_type": "code",
   "execution_count": null,
   "metadata": {
    "scrolled": true
   },
   "outputs": [],
   "source": [
    "y, X = patsy.dmatrices(\n",
    "    'coopChoice ~ earned * equal + C(round)', \n",
    "    session_data_coop[session_data_coop['version'] == 1],\n",
    "    return_type = 'dataframe'\n",
    ")\n",
    "\n",
    "session_c = session_data_coop[(session_data_coop['version']    == 1)                               &\n",
    "                              (session_data_coop['version']    == session_data_coop['version'])    &\n",
    "                              (session_data_coop['round']      == session_data_coop['round'])      &\n",
    "                              (session_data_coop['coopChoice'] == session_data_coop['coopChoice']) &\n",
    "                              (session_data_coop['earned']     == session_data_coop['earned'])     &\n",
    "                              (session_data_coop['equal']      == session_data_coop['equal'])]['session_no']\n",
    "\n",
    "ols = sm.OLS(y, X)\n",
    "ols.fit(cov_type='cluster', cov_kwds={'groups': [session_c]}).summary()"
   ]
  },
  {
   "cell_type": "code",
   "execution_count": null,
   "metadata": {
    "scrolled": true
   },
   "outputs": [],
   "source": [
    "y, X = patsy.dmatrices(\n",
    "    'coopChoice ~ earned * equal + C(version) + C(round)', \n",
    "    session_data_coop[session_data_coop['version'] == 2],\n",
    "    return_type = 'dataframe'\n",
    ")\n",
    "\n",
    "session_c = session_data_coop[(session_data_coop['version']    == 2)                               &\n",
    "                              (session_data_coop['version']    == session_data_coop['version'])    &\n",
    "                              (session_data_coop['round']      == session_data_coop['round'])      &\n",
    "                              (session_data_coop['coopChoice'] == session_data_coop['coopChoice']) &\n",
    "                              (session_data_coop['earned']     == session_data_coop['earned'])     &\n",
    "                              (session_data_coop['equal']      == session_data_coop['equal'])]['session_no']\n",
    "\n",
    "ols = sm.OLS(y, X)\n",
    "ols.fit(cov_type='cluster', cov_kwds={'groups': [session_c]}).summary()"
   ]
  },
  {
   "cell_type": "code",
   "execution_count": null,
   "metadata": {
    "scrolled": true
   },
   "outputs": [],
   "source": [
    "y, X = patsy.dmatrices(\n",
    "    'coopChoice ~ earned * equal + C(version) + C(round)', \n",
    "    session_data_coop[session_data_coop['round'] != 10],\n",
    "    return_type = 'dataframe'\n",
    ")\n",
    "\n",
    "session_c = session_data_coop[(session_data_coop['round']      != 10)                              &\n",
    "                              (session_data_coop['version']    == session_data_coop['version'])    &\n",
    "                              (session_data_coop['round']      == session_data_coop['round'])      &\n",
    "                              (session_data_coop['coopChoice'] == session_data_coop['coopChoice']) &\n",
    "                              (session_data_coop['earned']     == session_data_coop['earned'])     &\n",
    "                              (session_data_coop['equal']      == session_data_coop['equal'])]['session_no']\n",
    "\n",
    "ols = sm.OLS(y, X)\n",
    "ols.fit(cov_type='cluster', cov_kwds={'groups': [session_c]}).summary()"
   ]
  },
  {
   "cell_type": "code",
   "execution_count": null,
   "metadata": {
    "scrolled": true
   },
   "outputs": [],
   "source": [
    "y, X = patsy.dmatrices(\n",
    "    'coopChoice ~ earned * equal * C(version) + C(round)', \n",
    "    session_data_coop[session_data_coop['round'] != 10],\n",
    "    return_type = 'dataframe'\n",
    ")\n",
    "\n",
    "session_c = session_data_coop[(session_data_coop['round']      != 10)                              &\n",
    "                              (session_data_coop['version']    == session_data_coop['version'])    &\n",
    "                              (session_data_coop['round']      == session_data_coop['round'])      &\n",
    "                              (session_data_coop['coopChoice'] == session_data_coop['coopChoice']) &\n",
    "                              (session_data_coop['earned']     == session_data_coop['earned'])     &\n",
    "                              (session_data_coop['equal']      == session_data_coop['equal'])]['session_no']\n",
    "\n",
    "ols = sm.OLS(y, X)\n",
    "ols.fit(cov_type='cluster', cov_kwds={'groups': [session_c]}).summary()"
   ]
  },
  {
   "cell_type": "markdown",
   "metadata": {
    "scrolled": true
   },
   "source": [
    "##### Within-individual"
   ]
  },
  {
   "cell_type": "code",
   "execution_count": null,
   "metadata": {
    "scrolled": true
   },
   "outputs": [],
   "source": [
    "# y, X = patsy.dmatrices(\n",
    "#     'delta_coopChoice ~ delta_earned + delta_equal + delta_int + C(round)', \n",
    "#     # 'delta_coopChoice ~ delta_earned * delta_equal + C(round)'\n",
    "#     data_within_coop,\n",
    "#     return_type = 'dataframe'\n",
    "# )\n",
    "\n",
    "# session_c = data_within_coop[(data_within_coop['round']            == data_within_coop['round'])            &\n",
    "#                              (data_within_coop['delta_coopChoice'] == data_within_coop['delta_coopChoice']) &\n",
    "#                              (data_within_coop['delta_earned']     == data_within_coop['delta_earned'])     &\n",
    "#                              (data_within_coop['delta_equal']      == data_within_coop['delta_equal'])]['session_no']\n",
    "\n",
    "# pid_c     = data_within_coop[(data_within_coop['round']            == data_within_coop['round'])            &\n",
    "#                              (data_within_coop['delta_coopChoice'] == data_within_coop['delta_coopChoice']) &\n",
    "#                              (data_within_coop['delta_earned']     == data_within_coop['delta_earned'])     &\n",
    "#                              (data_within_coop['delta_equal']      == data_within_coop['delta_equal'])]['pid']\n",
    "\n",
    "# ols = sm.OLS(y, X)\n",
    "# ols.fit(cov_type='cluster', cov_kwds={'groups': [session_c, pid_c]}).summary()"
   ]
  },
  {
   "cell_type": "code",
   "execution_count": null,
   "metadata": {
    "scrolled": true
   },
   "outputs": [],
   "source": [
    "temp = data_within_coop.copy()\n",
    "\n",
    "temp['delta_earned'] = temp['delta_earned'].apply(lambda row: 2 if row == -1 else row)\n",
    "temp['delta_equal']  = temp['delta_equal'].apply(lambda row: 2 if row == -1 else row)\n",
    "\n",
    "y, X = patsy.dmatrices(\n",
    "    'delta_coopChoice ~ C(delta_earned) * C(delta_equal) + C(round)', \n",
    "    temp,\n",
    "    return_type = 'dataframe'\n",
    ")\n",
    "\n",
    "session_c = temp[(temp['round']            == temp['round'])            &\n",
    "                 (temp['delta_coopChoice'] == temp['delta_coopChoice']) &\n",
    "                 (temp['delta_earned']     == temp['delta_earned'])     &\n",
    "                 (temp['delta_equal']      == temp['delta_equal'])]['session_no']\n",
    "\n",
    "pid_c     = temp[(temp['round']            == temp['round'])            &\n",
    "                 (temp['delta_coopChoice'] == temp['delta_coopChoice']) &\n",
    "                 (temp['delta_earned']     == temp['delta_earned'])     &\n",
    "                 (temp['delta_equal']      == temp['delta_equal'])]['pid']\n",
    "\n",
    "ols = sm.OLS(y, X)\n",
    "ols.fit(cov_type='cluster', cov_kwds={'groups': [session_c, pid_c]}).summary()"
   ]
  },
  {
   "cell_type": "code",
   "execution_count": null,
   "metadata": {
    "scrolled": true
   },
   "outputs": [],
   "source": [
    "y, X = patsy.dmatrices(\n",
    "    'delta_coopChoice ~ delta_earned + delta_equal + delta_int + delta_scoreBeforeCoop + num_other + C(round)', \n",
    "    # 'delta_coopChoice ~ delta_earned * delta_equal + delta_scoreBeforeCoop + C(round)'\n",
    "    data_within_coop,\n",
    "    return_type = 'dataframe'\n",
    ")\n",
    "\n",
    "session_c = data_within_coop[\n",
    "    (data_within_coop['delta_scoreBeforeCoop'] == data_within_coop['delta_scoreBeforeCoop']) &\n",
    "    (data_within_coop['round']                 == data_within_coop['round'])                 &\n",
    "    (data_within_coop['delta_coopChoice']      == data_within_coop['delta_coopChoice'])      &\n",
    "    (data_within_coop['delta_earned']          == data_within_coop['delta_earned'])          &\n",
    "    (data_within_coop['delta_equal']           == data_within_coop['delta_equal'])           &\n",
    "    (data_within_coop['num_other']             == data_within_coop['num_other'])]['session_no']\n",
    "\n",
    "pid_c = data_within_coop[\n",
    "    (data_within_coop['delta_scoreBeforeCoop'] == data_within_coop['delta_scoreBeforeCoop']) &\n",
    "    (data_within_coop['round']                 == data_within_coop['round'])                 &\n",
    "    (data_within_coop['delta_coopChoice']      == data_within_coop['delta_coopChoice'])      &\n",
    "    (data_within_coop['delta_earned']          == data_within_coop['delta_earned'])          &\n",
    "    (data_within_coop['delta_equal']           == data_within_coop['delta_equal'])           &\n",
    "    (data_within_coop['num_other']             == data_within_coop['num_other'])]['pid']\n",
    "\n",
    "ols = sm.OLS(y, X)\n",
    "ols.fit(cov_type='cluster', cov_kwds={'groups': [session_c, pid_c]}).summary()"
   ]
  },
  {
   "cell_type": "markdown",
   "metadata": {
    "scrolled": true
   },
   "source": [
    "##### Within-session"
   ]
  },
  {
   "cell_type": "code",
   "execution_count": null,
   "metadata": {
    "scrolled": true
   },
   "outputs": [],
   "source": [
    "y, X = patsy.dmatrices(\n",
    "    'delta_coopChoice ~ delta_earned + delta_equal + delta_int + C(round)',\n",
    "    # 'delta_coopChoice ~ delta_earned * delta_equal + C(round)'\n",
    "    session_data_within_coop,\n",
    "    return_type = 'dataframe'\n",
    ")\n",
    "\n",
    "session_c = session_data_within_coop[\n",
    "    (session_data_within_coop['round']            == session_data_within_coop['round'])            &\n",
    "    (session_data_within_coop['delta_coopChoice'] == session_data_within_coop['delta_coopChoice']) &\n",
    "    (session_data_within_coop['delta_earned']     == session_data_within_coop['delta_earned'])     &\n",
    "    (session_data_within_coop['delta_equal']      == session_data_within_coop['delta_equal'])]['session_no']\n",
    "\n",
    "ols = sm.OLS(y, X)\n",
    "ols.fit(cov_type='cluster', cov_kwds={'groups': [session_c]}).summary()"
   ]
  },
  {
   "cell_type": "code",
   "execution_count": null,
   "metadata": {
    "scrolled": true
   },
   "outputs": [],
   "source": [
    "temp = session_data_within_coop.copy()\n",
    "\n",
    "temp['delta_earned'] = temp['delta_earned'].apply(lambda row: 2 if row == -1 else row)\n",
    "temp['delta_equal']  = temp['delta_equal'].apply(lambda row: 2 if row == -1 else row)\n",
    "\n",
    "y, X = patsy.dmatrices(\n",
    "    'delta_coopChoice ~ C(delta_earned) * C(delta_equal)',\n",
    "    temp,\n",
    "    return_type = 'dataframe'\n",
    ")\n",
    "\n",
    "session_c = temp[(temp['round']            == temp['round'])            &\n",
    "                 (temp['delta_coopChoice'] == temp['delta_coopChoice']) &\n",
    "                 (temp['delta_earned']     == temp['delta_earned'])     &\n",
    "                 (temp['delta_equal']      == temp['delta_equal'])]['session_no']\n",
    "\n",
    "ols = sm.OLS(y, X)\n",
    "ols.fit(cov_type='cluster', cov_kwds={'groups': [session_c]}).summary()"
   ]
  },
  {
   "cell_type": "code",
   "execution_count": null,
   "metadata": {},
   "outputs": [],
   "source": []
  }
 ],
 "metadata": {
  "kernelspec": {
   "display_name": "Python 3",
   "language": "python",
   "name": "python3"
  },
  "language_info": {
   "codemirror_mode": {
    "name": "ipython",
    "version": 3
   },
   "file_extension": ".py",
   "mimetype": "text/x-python",
   "name": "python",
   "nbconvert_exporter": "python",
   "pygments_lexer": "ipython3",
   "version": "3.7.1"
  }
 },
 "nbformat": 4,
 "nbformat_minor": 2
}
