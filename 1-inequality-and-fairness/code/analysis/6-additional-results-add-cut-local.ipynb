{
 "cells": [
  {
   "cell_type": "markdown",
   "metadata": {},
   "source": [
    "### Import necessary libraries, set options"
   ]
  },
  {
   "cell_type": "code",
   "execution_count": null,
   "metadata": {},
   "outputs": [],
   "source": [
    "import matplotlib.pyplot as plt\n",
    "import numpy as np\n",
    "import os\n",
    "import pandas as pd\n",
    "import patsy\n",
    "import seaborn as sns\n",
    "import statsmodels.api as sm\n",
    "import warnings\n",
    "\n",
    "from statsmodels.formula.api import glm\n",
    "\n",
    "pd.set_option('display.max_columns', 125)\n",
    "warnings.filterwarnings(\"ignore\")"
   ]
  },
  {
   "cell_type": "markdown",
   "metadata": {},
   "source": [
    "### Read in pickled datasets"
   ]
  },
  {
   "cell_type": "code",
   "execution_count": null,
   "metadata": {},
   "outputs": [],
   "source": [
    "path_to_diss = os.path.join(\"path/to/dissertation/chapter\")\n",
    "\n",
    "path_to_data = os.path.join(path_to_diss, \"path/to/data/processed-data\")"
   ]
  },
  {
   "cell_type": "markdown",
   "metadata": {},
   "source": [
    "##### Between-individual"
   ]
  },
  {
   "cell_type": "code",
   "execution_count": null,
   "metadata": {
    "scrolled": true
   },
   "outputs": [],
   "source": [
    "data_final = pd.read_pickle(path_to_data + \"/pkl/data_final.pkl\")\n",
    "print(len(data_final))\n",
    "data_final.head()"
   ]
  },
  {
   "cell_type": "code",
   "execution_count": null,
   "metadata": {
    "scrolled": true
   },
   "outputs": [],
   "source": [
    "data_final_coop = pd.read_pickle(path_to_data + \"/pkl/data_final_coop.pkl\")\n",
    "print(len(data_final_coop))\n",
    "data_final_coop.head()"
   ]
  },
  {
   "cell_type": "code",
   "execution_count": null,
   "metadata": {
    "scrolled": true
   },
   "outputs": [],
   "source": [
    "data_pid_version = pd.read_pickle(path_to_data + \"/pkl/data_pid_version.pkl\")\n",
    "print(len(data_pid_version))\n",
    "data_pid_version.head()"
   ]
  },
  {
   "cell_type": "code",
   "execution_count": null,
   "metadata": {
    "scrolled": true
   },
   "outputs": [],
   "source": [
    "data_pid = pd.read_pickle(path_to_data + \"/pkl/data_pid.pkl\")\n",
    "print(len(data_pid))\n",
    "data_pid.head()"
   ]
  },
  {
   "cell_type": "markdown",
   "metadata": {},
   "source": [
    "##### Between-session"
   ]
  },
  {
   "cell_type": "code",
   "execution_count": null,
   "metadata": {
    "scrolled": true
   },
   "outputs": [],
   "source": [
    "session_data = pd.read_pickle(path_to_data + \"/pkl/session_data.pkl\")\n",
    "print(len(session_data))\n",
    "session_data.head()"
   ]
  },
  {
   "cell_type": "code",
   "execution_count": null,
   "metadata": {},
   "outputs": [],
   "source": [
    "session_data_coop = pd.read_pickle(path_to_data + \"/pkl/session_data_coop.pkl\")\n",
    "print(len(session_data_coop))\n",
    "session_data_coop.head()"
   ]
  },
  {
   "cell_type": "code",
   "execution_count": null,
   "metadata": {
    "scrolled": true
   },
   "outputs": [],
   "source": [
    "session_data_pid_version = pd.read_pickle(path_to_data + \"/pkl/session_data_pid_version.pkl\")\n",
    "print(len(session_data_pid_version))\n",
    "session_data_pid_version.head()"
   ]
  },
  {
   "cell_type": "markdown",
   "metadata": {},
   "source": [
    "##### Within-individual"
   ]
  },
  {
   "cell_type": "code",
   "execution_count": null,
   "metadata": {},
   "outputs": [],
   "source": [
    "data_within = pd.read_pickle(path_to_data + \"/pkl/data_within.pkl\")\n",
    "print(len(data_within))\n",
    "data_within.head()"
   ]
  },
  {
   "cell_type": "code",
   "execution_count": null,
   "metadata": {
    "scrolled": true
   },
   "outputs": [],
   "source": [
    "data_within_coop = pd.read_pickle(path_to_data + \"/pkl/data_within_coop.pkl\")\n",
    "print(len(data_within_coop))\n",
    "data_within_coop.head()"
   ]
  },
  {
   "cell_type": "code",
   "execution_count": null,
   "metadata": {
    "scrolled": true
   },
   "outputs": [],
   "source": [
    "data_within_pid = pd.read_pickle(path_to_data + \"/pkl/data_within_pid.pkl\")\n",
    "print(len(data_within_pid))\n",
    "data_within_pid.head()"
   ]
  },
  {
   "cell_type": "markdown",
   "metadata": {},
   "source": [
    "##### Within-session"
   ]
  },
  {
   "cell_type": "code",
   "execution_count": null,
   "metadata": {},
   "outputs": [],
   "source": [
    "session_data_within = pd.read_pickle(path_to_data + \"/pkl/session_data_within.pkl\")\n",
    "print(len(session_data_within))\n",
    "session_data_within.head()"
   ]
  },
  {
   "cell_type": "code",
   "execution_count": null,
   "metadata": {},
   "outputs": [],
   "source": [
    "session_data_within_coop = pd.read_pickle(path_to_data + \"/pkl/session_data_within_coop.pkl\")\n",
    "print(len(session_data_within_coop))\n",
    "session_data_within_coop.head()"
   ]
  },
  {
   "cell_type": "code",
   "execution_count": null,
   "metadata": {},
   "outputs": [],
   "source": [
    "session_data_within_pid = pd.read_pickle(path_to_data + \"/pkl/session_data_within_pid.pkl\")\n",
    "print(len(session_data_within_pid))\n",
    "session_data_within_pid.head()"
   ]
  },
  {
   "cell_type": "markdown",
   "metadata": {},
   "source": [
    "### Generate within-subjects interaction term"
   ]
  },
  {
   "cell_type": "code",
   "execution_count": null,
   "metadata": {},
   "outputs": [],
   "source": [
    "data_within['game1_int'] = data_within['earned_v1'] * data_within['equal_v1']\n",
    "data_within['game2_int'] = data_within['earned_v2'] * data_within['equal_v2']\n",
    "data_within['delta_int'] = data_within['game2_int'] - data_within['game1_int']"
   ]
  },
  {
   "cell_type": "code",
   "execution_count": null,
   "metadata": {},
   "outputs": [],
   "source": [
    "session_data_within['game1_int'] = session_data_within['earned1'] * session_data_within['equal1']\n",
    "session_data_within['game2_int'] = session_data_within['earned2'] * session_data_within['equal2']\n",
    "session_data_within['delta_int'] = session_data_within['game2_int'] - session_data_within['game1_int']"
   ]
  },
  {
   "cell_type": "markdown",
   "metadata": {},
   "source": [
    "### Tie formation"
   ]
  },
  {
   "cell_type": "markdown",
   "metadata": {
    "scrolled": false
   },
   "source": [
    "##### Overview"
   ]
  },
  {
   "cell_type": "code",
   "execution_count": null,
   "metadata": {},
   "outputs": [],
   "source": [
    "print(np.mean(data_final.addChoice))\n",
    "print()\n",
    "\n",
    "print(data_final.groupby('version')['addChoice'].mean())\n",
    "print()\n",
    "\n",
    "print(data_final.groupby('round')['addChoice'].mean())\n",
    "print()"
   ]
  },
  {
   "cell_type": "code",
   "execution_count": null,
   "metadata": {
    "scrolled": true
   },
   "outputs": [],
   "source": [
    "print(data_final.groupby('condition')['addChoice'].mean())\n",
    "print()\n",
    "\n",
    "print(data_final.groupby(['version', 'condition'])['addChoice'].mean())"
   ]
  },
  {
   "cell_type": "markdown",
   "metadata": {
    "scrolled": true
   },
   "source": [
    "##### Figures"
   ]
  },
  {
   "cell_type": "code",
   "execution_count": null,
   "metadata": {
    "scrolled": true
   },
   "outputs": [],
   "source": [
    "data_final.groupby(['round', 'version']).mean()['addChoice'].unstack().plot(style = ['-', '--'], color = 'black')\n",
    "plt.xlabel('Round')\n",
    "plt.ylabel('Average Add Tie Choice')\n",
    "plt.title('Average Add Tie Choice by Round')\n",
    "plt.legend(['1st  PG game', '2nd PG game'])\n",
    "plt.xticks(np.arange(1, 10, step=1))\n",
    "\n",
    "plt.savefig(os.path.join(path_to_diss, \"paper/figures/appendices/figureA6.1.png\"))\n",
    "\n",
    "plt.show()"
   ]
  },
  {
   "cell_type": "code",
   "execution_count": null,
   "metadata": {},
   "outputs": [],
   "source": [
    "fig, ax = plt.subplots(1, 3, figsize = (15, 5))\n",
    "clrs = ['royalblue', 'orange', 'limegreen', 'tomato']\n",
    "\n",
    "for i in range(3):\n",
    "    if i == 0:\n",
    "        temp = data_final[\n",
    "            data_final['version'] == 1].groupby(['round',\n",
    "                                                 'condition']).mean()['addChoice'].unstack().plot(color = clrs, \n",
    "                                                                                                  ax = ax[i])\n",
    "        ax[i].set_title('First game only')\n",
    "        ax[i].set_xticks(np.arange(1, 9, step = 1))\n",
    "    elif i == 1:\n",
    "        temp = data_final[\n",
    "            data_final['version'] == 2].groupby(['round',\n",
    "                                                 'condition']).mean()['addChoice'].unstack().plot(color = clrs,\n",
    "                                                                                                  ax = ax[i])\n",
    "        ax[i].set_title('Second game only')\n",
    "        ax[i].set_xticks(np.arange(1, 10, step = 1))\n",
    "    else:\n",
    "        temp = data_final[\n",
    "            data_final['round'] < 9].groupby(['round',\n",
    "                                              'condition']).mean()['addChoice'].unstack().plot(color = clrs,\n",
    "                                                                                               ax = ax[i])\n",
    "        ax[i].set_title('Pooled')\n",
    "        ax[i].set_xticks(np.arange(1, 9, step = 1))\n",
    "    ax[i].set_xlabel('Round')\n",
    "    ax[i].set_ylabel('Average Add Tie Choice')\n",
    "    ax[i].set_yticks(np.arange(0.45, 0.85, step = 0.05))\n",
    "    ax[i].legend(['EE', 'EU', 'RE', 'RU'])\n",
    "    ax[i].set(ylim=(0.45, 0.80))\n",
    "    \n",
    "fig.savefig(os.path.join(path_to_diss, \"paper/figures/appendices/figureA6.2.png\"), \n",
    "            bbox_inches = 'tight', \n",
    "            pad_inches = 0.25)"
   ]
  },
  {
   "cell_type": "code",
   "execution_count": null,
   "metadata": {},
   "outputs": [],
   "source": [
    "def get_condition_pairs(row):\n",
    "    if   row.condition_v1 == 'ru' and row.condition_v2 == 'ru': return 'RU to RU'\n",
    "    elif row.condition_v1 == 'ru' and row.condition_v2 == 'ee': return 'RU to EE'\n",
    "    elif row.condition_v1 == 'ru' and row.condition_v2 == 're': return 'RU to RE'\n",
    "    elif row.condition_v1 == 'ru' and row.condition_v2 == 'eu': return 'RU to EU'\n",
    "    elif row.condition_v1 == 'ee' and row.condition_v2 == 'ru': return 'EE to RU'\n",
    "    elif row.condition_v1 == 'ee' and row.condition_v2 == 'ee': return 'EE to EE'\n",
    "    elif row.condition_v1 == 'ee' and row.condition_v2 == 're': return 'EE to RE'\n",
    "    elif row.condition_v1 == 'ee' and row.condition_v2 == 'eu': return 'EE to EU'\n",
    "    elif row.condition_v1 == 're' and row.condition_v2 == 'ru': return 'RE to RU'\n",
    "    elif row.condition_v1 == 're' and row.condition_v2 == 'ee': return 'RE to EE'\n",
    "    elif row.condition_v1 == 're' and row.condition_v2 == 're': return 'RE to RE'\n",
    "    elif row.condition_v1 == 're' and row.condition_v2 == 'eu': return 'RE to EU'\n",
    "    elif row.condition_v1 == 'eu' and row.condition_v2 == 'ru': return 'EU to RU'\n",
    "    elif row.condition_v1 == 'eu' and row.condition_v2 == 'ee': return 'EU to EE'\n",
    "    elif row.condition_v1 == 'eu' and row.condition_v2 == 're': return 'EU to RE'\n",
    "    elif row.condition_v1 == 'eu' and row.condition_v2 == 'eu': return 'EU to EU'\n",
    "    \n",
    "def get_change_in_add_choice(row):\n",
    "    return row.addChoice_v2 - row.addChoice_v1"
   ]
  },
  {
   "cell_type": "code",
   "execution_count": null,
   "metadata": {
    "scrolled": true
   },
   "outputs": [],
   "source": [
    "temp = data_final[['session_no', 'pid', 'version', 'condition', 'round', 'addChoice']]\n",
    "temp.head()"
   ]
  },
  {
   "cell_type": "code",
   "execution_count": null,
   "metadata": {
    "scrolled": true
   },
   "outputs": [],
   "source": [
    "v1 = temp[temp['version'] == 1]\n",
    "v2 = temp[temp['version'] == 2]\n",
    "\n",
    "df = v1.merge(v2, on = ['session_no', 'pid', 'round'], suffixes = [\"_v1\", \"_v2\"])\n",
    "\n",
    "df = df[['session_no', 'pid', 'round', 'condition_v1', 'condition_v2', 'addChoice_v1', 'addChoice_v2']]\n",
    "df.head()"
   ]
  },
  {
   "cell_type": "code",
   "execution_count": null,
   "metadata": {
    "scrolled": true
   },
   "outputs": [],
   "source": [
    "df['condition_pair']       = df.apply(get_condition_pairs,      axis = 1)\n",
    "df['change_in_add_choice'] = df.apply(get_change_in_add_choice, axis = 1)\n",
    "\n",
    "df = df[df['round'] < 9]\n",
    "df.head()"
   ]
  },
  {
   "cell_type": "code",
   "execution_count": null,
   "metadata": {
    "scrolled": true
   },
   "outputs": [],
   "source": [
    "# y, X = patsy.dmatrices('change_in_add_choice ~ C(condition_pair) + C(round) - 1', df, return_type = 'dataframe')\n",
    "\n",
    "mod = glm(\"change_in_add_choice ~ C(condition_pair) + C(round) - 1\", data = df)\n",
    "\n",
    "session_c = df[(df['change_in_add_choice'] == df['change_in_add_choice']) &\n",
    "               (df['condition_pair']       == df['condition_pair'])        &\n",
    "               (df['round']                == df['round'])]['session_no']\n",
    "\n",
    "pid_c     = df[(df['change_in_add_choice'] == df['change_in_add_choice']) &\n",
    "               (df['condition_pair']       == df['condition_pair'])        &\n",
    "               (df['round']                == df['round'])]['pid']\n",
    "\n",
    "# ols = sm.OLS(y, X)\n",
    "# ols.fit(cov_type = 'cluster', cov_kwds = {'groups': [session_c, pid_c]}).summary()\n",
    "\n",
    "mod.fit_constrained(\n",
    "    'C(condition_pair)[RU to RU] + C(condition_pair)[RU to EE]  + \\\n",
    "     C(condition_pair)[RU to RE] + C(condition_pair)[RU to EU]  + \\\n",
    "     C(condition_pair)[EE to RU] + C(condition_pair)[EE to EE]  + \\\n",
    "     C(condition_pair)[EE to RE] + C(condition_pair)[EE to EU]  + \\\n",
    "     C(condition_pair)[RE to RU] + C(condition_pair)[RE to EE] + \\\n",
    "     C(condition_pair)[RE to RE] + C(condition_pair)[RE to EU] + \\\n",
    "     C(condition_pair)[EU to RU] + C(condition_pair)[EU to EE] + \\\n",
    "     C(condition_pair)[EU to RE] + C(condition_pair)[EU to EU]',\n",
    "    cov_type = 'cluster', cov_kwds = {'groups': [session_c, pid_c]}).summary()"
   ]
  },
  {
   "cell_type": "code",
   "execution_count": null,
   "metadata": {
    "scrolled": false
   },
   "outputs": [],
   "source": [
    "#                   RU       EE       RE       EU\n",
    "array = np.array([[-1.69, -4.15,  7.39,  3.10],  # RU\n",
    "                  [ 0.49,  1.27,  2.07, -10.26], # EE\n",
    "                  [-0.10, -0.57,  1.15, -1.91],  # RE\n",
    "                  [ 6.39,  6.85, -1.90, -8.12]]) # EU\n",
    "\n",
    "# annot = np.array([[\"\",        \"\", \"p=0.052\", \"\"],\n",
    "#                   [\"\",        \"\", \"\",        \"p=0.005\"],\n",
    "#                   [\"\",        \"\", \"\",        \"\"],\n",
    "#                   [\"p=0.016\", \"\", \"\",        \"p=0.002\"]])\n",
    "\n",
    "annot = np.array([[\"\", \"\", \"\", \"\"],\n",
    "                  [\"\", \"\", \"\", \"\"],\n",
    "                  [\"\", \"\", \"\", \"\"],\n",
    "                  [\"\", \"\", \"\", \"\"]])\n",
    "\n",
    "fig, ax = plt.subplots(figsize = (6,8))\n",
    "\n",
    "ax = sns.heatmap(array, \n",
    "                 vmin = -11, \n",
    "                 vmax =  11, \n",
    "                 annot = annot, \n",
    "                 fmt = '', \n",
    "                 cbar_kws={'label': 'Change in add tie choice', \n",
    "                           'orientation': 'horizontal'},\n",
    "                 cmap = \"RdBu_r\",)\n",
    "ax.set_xticklabels([\"RU\", \"EE\", \"RE\", \"EU\"])\n",
    "ax.set_yticklabels([\"RU\", \"EE\", \"RE\", \"EU\"], rotation = 0)\n",
    "ax.set_xlabel(\"Second game\")\n",
    "ax.set_ylabel(\"First game\")\n",
    "\n",
    "fig.savefig(os.path.join(path_to_diss, \"paper/figures/appendices/figureA6.3.png\"), \n",
    "            bbox_inches = 'tight', \n",
    "            pad_inches = 0.25)"
   ]
  },
  {
   "cell_type": "markdown",
   "metadata": {
    "scrolled": true
   },
   "source": [
    "##### Between-individual models"
   ]
  },
  {
   "cell_type": "code",
   "execution_count": null,
   "metadata": {
    "scrolled": true
   },
   "outputs": [],
   "source": [
    "y, X = patsy.dmatrices(\n",
    "    'addChoice ~ earned * equal + C(round)',\n",
    "    data_final[(data_final['version'] == 1) & (data_final['round'] < 9)],\n",
    "    return_type = 'dataframe'\n",
    ")\n",
    "\n",
    "session_c = data_final[(data_final['version']   == 1)                       &\n",
    "                       (data_final['version']   == data_final['version'])   &\n",
    "                       (data_final['addChoice'] == data_final['addChoice']) &\n",
    "                       (data_final['earned']    == data_final['earned'])    &\n",
    "                       (data_final['equal']     == data_final['equal'])     &\n",
    "                       (data_final['round']     == data_final['round'])     &\n",
    "                       (data_final['round'] < 9)]['session_no']\n",
    "\n",
    "pid_c     = data_final[(data_final['version']   == 1)                       &\n",
    "                       (data_final['version']   == data_final['version'])   &\n",
    "                       (data_final['addChoice'] == data_final['addChoice']) &\n",
    "                       (data_final['earned']    == data_final['earned'])    &\n",
    "                       (data_final['equal']     == data_final['equal'])     &\n",
    "                       (data_final['round']     == data_final['round'])     &\n",
    "                       (data_final['round'] < 9)]['pid']\n",
    "\n",
    "print(len(np.unique(pid_c)))\n",
    "\n",
    "logit = sm.Logit(y, X)\n",
    "logit.fit(cov_type='cluster', cov_kwds={'groups': [session_c, pid_c]}).summary()"
   ]
  },
  {
   "cell_type": "code",
   "execution_count": null,
   "metadata": {
    "scrolled": true
   },
   "outputs": [],
   "source": [
    "y, X = patsy.dmatrices(\n",
    "    'addChoice ~ earned * equal + coopChoiceAlter_add + C(round)', \n",
    "    data_final[(data_final['version'] == 1) & (data_final['round'] < 9)],\n",
    "    return_type = 'dataframe'\n",
    ")\n",
    "\n",
    "session_c = data_final[(data_final['version']             == 1)                                 &\n",
    "                       (data_final['version']             == data_final['version'])             &\n",
    "                       (data_final['addChoice']           == data_final['addChoice'])           &\n",
    "                       (data_final['earned']              == data_final['earned'])              &\n",
    "                       (data_final['equal']               == data_final['equal'])               &\n",
    "                       (data_final['coopChoiceAlter_add'] == data_final['coopChoiceAlter_add']) &\n",
    "                       (data_final['round']               == data_final['round'])               &\n",
    "                       (data_final['round'] < 9)]['session_no']\n",
    "\n",
    "pid_c     = data_final[(data_final['version']             == 1)                                 &\n",
    "                       (data_final['version']             == data_final['version'])             &\n",
    "                       (data_final['addChoice']           == data_final['addChoice'])           &\n",
    "                       (data_final['earned']              == data_final['earned'])              &\n",
    "                       (data_final['equal']               == data_final['equal'])               &\n",
    "                       (data_final['coopChoiceAlter_add'] == data_final['coopChoiceAlter_add']) &\n",
    "                       (data_final['round']               == data_final['round'])               &\n",
    "                       (data_final['round'] < 9)]['pid']\n",
    "\n",
    "print(len(np.unique(pid_c)))\n",
    "\n",
    "logit = sm.Logit(y, X)\n",
    "logit.fit(cov_type='cluster', cov_kwds={'groups': [session_c, pid_c]}).summary()"
   ]
  },
  {
   "cell_type": "code",
   "execution_count": null,
   "metadata": {
    "scrolled": true
   },
   "outputs": [],
   "source": [
    "y, X = patsy.dmatrices(\n",
    "    'addChoice ~ earned * equal + C(round)', \n",
    "    data_final[(data_final['version'] == 2) & (data_final['round'] < 10)],\n",
    "    return_type = 'dataframe'\n",
    ")\n",
    "\n",
    "session_c = data_final[(data_final['version']   == 2)                       &\n",
    "                       (data_final['version']   == data_final['version'])   &\n",
    "                       (data_final['addChoice'] == data_final['addChoice']) &\n",
    "                       (data_final['earned']    == data_final['earned'])    &\n",
    "                       (data_final['equal']     == data_final['equal'])     &\n",
    "                       (data_final['round']     == data_final['round'])     &\n",
    "                       (data_final['round'] < 10)]['session_no']\n",
    "\n",
    "pid_c     = data_final[(data_final['version']   == 2)                       &\n",
    "                       (data_final['version']   == data_final['version'])   &\n",
    "                       (data_final['addChoice'] == data_final['addChoice']) &\n",
    "                       (data_final['earned']    == data_final['earned'])    &\n",
    "                       (data_final['equal']     == data_final['equal'])     &\n",
    "                       (data_final['round']     == data_final['round'])     &\n",
    "                       (data_final['round'] < 10)]['pid']\n",
    "\n",
    "print(len(np.unique(pid_c)))\n",
    "\n",
    "logit = sm.Logit(y, X)\n",
    "logit.fit(cov_type='cluster', cov_kwds={'groups': [session_c, pid_c]}).summary()"
   ]
  },
  {
   "cell_type": "code",
   "execution_count": null,
   "metadata": {
    "scrolled": true
   },
   "outputs": [],
   "source": [
    "y, X = patsy.dmatrices(\n",
    "    'addChoice ~ earned * equal + coopChoiceAlter_add + C(round)', \n",
    "    data_final[(data_final['version'] == 2) & (data_final['round'] < 10)],\n",
    "    return_type = 'dataframe'\n",
    ")\n",
    "\n",
    "session_c = data_final[(data_final['version']             == 2)                                 &\n",
    "                       (data_final['version']             == data_final['version'])             &\n",
    "                       (data_final['addChoice']           == data_final['addChoice'])           &\n",
    "                       (data_final['earned']              == data_final['earned'])              &\n",
    "                       (data_final['equal']               == data_final['equal'])               &\n",
    "                       (data_final['coopChoiceAlter_add'] == data_final['coopChoiceAlter_add']) &\n",
    "                       (data_final['round']               == data_final['round'])               &\n",
    "                       (data_final['round'] < 10)]['session_no']\n",
    "\n",
    "pid_c     = data_final[(data_final['version']             == 2)                                 &\n",
    "                       (data_final['version']             == data_final['version'])             &\n",
    "                       (data_final['addChoice']           == data_final['addChoice'])           &\n",
    "                       (data_final['earned']              == data_final['earned'])              &\n",
    "                       (data_final['equal']               == data_final['equal'])               &\n",
    "                       (data_final['coopChoiceAlter_add'] == data_final['coopChoiceAlter_add']) &\n",
    "                       (data_final['round']               == data_final['round'])               &\n",
    "                       (data_final['round'] < 10)]['pid']\n",
    "\n",
    "print(len(np.unique(pid_c)))\n",
    "\n",
    "logit = sm.Logit(y, X)\n",
    "logit.fit(cov_type='cluster', cov_kwds={'groups': [session_c, pid_c]}).summary()"
   ]
  },
  {
   "cell_type": "code",
   "execution_count": null,
   "metadata": {
    "scrolled": true
   },
   "outputs": [],
   "source": [
    "y, X = patsy.dmatrices(\n",
    "    'addChoice ~ earned * equal + C(version) + C(round)', \n",
    "    data_final[(data_final['round'] < 9)],\n",
    "    return_type = 'dataframe'\n",
    ")\n",
    "\n",
    "session_c = data_final[(data_final['version']   == data_final['version'])   &\n",
    "                       (data_final['addChoice'] == data_final['addChoice']) &\n",
    "                       (data_final['earned']    == data_final['earned'])    &\n",
    "                       (data_final['equal']     == data_final['equal'])     &\n",
    "                       (data_final['round']     == data_final['round'])     &\n",
    "                       (data_final['round'] < 9)]['session_no']\n",
    "\n",
    "pid_c     = data_final[(data_final['version']   == data_final['version'])   &\n",
    "                       (data_final['addChoice'] == data_final['addChoice']) &\n",
    "                       (data_final['earned']    == data_final['earned'])    &\n",
    "                       (data_final['equal']     == data_final['equal'])     &\n",
    "                       (data_final['round']     == data_final['round'])     &\n",
    "                       (data_final['round'] < 9)]['pid']\n",
    "\n",
    "print(len(np.unique(pid_c)))\n",
    "\n",
    "logit = sm.Logit(y, X)\n",
    "logit.fit(cov_type='cluster', cov_kwds={'groups': [session_c, pid_c]}).summary()"
   ]
  },
  {
   "cell_type": "code",
   "execution_count": null,
   "metadata": {
    "scrolled": true
   },
   "outputs": [],
   "source": [
    "y, X = patsy.dmatrices(\n",
    "    'addChoice ~ earned * equal + C(version) + coopChoiceAlter_add + C(round)', \n",
    "    data_final[(data_final['round'] < 9)],\n",
    "    return_type = 'dataframe'\n",
    ")\n",
    "\n",
    "session_c = data_final[(data_final['version']             == data_final['version'])             &\n",
    "                       (data_final['addChoice']           == data_final['addChoice'])           &\n",
    "                       (data_final['earned']              == data_final['earned'])              &\n",
    "                       (data_final['equal']               == data_final['equal'])               &\n",
    "                       (data_final['coopChoiceAlter_add'] == data_final['coopChoiceAlter_add']) &\n",
    "                       (data_final['round']               == data_final['round'])               &\n",
    "                       (data_final['round'] < 9)]['session_no']\n",
    "\n",
    "pid_c     = data_final[(data_final['version']             == data_final['version'])             &\n",
    "                       (data_final['addChoice']           == data_final['addChoice'])           &\n",
    "                       (data_final['earned']              == data_final['earned'])              &\n",
    "                       (data_final['equal']               == data_final['equal'])               &\n",
    "                       (data_final['coopChoiceAlter_add'] == data_final['coopChoiceAlter_add']) &\n",
    "                       (data_final['round']               == data_final['round'])               &\n",
    "                       (data_final['round'] < 9)]['pid']\n",
    "\n",
    "print(len(np.unique(pid_c)))\n",
    "\n",
    "logit = sm.Logit(y, X)\n",
    "logit.fit(cov_type='cluster', cov_kwds={'groups': [session_c, pid_c]}).summary()"
   ]
  },
  {
   "cell_type": "code",
   "execution_count": null,
   "metadata": {
    "scrolled": true
   },
   "outputs": [],
   "source": [
    "y, X = patsy.dmatrices(\n",
    "    'addChoice ~ earned * equal * C(version) + C(round)', \n",
    "    data_final[(data_final['round'] < 9)],\n",
    "    return_type = 'dataframe'\n",
    ")\n",
    "\n",
    "session_c = data_final[(data_final['version']   == data_final['version'])   &\n",
    "                       (data_final['addChoice'] == data_final['addChoice']) &\n",
    "                       (data_final['earned']    == data_final['earned'])    &\n",
    "                       (data_final['equal']     == data_final['equal'])     &\n",
    "                       (data_final['round']     == data_final['round'])     &\n",
    "                       (data_final['round'] < 9)]['session_no']\n",
    "\n",
    "pid_c     = data_final[(data_final['version']   == data_final['version'])   &\n",
    "                       (data_final['addChoice'] == data_final['addChoice']) &\n",
    "                       (data_final['earned']    == data_final['earned'])    &\n",
    "                       (data_final['equal']     == data_final['equal'])     &\n",
    "                       (data_final['round']     == data_final['round'])     &\n",
    "                       (data_final['round'] < 9)]['pid']\n",
    "\n",
    "print(len(np.unique(pid_c)))\n",
    "\n",
    "logit = sm.Logit(y, X)\n",
    "logit.fit(cov_type='cluster', cov_kwds={'groups': [session_c, pid_c]}).summary()"
   ]
  },
  {
   "cell_type": "code",
   "execution_count": null,
   "metadata": {
    "scrolled": true
   },
   "outputs": [],
   "source": [
    "y, X = patsy.dmatrices(\n",
    "    'addChoice ~ earned * equal * C(version) + coopChoiceAlter_add + C(round)', \n",
    "    data_final[(data_final['round'] < 9)],\n",
    "    return_type = 'dataframe'\n",
    ")\n",
    "\n",
    "session_c = data_final[(data_final['version']             == data_final['version'])             &\n",
    "                       (data_final['addChoice']           == data_final['addChoice'])           &\n",
    "                       (data_final['earned']              == data_final['earned'])              &\n",
    "                       (data_final['equal']               == data_final['equal'])               &\n",
    "                       (data_final['coopChoiceAlter_add'] == data_final['coopChoiceAlter_add']) &\n",
    "                       (data_final['round']               == data_final['round'])               &\n",
    "                       (data_final['round'] < 9)]['session_no']\n",
    "\n",
    "pid_c     = data_final[(data_final['version']             == data_final['version'])             &\n",
    "                       (data_final['addChoice']           == data_final['addChoice'])           &\n",
    "                       (data_final['earned']              == data_final['earned'])              &\n",
    "                       (data_final['equal']               == data_final['equal'])               &\n",
    "                       (data_final['coopChoiceAlter_add'] == data_final['coopChoiceAlter_add']) &\n",
    "                       (data_final['round']               == data_final['round'])               &\n",
    "                       (data_final['round'] < 9)]['pid']\n",
    "\n",
    "print(len(np.unique(pid_c)))\n",
    "\n",
    "logit = sm.Logit(y, X)\n",
    "logit.fit(cov_type='cluster', cov_kwds={'groups': [session_c, pid_c]}).summary()"
   ]
  },
  {
   "cell_type": "markdown",
   "metadata": {},
   "source": [
    "##### Between-session models"
   ]
  },
  {
   "cell_type": "code",
   "execution_count": null,
   "metadata": {
    "scrolled": true
   },
   "outputs": [],
   "source": [
    "y, X = patsy.dmatrices(\n",
    "    'addChoice ~ earned * equal + C(round)', \n",
    "    session_data[(session_data['version'] == 1) & (session_data['round'] < 9)],\n",
    "    return_type = 'dataframe'\n",
    ")\n",
    "\n",
    "session_c = session_data[(session_data['version']   == 1)                         &\n",
    "                         (session_data['version']   == session_data['version'])   &\n",
    "                         (session_data['addChoice'] == session_data['addChoice']) &\n",
    "                         (session_data['earned']    == session_data['earned'])    &\n",
    "                         (session_data['equal']     == session_data['equal'])     &\n",
    "                         (session_data['round']     == session_data['round'])     &\n",
    "                         (session_data['round'] < 9)]['session_no']\n",
    "\n",
    "ols = sm.OLS(y, X)\n",
    "ols.fit(cov_type='cluster', cov_kwds={'groups': [session_c]}).summary()"
   ]
  },
  {
   "cell_type": "code",
   "execution_count": null,
   "metadata": {
    "scrolled": true
   },
   "outputs": [],
   "source": [
    "y, X = patsy.dmatrices(\n",
    "    'addChoice ~ earned * equal + coopChoiceAlter_add + C(round)', \n",
    "    session_data[(session_data['version'] == 1) & (session_data['round'] < 9)],\n",
    "    return_type = 'dataframe'\n",
    ")\n",
    "\n",
    "session_c = session_data[(session_data['version']             == 1)                                   &\n",
    "                         (session_data['version']             == session_data['version'])             &\n",
    "                         (session_data['addChoice']           == session_data['addChoice'])           &\n",
    "                         (session_data['earned']              == session_data['earned'])              &\n",
    "                         (session_data['equal']               == session_data['equal'])               &\n",
    "                         (session_data['coopChoiceAlter_add'] == session_data['coopChoiceAlter_add']) &\n",
    "                         (session_data['round']               == session_data['round'])               &\n",
    "                         (session_data['round'] < 9)]['session_no']\n",
    "\n",
    "ols = sm.OLS(y, X)\n",
    "ols.fit(cov_type='cluster', cov_kwds={'groups': [session_c]}).summary()"
   ]
  },
  {
   "cell_type": "code",
   "execution_count": null,
   "metadata": {
    "scrolled": true
   },
   "outputs": [],
   "source": [
    "y, X = patsy.dmatrices(\n",
    "    'addChoice ~ earned * equal + C(round)', \n",
    "    session_data[(session_data['version'] == 2) & (session_data['round'] < 10)],\n",
    "    return_type = 'dataframe'\n",
    ")\n",
    "\n",
    "session_c = session_data[(session_data['version']   == 2)                         &\n",
    "                         (session_data['version']   == session_data['version'])   &\n",
    "                         (session_data['addChoice'] == session_data['addChoice']) &\n",
    "                         (session_data['earned']    == session_data['earned'])    &\n",
    "                         (session_data['equal']     == session_data['equal'])     &\n",
    "                         (session_data['round']     == session_data['round'])     &\n",
    "                         (session_data['round'] < 10)]['session_no']\n",
    "\n",
    "ols = sm.OLS(y, X)\n",
    "ols.fit(cov_type='cluster', cov_kwds={'groups': [session_c]}).summary()"
   ]
  },
  {
   "cell_type": "code",
   "execution_count": null,
   "metadata": {
    "scrolled": true
   },
   "outputs": [],
   "source": [
    "y, X = patsy.dmatrices(\n",
    "    'addChoice ~ earned * equal + coopChoiceAlter_add + C(round)', \n",
    "    session_data[(session_data['version'] == 2) & (session_data['round'] < 10)],\n",
    "    return_type = 'dataframe'\n",
    ")\n",
    "\n",
    "session_c = session_data[(session_data['version']             == 2)                                   &\n",
    "                         (session_data['version']             == session_data['version'])             &\n",
    "                         (session_data['addChoice']           == session_data['addChoice'])           &\n",
    "                         (session_data['earned']              == session_data['earned'])              &\n",
    "                         (session_data['equal']               == session_data['equal'])               &\n",
    "                         (session_data['coopChoiceAlter_add'] == session_data['coopChoiceAlter_add']) &\n",
    "                         (session_data['round']               == session_data['round'])               &\n",
    "                         (session_data['round'] < 10)]['session_no']\n",
    "\n",
    "ols = sm.OLS(y, X)\n",
    "ols.fit(cov_type='cluster', cov_kwds={'groups': [session_c]}).summary()"
   ]
  },
  {
   "cell_type": "code",
   "execution_count": null,
   "metadata": {
    "scrolled": true
   },
   "outputs": [],
   "source": [
    "y, X = patsy.dmatrices(\n",
    "    'addChoice ~ earned * equal + C(version) + C(round)', \n",
    "    session_data[(session_data['round'] < 9)],\n",
    "    return_type = 'dataframe'\n",
    ")\n",
    "\n",
    "session_c = session_data[(session_data['version']   == session_data['version'])   &\n",
    "                         (session_data['addChoice'] == session_data['addChoice']) &\n",
    "                         (session_data['earned']    == session_data['earned'])    &\n",
    "                         (session_data['equal']     == session_data['equal'])     &\n",
    "                         (session_data['round']     == session_data['round'])     &\n",
    "                         (session_data['round'] < 9)]['session_no']\n",
    "\n",
    "ols = sm.OLS(y, X)\n",
    "ols.fit(cov_type='cluster', cov_kwds={'groups': [session_c]}).summary()"
   ]
  },
  {
   "cell_type": "code",
   "execution_count": null,
   "metadata": {
    "scrolled": true
   },
   "outputs": [],
   "source": [
    "y, X = patsy.dmatrices(\n",
    "    'addChoice ~ earned * equal + C(version) + coopChoiceAlter_add + C(round)', \n",
    "    session_data[(session_data['round'] < 9)],\n",
    "    return_type = 'dataframe'\n",
    ")\n",
    "\n",
    "session_c = session_data[(session_data['version']             == session_data['version'])             &\n",
    "                         (session_data['addChoice']           == session_data['addChoice'])           &\n",
    "                         (session_data['earned']              == session_data['earned'])              &\n",
    "                         (session_data['equal']               == session_data['equal'])               &\n",
    "                         (session_data['coopChoiceAlter_add'] == session_data['coopChoiceAlter_add']) &\n",
    "                         (session_data['round']               == session_data['round'])               &\n",
    "                         (session_data['round'] < 9)]['session_no']\n",
    "\n",
    "ols = sm.OLS(y, X)\n",
    "ols.fit(cov_type='cluster', cov_kwds={'groups': [session_c]}).summary()"
   ]
  },
  {
   "cell_type": "code",
   "execution_count": null,
   "metadata": {
    "scrolled": true
   },
   "outputs": [],
   "source": [
    "y, X = patsy.dmatrices(\n",
    "    'addChoice ~ earned * equal * C(version) + C(round)', \n",
    "    session_data[(session_data['round'] < 9)],\n",
    "    return_type = 'dataframe'\n",
    ")\n",
    "\n",
    "session_c = session_data[(session_data['version']   == session_data['version'])   &\n",
    "                         (session_data['addChoice'] == session_data['addChoice']) &\n",
    "                         (session_data['earned']    == session_data['earned'])    &\n",
    "                         (session_data['equal']     == session_data['equal'])     &\n",
    "                         (session_data['round']     == session_data['round'])     &\n",
    "                         (session_data['round'] < 9)]['session_no']\n",
    "\n",
    "ols = sm.OLS(y, X)\n",
    "ols.fit(cov_type='cluster', cov_kwds={'groups': [session_c]}).summary()"
   ]
  },
  {
   "cell_type": "code",
   "execution_count": null,
   "metadata": {
    "scrolled": true
   },
   "outputs": [],
   "source": [
    "y, X = patsy.dmatrices(\n",
    "    'addChoice ~ earned * equal * C(version) + coopChoiceAlter_add + C(round)', \n",
    "    session_data[(session_data['round'] < 9)],\n",
    "    return_type = 'dataframe'\n",
    ")\n",
    "\n",
    "session_c = session_data[(session_data['version']             == session_data['version'])             &\n",
    "                         (session_data['addChoice']           == session_data['addChoice'])           &\n",
    "                         (session_data['earned']              == session_data['earned'])              &\n",
    "                         (session_data['equal']               == session_data['equal'])               &\n",
    "                         (session_data['coopChoiceAlter_add'] == session_data['coopChoiceAlter_add']) &\n",
    "                         (session_data['round']               == session_data['round'])               &\n",
    "                         (session_data['round'] < 9)]['session_no']\n",
    "\n",
    "ols = sm.OLS(y, X)\n",
    "ols.fit(cov_type='cluster', cov_kwds={'groups': [session_c]}).summary()"
   ]
  },
  {
   "cell_type": "markdown",
   "metadata": {},
   "source": [
    "##### Within-individual models"
   ]
  },
  {
   "cell_type": "code",
   "execution_count": null,
   "metadata": {
    "scrolled": true
   },
   "outputs": [],
   "source": [
    "y, X = patsy.dmatrices(\n",
    "    'delta_addChoice ~ delta_earned + delta_equal + delta_int + C(round)', \n",
    "    # 'delta_addChoice ~ delta_earned * delta_equal + C(round)'\n",
    "    data_within[(data_within['round'] < 9)],\n",
    "    return_type = 'dataframe'\n",
    ")\n",
    "\n",
    "session_c = data_within[(data_within['round']           == data_within['round'])           &\n",
    "                        (data_within['delta_addChoice'] == data_within['delta_addChoice']) &\n",
    "                        (data_within['delta_earned']    == data_within['delta_earned'])    &\n",
    "                        (data_within['delta_equal']     == data_within['delta_equal'])     &\n",
    "                        (data_within['round'] < 9)]['session_no']\n",
    "\n",
    "pid_c     = data_within[(data_within['round']           == data_within['round'])           &\n",
    "                        (data_within['delta_addChoice'] == data_within['delta_addChoice']) &\n",
    "                        (data_within['delta_earned']    == data_within['delta_earned'])    &\n",
    "                        (data_within['delta_equal']     == data_within['delta_equal'])     &\n",
    "                        (data_within['round'] < 9)]['pid']\n",
    "\n",
    "print(len(np.unique(pid_c)))\n",
    "\n",
    "ols = sm.OLS(y, X)\n",
    "ols.fit(cov_type='cluster', cov_kwds={'groups': [session_c, pid_c]}).summary()"
   ]
  },
  {
   "cell_type": "code",
   "execution_count": null,
   "metadata": {
    "scrolled": true
   },
   "outputs": [],
   "source": [
    "y, X = patsy.dmatrices(\n",
    "    'delta_addChoice ~ delta_earned + delta_equal + delta_int + delta_coopChoiceAlter_add + C(round)', \n",
    "    # 'delta_addChoice ~ delta_earned * delta_equal + delta_coopChoiceAlter_add + C(round)',\n",
    "    data_within[(data_within['round'] < 9)],\n",
    "    return_type = 'dataframe'\n",
    ")\n",
    "\n",
    "session_c = data_within[\n",
    "    (data_within['round']                     == data_within['round'])                     &\n",
    "    (data_within['delta_addChoice']           == data_within['delta_addChoice'])           &\n",
    "    (data_within['delta_earned']              == data_within['delta_earned'])              &\n",
    "    (data_within['delta_equal']               == data_within['delta_equal'])               &\n",
    "    (data_within['delta_coopChoiceAlter_add'] == data_within['delta_coopChoiceAlter_add']) &\n",
    "    (data_within['round'] < 9)\n",
    "]['session_no']\n",
    "\n",
    "pid_c = data_within[\n",
    "    (data_within['round']                     == data_within['round'])                     &\n",
    "    (data_within['delta_addChoice']           == data_within['delta_addChoice'])           &\n",
    "    (data_within['delta_earned']              == data_within['delta_earned'])              &\n",
    "    (data_within['delta_equal']               == data_within['delta_equal'])               &\n",
    "    (data_within['delta_coopChoiceAlter_add'] == data_within['delta_coopChoiceAlter_add']) &\n",
    "    (data_within['round'] < 9)\n",
    "]['pid']\n",
    "\n",
    "print(len(np.unique(pid_c)))\n",
    "\n",
    "ols = sm.OLS(y, X)\n",
    "ols.fit(cov_type='cluster', cov_kwds={'groups': [session_c, pid_c]}).summary()"
   ]
  },
  {
   "cell_type": "markdown",
   "metadata": {},
   "source": [
    "##### Within-session models"
   ]
  },
  {
   "cell_type": "code",
   "execution_count": null,
   "metadata": {
    "scrolled": true
   },
   "outputs": [],
   "source": [
    "y, X = patsy.dmatrices(\n",
    "    'delta_addChoice ~ delta_earned + delta_equal + delta_int + C(round)',\n",
    "    session_data_within[(session_data_within['round'] < 9)],\n",
    "    return_type = 'dataframe'\n",
    ")\n",
    "\n",
    "session_c = session_data_within[\n",
    "    (session_data_within['round']           == session_data_within['round'])           &\n",
    "    (session_data_within['delta_addChoice'] == session_data_within['delta_addChoice']) &\n",
    "    (session_data_within['delta_earned']    == session_data_within['delta_earned'])    &\n",
    "    (session_data_within['delta_equal']     == session_data_within['delta_equal'])     &\n",
    "    (session_data_within['round'] < 9)]['session_no']\n",
    "\n",
    "ols = sm.OLS(y, X)\n",
    "ols.fit(cov_type='cluster', cov_kwds={'groups': [session_c]}).summary()"
   ]
  },
  {
   "cell_type": "code",
   "execution_count": null,
   "metadata": {
    "scrolled": true
   },
   "outputs": [],
   "source": [
    "y, X = patsy.dmatrices(\n",
    "    'delta_addChoice ~ delta_earned + delta_equal + delta_int + delta_coopChoiceAlter_add + C(round)',\n",
    "    session_data_within[(session_data_within['round'] < 9)],\n",
    "    return_type = 'dataframe'\n",
    ")\n",
    "\n",
    "session_c = session_data_within[\n",
    "    (session_data_within['round']                     == session_data_within['round'])                     &\n",
    "    (session_data_within['delta_addChoice']           == session_data_within['delta_addChoice'])           &\n",
    "    (session_data_within['delta_earned']              == session_data_within['delta_earned'])              &\n",
    "    (session_data_within['delta_equal']               == session_data_within['delta_equal'])               &\n",
    "    (session_data_within['delta_coopChoiceAlter_add'] == session_data_within['delta_coopChoiceAlter_add']) &\n",
    "    (session_data_within['round'] < 9)\n",
    "]['session_no']\n",
    "\n",
    "ols = sm.OLS(y, X)\n",
    "ols.fit(cov_type='cluster', cov_kwds={'groups': [session_c]}).summary()"
   ]
  },
  {
   "cell_type": "markdown",
   "metadata": {
    "scrolled": true
   },
   "source": [
    "### Tie breakage"
   ]
  },
  {
   "cell_type": "markdown",
   "metadata": {
    "scrolled": true
   },
   "source": [
    "##### Overview"
   ]
  },
  {
   "cell_type": "code",
   "execution_count": null,
   "metadata": {
    "scrolled": true
   },
   "outputs": [],
   "source": [
    "print(np.mean(data_final.cutChoice))\n",
    "print()\n",
    "\n",
    "print(data_final.groupby('version')['cutChoice'].mean())\n",
    "print()\n",
    "\n",
    "print(data_final.groupby('round')['cutChoice'].mean())\n",
    "print()"
   ]
  },
  {
   "cell_type": "code",
   "execution_count": null,
   "metadata": {},
   "outputs": [],
   "source": [
    "print(data_final.groupby('condition')['cutChoice'].mean())\n",
    "print()\n",
    "\n",
    "print(data_final.groupby(['version', 'condition'])['cutChoice'].mean())"
   ]
  },
  {
   "cell_type": "markdown",
   "metadata": {
    "scrolled": true
   },
   "source": [
    "##### Figures"
   ]
  },
  {
   "cell_type": "code",
   "execution_count": null,
   "metadata": {
    "scrolled": true
   },
   "outputs": [],
   "source": [
    "data_final.groupby(['round', 'version']).mean()['cutChoice'].unstack().plot(style = ['-', '--'], color = 'black')\n",
    "plt.xlabel('Round')\n",
    "plt.ylabel('Average Cut Tie Choice')\n",
    "plt.title('Average Cut Tie Choice by Round')\n",
    "plt.legend(['1st  PG game', '2nd PG game'])\n",
    "plt.xticks(np.arange(1, 10, step=1))\n",
    "\n",
    "plt.savefig(os.path.join(path_to_diss, \"paper/figures/appendices/figureA6.4.png\"))\n",
    "\n",
    "plt.show()"
   ]
  },
  {
   "cell_type": "code",
   "execution_count": null,
   "metadata": {},
   "outputs": [],
   "source": [
    "fig, ax = plt.subplots(1, 3, figsize = (15, 5))\n",
    "clrs = ['royalblue', 'orange', 'limegreen', 'tomato']\n",
    "\n",
    "for i in range(3):\n",
    "    if i == 0:\n",
    "        temp = data_final[\n",
    "            data_final['version'] == 1].groupby(['round',\n",
    "                                                 'condition']).mean()['cutChoice'].unstack().plot(color = clrs, \n",
    "                                                                                                  ax = ax[i])\n",
    "        ax[i].set_title('First game only')\n",
    "        ax[i].set_xticks(np.arange(1, 9, step = 1))\n",
    "    elif i == 1:\n",
    "        temp = data_final[\n",
    "            data_final['version'] == 2].groupby(['round',\n",
    "                                                 'condition']).mean()['cutChoice'].unstack().plot(color = clrs,\n",
    "                                                                                                  ax = ax[i])\n",
    "        ax[i].set_title('Second game only')\n",
    "        ax[i].set_xticks(np.arange(1, 10, step = 1))\n",
    "    else:\n",
    "        temp = data_final[\n",
    "            data_final['round'] < 9].groupby(['round',\n",
    "                                              'condition']).mean()['cutChoice'].unstack().plot(color = clrs,\n",
    "                                                                                               ax = ax[i])\n",
    "        ax[i].set_title('Pooled')\n",
    "        ax[i].set_xticks(np.arange(1, 9, step = 1))\n",
    "    ax[i].set_xlabel('Round')\n",
    "    ax[i].set_ylabel('Average Cut Tie Choice')\n",
    "    ax[i].set_yticks(np.arange(0.20, 0.55, step = 0.05))\n",
    "    ax[i].legend(['EE', 'EU', 'RE', 'RU'], loc = 'upper left')\n",
    "    ax[i].set(ylim=(0.20, 0.50))\n",
    "    \n",
    "fig.savefig(os.path.join(path_to_diss, \"paper/figures/appendices/figureA6.5.png\"), \n",
    "            bbox_inches = 'tight', \n",
    "            pad_inches = 0.25)"
   ]
  },
  {
   "cell_type": "code",
   "execution_count": null,
   "metadata": {},
   "outputs": [],
   "source": [
    "def get_condition_pairs(row):\n",
    "    if   row.condition_v1 == 'ru' and row.condition_v2 == 'ru': return 'RU to RU'\n",
    "    elif row.condition_v1 == 'ru' and row.condition_v2 == 'ee': return 'RU to EE'\n",
    "    elif row.condition_v1 == 'ru' and row.condition_v2 == 're': return 'RU to RE'\n",
    "    elif row.condition_v1 == 'ru' and row.condition_v2 == 'eu': return 'RU to EU'\n",
    "    elif row.condition_v1 == 'ee' and row.condition_v2 == 'ru': return 'EE to RU'\n",
    "    elif row.condition_v1 == 'ee' and row.condition_v2 == 'ee': return 'EE to EE'\n",
    "    elif row.condition_v1 == 'ee' and row.condition_v2 == 're': return 'EE to RE'\n",
    "    elif row.condition_v1 == 'ee' and row.condition_v2 == 'eu': return 'EE to EU'\n",
    "    elif row.condition_v1 == 're' and row.condition_v2 == 'ru': return 'RE to RU'\n",
    "    elif row.condition_v1 == 're' and row.condition_v2 == 'ee': return 'RE to EE'\n",
    "    elif row.condition_v1 == 're' and row.condition_v2 == 're': return 'RE to RE'\n",
    "    elif row.condition_v1 == 're' and row.condition_v2 == 'eu': return 'RE to EU'\n",
    "    elif row.condition_v1 == 'eu' and row.condition_v2 == 'ru': return 'EU to RU'\n",
    "    elif row.condition_v1 == 'eu' and row.condition_v2 == 'ee': return 'EU to EE'\n",
    "    elif row.condition_v1 == 'eu' and row.condition_v2 == 're': return 'EU to RE'\n",
    "    elif row.condition_v1 == 'eu' and row.condition_v2 == 'eu': return 'EU to EU'\n",
    "    \n",
    "def get_change_in_cut_choice(row):\n",
    "    return row.cutChoice_v2 - row.cutChoice_v1"
   ]
  },
  {
   "cell_type": "code",
   "execution_count": null,
   "metadata": {
    "scrolled": true
   },
   "outputs": [],
   "source": [
    "temp = data_final[['session_no', 'pid', 'version', 'condition', 'round', 'cutChoice']]\n",
    "temp.head()"
   ]
  },
  {
   "cell_type": "code",
   "execution_count": null,
   "metadata": {
    "scrolled": true
   },
   "outputs": [],
   "source": [
    "v1 = temp[temp['version'] == 1]\n",
    "v2 = temp[temp['version'] == 2]\n",
    "\n",
    "df = v1.merge(v2, on = ['session_no', 'pid', 'round'], suffixes = [\"_v1\", \"_v2\"])\n",
    "\n",
    "df = df[['session_no', 'pid', 'round', 'condition_v1', 'condition_v2', 'cutChoice_v1', 'cutChoice_v2']]\n",
    "df.head()"
   ]
  },
  {
   "cell_type": "code",
   "execution_count": null,
   "metadata": {
    "scrolled": true
   },
   "outputs": [],
   "source": [
    "df['condition_pair']       = df.apply(get_condition_pairs,      axis = 1)\n",
    "df['change_in_cut_choice'] = df.apply(get_change_in_cut_choice, axis = 1)\n",
    "\n",
    "df = df[df['round'] < 9]\n",
    "df.head()"
   ]
  },
  {
   "cell_type": "code",
   "execution_count": null,
   "metadata": {
    "scrolled": true
   },
   "outputs": [],
   "source": [
    "# y, X = patsy.dmatrices('change_in_cut_choice ~ C(condition_pair) + C(round) - 1', df, return_type = 'dataframe')\n",
    "\n",
    "mod = glm(\"change_in_cut_choice ~ C(condition_pair) + C(round) - 1\", data = df)\n",
    "\n",
    "session_c = df[(df['change_in_cut_choice'] == df['change_in_cut_choice']) &\n",
    "               (df['condition_pair']       == df['condition_pair'])        &\n",
    "               (df['round']                == df['round'])]['session_no']\n",
    "\n",
    "pid_c     = df[(df['change_in_cut_choice'] == df['change_in_cut_choice']) &\n",
    "               (df['condition_pair']       == df['condition_pair'])        &\n",
    "               (df['round']                == df['round'])]['pid']\n",
    "\n",
    "# ols = sm.OLS(y, X)\n",
    "# ols.fit(cov_type = 'cluster', cov_kwds = {'groups': [session_c, pid_c]}).summary()\n",
    "\n",
    "mod.fit_constrained(\n",
    "    'C(condition_pair)[RU to RU] + C(condition_pair)[RU to EE]  + \\\n",
    "     C(condition_pair)[RU to RE] + C(condition_pair)[RU to EU]  + \\\n",
    "     C(condition_pair)[EE to RU] + C(condition_pair)[EE to EE]  + \\\n",
    "     C(condition_pair)[EE to RE] + C(condition_pair)[EE to EU]  + \\\n",
    "     C(condition_pair)[RE to RU] + C(condition_pair)[RE to EE] + \\\n",
    "     C(condition_pair)[RE to RE] + C(condition_pair)[RE to EU] + \\\n",
    "     C(condition_pair)[EU to RU] + C(condition_pair)[EU to EE] + \\\n",
    "     C(condition_pair)[EU to RE] + C(condition_pair)[EU to EU]',\n",
    "    cov_type = 'cluster', cov_kwds = {'groups': [session_c, pid_c]}).summary()"
   ]
  },
  {
   "cell_type": "code",
   "execution_count": null,
   "metadata": {
    "scrolled": false
   },
   "outputs": [],
   "source": [
    "#                   RU       EE       RE       EU\n",
    "array = np.array([[-2.67,  0.04, -5.20,  1.58],  # RU\n",
    "                  [ 0.65,  3.90, -12.86, 6.13],  # EE\n",
    "                  [ 5.72,  1.81, -5.05,  2.85],  # RE\n",
    "                  [ 0.49, -6.41,  4.27,  4.75]]) # EU\n",
    "\n",
    "# annot = np.array([[\"\", \"\", \"\",        \"\"],\n",
    "#                   [\"\", \"\", \"p=0.049\", \"\"],\n",
    "#                   [\"\", \"\", \"\",        \"\"],\n",
    "#                   [\"\", \"\", \"\",        \"\"]])\n",
    "\n",
    "annot = np.array([[\"\", \"\", \"\", \"\"],\n",
    "                  [\"\", \"\", \"\", \"\"],\n",
    "                  [\"\", \"\", \"\", \"\"],\n",
    "                  [\"\", \"\", \"\", \"\"]])\n",
    "\n",
    "fig, ax = plt.subplots(figsize = (6,8))\n",
    "\n",
    "ax = sns.heatmap(array, \n",
    "                 vmin = -13, \n",
    "                 vmax =  13, \n",
    "                 annot = annot, \n",
    "                 fmt = '', \n",
    "                 cbar_kws={'label': 'Change in cut tie choice', \n",
    "                           'orientation': 'horizontal'},\n",
    "                 cmap = \"RdBu_r\",)\n",
    "ax.set_xticklabels([\"RU\", \"EE\", \"RE\", \"EU\"])\n",
    "ax.set_yticklabels([\"RU\", \"EE\", \"RE\", \"EU\"], rotation = 0)\n",
    "ax.set_xlabel(\"Second game\")\n",
    "ax.set_ylabel(\"First game\")\n",
    "\n",
    "fig.savefig(os.path.join(path_to_diss, \"paper/figures/appendices/figureA6.6.png\"), \n",
    "            bbox_inches = 'tight', \n",
    "            pad_inches = 0.25)"
   ]
  },
  {
   "cell_type": "markdown",
   "metadata": {
    "scrolled": true
   },
   "source": [
    "##### Between-individual models"
   ]
  },
  {
   "cell_type": "code",
   "execution_count": null,
   "metadata": {
    "scrolled": true
   },
   "outputs": [],
   "source": [
    "y, X = patsy.dmatrices(\n",
    "    'cutChoice ~ earned * equal + C(round)',\n",
    "    data_final[(data_final['version'] == 1) & (data_final['round'] < 9)],\n",
    "    return_type = 'dataframe'\n",
    ")\n",
    "\n",
    "session_c = data_final[(data_final['version']   == 1)                       &\n",
    "                       (data_final['version']   == data_final['version'])   &\n",
    "                       (data_final['cutChoice'] == data_final['cutChoice']) &\n",
    "                       (data_final['earned']    == data_final['earned'])    &\n",
    "                       (data_final['equal']     == data_final['equal'])     &\n",
    "                       (data_final['round']     == data_final['round'])     &\n",
    "                       (data_final['round'] < 9)]['session_no']\n",
    "\n",
    "pid_c     = data_final[(data_final['version']   == 1)                       &\n",
    "                       (data_final['version']   == data_final['version'])   &\n",
    "                       (data_final['cutChoice'] == data_final['cutChoice']) &\n",
    "                       (data_final['earned']    == data_final['earned'])    &\n",
    "                       (data_final['equal']     == data_final['equal'])     &\n",
    "                       (data_final['round']     == data_final['round'])     &\n",
    "                       (data_final['round'] < 9)]['pid']\n",
    "\n",
    "print(len(np.unique(pid_c)))\n",
    "\n",
    "logit = sm.Logit(y, X)\n",
    "logit.fit(cov_type='cluster', cov_kwds={'groups': [session_c, pid_c]}).summary()"
   ]
  },
  {
   "cell_type": "code",
   "execution_count": null,
   "metadata": {
    "scrolled": true
   },
   "outputs": [],
   "source": [
    "y, X = patsy.dmatrices(\n",
    "    'cutChoice ~ earned * equal + coopChoiceAlter_cut + C(round)', \n",
    "    data_final[(data_final['version'] == 1) & (data_final['round'] < 9)],\n",
    "    return_type = 'dataframe'\n",
    ")\n",
    "\n",
    "session_c = data_final[(data_final['version']             == 1)                                 &\n",
    "                       (data_final['version']             == data_final['version'])             &\n",
    "                       (data_final['cutChoice']           == data_final['cutChoice'])           &\n",
    "                       (data_final['earned']              == data_final['earned'])              &\n",
    "                       (data_final['equal']               == data_final['equal'])               &\n",
    "                       (data_final['coopChoiceAlter_cut'] == data_final['coopChoiceAlter_cut']) &\n",
    "                       (data_final['round']               == data_final['round'])               &\n",
    "                       (data_final['round'] < 9)]['session_no']\n",
    "\n",
    "pid_c     = data_final[(data_final['version']             == 1)                                 &\n",
    "                       (data_final['version']             == data_final['version'])             &\n",
    "                       (data_final['cutChoice']           == data_final['cutChoice'])           &\n",
    "                       (data_final['earned']              == data_final['earned'])              &\n",
    "                       (data_final['equal']               == data_final['equal'])               &\n",
    "                       (data_final['coopChoiceAlter_cut'] == data_final['coopChoiceAlter_cut']) &\n",
    "                       (data_final['round']               == data_final['round'])               &\n",
    "                       (data_final['round'] < 9)]['pid']\n",
    "\n",
    "print(len(np.unique(pid_c)))\n",
    "\n",
    "logit = sm.Logit(y, X)\n",
    "logit.fit(cov_type='cluster', cov_kwds={'groups': [session_c, pid_c]}).summary()"
   ]
  },
  {
   "cell_type": "code",
   "execution_count": null,
   "metadata": {
    "scrolled": true
   },
   "outputs": [],
   "source": [
    "y, X = patsy.dmatrices(\n",
    "    'cutChoice ~ earned * equal + C(round)', \n",
    "    data_final[(data_final['version'] == 2) & (data_final['round'] < 10)],\n",
    "    return_type = 'dataframe'\n",
    ")\n",
    "\n",
    "session_c = data_final[(data_final['version']   == 2)                       &\n",
    "                       (data_final['version']   == data_final['version'])   &\n",
    "                       (data_final['cutChoice'] == data_final['cutChoice']) &\n",
    "                       (data_final['earned']    == data_final['earned'])    &\n",
    "                       (data_final['equal']     == data_final['equal'])     &\n",
    "                       (data_final['round']     == data_final['round'])     &\n",
    "                       (data_final['round'] < 10)]['session_no']\n",
    "\n",
    "pid_c     = data_final[(data_final['version']   == 2)                       &\n",
    "                       (data_final['version']   == data_final['version'])   &\n",
    "                       (data_final['cutChoice'] == data_final['cutChoice']) &\n",
    "                       (data_final['earned']    == data_final['earned'])    &\n",
    "                       (data_final['equal']     == data_final['equal'])     &\n",
    "                       (data_final['round']     == data_final['round'])     &\n",
    "                       (data_final['round'] < 10)]['pid']\n",
    "\n",
    "print(len(np.unique(pid_c)))\n",
    "\n",
    "logit = sm.Logit(y, X)\n",
    "logit.fit(cov_type='cluster', cov_kwds={'groups': [session_c, pid_c]}).summary()"
   ]
  },
  {
   "cell_type": "code",
   "execution_count": null,
   "metadata": {
    "scrolled": true
   },
   "outputs": [],
   "source": [
    "y, X = patsy.dmatrices(\n",
    "    'cutChoice ~ earned * equal + coopChoiceAlter_cut + C(round)', \n",
    "    data_final[(data_final['version'] == 2) & (data_final['round'] < 10)],\n",
    "    return_type = 'dataframe'\n",
    ")\n",
    "\n",
    "session_c = data_final[(data_final['version']             == 2)                                 &\n",
    "                       (data_final['version']             == data_final['version'])             &\n",
    "                       (data_final['cutChoice']           == data_final['cutChoice'])           &\n",
    "                       (data_final['earned']              == data_final['earned'])              &\n",
    "                       (data_final['equal']               == data_final['equal'])               &\n",
    "                       (data_final['coopChoiceAlter_cut'] == data_final['coopChoiceAlter_cut']) &\n",
    "                       (data_final['round']               == data_final['round'])               &\n",
    "                       (data_final['round'] < 10)]['session_no']\n",
    "\n",
    "pid_c     = data_final[(data_final['version']             == 2)                                 &\n",
    "                       (data_final['version']             == data_final['version'])             &\n",
    "                       (data_final['cutChoice']           == data_final['cutChoice'])           &\n",
    "                       (data_final['earned']              == data_final['earned'])              &\n",
    "                       (data_final['equal']               == data_final['equal'])               &\n",
    "                       (data_final['coopChoiceAlter_cut'] == data_final['coopChoiceAlter_cut']) &\n",
    "                       (data_final['round']               == data_final['round'])               &\n",
    "                       (data_final['round'] < 10)]['pid']\n",
    "\n",
    "print(len(np.unique(pid_c)))\n",
    "\n",
    "logit = sm.Logit(y, X)\n",
    "logit.fit(cov_type='cluster', cov_kwds={'groups': [session_c, pid_c]}).summary()"
   ]
  },
  {
   "cell_type": "code",
   "execution_count": null,
   "metadata": {
    "scrolled": true
   },
   "outputs": [],
   "source": [
    "y, X = patsy.dmatrices(\n",
    "    'cutChoice ~ earned * equal + C(version) + C(round)', \n",
    "    data_final[(data_final['round'] < 9)],\n",
    "    return_type = 'dataframe'\n",
    ")\n",
    "\n",
    "session_c = data_final[(data_final['version']   == data_final['version'])   &\n",
    "                       (data_final['cutChoice'] == data_final['cutChoice']) &\n",
    "                       (data_final['earned']    == data_final['earned'])    &\n",
    "                       (data_final['equal']     == data_final['equal'])     &\n",
    "                       (data_final['round']     == data_final['round'])     &\n",
    "                       (data_final['round'] < 9)]['session_no']\n",
    "\n",
    "pid_c     = data_final[(data_final['version']   == data_final['version'])   &\n",
    "                       (data_final['cutChoice'] == data_final['cutChoice']) &\n",
    "                       (data_final['earned']    == data_final['earned'])    &\n",
    "                       (data_final['equal']     == data_final['equal'])     &\n",
    "                       (data_final['round']     == data_final['round'])     &\n",
    "                       (data_final['round'] < 9)]['pid']\n",
    "\n",
    "print(len(np.unique(pid_c)))\n",
    "\n",
    "logit = sm.Logit(y, X)\n",
    "logit.fit(cov_type='cluster', cov_kwds={'groups': [session_c, pid_c]}).summary()"
   ]
  },
  {
   "cell_type": "code",
   "execution_count": null,
   "metadata": {
    "scrolled": true
   },
   "outputs": [],
   "source": [
    "y, X = patsy.dmatrices(\n",
    "    'cutChoice ~ earned * equal + C(version) + coopChoiceAlter_cut + C(round)', \n",
    "    data_final[(data_final['round'] < 9)],\n",
    "    return_type = 'dataframe'\n",
    ")\n",
    "\n",
    "session_c = data_final[(data_final['version']             == data_final['version'])             &\n",
    "                       (data_final['cutChoice']           == data_final['cutChoice'])           &\n",
    "                       (data_final['earned']              == data_final['earned'])              &\n",
    "                       (data_final['equal']               == data_final['equal'])               &\n",
    "                       (data_final['coopChoiceAlter_cut'] == data_final['coopChoiceAlter_cut']) &\n",
    "                       (data_final['round']               == data_final['round'])               &\n",
    "                       (data_final['round'] < 9)]['session_no']\n",
    "\n",
    "pid_c     = data_final[(data_final['version']             == data_final['version'])             &\n",
    "                       (data_final['cutChoice']           == data_final['cutChoice'])           &\n",
    "                       (data_final['earned']              == data_final['earned'])              &\n",
    "                       (data_final['equal']               == data_final['equal'])               &\n",
    "                       (data_final['coopChoiceAlter_cut'] == data_final['coopChoiceAlter_cut']) &\n",
    "                       (data_final['round']               == data_final['round'])               &\n",
    "                       (data_final['round'] < 9)]['pid']\n",
    "\n",
    "print(len(np.unique(pid_c)))\n",
    "\n",
    "logit = sm.Logit(y, X)\n",
    "logit.fit(cov_type='cluster', cov_kwds={'groups': [session_c, pid_c]}).summary()"
   ]
  },
  {
   "cell_type": "code",
   "execution_count": null,
   "metadata": {
    "scrolled": true
   },
   "outputs": [],
   "source": [
    "y, X = patsy.dmatrices(\n",
    "    'cutChoice ~ earned * equal * C(version) + C(round)', \n",
    "    data_final[(data_final['round'] < 9)],\n",
    "    return_type = 'dataframe'\n",
    ")\n",
    "\n",
    "session_c = data_final[(data_final['version']   == data_final['version'])   &\n",
    "                       (data_final['cutChoice'] == data_final['cutChoice']) &\n",
    "                       (data_final['earned']    == data_final['earned'])    &\n",
    "                       (data_final['equal']     == data_final['equal'])     &\n",
    "                       (data_final['round']     == data_final['round'])     &\n",
    "                       (data_final['round'] < 9)]['session_no']\n",
    "\n",
    "pid_c     = data_final[(data_final['version']   == data_final['version'])   &\n",
    "                       (data_final['cutChoice'] == data_final['cutChoice']) &\n",
    "                       (data_final['earned']    == data_final['earned'])    &\n",
    "                       (data_final['equal']     == data_final['equal'])     &\n",
    "                       (data_final['round']     == data_final['round'])     &\n",
    "                       (data_final['round'] < 9)]['pid']\n",
    "\n",
    "print(len(np.unique(pid_c)))\n",
    "\n",
    "logit = sm.Logit(y, X)\n",
    "logit.fit(cov_type='cluster', cov_kwds={'groups': [session_c, pid_c]}).summary()"
   ]
  },
  {
   "cell_type": "code",
   "execution_count": null,
   "metadata": {
    "scrolled": true
   },
   "outputs": [],
   "source": [
    "y, X = patsy.dmatrices(\n",
    "    'cutChoice ~ earned * equal * C(version) + coopChoiceAlter_cut + C(round)', \n",
    "    data_final[(data_final['round'] < 9)],\n",
    "    return_type = 'dataframe'\n",
    ")\n",
    "\n",
    "session_c = data_final[(data_final['version']             == data_final['version'])             &\n",
    "                       (data_final['cutChoice']           == data_final['cutChoice'])           &\n",
    "                       (data_final['earned']              == data_final['earned'])              &\n",
    "                       (data_final['equal']               == data_final['equal'])               &\n",
    "                       (data_final['coopChoiceAlter_cut'] == data_final['coopChoiceAlter_cut']) &\n",
    "                       (data_final['round']               == data_final['round'])               &\n",
    "                       (data_final['round'] < 9)]['session_no']\n",
    "\n",
    "pid_c     = data_final[(data_final['version']             == data_final['version'])             &\n",
    "                       (data_final['cutChoice']           == data_final['cutChoice'])           &\n",
    "                       (data_final['earned']              == data_final['earned'])              &\n",
    "                       (data_final['equal']               == data_final['equal'])               &\n",
    "                       (data_final['coopChoiceAlter_cut'] == data_final['coopChoiceAlter_cut']) &\n",
    "                       (data_final['round']               == data_final['round'])               &\n",
    "                       (data_final['round'] < 9)]['pid']\n",
    "\n",
    "print(len(np.unique(pid_c)))\n",
    "\n",
    "logit = sm.Logit(y, X)\n",
    "logit.fit(cov_type='cluster', cov_kwds={'groups': [session_c, pid_c]}).summary()"
   ]
  },
  {
   "cell_type": "markdown",
   "metadata": {},
   "source": [
    "##### Between-session models"
   ]
  },
  {
   "cell_type": "code",
   "execution_count": null,
   "metadata": {
    "scrolled": true
   },
   "outputs": [],
   "source": [
    "y, X = patsy.dmatrices(\n",
    "    'cutChoice ~ earned * equal + C(round)', \n",
    "    session_data[(session_data['version'] == 1) & (session_data['round'] < 9)],\n",
    "    return_type = 'dataframe'\n",
    ")\n",
    "\n",
    "session_c = session_data[(session_data['version']   == 1)                         &\n",
    "                         (session_data['version']   == session_data['version'])   &\n",
    "                         (session_data['cutChoice'] == session_data['cutChoice']) &\n",
    "                         (session_data['earned']    == session_data['earned'])    &\n",
    "                         (session_data['equal']     == session_data['equal'])     &\n",
    "                         (session_data['round']     == session_data['round'])     &\n",
    "                         (session_data['round'] < 9)]['session_no']\n",
    "\n",
    "ols = sm.OLS(y, X)\n",
    "ols.fit(cov_type='cluster', cov_kwds={'groups': [session_c]}).summary()"
   ]
  },
  {
   "cell_type": "code",
   "execution_count": null,
   "metadata": {
    "scrolled": true
   },
   "outputs": [],
   "source": [
    "y, X = patsy.dmatrices(\n",
    "    'cutChoice ~ earned * equal + coopChoiceAlter_cut + C(round)', \n",
    "    session_data[(session_data['version'] == 1) & (session_data['round'] < 9)],\n",
    "    return_type = 'dataframe'\n",
    ")\n",
    "\n",
    "session_c = session_data[(session_data['version']             == 1)                                   &\n",
    "                         (session_data['version']             == session_data['version'])             &\n",
    "                         (session_data['cutChoice']           == session_data['cutChoice'])           &\n",
    "                         (session_data['earned']              == session_data['earned'])              &\n",
    "                         (session_data['equal']               == session_data['equal'])               &\n",
    "                         (session_data['coopChoiceAlter_cut'] == session_data['coopChoiceAlter_cut']) &\n",
    "                         (session_data['round']               == session_data['round'])               &\n",
    "                         (session_data['round'] < 9)]['session_no']\n",
    "\n",
    "ols = sm.OLS(y, X)\n",
    "ols.fit(cov_type='cluster', cov_kwds={'groups': [session_c]}).summary()"
   ]
  },
  {
   "cell_type": "code",
   "execution_count": null,
   "metadata": {
    "scrolled": true
   },
   "outputs": [],
   "source": [
    "y, X = patsy.dmatrices(\n",
    "    'cutChoice ~ earned * equal + C(round)', \n",
    "    session_data[(session_data['version'] == 2) & (session_data['round'] < 10)],\n",
    "    return_type = 'dataframe'\n",
    ")\n",
    "\n",
    "session_c = session_data[(session_data['version']   == 2)                         &\n",
    "                         (session_data['version']   == session_data['version'])   &\n",
    "                         (session_data['cutChoice'] == session_data['cutChoice']) &\n",
    "                         (session_data['earned']    == session_data['earned'])    &\n",
    "                         (session_data['equal']     == session_data['equal'])     &\n",
    "                         (session_data['round']     == session_data['round'])     &\n",
    "                         (session_data['round'] < 10)]['session_no']\n",
    "\n",
    "ols = sm.OLS(y, X)\n",
    "ols.fit(cov_type='cluster', cov_kwds={'groups': [session_c]}).summary()"
   ]
  },
  {
   "cell_type": "code",
   "execution_count": null,
   "metadata": {
    "scrolled": true
   },
   "outputs": [],
   "source": [
    "y, X = patsy.dmatrices(\n",
    "    'cutChoice ~ earned * equal + coopChoiceAlter_cut + C(round)', \n",
    "    session_data[(session_data['version'] == 2) & (session_data['round'] < 10)],\n",
    "    return_type = 'dataframe'\n",
    ")\n",
    "\n",
    "session_c = session_data[(session_data['version']             == 2)                                   &\n",
    "                         (session_data['version']             == session_data['version'])             &\n",
    "                         (session_data['cutChoice']           == session_data['cutChoice'])           &\n",
    "                         (session_data['earned']              == session_data['earned'])              &\n",
    "                         (session_data['equal']               == session_data['equal'])               &\n",
    "                         (session_data['coopChoiceAlter_cut'] == session_data['coopChoiceAlter_cut']) &\n",
    "                         (session_data['round']               == session_data['round'])               &\n",
    "                         (session_data['round'] < 10)]['session_no']\n",
    "\n",
    "ols = sm.OLS(y, X)\n",
    "ols.fit(cov_type='cluster', cov_kwds={'groups': [session_c]}).summary()"
   ]
  },
  {
   "cell_type": "code",
   "execution_count": null,
   "metadata": {
    "scrolled": true
   },
   "outputs": [],
   "source": [
    "y, X = patsy.dmatrices(\n",
    "    'cutChoice ~ earned * equal + C(version) + C(round)', \n",
    "    session_data[(session_data['round'] < 9)],\n",
    "    return_type = 'dataframe'\n",
    ")\n",
    "\n",
    "session_c = session_data[(session_data['version']   == session_data['version'])   &\n",
    "                         (session_data['cutChoice'] == session_data['cutChoice']) &\n",
    "                         (session_data['earned']    == session_data['earned'])    &\n",
    "                         (session_data['equal']     == session_data['equal'])     &\n",
    "                         (session_data['round']     == session_data['round'])     &\n",
    "                         (session_data['round'] < 9)]['session_no']\n",
    "\n",
    "ols = sm.OLS(y, X)\n",
    "ols.fit(cov_type='cluster', cov_kwds={'groups': [session_c]}).summary()"
   ]
  },
  {
   "cell_type": "code",
   "execution_count": null,
   "metadata": {
    "scrolled": true
   },
   "outputs": [],
   "source": [
    "y, X = patsy.dmatrices(\n",
    "    'cutChoice ~ earned * equal + C(version) + coopChoiceAlter_cut + C(round)', \n",
    "    session_data[(session_data['round'] < 9)],\n",
    "    return_type = 'dataframe'\n",
    ")\n",
    "\n",
    "session_c = session_data[(session_data['version']             == session_data['version'])             &\n",
    "                         (session_data['cutChoice']           == session_data['cutChoice'])           &\n",
    "                         (session_data['earned']              == session_data['earned'])              &\n",
    "                         (session_data['equal']               == session_data['equal'])               &\n",
    "                         (session_data['coopChoiceAlter_cut'] == session_data['coopChoiceAlter_cut']) &\n",
    "                         (session_data['round']               == session_data['round'])               &\n",
    "                         (session_data['round'] < 9)]['session_no']\n",
    "\n",
    "ols = sm.OLS(y, X)\n",
    "ols.fit(cov_type='cluster', cov_kwds={'groups': [session_c]}).summary()"
   ]
  },
  {
   "cell_type": "code",
   "execution_count": null,
   "metadata": {
    "scrolled": true
   },
   "outputs": [],
   "source": [
    "y, X = patsy.dmatrices(\n",
    "    'cutChoice ~ earned * equal * C(version) + C(round)', \n",
    "    session_data[(session_data['round'] < 9)],\n",
    "    return_type = 'dataframe'\n",
    ")\n",
    "\n",
    "session_c = session_data[(session_data['version']   == session_data['version'])   &\n",
    "                         (session_data['cutChoice'] == session_data['cutChoice']) &\n",
    "                         (session_data['earned']    == session_data['earned'])    &\n",
    "                         (session_data['equal']     == session_data['equal'])     &\n",
    "                         (session_data['round']     == session_data['round'])     &\n",
    "                         (session_data['round'] < 9)]['session_no']\n",
    "\n",
    "ols = sm.OLS(y, X)\n",
    "ols.fit(cov_type='cluster', cov_kwds={'groups': [session_c]}).summary()"
   ]
  },
  {
   "cell_type": "code",
   "execution_count": null,
   "metadata": {
    "scrolled": true
   },
   "outputs": [],
   "source": [
    "y, X = patsy.dmatrices(\n",
    "    'cutChoice ~ earned * equal * C(version) + coopChoiceAlter_cut + C(round)', \n",
    "    session_data[(session_data['round'] < 9)],\n",
    "    return_type = 'dataframe'\n",
    ")\n",
    "\n",
    "session_c = session_data[(session_data['version']             == session_data['version'])             &\n",
    "                         (session_data['cutChoice']           == session_data['cutChoice'])           &\n",
    "                         (session_data['earned']              == session_data['earned'])              &\n",
    "                         (session_data['equal']               == session_data['equal'])               &\n",
    "                         (session_data['coopChoiceAlter_cut'] == session_data['coopChoiceAlter_cut']) &\n",
    "                         (session_data['round']               == session_data['round'])               &\n",
    "                         (session_data['round'] < 9)]['session_no']\n",
    "\n",
    "ols = sm.OLS(y, X)\n",
    "ols.fit(cov_type='cluster', cov_kwds={'groups': [session_c]}).summary()"
   ]
  },
  {
   "cell_type": "markdown",
   "metadata": {},
   "source": [
    "##### Within-individual models"
   ]
  },
  {
   "cell_type": "code",
   "execution_count": null,
   "metadata": {
    "scrolled": true
   },
   "outputs": [],
   "source": [
    "y, X = patsy.dmatrices(\n",
    "    'delta_cutChoice ~ delta_earned + delta_equal + delta_int + C(round)', \n",
    "    # 'delta_cutChoice ~ delta_earned * delta_equal + C(round)'\n",
    "    data_within[(data_within['round'] < 9)],\n",
    "    return_type = 'dataframe'\n",
    ")\n",
    "\n",
    "session_c = data_within[(data_within['round']           == data_within['round'])           &\n",
    "                        (data_within['delta_cutChoice'] == data_within['delta_cutChoice']) &\n",
    "                        (data_within['delta_earned']    == data_within['delta_earned'])    &\n",
    "                        (data_within['delta_equal']     == data_within['delta_equal'])     &\n",
    "                        (data_within['round'] < 9)]['session_no']\n",
    "\n",
    "pid_c     = data_within[(data_within['round']           == data_within['round'])           &\n",
    "                        (data_within['delta_cutChoice'] == data_within['delta_cutChoice']) &\n",
    "                        (data_within['delta_earned']    == data_within['delta_earned'])    &\n",
    "                        (data_within['delta_equal']     == data_within['delta_equal'])     &\n",
    "                        (data_within['round'] < 9)]['pid']\n",
    "\n",
    "print(len(np.unique(pid_c)))\n",
    "\n",
    "ols = sm.OLS(y, X)\n",
    "ols.fit(cov_type='cluster', cov_kwds={'groups': [session_c, pid_c]}).summary()"
   ]
  },
  {
   "cell_type": "code",
   "execution_count": null,
   "metadata": {
    "scrolled": true
   },
   "outputs": [],
   "source": [
    "y, X = patsy.dmatrices(\n",
    "    'delta_cutChoice ~ delta_earned + delta_equal + delta_int + delta_coopChoiceAlter_cut + C(round)', \n",
    "    # 'delta_cutChoice ~ delta_earned * delta_equal + delta_coopChoiceAlter_cut + C(round)', \n",
    "    data_within[(data_within['round'] < 9)],\n",
    "    return_type = 'dataframe'\n",
    ")\n",
    "\n",
    "session_c = data_within[\n",
    "    (data_within['round']                     == data_within['round'])                     &\n",
    "    (data_within['delta_cutChoice']           == data_within['delta_cutChoice'])           &\n",
    "    (data_within['delta_earned']              == data_within['delta_earned'])              &\n",
    "    (data_within['delta_equal']               == data_within['delta_equal'])               &\n",
    "    (data_within['delta_coopChoiceAlter_cut'] == data_within['delta_coopChoiceAlter_cut']) &\n",
    "    (data_within['round'] < 9)\n",
    "]['session_no']\n",
    "\n",
    "pid_c = data_within[\n",
    "    (data_within['round']                     == data_within['round'])                     &\n",
    "    (data_within['delta_cutChoice']           == data_within['delta_cutChoice'])           &\n",
    "    (data_within['delta_earned']              == data_within['delta_earned'])              &\n",
    "    (data_within['delta_equal']               == data_within['delta_equal'])               &\n",
    "    (data_within['delta_coopChoiceAlter_cut'] == data_within['delta_coopChoiceAlter_cut']) &\n",
    "    (data_within['round'] < 9)\n",
    "]['pid']\n",
    "\n",
    "print(len(np.unique(pid_c)))\n",
    "\n",
    "ols = sm.OLS(y, X)\n",
    "ols.fit(cov_type='cluster', cov_kwds={'groups': [session_c, pid_c]}).summary()"
   ]
  },
  {
   "cell_type": "markdown",
   "metadata": {},
   "source": [
    "##### Within-session models"
   ]
  },
  {
   "cell_type": "code",
   "execution_count": null,
   "metadata": {
    "scrolled": true
   },
   "outputs": [],
   "source": [
    "y, X = patsy.dmatrices(\n",
    "    'delta_cutChoice ~ delta_earned + delta_equal + delta_int + C(round)',\n",
    "    session_data_within[(session_data_within['round'] < 9)],\n",
    "    return_type = 'dataframe'\n",
    ")\n",
    "\n",
    "session_c = session_data_within[\n",
    "    (session_data_within['round']           == session_data_within['round'])           &\n",
    "    (session_data_within['delta_cutChoice'] == session_data_within['delta_cutChoice']) &\n",
    "    (session_data_within['delta_earned']    == session_data_within['delta_earned'])    &\n",
    "    (session_data_within['delta_equal']     == session_data_within['delta_equal'])     &\n",
    "    (session_data_within['round'] < 9)]['session_no']\n",
    "\n",
    "ols = sm.OLS(y, X)\n",
    "ols.fit(cov_type='cluster', cov_kwds={'groups': [session_c]}).summary()"
   ]
  },
  {
   "cell_type": "code",
   "execution_count": null,
   "metadata": {
    "scrolled": true
   },
   "outputs": [],
   "source": [
    "y, X = patsy.dmatrices(\n",
    "    'delta_cutChoice ~ delta_earned + delta_equal + delta_int + delta_coopChoiceAlter_cut + C(round)',\n",
    "    session_data_within[(session_data_within['round'] < 9)],\n",
    "    return_type = 'dataframe'\n",
    ")\n",
    "\n",
    "session_c = session_data_within[\n",
    "    (session_data_within['round']                     == session_data_within['round'])                     &\n",
    "    (session_data_within['delta_cutChoice']           == session_data_within['delta_cutChoice'])           &\n",
    "    (session_data_within['delta_earned']              == session_data_within['delta_earned'])              &\n",
    "    (session_data_within['delta_equal']               == session_data_within['delta_equal'])               &\n",
    "    (session_data_within['delta_coopChoiceAlter_cut'] == session_data_within['delta_coopChoiceAlter_cut']) &\n",
    "    (session_data_within['round'] < 9)\n",
    "]['session_no']\n",
    "\n",
    "ols = sm.OLS(y, X)\n",
    "ols.fit(cov_type='cluster', cov_kwds={'groups': [session_c]}).summary()"
   ]
  },
  {
   "cell_type": "markdown",
   "metadata": {},
   "source": [
    "### Local inequality"
   ]
  },
  {
   "cell_type": "markdown",
   "metadata": {},
   "source": [
    "##### Cooperation ~ local inequality: between-individual"
   ]
  },
  {
   "cell_type": "code",
   "execution_count": null,
   "metadata": {
    "scrolled": true
   },
   "outputs": [],
   "source": [
    "y, X = patsy.dmatrices(\n",
    "    'coopChoice ~ giniLocal + C(round)',\n",
    "    data_final_coop[(~np.isinf(data_final_coop['giniLocal'])) & (data_final_coop['version'] == 1)],\n",
    "    return_type = 'dataframe'\n",
    ")\n",
    "\n",
    "session_c = data_final_coop[(~np.isinf(data_final_coop['giniLocal']))                        & \n",
    "                            (data_final_coop['version']    == 1)                             & \n",
    "                            (data_final_coop['coopChoice'] == data_final_coop['coopChoice']) &\n",
    "                            (data_final_coop['giniLocal']  == data_final_coop['giniLocal'])]['session_no']\n",
    "\n",
    "pid_c     = data_final_coop[(~np.isinf(data_final_coop['giniLocal']))                        &\n",
    "                            (data_final_coop['version']    == 1)                             & \n",
    "                            (data_final_coop['coopChoice'] == data_final_coop['coopChoice']) & \n",
    "                            (data_final_coop['giniLocal']  == data_final_coop['giniLocal'])]['pid']\n",
    "\n",
    "print(len(np.unique(pid_c)))\n",
    "\n",
    "logit = sm.Logit(y, X)\n",
    "logit.fit(cov_type='cluster', cov_kwds={'groups': [session_c, pid_c]}).summary()"
   ]
  },
  {
   "cell_type": "code",
   "execution_count": null,
   "metadata": {
    "scrolled": true
   },
   "outputs": [],
   "source": [
    "y, X = patsy.dmatrices(\n",
    "    'coopChoice ~ giniLocal + C(round)',\n",
    "    data_final_coop[(~np.isinf(data_final_coop['giniLocal'])) & (data_final_coop['version'] == 2)],\n",
    "    return_type = 'dataframe'\n",
    ")\n",
    "\n",
    "session_c = data_final_coop[(~np.isinf(data_final_coop['giniLocal']))                        & \n",
    "                            (data_final_coop['version']    == 2)                             & \n",
    "                            (data_final_coop['coopChoice'] == data_final_coop['coopChoice']) &\n",
    "                            (data_final_coop['giniLocal']  == data_final_coop['giniLocal'])]['session_no']\n",
    "\n",
    "pid_c     = data_final_coop[(~np.isinf(data_final_coop['giniLocal']))                        &\n",
    "                            (data_final_coop['version']    == 2)                             & \n",
    "                            (data_final_coop['coopChoice'] == data_final_coop['coopChoice']) & \n",
    "                            (data_final_coop['giniLocal']  == data_final_coop['giniLocal'])]['pid']\n",
    "\n",
    "print(len(np.unique(pid_c)))\n",
    "\n",
    "logit = sm.Logit(y, X)\n",
    "logit.fit(cov_type='cluster', cov_kwds={'groups': [session_c, pid_c]}).summary()"
   ]
  },
  {
   "cell_type": "code",
   "execution_count": null,
   "metadata": {
    "scrolled": true
   },
   "outputs": [],
   "source": [
    "y, X = patsy.dmatrices(\n",
    "    'coopChoice ~ giniLocal + C(version) + C(round)',\n",
    "    data_final_coop[(~np.isinf(data_final_coop['giniLocal'])) & (data_final_coop['round'] != 10)],\n",
    "    return_type = 'dataframe'\n",
    ")\n",
    "\n",
    "session_c = data_final_coop[(~np.isinf(data_final_coop['giniLocal']))                        & \n",
    "                            (data_final_coop['coopChoice'] == data_final_coop['coopChoice']) &\n",
    "                            (data_final_coop['giniLocal']  == data_final_coop['giniLocal'])  &\n",
    "                            (data_final_coop['round']      != 10)]['session_no']\n",
    "\n",
    "pid_c     = data_final_coop[(~np.isinf(data_final_coop['giniLocal']))                        &\n",
    "                            (data_final_coop['coopChoice'] == data_final_coop['coopChoice']) & \n",
    "                            (data_final_coop['giniLocal']  == data_final_coop['giniLocal'])  &\n",
    "                            (data_final_coop['round']      != 10)]['pid']\n",
    "\n",
    "print(len(np.unique(pid_c)))\n",
    "\n",
    "logit = sm.Logit(y, X)\n",
    "logit.fit(cov_type='cluster', cov_kwds={'groups': [session_c, pid_c]}).summary()"
   ]
  },
  {
   "cell_type": "code",
   "execution_count": null,
   "metadata": {
    "scrolled": true
   },
   "outputs": [],
   "source": [
    "y, X = patsy.dmatrices(\n",
    "    'coopChoice ~ giniLocal * C(version) + C(round)',\n",
    "    data_final_coop[(~np.isinf(data_final_coop['giniLocal'])) & (data_final_coop['round'] != 10)],\n",
    "    return_type = 'dataframe'\n",
    ")\n",
    "\n",
    "session_c = data_final_coop[(~np.isinf(data_final_coop['giniLocal']))                        & \n",
    "                            (data_final_coop['coopChoice'] == data_final_coop['coopChoice']) &\n",
    "                            (data_final_coop['giniLocal']  == data_final_coop['giniLocal'])  &\n",
    "                            (data_final_coop['round']      != 10)]['session_no']\n",
    "\n",
    "pid_c     = data_final_coop[(~np.isinf(data_final_coop['giniLocal']))                        &\n",
    "                            (data_final_coop['coopChoice'] == data_final_coop['coopChoice']) & \n",
    "                            (data_final_coop['giniLocal']  == data_final_coop['giniLocal'])  &\n",
    "                            (data_final_coop['round']      != 10)]['pid']\n",
    "\n",
    "print(len(np.unique(pid_c)))\n",
    "\n",
    "logit = sm.Logit(y, X)\n",
    "logit.fit(cov_type='cluster', cov_kwds={'groups': [session_c, pid_c]}).summary()"
   ]
  },
  {
   "cell_type": "markdown",
   "metadata": {},
   "source": [
    "##### Cooperation ~ local inequality: between-session"
   ]
  },
  {
   "cell_type": "code",
   "execution_count": null,
   "metadata": {
    "scrolled": true
   },
   "outputs": [],
   "source": [
    "y, X = patsy.dmatrices(\n",
    "    'coopChoice ~ giniLocal + C(round)',\n",
    "    session_data_coop[(~np.isinf(session_data_coop['giniLocal'])) & (session_data_coop['version'] == 1)],\n",
    "    return_type = 'dataframe'\n",
    ")\n",
    "\n",
    "session_c = session_data_coop[(~np.isinf(session_data_coop['giniLocal']))                          & \n",
    "                              (session_data_coop['version']    == 1)                               & \n",
    "                              (session_data_coop['coopChoice'] == session_data_coop['coopChoice']) &\n",
    "                              (session_data_coop['giniLocal']  == session_data_coop['giniLocal'])]['session_no']\n",
    "\n",
    "ols = sm.OLS(y, X)\n",
    "ols.fit(cov_type='cluster', cov_kwds={'groups': [session_c]}).summary()"
   ]
  },
  {
   "cell_type": "code",
   "execution_count": null,
   "metadata": {
    "scrolled": true
   },
   "outputs": [],
   "source": [
    "y, X = patsy.dmatrices(\n",
    "    'coopChoice ~ giniLocal + C(round)',\n",
    "    session_data_coop[(~np.isinf(session_data_coop['giniLocal'])) & (session_data_coop['version'] == 2)],\n",
    "    return_type = 'dataframe'\n",
    ")\n",
    "\n",
    "session_c = session_data_coop[(~np.isinf(session_data_coop['giniLocal']))                          & \n",
    "                              (session_data_coop['version']    == 2)                               & \n",
    "                              (session_data_coop['coopChoice'] == session_data_coop['coopChoice']) &\n",
    "                              (session_data_coop['giniLocal']  == session_data_coop['giniLocal'])]['session_no']\n",
    "\n",
    "ols = sm.OLS(y, X)\n",
    "ols.fit(cov_type='cluster', cov_kwds={'groups': [session_c]}).summary()"
   ]
  },
  {
   "cell_type": "code",
   "execution_count": null,
   "metadata": {
    "scrolled": true
   },
   "outputs": [],
   "source": [
    "y, X = patsy.dmatrices(\n",
    "    'coopChoice ~ giniLocal + C(version) + C(round)',\n",
    "    session_data_coop[(~np.isinf(session_data_coop['giniLocal'])) & (data_final_coop['round'] != 10)],\n",
    "    return_type = 'dataframe'\n",
    ")\n",
    "\n",
    "session_c = session_data_coop[(~np.isinf(session_data_coop['giniLocal']))                          & \n",
    "                              (session_data_coop['coopChoice'] == session_data_coop['coopChoice']) &\n",
    "                              (session_data_coop['giniLocal']  == session_data_coop['giniLocal'])  &\n",
    "                              (data_final_coop['round']        != 10)]['session_no']\n",
    "\n",
    "ols = sm.OLS(y, X)\n",
    "ols.fit(cov_type='cluster', cov_kwds={'groups': [session_c]}).summary()"
   ]
  },
  {
   "cell_type": "code",
   "execution_count": null,
   "metadata": {
    "scrolled": true
   },
   "outputs": [],
   "source": [
    "y, X = patsy.dmatrices(\n",
    "    'coopChoice ~ giniLocal * C(version) + C(round)',\n",
    "    session_data_coop[(~np.isinf(session_data_coop['giniLocal'])) & (data_final_coop['round'] != 10)],\n",
    "    return_type = 'dataframe'\n",
    ")\n",
    "\n",
    "session_c = session_data_coop[(~np.isinf(session_data_coop['giniLocal']))                          & \n",
    "                              (session_data_coop['coopChoice'] == session_data_coop['coopChoice']) &\n",
    "                              (session_data_coop['giniLocal']  == session_data_coop['giniLocal'])  &\n",
    "                              (data_final_coop['round']        != 10)]['session_no']\n",
    "\n",
    "ols = sm.OLS(y, X)\n",
    "ols.fit(cov_type='cluster', cov_kwds={'groups': [session_c]}).summary()"
   ]
  },
  {
   "cell_type": "markdown",
   "metadata": {},
   "source": [
    "##### Cooperation ~ local inequality: within-individual"
   ]
  },
  {
   "cell_type": "code",
   "execution_count": null,
   "metadata": {
    "scrolled": true
   },
   "outputs": [],
   "source": [
    "y, X = patsy.dmatrices(\n",
    "    'delta_coopChoice ~ delta_giniLocal + C(round)',\n",
    "    data_within_coop[(~np.isinf(data_within_coop['delta_giniLocal']))],\n",
    "    return_type = 'dataframe'\n",
    ")\n",
    "\n",
    "session_c = data_within_coop[\n",
    "    (~np.isinf(data_within_coop['delta_giniLocal']))                               & \n",
    "    (data_within_coop['delta_coopChoice'] == data_within_coop['delta_coopChoice']) &\n",
    "    (data_within_coop['delta_giniLocal']  == data_within_coop['delta_giniLocal'])\n",
    "]['session_no']\n",
    "\n",
    "pid_c = data_within_coop[\n",
    "    (~np.isinf(data_within_coop['delta_giniLocal']))                               & \n",
    "    (data_within_coop['delta_coopChoice'] == data_within_coop['delta_coopChoice']) &\n",
    "    (data_within_coop['delta_giniLocal']  == data_within_coop['delta_giniLocal'])\n",
    "]['pid']\n",
    "\n",
    "print(len(np.unique(pid_c)))\n",
    "\n",
    "ols = sm.OLS(y, X)\n",
    "ols.fit(cov_type='cluster', cov_kwds={'groups': [session_c, pid_c]}).summary()"
   ]
  },
  {
   "cell_type": "markdown",
   "metadata": {},
   "source": [
    "##### Cooperation ~ local inequality: within-session"
   ]
  },
  {
   "cell_type": "code",
   "execution_count": null,
   "metadata": {
    "scrolled": true
   },
   "outputs": [],
   "source": [
    "y, X = patsy.dmatrices(\n",
    "    'delta_coopChoice ~ delta_giniLocal + C(round)',\n",
    "    session_data_within_coop[(~np.isinf(session_data_within_coop['delta_giniLocal']))],\n",
    "    return_type = 'dataframe'\n",
    ")\n",
    "\n",
    "session_c = session_data_within_coop[\n",
    "    (~np.isinf(session_data_within_coop['delta_giniLocal']))                                       & \n",
    "    (session_data_within_coop['delta_coopChoice'] == session_data_within_coop['delta_coopChoice']) &\n",
    "    (session_data_within_coop['delta_giniLocal']  == session_data_within_coop['delta_giniLocal'])\n",
    "]['session_no']\n",
    "\n",
    "ols = sm.OLS(y, X)\n",
    "ols.fit(cov_type='cluster', cov_kwds={'groups': [session_c]}).summary()"
   ]
  },
  {
   "cell_type": "markdown",
   "metadata": {},
   "source": [
    "##### Add choice ~ local inequality: between-individual"
   ]
  },
  {
   "cell_type": "code",
   "execution_count": null,
   "metadata": {
    "scrolled": true
   },
   "outputs": [],
   "source": [
    "y, X = patsy.dmatrices(\n",
    "    'addChoice ~ giniLocal + C(round)', \n",
    "    data_final[(~np.isinf(data_final['giniLocal'])) & (data_final['round'] < 9) & (data_final['version'] == 1)],\n",
    "    return_type = 'dataframe'\n",
    ")\n",
    "\n",
    "session_c = data_final[(~np.isinf(data_final['giniLocal']))                 &\n",
    "                       (data_final['version']   == 1)                       &\n",
    "                       (data_final['round']     <  9)                       &\n",
    "                       (data_final['addChoice'] == data_final['addChoice']) & \n",
    "                       (data_final['giniLocal'] == data_final['giniLocal'])]['session_no']\n",
    "\n",
    "pid_c     = data_final[(~np.isinf(data_final['giniLocal']))                 &\n",
    "                       (data_final['version']   == 1)                       &\n",
    "                       (data_final['round']     <  9)                       &\n",
    "                       (data_final['addChoice'] == data_final['addChoice']) & \n",
    "                       (data_final['giniLocal'] == data_final['giniLocal'])]['pid']\n",
    "\n",
    "print(len(np.unique(pid_c)))\n",
    "\n",
    "logit = sm.Logit(y, X)\n",
    "logit.fit(cov_type='cluster', cov_kwds={'groups': [session_c, pid_c]}).summary()"
   ]
  },
  {
   "cell_type": "code",
   "execution_count": null,
   "metadata": {
    "scrolled": true
   },
   "outputs": [],
   "source": [
    "y, X = patsy.dmatrices(\n",
    "    'addChoice ~ giniLocal + C(round)', \n",
    "    data_final[(~np.isinf(data_final['giniLocal'])) & (data_final['round'] < 10) & (data_final['version'] == 2)],\n",
    "    return_type = 'dataframe'\n",
    ")\n",
    "\n",
    "session_c = data_final[(~np.isinf(data_final['giniLocal']))                 &\n",
    "                       (data_final['version']   == 2)                       &\n",
    "                       (data_final['round']     <  10)                      &\n",
    "                       (data_final['addChoice'] == data_final['addChoice']) & \n",
    "                       (data_final['giniLocal'] == data_final['giniLocal'])]['session_no']\n",
    "\n",
    "pid_c     = data_final[(~np.isinf(data_final['giniLocal']))                 &\n",
    "                       (data_final['version']   == 2)                       &\n",
    "                       (data_final['round']     <  10)                      &\n",
    "                       (data_final['addChoice'] == data_final['addChoice']) & \n",
    "                       (data_final['giniLocal'] == data_final['giniLocal'])]['pid']\n",
    "\n",
    "print(len(np.unique(pid_c)))\n",
    "\n",
    "logit = sm.Logit(y, X)\n",
    "logit.fit(cov_type='cluster', cov_kwds={'groups': [session_c, pid_c]}).summary()"
   ]
  },
  {
   "cell_type": "code",
   "execution_count": null,
   "metadata": {
    "scrolled": true
   },
   "outputs": [],
   "source": [
    "y, X = patsy.dmatrices(\n",
    "    'addChoice ~ giniLocal + C(version) + C(round)', \n",
    "    data_final[(~np.isinf(data_final['giniLocal'])) & (data_final['round'] < 9)],\n",
    "    return_type = 'dataframe'\n",
    ")\n",
    "\n",
    "session_c = data_final[(~np.isinf(data_final['giniLocal']))                 &\n",
    "                       (data_final['round']     <  9)                       &\n",
    "                       (data_final['addChoice'] == data_final['addChoice']) & \n",
    "                       (data_final['giniLocal'] == data_final['giniLocal'])]['session_no']\n",
    "\n",
    "pid_c     = data_final[(~np.isinf(data_final['giniLocal']))                 &\n",
    "                       (data_final['round']     <  9)                       &\n",
    "                       (data_final['addChoice'] == data_final['addChoice']) & \n",
    "                       (data_final['giniLocal'] == data_final['giniLocal'])]['pid']\n",
    "\n",
    "print(len(np.unique(pid_c)))\n",
    "\n",
    "logit = sm.Logit(y, X)\n",
    "logit.fit(cov_type='cluster', cov_kwds={'groups': [session_c, pid_c]}).summary()"
   ]
  },
  {
   "cell_type": "code",
   "execution_count": null,
   "metadata": {
    "scrolled": true
   },
   "outputs": [],
   "source": [
    "y, X = patsy.dmatrices(\n",
    "    'addChoice ~ giniLocal * C(version) + C(round)', \n",
    "    data_final[(~np.isinf(data_final['giniLocal'])) & (data_final['round'] < 9)],\n",
    "    return_type = 'dataframe'\n",
    ")\n",
    "\n",
    "session_c = data_final[(~np.isinf(data_final['giniLocal']))                 &\n",
    "                       (data_final['round']     <  9)                       &\n",
    "                       (data_final['addChoice'] == data_final['addChoice']) & \n",
    "                       (data_final['giniLocal'] == data_final['giniLocal'])]['session_no']\n",
    "\n",
    "pid_c     = data_final[(~np.isinf(data_final['giniLocal']))                 &\n",
    "                       (data_final['round']     <  9)                       &\n",
    "                       (data_final['addChoice'] == data_final['addChoice']) & \n",
    "                       (data_final['giniLocal'] == data_final['giniLocal'])]['pid']\n",
    "\n",
    "print(len(np.unique(pid_c)))\n",
    "\n",
    "logit = sm.Logit(y, X)\n",
    "logit.fit(cov_type='cluster', cov_kwds={'groups': [session_c, pid_c]}).summary()"
   ]
  },
  {
   "cell_type": "markdown",
   "metadata": {},
   "source": [
    "##### Add choice ~ local inequality: between-session"
   ]
  },
  {
   "cell_type": "code",
   "execution_count": null,
   "metadata": {
    "scrolled": true
   },
   "outputs": [],
   "source": [
    "y, X = patsy.dmatrices(\n",
    "    'addChoice ~ giniLocal + C(round)', \n",
    "    session_data[(~np.isinf(session_data['giniLocal'])) & \n",
    "                 (session_data['round']   < 9)          & \n",
    "                 (session_data['version'] == 1)],\n",
    "    return_type = 'dataframe'\n",
    ")\n",
    "\n",
    "session_c = session_data[(~np.isinf(session_data['giniLocal']))                   &\n",
    "                         (session_data['version']   == 1)                         &\n",
    "                         (session_data['round']     <  9)                         &\n",
    "                         (session_data['addChoice'] == session_data['addChoice']) & \n",
    "                         (session_data['giniLocal'] == session_data['giniLocal'])]['session_no']\n",
    "\n",
    "ols = sm.OLS(y, X)\n",
    "ols.fit(cov_type='cluster', cov_kwds={'groups': [session_c]}).summary()"
   ]
  },
  {
   "cell_type": "code",
   "execution_count": null,
   "metadata": {
    "scrolled": true
   },
   "outputs": [],
   "source": [
    "y, X = patsy.dmatrices(\n",
    "    'addChoice ~ giniLocal + C(round)', \n",
    "    session_data[(~np.isinf(session_data['giniLocal'])) & \n",
    "                 (session_data['round']   <  10)        & \n",
    "                 (session_data['version'] == 2)],\n",
    "    return_type = 'dataframe'\n",
    ")\n",
    "\n",
    "session_c = session_data[(~np.isinf(session_data['giniLocal']))                   &\n",
    "                         (session_data['version']   == 2)                         &\n",
    "                         (session_data['round']     <  10)                        &\n",
    "                         (session_data['addChoice'] == session_data['addChoice']) & \n",
    "                         (session_data['giniLocal'] == session_data['giniLocal'])]['session_no']\n",
    "\n",
    "ols = sm.OLS(y, X)\n",
    "ols.fit(cov_type='cluster', cov_kwds={'groups': [session_c]}).summary()"
   ]
  },
  {
   "cell_type": "code",
   "execution_count": null,
   "metadata": {
    "scrolled": true
   },
   "outputs": [],
   "source": [
    "y, X = patsy.dmatrices(\n",
    "    'addChoice ~ giniLocal + C(version) + C(round)', \n",
    "    session_data[(~np.isinf(session_data['giniLocal'])) & (session_data['round'] < 9)],\n",
    "    return_type = 'dataframe'\n",
    ")\n",
    "\n",
    "session_c = session_data[(~np.isinf(session_data['giniLocal']))                   &\n",
    "                         (session_data['round']     <  9)                         &\n",
    "                         (session_data['addChoice'] == session_data['addChoice']) & \n",
    "                         (session_data['giniLocal'] == session_data['giniLocal'])]['session_no']\n",
    "\n",
    "ols = sm.OLS(y, X)\n",
    "ols.fit(cov_type='cluster', cov_kwds={'groups': [session_c]}).summary()"
   ]
  },
  {
   "cell_type": "code",
   "execution_count": null,
   "metadata": {
    "scrolled": true
   },
   "outputs": [],
   "source": [
    "y, X = patsy.dmatrices(\n",
    "    'addChoice ~ giniLocal * C(version) + C(round)', \n",
    "    session_data[(~np.isinf(session_data['giniLocal'])) & (session_data['round'] < 9)],\n",
    "    return_type = 'dataframe'\n",
    ")\n",
    "\n",
    "session_c = session_data[(~np.isinf(session_data['giniLocal']))                   &\n",
    "                         (session_data['round']     <  9)                         &\n",
    "                         (session_data['addChoice'] == session_data['addChoice']) & \n",
    "                         (session_data['giniLocal'] == session_data['giniLocal'])]['session_no']\n",
    "\n",
    "ols = sm.OLS(y, X)\n",
    "ols.fit(cov_type='cluster', cov_kwds={'groups': [session_c]}).summary()"
   ]
  },
  {
   "cell_type": "markdown",
   "metadata": {},
   "source": [
    "##### Add choice ~ local inequality: within-individual"
   ]
  },
  {
   "cell_type": "code",
   "execution_count": null,
   "metadata": {
    "scrolled": true
   },
   "outputs": [],
   "source": [
    "y, X = patsy.dmatrices(\n",
    "    'delta_addChoice ~ delta_giniLocal + C(round)',\n",
    "    data_within[(~np.isinf(data_within['delta_giniLocal'])) & (data_within['round'] < 9)],\n",
    "    return_type = 'dataframe'\n",
    ")\n",
    "\n",
    "session_c = data_within[\n",
    "    (~np.isinf(data_within['delta_giniLocal']))                        & \n",
    "    (data_within['delta_addChoice'] == data_within['delta_addChoice']) &\n",
    "    (data_within['delta_giniLocal'] == data_within['delta_giniLocal']) & \n",
    "    (data_within['round'] < 9)\n",
    "]['session_no']\n",
    "\n",
    "pid_c = data_within[\n",
    "    (~np.isinf(data_within['delta_giniLocal']))                        & \n",
    "    (data_within['delta_addChoice'] == data_within['delta_addChoice']) &\n",
    "    (data_within['delta_giniLocal'] == data_within['delta_giniLocal']) &\n",
    "    (data_within['round'] < 9)\n",
    "]['pid']\n",
    "\n",
    "print(len(np.unique(pid_c)))\n",
    "\n",
    "ols = sm.OLS(y, X)\n",
    "ols.fit(cov_type='cluster', cov_kwds={'groups': [session_c, pid_c]}).summary()"
   ]
  },
  {
   "cell_type": "markdown",
   "metadata": {},
   "source": [
    "##### Add choice ~ local inequality: within-session"
   ]
  },
  {
   "cell_type": "code",
   "execution_count": null,
   "metadata": {
    "scrolled": true
   },
   "outputs": [],
   "source": [
    "y, X = patsy.dmatrices(\n",
    "    'delta_addChoice ~ delta_giniLocal + C(round)',\n",
    "    session_data_within[(~np.isinf(session_data_within['delta_giniLocal'])) & (session_data_within['round'] < 9)],\n",
    "    return_type = 'dataframe'\n",
    ")\n",
    "\n",
    "session_c = session_data_within[\n",
    "    (~np.isinf(session_data_within['delta_giniLocal']))                                & \n",
    "    (session_data_within['delta_addChoice'] == session_data_within['delta_addChoice']) &\n",
    "    (session_data_within['delta_giniLocal'] == session_data_within['delta_giniLocal']) & \n",
    "    (session_data_within['round'] < 9)\n",
    "]['session_no']\n",
    "\n",
    "ols = sm.OLS(y, X)\n",
    "ols.fit(cov_type='cluster', cov_kwds={'groups': [session_c]}).summary()"
   ]
  },
  {
   "cell_type": "markdown",
   "metadata": {},
   "source": [
    "##### Cut choice ~ local inequality: between-individual"
   ]
  },
  {
   "cell_type": "code",
   "execution_count": null,
   "metadata": {
    "scrolled": true
   },
   "outputs": [],
   "source": [
    "y, X = patsy.dmatrices(\n",
    "    'cutChoice ~ giniLocal + C(round)', \n",
    "    data_final[(~np.isinf(data_final['giniLocal'])) & (data_final['round'] < 9) & (data_final['version'] == 1)],\n",
    "    return_type = 'dataframe'\n",
    ")\n",
    "\n",
    "session_c = data_final[(~np.isinf(data_final['giniLocal']))                 &\n",
    "                       (data_final['version']   == 1)                       &\n",
    "                       (data_final['round']     <  9)                       &\n",
    "                       (data_final['cutChoice'] == data_final['cutChoice']) & \n",
    "                       (data_final['giniLocal'] == data_final['giniLocal'])]['session_no']\n",
    "\n",
    "pid_c     = data_final[(~np.isinf(data_final['giniLocal']))                 &\n",
    "                       (data_final['version']   == 1)                       &\n",
    "                       (data_final['round']     <  9)                       &\n",
    "                       (data_final['cutChoice'] == data_final['cutChoice']) & \n",
    "                       (data_final['giniLocal'] == data_final['giniLocal'])]['pid']\n",
    "\n",
    "print(len(np.unique(pid_c)))\n",
    "\n",
    "logit = sm.Logit(y, X)\n",
    "logit.fit(cov_type='cluster', cov_kwds={'groups': [session_c, pid_c]}).summary()"
   ]
  },
  {
   "cell_type": "code",
   "execution_count": null,
   "metadata": {
    "scrolled": true
   },
   "outputs": [],
   "source": [
    "y, X = patsy.dmatrices(\n",
    "    'cutChoice ~ giniLocal + C(round)', \n",
    "    data_final[(~np.isinf(data_final['giniLocal'])) & (data_final['round'] < 10) & (data_final['version'] == 2)],\n",
    "    return_type = 'dataframe'\n",
    ")\n",
    "\n",
    "session_c = data_final[(~np.isinf(data_final['giniLocal']))                 &\n",
    "                       (data_final['version']   == 2)                       &\n",
    "                       (data_final['round']     <  10)                      &\n",
    "                       (data_final['cutChoice'] == data_final['cutChoice']) & \n",
    "                       (data_final['giniLocal'] == data_final['giniLocal'])]['session_no']\n",
    "\n",
    "pid_c     = data_final[(~np.isinf(data_final['giniLocal']))                 &\n",
    "                       (data_final['version']   == 2)                       &\n",
    "                       (data_final['round']     <  10)                      &\n",
    "                       (data_final['cutChoice'] == data_final['cutChoice']) & \n",
    "                       (data_final['giniLocal'] == data_final['giniLocal'])]['pid']\n",
    "\n",
    "print(len(np.unique(pid_c)))\n",
    "\n",
    "logit = sm.Logit(y, X)\n",
    "logit.fit(cov_type='cluster', cov_kwds={'groups': [session_c, pid_c]}).summary()"
   ]
  },
  {
   "cell_type": "code",
   "execution_count": null,
   "metadata": {
    "scrolled": true
   },
   "outputs": [],
   "source": [
    "y, X = patsy.dmatrices(\n",
    "    'cutChoice ~ giniLocal + C(version) + C(round)', \n",
    "    data_final[(~np.isinf(data_final['giniLocal'])) & (data_final['round'] < 9)],\n",
    "    return_type = 'dataframe'\n",
    ")\n",
    "\n",
    "session_c = data_final[(~np.isinf(data_final['giniLocal']))                 &\n",
    "                       (data_final['round']     <  9)                       &\n",
    "                       (data_final['cutChoice'] == data_final['cutChoice']) & \n",
    "                       (data_final['giniLocal'] == data_final['giniLocal'])]['session_no']\n",
    "\n",
    "pid_c     = data_final[(~np.isinf(data_final['giniLocal']))                 &\n",
    "                       (data_final['round']     <  9)                       &\n",
    "                       (data_final['cutChoice'] == data_final['cutChoice']) & \n",
    "                       (data_final['giniLocal'] == data_final['giniLocal'])]['pid']\n",
    "\n",
    "print(len(np.unique(pid_c)))\n",
    "\n",
    "logit = sm.Logit(y, X)\n",
    "logit.fit(cov_type='cluster', cov_kwds={'groups': [session_c, pid_c]}).summary()"
   ]
  },
  {
   "cell_type": "code",
   "execution_count": null,
   "metadata": {
    "scrolled": true
   },
   "outputs": [],
   "source": [
    "y, X = patsy.dmatrices(\n",
    "    'cutChoice ~ giniLocal * C(version) + C(round)', \n",
    "    data_final[(~np.isinf(data_final['giniLocal'])) & (data_final['round'] < 9)],\n",
    "    return_type = 'dataframe'\n",
    ")\n",
    "\n",
    "session_c = data_final[(~np.isinf(data_final['giniLocal']))                 &\n",
    "                       (data_final['round']     <  9)                       &\n",
    "                       (data_final['cutChoice'] == data_final['cutChoice']) & \n",
    "                       (data_final['giniLocal'] == data_final['giniLocal'])]['session_no']\n",
    "\n",
    "pid_c     = data_final[(~np.isinf(data_final['giniLocal']))                 &\n",
    "                       (data_final['round']     <  9)                       &\n",
    "                       (data_final['cutChoice'] == data_final['cutChoice']) & \n",
    "                       (data_final['giniLocal'] == data_final['giniLocal'])]['pid']\n",
    "\n",
    "print(len(np.unique(pid_c)))\n",
    "\n",
    "logit = sm.Logit(y, X)\n",
    "logit.fit(cov_type='cluster', cov_kwds={'groups': [session_c, pid_c]}).summary()"
   ]
  },
  {
   "cell_type": "markdown",
   "metadata": {},
   "source": [
    "##### Cut choice ~ local inequality: between-session"
   ]
  },
  {
   "cell_type": "code",
   "execution_count": null,
   "metadata": {
    "scrolled": true
   },
   "outputs": [],
   "source": [
    "y, X = patsy.dmatrices(\n",
    "    'cutChoice ~ giniLocal + C(round)', \n",
    "    session_data[(~np.isinf(session_data['giniLocal'])) & \n",
    "                 (session_data['round']   < 9)          & \n",
    "                 (session_data['version'] == 1)],\n",
    "    return_type = 'dataframe'\n",
    ")\n",
    "\n",
    "session_c = session_data[(~np.isinf(session_data['giniLocal']))                   &\n",
    "                         (session_data['version']   == 1)                         &\n",
    "                         (session_data['round']     <  9)                         &\n",
    "                         (session_data['cutChoice'] == session_data['cutChoice']) & \n",
    "                         (session_data['giniLocal'] == session_data['giniLocal'])]['session_no']\n",
    "\n",
    "ols = sm.OLS(y, X)\n",
    "ols.fit(cov_type='cluster', cov_kwds={'groups': [session_c]}).summary()"
   ]
  },
  {
   "cell_type": "code",
   "execution_count": null,
   "metadata": {
    "scrolled": true
   },
   "outputs": [],
   "source": [
    "y, X = patsy.dmatrices(\n",
    "    'cutChoice ~ giniLocal + C(round)', \n",
    "    session_data[(~np.isinf(session_data['giniLocal'])) & \n",
    "                 (session_data['round']   <  10)        & \n",
    "                 (session_data['version'] == 2)],\n",
    "    return_type = 'dataframe'\n",
    ")\n",
    "\n",
    "session_c = session_data[(~np.isinf(session_data['giniLocal']))                   &\n",
    "                         (session_data['version']   == 2)                         &\n",
    "                         (session_data['round']     <  10)                        &\n",
    "                         (session_data['cutChoice'] == session_data['cutChoice']) & \n",
    "                         (session_data['giniLocal'] == session_data['giniLocal'])]['session_no']\n",
    "\n",
    "ols = sm.OLS(y, X)\n",
    "ols.fit(cov_type='cluster', cov_kwds={'groups': [session_c]}).summary()"
   ]
  },
  {
   "cell_type": "code",
   "execution_count": null,
   "metadata": {
    "scrolled": true
   },
   "outputs": [],
   "source": [
    "y, X = patsy.dmatrices(\n",
    "    'cutChoice ~ giniLocal + C(version) + C(round)', \n",
    "    session_data[(~np.isinf(session_data['giniLocal'])) & (session_data['round'] < 9)],\n",
    "    return_type = 'dataframe'\n",
    ")\n",
    "\n",
    "session_c = session_data[(~np.isinf(session_data['giniLocal']))                   &\n",
    "                         (session_data['round']     <  9)                         &\n",
    "                         (session_data['cutChoice'] == session_data['cutChoice']) & \n",
    "                         (session_data['giniLocal'] == session_data['giniLocal'])]['session_no']\n",
    "\n",
    "ols = sm.OLS(y, X)\n",
    "ols.fit(cov_type='cluster', cov_kwds={'groups': [session_c]}).summary()"
   ]
  },
  {
   "cell_type": "code",
   "execution_count": null,
   "metadata": {
    "scrolled": true
   },
   "outputs": [],
   "source": [
    "y, X = patsy.dmatrices(\n",
    "    'cutChoice ~ giniLocal * C(version) + C(round)', \n",
    "    session_data[(~np.isinf(session_data['giniLocal'])) & (session_data['round'] < 9)],\n",
    "    return_type = 'dataframe'\n",
    ")\n",
    "\n",
    "session_c = session_data[(~np.isinf(session_data['giniLocal']))                   &\n",
    "                         (session_data['round']     <  9)                         &\n",
    "                         (session_data['cutChoice'] == session_data['cutChoice']) & \n",
    "                         (session_data['giniLocal'] == session_data['giniLocal'])]['session_no']\n",
    "\n",
    "ols = sm.OLS(y, X)\n",
    "ols.fit(cov_type='cluster', cov_kwds={'groups': [session_c]}).summary()"
   ]
  },
  {
   "cell_type": "markdown",
   "metadata": {},
   "source": [
    "##### Cut choice ~ local inequality: within-individual"
   ]
  },
  {
   "cell_type": "code",
   "execution_count": null,
   "metadata": {
    "scrolled": true
   },
   "outputs": [],
   "source": [
    "y, X = patsy.dmatrices(\n",
    "    'delta_cutChoice ~ delta_giniLocal + C(round)',\n",
    "    data_within[(~np.isinf(data_within['delta_giniLocal'])) & (data_within['round'] < 9)],\n",
    "    return_type = 'dataframe'\n",
    ")\n",
    "\n",
    "session_c = data_within[\n",
    "    (~np.isinf(data_within['delta_giniLocal']))                        & \n",
    "    (data_within['delta_cutChoice'] == data_within['delta_cutChoice']) &\n",
    "    (data_within['delta_giniLocal'] == data_within['delta_giniLocal']) & \n",
    "    (data_within['round'] < 9)\n",
    "]['session_no']\n",
    "\n",
    "pid_c = data_within[\n",
    "    (~np.isinf(data_within['delta_giniLocal']))                        & \n",
    "    (data_within['delta_cutChoice'] == data_within['delta_cutChoice']) &\n",
    "    (data_within['delta_giniLocal'] == data_within['delta_giniLocal']) &\n",
    "    (data_within['round'] < 9)\n",
    "]['pid']\n",
    "\n",
    "print(len(np.unique(pid_c)))\n",
    "\n",
    "ols = sm.OLS(y, X)\n",
    "ols.fit(cov_type='cluster', cov_kwds={'groups': [session_c, pid_c]}).summary()"
   ]
  },
  {
   "cell_type": "markdown",
   "metadata": {},
   "source": [
    "##### Add choice ~ local inequality: within-session"
   ]
  },
  {
   "cell_type": "code",
   "execution_count": null,
   "metadata": {
    "scrolled": true
   },
   "outputs": [],
   "source": [
    "y, X = patsy.dmatrices(\n",
    "    'delta_cutChoice ~ delta_giniLocal + C(round)',\n",
    "    session_data_within[(~np.isinf(session_data_within['delta_giniLocal'])) & (session_data_within['round'] < 9)],\n",
    "    return_type = 'dataframe'\n",
    ")\n",
    "\n",
    "session_c = session_data_within[\n",
    "    (~np.isinf(session_data_within['delta_giniLocal']))                                & \n",
    "    (session_data_within['delta_cutChoice'] == session_data_within['delta_cutChoice']) &\n",
    "    (session_data_within['delta_giniLocal'] == session_data_within['delta_giniLocal']) & \n",
    "    (session_data_within['round'] < 9)\n",
    "]['session_no']\n",
    "\n",
    "ols = sm.OLS(y, X)\n",
    "ols.fit(cov_type='cluster', cov_kwds={'groups': [session_c]}).summary()"
   ]
  },
  {
   "cell_type": "markdown",
   "metadata": {},
   "source": [
    "### Average inequality"
   ]
  },
  {
   "cell_type": "code",
   "execution_count": null,
   "metadata": {
    "scrolled": true
   },
   "outputs": [],
   "source": [
    "print(np.mean(data_final_coop.giniGlobal))\n",
    "print(np.mean(data_final_coop[data_final_coop['giniLocal'] != np.inf].giniLocal))"
   ]
  },
  {
   "cell_type": "code",
   "execution_count": null,
   "metadata": {},
   "outputs": [],
   "source": [
    "data_final_coop.groupby(['round', 'version']).mean()['giniGlobal'].unstack().plot(style = ['-', '--'], \n",
    "                                                                                  color = 'black')\n",
    "plt.xlabel('Round')\n",
    "plt.ylabel('Gini Index (Global)')\n",
    "plt.title('Gini Index (Global) by Round')\n",
    "plt.legend(['1st  PG game', '2nd PG game'])\n",
    "plt.xticks(np.arange(1, 11, step=1))\n",
    "plt.show()"
   ]
  },
  {
   "cell_type": "code",
   "execution_count": null,
   "metadata": {},
   "outputs": [],
   "source": [
    "data_final_coop[data_final_coop['giniLocal'] != np.inf].groupby(\n",
    "    ['round', 'version']).mean()['giniLocal'].unstack().plot(style = ['-', '--'], color = 'black')\n",
    "plt.xlabel('Round')\n",
    "plt.ylabel('Gini Index (Local)')\n",
    "plt.title('Gini Index (Local) by Round')\n",
    "plt.legend(['1st  PG game', '2nd PG game'])\n",
    "plt.xticks(np.arange(1, 11, step=1))\n",
    "plt.show()"
   ]
  },
  {
   "cell_type": "code",
   "execution_count": null,
   "metadata": {
    "scrolled": true
   },
   "outputs": [],
   "source": []
  }
 ],
 "metadata": {
  "kernelspec": {
   "display_name": "Python 3",
   "language": "python",
   "name": "python3"
  },
  "language_info": {
   "codemirror_mode": {
    "name": "ipython",
    "version": 3
   },
   "file_extension": ".py",
   "mimetype": "text/x-python",
   "name": "python",
   "nbconvert_exporter": "python",
   "pygments_lexer": "ipython3",
   "version": "3.7.1"
  }
 },
 "nbformat": 4,
 "nbformat_minor": 2
}
