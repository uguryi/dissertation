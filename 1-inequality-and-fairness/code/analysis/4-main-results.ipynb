{
 "cells": [
  {
   "cell_type": "markdown",
   "metadata": {},
   "source": [
    "### Import necessary libraries, set options"
   ]
  },
  {
   "cell_type": "code",
   "execution_count": null,
   "metadata": {},
   "outputs": [],
   "source": [
    "import matplotlib.pyplot as plt\n",
    "import numpy as np\n",
    "import os\n",
    "import pandas as pd\n",
    "import patsy\n",
    "import re\n",
    "import seaborn as sns\n",
    "import statsmodels.api as sm\n",
    "import warnings\n",
    "\n",
    "from statsmodels.formula.api import glm\n",
    "\n",
    "pd.set_option('display.max_columns', 125)\n",
    "warnings.filterwarnings(\"ignore\")"
   ]
  },
  {
   "cell_type": "markdown",
   "metadata": {},
   "source": [
    "### Read in pickled datasets"
   ]
  },
  {
   "cell_type": "code",
   "execution_count": null,
   "metadata": {},
   "outputs": [],
   "source": [
    "path_to_diss = os.path.join(\"path/to/dissertation/chapter\")\n",
    "\n",
    "path_to_data = os.path.join(path_to_diss, \"path/to/data/processed-data\")"
   ]
  },
  {
   "cell_type": "markdown",
   "metadata": {},
   "source": [
    "##### Between-individual"
   ]
  },
  {
   "cell_type": "code",
   "execution_count": null,
   "metadata": {
    "scrolled": true
   },
   "outputs": [],
   "source": [
    "data_final_coop = pd.read_pickle(path_to_data + \"/pkl/data_final_coop.pkl\")\n",
    "print(len(data_final_coop))\n",
    "data_final_coop.head()"
   ]
  },
  {
   "cell_type": "code",
   "execution_count": null,
   "metadata": {
    "scrolled": true
   },
   "outputs": [],
   "source": [
    "data_pid_version = pd.read_pickle(path_to_data + \"/pkl/data_pid_version.pkl\")\n",
    "print(len(data_pid_version))\n",
    "data_pid_version.head()"
   ]
  },
  {
   "cell_type": "markdown",
   "metadata": {},
   "source": [
    "##### Within-individual"
   ]
  },
  {
   "cell_type": "code",
   "execution_count": null,
   "metadata": {
    "scrolled": false
   },
   "outputs": [],
   "source": [
    "data_within_coop = pd.read_pickle(path_to_data + \"/pkl/data_within_coop.pkl\")\n",
    "print(len(data_within_coop))\n",
    "data_within_coop.head()"
   ]
  },
  {
   "cell_type": "code",
   "execution_count": null,
   "metadata": {
    "scrolled": false
   },
   "outputs": [],
   "source": [
    "data_within_pid = pd.read_pickle(path_to_data + \"/pkl/data_within_pid.pkl\")\n",
    "print(len(data_within_pid))\n",
    "data_within_pid.head()"
   ]
  },
  {
   "cell_type": "markdown",
   "metadata": {},
   "source": [
    "### Generate within-subjects interaction term"
   ]
  },
  {
   "cell_type": "code",
   "execution_count": null,
   "metadata": {},
   "outputs": [],
   "source": [
    "data_within_pid['game1_int'] = data_within_pid['earned_v1'] * data_within_pid['equal_v1']\n",
    "data_within_pid['game2_int'] = data_within_pid['earned_v2'] * data_within_pid['equal_v2']\n",
    "data_within_pid['delta_int'] = data_within_pid['game2_int'] - data_within_pid['game1_int']"
   ]
  },
  {
   "cell_type": "code",
   "execution_count": null,
   "metadata": {},
   "outputs": [],
   "source": [
    "data_within_coop['game1_int'] = data_within_coop['earned_v1'] * data_within_coop['equal_v1']\n",
    "data_within_coop['game2_int'] = data_within_coop['earned_v2'] * data_within_coop['equal_v2']\n",
    "data_within_coop['delta_int'] = data_within_coop['game2_int'] - data_within_coop['game1_int']"
   ]
  },
  {
   "cell_type": "markdown",
   "metadata": {},
   "source": [
    "### Results"
   ]
  },
  {
   "cell_type": "markdown",
   "metadata": {},
   "source": [
    "##### Fairness perceptions model"
   ]
  },
  {
   "cell_type": "code",
   "execution_count": null,
   "metadata": {
    "scrolled": true
   },
   "outputs": [],
   "source": [
    "y, X = patsy.dmatrices(\n",
    "    'delta_f_score ~ delta_earned + delta_equal + delta_int', \n",
    "    # 'delta_f_score ~ delta_earned * delta_equal'\n",
    "    data_within_pid,\n",
    "    return_type = 'dataframe'\n",
    ")\n",
    "\n",
    "session_c = data_within_pid[(data_within_pid['delta_f_score'] == data_within_pid['delta_f_score']) &\n",
    "                            (data_within_pid['delta_earned']  == data_within_pid['delta_earned'])  &\n",
    "                            (data_within_pid['delta_equal']   == data_within_pid['delta_equal'])]['session_no']\n",
    "\n",
    "ols = sm.OLS(y, X)\n",
    "ols.fit(cov_type='cluster', cov_kwds={'groups': [session_c]}).summary()"
   ]
  },
  {
   "cell_type": "markdown",
   "metadata": {},
   "source": [
    "##### Cooperation patterns model"
   ]
  },
  {
   "cell_type": "code",
   "execution_count": null,
   "metadata": {
    "scrolled": true
   },
   "outputs": [],
   "source": [
    "y, X = patsy.dmatrices(\n",
    "    'delta_coopChoice ~ delta_earned + delta_equal + delta_int + C(round)', \n",
    "    # 'delta_coopChoice ~ delta_earned * delta_equal + C(round)'\n",
    "    data_within_coop,\n",
    "    return_type = 'dataframe'\n",
    ")\n",
    "\n",
    "session_c = data_within_coop[(data_within_coop['round']            == data_within_coop['round'])            &\n",
    "                             (data_within_coop['delta_coopChoice'] == data_within_coop['delta_coopChoice']) &\n",
    "                             (data_within_coop['delta_earned']     == data_within_coop['delta_earned'])     &\n",
    "                             (data_within_coop['delta_equal']      == data_within_coop['delta_equal'])]['session_no']\n",
    "\n",
    "pid_c     = data_within_coop[(data_within_coop['round']            == data_within_coop['round'])            &\n",
    "                             (data_within_coop['delta_coopChoice'] == data_within_coop['delta_coopChoice']) &\n",
    "                             (data_within_coop['delta_earned']     == data_within_coop['delta_earned'])     &\n",
    "                             (data_within_coop['delta_equal']      == data_within_coop['delta_equal'])]['pid']\n",
    "\n",
    "ols = sm.OLS(y, X)\n",
    "ols.fit(cov_type='cluster', cov_kwds={'groups': [session_c, pid_c]}).summary()"
   ]
  },
  {
   "cell_type": "markdown",
   "metadata": {},
   "source": [
    "##### Instrumental variable model"
   ]
  },
  {
   "cell_type": "code",
   "execution_count": null,
   "metadata": {
    "scrolled": false
   },
   "outputs": [],
   "source": [
    "y, X = patsy.dmatrices(\n",
    "    'delta_f_score ~ delta_earned + delta_equal + delta_int', \n",
    "    # 'delta_f_score ~ delta_earned * delta_equal'\n",
    "    data_within_pid,\n",
    "    return_type = 'dataframe'\n",
    ")\n",
    "\n",
    "session_c = data_within_pid[(data_within_pid['delta_f_score'] == data_within_pid['delta_f_score']) &\n",
    "                            (data_within_pid['delta_earned']  == data_within_pid['delta_earned'])  &\n",
    "                            (data_within_pid['delta_equal']   == data_within_pid['delta_equal'])]['session_no']\n",
    "\n",
    "ols = sm.OLS(y, X)\n",
    "ols_res = ols.fit(cov_type='cluster', cov_kwds={'groups': [session_c]})\n",
    "\n",
    "data_within_pid['ols_preds'] = ols_res.predict(X)\n",
    "\n",
    "print(data_within_pid.shape)\n",
    "data_within_pid.head()"
   ]
  },
  {
   "cell_type": "code",
   "execution_count": null,
   "metadata": {
    "scrolled": true
   },
   "outputs": [],
   "source": [
    "print(data_within_coop.shape)\n",
    "data_within_coop.head()"
   ]
  },
  {
   "cell_type": "code",
   "execution_count": null,
   "metadata": {
    "scrolled": true
   },
   "outputs": [],
   "source": [
    "df = data_within_coop.merge(data_within_pid[['session_no', 'pid', 'ols_preds']], \n",
    "                            on = ['session_no', 'pid'])\n",
    "\n",
    "print(df.shape)\n",
    "df.head()"
   ]
  },
  {
   "cell_type": "code",
   "execution_count": null,
   "metadata": {
    "scrolled": true
   },
   "outputs": [],
   "source": [
    "y, X = patsy.dmatrices('delta_coopChoice ~ ols_preds + C(round)', df, return_type = 'dataframe')\n",
    "\n",
    "session_c = df[(df['round']            == df['round'])            &\n",
    "               (df['delta_coopChoice'] == df['delta_coopChoice']) &\n",
    "               (df['ols_preds']        == df['ols_preds'])]['session_no']\n",
    "\n",
    "pid_c     = df[(df['round']            == df['round'])            &\n",
    "               (df['delta_coopChoice'] == df['delta_coopChoice']) &\n",
    "               (df['ols_preds']        == df['ols_preds'])]['pid']\n",
    "\n",
    "ols = sm.OLS(y, X)\n",
    "ols.fit(cov_type='cluster', cov_kwds={'groups': [session_c, pid_c]}).summary()"
   ]
  },
  {
   "cell_type": "markdown",
   "metadata": {},
   "source": [
    "##### Figure: heatmaps"
   ]
  },
  {
   "cell_type": "code",
   "execution_count": null,
   "metadata": {},
   "outputs": [],
   "source": [
    "def get_condition_pairs(row):\n",
    "    if   row.condition_v1 == 'ru' and row.condition_v2 == 'ru': return 'RU to RU'\n",
    "    elif row.condition_v1 == 'ru' and row.condition_v2 == 'ee': return 'RU to EE'\n",
    "    elif row.condition_v1 == 'ru' and row.condition_v2 == 're': return 'RU to RE'\n",
    "    elif row.condition_v1 == 'ru' and row.condition_v2 == 'eu': return 'RU to EU'\n",
    "    elif row.condition_v1 == 'ee' and row.condition_v2 == 'ru': return 'EE to RU'\n",
    "    elif row.condition_v1 == 'ee' and row.condition_v2 == 'ee': return 'EE to EE'\n",
    "    elif row.condition_v1 == 'ee' and row.condition_v2 == 're': return 'EE to RE'\n",
    "    elif row.condition_v1 == 'ee' and row.condition_v2 == 'eu': return 'EE to EU'\n",
    "    elif row.condition_v1 == 're' and row.condition_v2 == 'ru': return 'RE to RU'\n",
    "    elif row.condition_v1 == 're' and row.condition_v2 == 'ee': return 'RE to EE'\n",
    "    elif row.condition_v1 == 're' and row.condition_v2 == 're': return 'RE to RE'\n",
    "    elif row.condition_v1 == 're' and row.condition_v2 == 'eu': return 'RE to EU'\n",
    "    elif row.condition_v1 == 'eu' and row.condition_v2 == 'ru': return 'EU to RU'\n",
    "    elif row.condition_v1 == 'eu' and row.condition_v2 == 'ee': return 'EU to EE'\n",
    "    elif row.condition_v1 == 'eu' and row.condition_v2 == 're': return 'EU to RE'\n",
    "    elif row.condition_v1 == 'eu' and row.condition_v2 == 'eu': return 'EU to EU'\n",
    "    \n",
    "def get_change_in_f_score(row):\n",
    "    return row.f_score_v2 - row.f_score_v1\n",
    "\n",
    "def get_change_in_cooperation(row):\n",
    "    return row.coopChoice_v2 - row.coopChoice_v1"
   ]
  },
  {
   "cell_type": "code",
   "execution_count": null,
   "metadata": {
    "scrolled": true
   },
   "outputs": [],
   "source": [
    "# Fairness model\n",
    "\n",
    "temp = data_pid_version[['session_no', 'pid', 'version', 'condition', 'f_score']]\n",
    "\n",
    "v1 = temp[temp['version'] == 1]\n",
    "v2 = temp[temp['version'] == 2]\n",
    "\n",
    "df = v1.merge(v2, on = ['session_no', 'pid'], suffixes = [\"_v1\", \"_v2\"])\n",
    "\n",
    "df = df[['session_no', 'pid', 'condition_v1', 'condition_v2', 'f_score_v1', 'f_score_v2']]\n",
    "\n",
    "df['condition_pair']    = df.apply(get_condition_pairs,   axis = 1)\n",
    "df['change_in_f_score'] = df.apply(get_change_in_f_score, axis = 1)\n",
    "\n",
    "#y, X = patsy.dmatrices('change_in_f_score ~ C(condition_pair) - 1', df, return_type = 'dataframe')\n",
    "\n",
    "mod = glm(\"change_in_f_score ~ C(condition_pair) - 1\", data = df)\n",
    "\n",
    "session_c = df[(df['change_in_f_score'] == df['change_in_f_score']) &\n",
    "               (df['condition_pair']    == df['condition_pair'])]['session_no']\n",
    "\n",
    "#ols = sm.OLS(y, X)\n",
    "#ols.fit(cov_type = 'cluster', cov_kwds = {'groups': [session_c]}).summary()\n",
    "\n",
    "mod.fit_constrained(\n",
    "    'C(condition_pair)[RU to RU] + C(condition_pair)[RU to EE]  + \\\n",
    "     C(condition_pair)[RU to RE] + C(condition_pair)[RU to EU]  + \\\n",
    "     C(condition_pair)[EE to RU] + C(condition_pair)[EE to EE]  + \\\n",
    "     C(condition_pair)[EE to RE] + C(condition_pair)[EE to EU]  + \\\n",
    "     C(condition_pair)[RE to RU] + C(condition_pair)[RE to EE] + \\\n",
    "     C(condition_pair)[RE to RE] + C(condition_pair)[RE to EU] + \\\n",
    "     C(condition_pair)[EU to RU] + C(condition_pair)[EU to EE] + \\\n",
    "     C(condition_pair)[EU to RE] + C(condition_pair)[EU to EU]',\n",
    "    cov_type = 'cluster', cov_kwds = {'groups': [session_c]}).summary()"
   ]
  },
  {
   "cell_type": "code",
   "execution_count": null,
   "metadata": {
    "scrolled": true
   },
   "outputs": [],
   "source": [
    "# Cooperation model\n",
    "\n",
    "temp = data_final_coop[['session_no', 'pid', 'version', 'condition', 'round', 'coopChoice']]\n",
    "\n",
    "v1 = temp[temp['version'] == 1]\n",
    "v2 = temp[temp['version'] == 2]\n",
    "\n",
    "df = v1.merge(v2, on = ['session_no', 'pid', 'round'], suffixes = [\"_v1\", \"_v2\"])\n",
    "\n",
    "df = df[['session_no', 'pid', 'round', 'condition_v1', 'condition_v2', 'coopChoice_v1', 'coopChoice_v2']]\n",
    "\n",
    "df['condition_pair']        = df.apply(get_condition_pairs,       axis = 1)\n",
    "df['change_in_cooperation'] = df.apply(get_change_in_cooperation, axis = 1)\n",
    "\n",
    "mod = glm(\"change_in_cooperation ~ C(condition_pair) + C(round) - 1\", data = df)\n",
    "\n",
    "session_c = df[(df['change_in_cooperation'] == df['change_in_cooperation']) &\n",
    "               (df['condition_pair']        == df['condition_pair'])        &\n",
    "               (df['round']                 == df['round'])]['session_no']\n",
    "\n",
    "pid_c     = df[(df['change_in_cooperation'] == df['change_in_cooperation']) &\n",
    "               (df['condition_pair']        == df['condition_pair'])        &\n",
    "               (df['round']                 == df['round'])]['pid']\n",
    "\n",
    "mod.fit_constrained(\n",
    "    'C(condition_pair)[RU to RU] + C(condition_pair)[RU to EE]  + \\\n",
    "     C(condition_pair)[RU to RE] + C(condition_pair)[RU to EU]  + \\\n",
    "     C(condition_pair)[EE to RU] + C(condition_pair)[EE to EE]  + \\\n",
    "     C(condition_pair)[EE to RE] + C(condition_pair)[EE to EU]  + \\\n",
    "     C(condition_pair)[RE to RU] + C(condition_pair)[RE to EE] + \\\n",
    "     C(condition_pair)[RE to RE] + C(condition_pair)[RE to EU] + \\\n",
    "     C(condition_pair)[EU to RU] + C(condition_pair)[EU to EE] + \\\n",
    "     C(condition_pair)[EU to RE] + C(condition_pair)[EU to EU]',\n",
    "    cov_type = 'cluster', cov_kwds = {'groups': [session_c, pid_c]}).summary()"
   ]
  },
  {
   "cell_type": "code",
   "execution_count": null,
   "metadata": {},
   "outputs": [],
   "source": [
    "fig, ax = plt.subplots(1, 2, figsize = (12, 7.5))\n",
    "\n",
    "#                   RU       EE       RE       EU\n",
    "array = np.array([[ 0.3656,  0.1678,  0.4307,  1.4473],  # RU\n",
    "                  [-0.2489, -0.0363,  0.1452,  1.3979],  # EE\n",
    "                  [-0.4668, -0.4772,  0.4768,  0.6760],  # RE\n",
    "                  [-1.3072, -1.1365, -1.0854, -0.3490]]) # EU\n",
    "\n",
    "# annot = np.array([[\"p=0.058\", \"\",        \"\",        \"p<0.001\"],\n",
    "#                   [\"\",        \"\",        \"\",        \"p<0.001\"],\n",
    "#                   [\"\",        \"p=0.023\", \"p=0.029\", \"p=0.002\"],\n",
    "#                   [\"p<0.001\", \"p<0.001\", \"p<0.001\", \"\"       ]])\n",
    "\n",
    "annot = np.array([[\"\", \"\", \"\", \"\"],\n",
    "                  [\"\", \"\", \"\", \"\"],\n",
    "                  [\"\", \"\", \"\", \"\"],\n",
    "                  [\"\", \"\", \"\", \"\"]])\n",
    "\n",
    "sns.heatmap(array,\n",
    "            vmin = -1.7,\n",
    "            vmax =  1.7,\n",
    "            annot = annot,\n",
    "            fmt = '',\n",
    "            cbar_kws={'label': 'Change in perceived fairness score',\n",
    "                      'orientation': 'horizontal'},\n",
    "            cmap = \"RdBu_r\",\n",
    "            ax = ax[0])\n",
    "\n",
    "ax[0].set_xticklabels([\"RU\", \"EE\", \"RE\", \"EU\"])\n",
    "ax[0].set_yticklabels([\"RU\", \"EE\", \"RE\", \"EU\"], rotation = 0)\n",
    "ax[0].set_xlabel(\"Second game\")\n",
    "ax[0].set_ylabel(\"First game\")\n",
    "ax[0].set_title(\"Fairness\")\n",
    "\n",
    "#                   RU       EE       RE       EU\n",
    "array = np.array([[ 0.0332, -0.0404, -0.0230, -0.0192],  # RU\n",
    "                  [ 0.0510, -0.0232, -0.0014, -0.0266],  # EE\n",
    "                  [ 0.0103, -0.0888,  0.0175, -0.0174],  # RE\n",
    "                  [ 0.0016,  0.0674,  0.0588,  0.0002]]) # EU\n",
    "\n",
    "# #                   RU       EE       RE       EU\n",
    "# array = np.array([[ 3.32, -4.04, -2.30, -1.92],  # RU\n",
    "#                   [ 5.10, -2.32, -0.14, -2.66],  # EE\n",
    "#                   [ 1.03, -8.88,  1.75, -1.74],  # RE\n",
    "#                   [ 0.16,  6.74,  5.88,  0.02]]) # EU\n",
    "\n",
    "# annot = np.array([[\"\", \"p=0.072\", \"\",        \"\"],\n",
    "#                   [\"\", \"\",        \"\",        \"\"],\n",
    "#                   [\"\", \"p=0.005\", \"\",        \"\"],\n",
    "#                   [\"\", \"p=0.019\", \"p=0.100\", \"\"]])\n",
    "\n",
    "annot = np.array([[\"\", \"\", \"\", \"\"],\n",
    "                  [\"\", \"\", \"\", \"\"],\n",
    "                  [\"\", \"\", \"\", \"\"],\n",
    "                  [\"\", \"\", \"\", \"\"]])\n",
    "\n",
    "sns.heatmap(array,\n",
    "            vmin = -0.08, # -8\n",
    "            vmax =  0.08, #  8\n",
    "            annot = annot,\n",
    "            fmt = '',\n",
    "            cbar_kws={'label': 'Change in probability of cooperating', \n",
    "                      'orientation': 'horizontal'},\n",
    "            cmap = \"RdBu_r\",\n",
    "            ax = ax[1])\n",
    "ax[1].set_xticklabels([\"RU\", \"EE\", \"RE\", \"EU\"])\n",
    "ax[1].set_yticklabels([\"RU\", \"EE\", \"RE\", \"EU\"], rotation = 0)\n",
    "ax[1].set_xlabel(\"Second game\")\n",
    "ax[1].set_ylabel(\"First game\")\n",
    "ax[1].set_title(\"Cooperation\")\n",
    "\n",
    "fig.savefig(os.path.join(path_to_diss, \"paper/figures/figure2.png\"), bbox_inches = 'tight', pad_inches = 0.25)"
   ]
  },
  {
   "cell_type": "markdown",
   "metadata": {},
   "source": [
    "##### Figure: coefficient estimates "
   ]
  },
  {
   "cell_type": "code",
   "execution_count": null,
   "metadata": {},
   "outputs": [],
   "source": [
    "fig, ax = plt.subplots(1, 2, figsize = (15, 5), constrained_layout=True)\n",
    "\n",
    "# Fairness\n",
    "data = [['delta(Earned)',                 1.3859, 0.131*1.96],\n",
    "        ['delta(Equal)',                  0.4816, 0.143*1.96],\n",
    "        ['delta(Earned) x delta(Equal)', -1.7060, 0.175*1.96]]\n",
    "\n",
    "data = pd.DataFrame(data, columns = ['Coefficient', 'Estimate', 'Standard Error']) \n",
    "\n",
    "sns.pointplot('Estimate', 'Coefficient', data=data, \n",
    "              dodge=True, join=False, ci=None, ax = ax[0], color='black', scale=0.75)\n",
    "\n",
    "x_coords = []\n",
    "y_coords = []\n",
    "for point_pair in ax[0].collections:\n",
    "    for x, y in point_pair.get_offsets():\n",
    "        x_coords.append(x)\n",
    "        y_coords.append(y)\n",
    "        \n",
    "ax[0].errorbar(x_coords, y_coords, xerr=data['Standard Error'], fmt=' ', zorder=-1, capsize=5, color='black')\n",
    "\n",
    "ax[0].set_ylabel(\"\")\n",
    "ax[0].set_yticklabels([r\"$\\Delta$ Earned\", r\"$\\Delta$ Equal\", r\"$\\Delta$ Earned x $\\Delta$ Equal\"])\n",
    "ax[0].axvline(0, linewidth=1, color='r', linestyle='--')\n",
    "ax[0].set(xlim=(-2.5, 2.5))\n",
    "ax[0].set_title(\"Fairness\")\n",
    "ax[0].xaxis.grid(True)\n",
    "ax[0].yaxis.grid(True)\n",
    "ax[0].xaxis.set_ticks(np.arange(-2, 3, 1))\n",
    "\n",
    "# Cooperation\n",
    "data = [['delta(Earned)',                -0.0415, 0.016*1.96],\n",
    "        ['delta(Equal)',                 -0.0024, 0.016*1.96],\n",
    "        ['delta(Earned) x delta(Equal)',  0.0147, 0.023*1.96]]\n",
    "\n",
    "data = pd.DataFrame(data, columns = ['Coefficient', 'Estimate', 'Standard Error']) \n",
    "\n",
    "sns.pointplot('Estimate', 'Coefficient', data=data, \n",
    "              dodge=True, join=False, ci=None, ax = ax[1], color='black', scale=0.75)\n",
    "\n",
    "x_coords = []\n",
    "y_coords = []\n",
    "for point_pair in ax[1].collections:\n",
    "    for x, y in point_pair.get_offsets():\n",
    "        x_coords.append(x)\n",
    "        y_coords.append(y)\n",
    "        \n",
    "ax[1].errorbar(x_coords, y_coords, xerr=data['Standard Error'], fmt=' ', zorder=-1, capsize=5, color='black')\n",
    "\n",
    "ax[1].set_ylabel(\"\")\n",
    "ax[1].set_yticklabels([r\"$\\Delta$ Earned\", r\"$\\Delta$ Equal\", r\"$\\Delta$ Earned x $\\Delta$ Equal\"])\n",
    "ax[1].axvline(0, linewidth=1, color='r', linestyle='--')\n",
    "ax[1].set(xlim=(-0.075, 0.075))\n",
    "ax[1].set_title(\"Cooperation\")\n",
    "ax[1].xaxis.grid(True)\n",
    "ax[1].yaxis.grid(True)\n",
    "ax[1].xaxis.set_ticks(np.arange(-0.06, 0.09, 0.03))\n",
    "\n",
    "sns.set_style(\"whitegrid\")\n",
    "\n",
    "fig.savefig(os.path.join(path_to_diss, \"paper/figures/figure3-python.png\"), bbox_inches = 'tight', pad_inches = 0.25)"
   ]
  },
  {
   "cell_type": "code",
   "execution_count": null,
   "metadata": {},
   "outputs": [],
   "source": []
  }
 ],
 "metadata": {
  "kernelspec": {
   "display_name": "Python 3",
   "language": "python",
   "name": "python3"
  },
  "language_info": {
   "codemirror_mode": {
    "name": "ipython",
    "version": 3
   },
   "file_extension": ".py",
   "mimetype": "text/x-python",
   "name": "python",
   "nbconvert_exporter": "python",
   "pygments_lexer": "ipython3",
   "version": "3.7.1"
  }
 },
 "nbformat": 4,
 "nbformat_minor": 2
}
