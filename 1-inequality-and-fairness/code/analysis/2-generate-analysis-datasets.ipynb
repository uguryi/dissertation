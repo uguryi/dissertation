{
 "cells": [
  {
   "cell_type": "markdown",
   "metadata": {},
   "source": [
    "### Import necessary libraries, set options"
   ]
  },
  {
   "cell_type": "code",
   "execution_count": null,
   "metadata": {},
   "outputs": [],
   "source": [
    "import numpy as np\n",
    "import os\n",
    "import pandas as pd\n",
    "import warnings\n",
    "\n",
    "pd.set_option('display.max_columns', 125)\n",
    "warnings.filterwarnings(\"ignore\")"
   ]
  },
  {
   "cell_type": "markdown",
   "metadata": {},
   "source": [
    "### Between-individual"
   ]
  },
  {
   "cell_type": "code",
   "execution_count": null,
   "metadata": {
    "scrolled": true
   },
   "outputs": [],
   "source": [
    "path_to_data = os.path.join(\"path/to/data/processed-data\")\n",
    "\n",
    "data_final = pd.read_pickle(path_to_data + \"/pkl/data_final.pkl\")\n",
    "print(len(data_final))\n",
    "data_final.head()"
   ]
  },
  {
   "cell_type": "code",
   "execution_count": null,
   "metadata": {
    "scrolled": true
   },
   "outputs": [],
   "source": [
    "data_final_coop = data_final.drop_duplicates(subset = [\"session_no\", \n",
    "                                                       \"pid\", \n",
    "                                                       \"version\",\n",
    "                                                       \"round\"], keep = \"first\").reset_index(drop = True)\n",
    "\n",
    "data_final_coop.to_pickle(path_to_data + \"/pkl/data_final_coop.pkl\")\n",
    "data_final_coop.to_csv(path_to_data + \"/csv/data_final_coop.csv\")\n",
    "\n",
    "print(len(data_final))\n",
    "print(len(data_final_coop))\n",
    "\n",
    "data_final_coop.head()"
   ]
  },
  {
   "cell_type": "code",
   "execution_count": null,
   "metadata": {
    "scrolled": true
   },
   "outputs": [],
   "source": [
    "data_pid_version = data_final.drop_duplicates(subset = [\"pid\", \"version\"], keep = \"first\").reset_index(drop = True)\n",
    "\n",
    "data_pid_version.to_pickle(path_to_data + \"/pkl/data_pid_version.pkl\")\n",
    "data_pid_version.to_csv(path_to_data + \"/csv/data_pid_version.csv\")\n",
    "\n",
    "print(len(data_final))\n",
    "print(len(data_pid_version))\n",
    "\n",
    "data_pid_version.head()"
   ]
  },
  {
   "cell_type": "code",
   "execution_count": null,
   "metadata": {
    "scrolled": true
   },
   "outputs": [],
   "source": [
    "data_pid = data_final.drop_duplicates(subset = \"pid\", keep = \"first\").reset_index(drop = True)\n",
    "\n",
    "data_pid.to_pickle(path_to_data + \"/pkl/data_pid.pkl\")\n",
    "data_pid.to_csv(path_to_data + \"/csv/data_pid.csv\")\n",
    "\n",
    "print(len(data_final))\n",
    "print(len(data_pid))\n",
    "\n",
    "data_pid.head()"
   ]
  },
  {
   "cell_type": "markdown",
   "metadata": {},
   "source": [
    "### Between-session"
   ]
  },
  {
   "cell_type": "code",
   "execution_count": null,
   "metadata": {},
   "outputs": [],
   "source": [
    "session_data = data_final.groupby(['session_no', \n",
    "                                   'version', \n",
    "                                   'round']).mean()[['earned', 'equal',\n",
    "                                                     'addChoice', 'cutChoice',\n",
    "                                                     'num_players',\n",
    "                                                     'coopChoiceAlter_add',\n",
    "                                                     'coopChoiceAlter_cut',\n",
    "                                                     'giniLocal']].reset_index()\n",
    "\n",
    "session_data.to_pickle(path_to_data + \"/pkl/session_data.pkl\")\n",
    "session_data.to_csv(path_to_data + \"/csv/session_data.csv\")\n",
    "\n",
    "print(len(session_data))\n",
    "\n",
    "session_data.head()"
   ]
  },
  {
   "cell_type": "code",
   "execution_count": null,
   "metadata": {},
   "outputs": [],
   "source": [
    "session_data_coop = data_final_coop.groupby(['session_no', \n",
    "                                             'version', \n",
    "                                             'round']).mean()[['earned', 'equal', \n",
    "                                                               'coopChoice',\n",
    "                                                               'num_players',\n",
    "                                                               'scoreBeforeCoop',\n",
    "                                                               'giniLocal']].reset_index()\n",
    "\n",
    "session_data_coop.to_pickle(path_to_data + \"/pkl/session_data_coop.pkl\")\n",
    "session_data_coop.to_csv(path_to_data + \"/csv/session_data_coop.csv\")\n",
    "\n",
    "print(len(session_data_coop))\n",
    "\n",
    "session_data_coop.head()"
   ]
  },
  {
   "cell_type": "code",
   "execution_count": null,
   "metadata": {},
   "outputs": [],
   "source": [
    "session_data_pid_version = data_pid_version.groupby(['session_no', \n",
    "                                                     'version']).mean()[['earned', 'equal', \n",
    "                                                                         'f_score', 'trust_score',\n",
    "                                                                         'num_players',\n",
    "                                                                         'change_in_score']].reset_index()\n",
    "\n",
    "session_data_pid_version.to_pickle(path_to_data + \"/pkl/session_data_pid_version.pkl\")\n",
    "session_data_pid_version.to_csv(path_to_data + \"/csv/session_data_pid_version.csv\")\n",
    "\n",
    "print(len(session_data_pid_version))\n",
    "\n",
    "session_data_pid_version.head()"
   ]
  },
  {
   "cell_type": "markdown",
   "metadata": {},
   "source": [
    "### Within-individual"
   ]
  },
  {
   "cell_type": "code",
   "execution_count": null,
   "metadata": {},
   "outputs": [],
   "source": [
    "vars_to_join_on = [\"session_no\", \"pid\"]"
   ]
  },
  {
   "cell_type": "code",
   "execution_count": null,
   "metadata": {},
   "outputs": [],
   "source": [
    "player_vars = [\n",
    "    \"score1\",\n",
    "    \"more_fair\", \"prefer\",\n",
    "    \"why_coop_list\", \"why_coop_other\",\n",
    "    \"num_other\", \"age\", \"gender\", \"race\", \"education\", \"income\", \"politics\",\n",
    "    \"country\", \"ip_to_country\"\n",
    "]"
   ]
  },
  {
   "cell_type": "code",
   "execution_count": null,
   "metadata": {
    "scrolled": true
   },
   "outputs": [],
   "source": [
    "data_within_player = data_final[vars_to_join_on + player_vars]\n",
    "data_within_player = data_within_player.drop_duplicates(subset = \"pid\", keep = \"first\").reset_index(drop = True)\n",
    "\n",
    "print(len(data_within_player))\n",
    "data_within_player.head()"
   ]
  },
  {
   "cell_type": "code",
   "execution_count": null,
   "metadata": {},
   "outputs": [],
   "source": [
    "round_vars = [\n",
    "    \"round\",\n",
    "    \"version\",\n",
    "    \"earned\", \"equal\", \"condition\",\n",
    "    \"coopChoice\", \"scoreBeforeCoop\",\n",
    "    \"addChoice\", \"scoreEgo_add\", \"scoreAlter_add\", \"coopChoiceEgo_add\", \"coopChoiceAlter_add\",\n",
    "    \"cutChoice\", \"scoreEgo_cut\", \"scoreAlter_cut\", \"coopChoiceEgo_cut\", \"coopChoiceAlter_cut\",\n",
    "    \"avgCoopGlobal\", \"avgCoopLocal\",\n",
    "    \"giniGlobal\", \"giniLocal\",\n",
    "    \"change_in_score\",\n",
    "    \"f_score\",\n",
    "    \"trust_score\",\n",
    "    \"neighborsList\",\n",
    "    \"num_players\"\n",
    "]\n",
    "\n",
    "v1_vars = [\"earned1\", \"equal1\", \"first_version\",  \"score2\", \"f_score2\", \"trust_score2\"]\n",
    "v2_vars = [\"earned2\", \"equal2\", \"second_version\", \"score3\", \"f_score3\", \"trust_score3\"]"
   ]
  },
  {
   "cell_type": "code",
   "execution_count": null,
   "metadata": {},
   "outputs": [],
   "source": [
    "data_within_v1 = data_final[vars_to_join_on + round_vars + v1_vars]\n",
    "data_within_v1 = data_within_v1[data_within_v1['version'] == 1].reset_index(drop = True)\n",
    "print(len(data_within_v1))\n",
    "data_within_v1.head()"
   ]
  },
  {
   "cell_type": "code",
   "execution_count": null,
   "metadata": {},
   "outputs": [],
   "source": [
    "data_within_v2 = data_final[vars_to_join_on + round_vars + v2_vars]\n",
    "data_within_v2 = data_within_v2[data_within_v2['version'] == 2].reset_index(drop = True)\n",
    "print(len(data_within_v2))\n",
    "data_within_v2.head()"
   ]
  },
  {
   "cell_type": "code",
   "execution_count": null,
   "metadata": {},
   "outputs": [],
   "source": [
    "data_within_round = data_within_v1.merge(right = data_within_v2, \n",
    "                                         how = \"inner\",\n",
    "                                         on = [\"session_no\", \"pid\", \"round\"], \n",
    "                                         suffixes = (\"_v1\", \"_v2\"))\n",
    "\n",
    "print(len(data_within_round))\n",
    "data_within_round.head()"
   ]
  },
  {
   "cell_type": "code",
   "execution_count": null,
   "metadata": {},
   "outputs": [],
   "source": [
    "data_within_round = data_within_round.merge(right = data_within_player,\n",
    "                                            how = \"inner\",\n",
    "                                            on = [\"session_no\", \"pid\"])\n",
    "\n",
    "print(len(data_within_round))\n",
    "data_within_round.head()"
   ]
  },
  {
   "cell_type": "code",
   "execution_count": null,
   "metadata": {},
   "outputs": [],
   "source": [
    "data_within = data_within_round[[\"session_no\", \"pid\", \"round\", \n",
    "                                 \"earned_v1\", \"equal_v1\",\n",
    "                                 \"earned_v2\", \"equal_v2\"] + player_vars]\n",
    "data_within.head()"
   ]
  },
  {
   "cell_type": "code",
   "execution_count": null,
   "metadata": {},
   "outputs": [],
   "source": [
    "data_within[\"delta_earned\"] = data_within_round[\"earned_v2\"] - data_within_round[\"earned_v1\"]\n",
    "data_within[\"delta_equal\"]  = data_within_round[\"equal_v2\"]  - data_within_round[\"equal_v1\"]"
   ]
  },
  {
   "cell_type": "code",
   "execution_count": null,
   "metadata": {},
   "outputs": [],
   "source": [
    "data_within[\"delta_coopChoice\"]      = data_within_round[\"coopChoice_v2\"]      - \\\n",
    "                                       data_within_round[\"coopChoice_v1\"]\n",
    "data_within[\"delta_scoreBeforeCoop\"] = data_within_round[\"scoreBeforeCoop_v2\"] - \\\n",
    "                                       data_within_round[\"scoreBeforeCoop_v1\"]"
   ]
  },
  {
   "cell_type": "code",
   "execution_count": null,
   "metadata": {},
   "outputs": [],
   "source": [
    "data_within[\"delta_addChoice\"]           = data_within_round[\"addChoice_v2\"]           - \\\n",
    "                                           data_within_round[\"addChoice_v1\"]\n",
    "data_within[\"delta_scoreEgo_add\"]        = data_within_round[\"scoreEgo_add_v2\"]        - \\\n",
    "                                           data_within_round[\"scoreEgo_add_v1\"]\n",
    "data_within[\"delta_scoreAlter_add\"]      = data_within_round[\"scoreAlter_add_v2\"]      - \\\n",
    "                                           data_within_round[\"scoreAlter_add_v1\"]\n",
    "data_within[\"delta_coopChoiceEgo_add\"]   = data_within_round[\"coopChoiceEgo_add_v2\"]   - \\\n",
    "                                           data_within_round[\"coopChoiceEgo_add_v1\"]\n",
    "data_within[\"delta_coopChoiceAlter_add\"] = data_within_round[\"coopChoiceAlter_add_v2\"] - \\\n",
    "                                           data_within_round[\"coopChoiceAlter_add_v1\"]"
   ]
  },
  {
   "cell_type": "code",
   "execution_count": null,
   "metadata": {},
   "outputs": [],
   "source": [
    "data_within[\"delta_cutChoice\"]           = data_within_round[\"cutChoice_v2\"]           - \\\n",
    "                                           data_within_round[\"cutChoice_v1\"]\n",
    "data_within[\"delta_scoreEgo_cut\"]        = data_within_round[\"scoreEgo_cut_v2\"]        - \\\n",
    "                                           data_within_round[\"scoreEgo_cut_v1\"]\n",
    "data_within[\"delta_scoreAlter_cut\"]      = data_within_round[\"scoreAlter_cut_v2\"]      - \\\n",
    "                                           data_within_round[\"scoreAlter_cut_v1\"]\n",
    "data_within[\"delta_coopChoiceEgo_cut\"]   = data_within_round[\"coopChoiceEgo_cut_v2\"]   - \\\n",
    "                                           data_within_round[\"coopChoiceEgo_cut_v1\"]\n",
    "data_within[\"delta_coopChoiceAlter_cut\"] = data_within_round[\"coopChoiceAlter_cut_v2\"] - \\\n",
    "                                           data_within_round[\"coopChoiceAlter_cut_v1\"]"
   ]
  },
  {
   "cell_type": "code",
   "execution_count": null,
   "metadata": {},
   "outputs": [],
   "source": [
    "data_within[\"delta_avgCoopGlobal\"] = data_within_round[\"avgCoopGlobal_v2\"] - \\\n",
    "                                     data_within_round[\"avgCoopGlobal_v1\"]\n",
    "data_within[\"delta_avgCoopLocal\"]  = data_within_round[\"avgCoopLocal_v2\"]  - \\\n",
    "                                     data_within_round[\"avgCoopLocal_v1\"]"
   ]
  },
  {
   "cell_type": "code",
   "execution_count": null,
   "metadata": {},
   "outputs": [],
   "source": [
    "data_within[\"delta_giniGlobal\"] = data_within_round[\"giniGlobal_v2\"] - data_within_round[\"giniGlobal_v1\"]\n",
    "data_within[\"delta_giniLocal\"]  = data_within_round[\"giniLocal_v2\"]  - data_within_round[\"giniLocal_v1\"]"
   ]
  },
  {
   "cell_type": "code",
   "execution_count": null,
   "metadata": {},
   "outputs": [],
   "source": [
    "data_within[\"delta_change_in_score\"] = data_within_round[\"change_in_score_v2\"] - \\\n",
    "                                       data_within_round[\"change_in_score_v1\"]"
   ]
  },
  {
   "cell_type": "code",
   "execution_count": null,
   "metadata": {},
   "outputs": [],
   "source": [
    "data_within[\"delta_f_score\"] = data_within_round[\"f_score_v2\"] - data_within_round[\"f_score_v1\"]"
   ]
  },
  {
   "cell_type": "code",
   "execution_count": null,
   "metadata": {},
   "outputs": [],
   "source": [
    "data_within[\"delta_trust_score\"] = data_within_round[\"trust_score_v2\"] - data_within_round[\"trust_score_v1\"]"
   ]
  },
  {
   "cell_type": "code",
   "execution_count": null,
   "metadata": {},
   "outputs": [],
   "source": [
    "data_within[\"delta_game_score\"] = data_within_round[\"score3\"] - data_within_round[\"score2\"]"
   ]
  },
  {
   "cell_type": "code",
   "execution_count": null,
   "metadata": {},
   "outputs": [],
   "source": [
    "def count_num_neighbors(row):\n",
    "    if (row[\"neighborsList_v2\"] == row[\"neighborsList_v2\"]) and \\\n",
    "       (row[\"neighborsList_v1\"] == row[\"neighborsList_v1\"]):\n",
    "        return len(row[\"neighborsList_v2\"]) - len(row[\"neighborsList_v1\"])\n",
    "    else:\n",
    "        return np.nan\n",
    "\n",
    "data_within[\"delta_num_neighbors\"] = data_within_round.apply(count_num_neighbors, axis = 1)"
   ]
  },
  {
   "cell_type": "code",
   "execution_count": null,
   "metadata": {},
   "outputs": [],
   "source": [
    "data_within[\"delta_num_players\"] = data_within_round[\"num_players_v2\"] - data_within_round[\"num_players_v1\"]"
   ]
  },
  {
   "cell_type": "code",
   "execution_count": null,
   "metadata": {},
   "outputs": [],
   "source": [
    "print(len(data_within))\n",
    "data_within.head()"
   ]
  },
  {
   "cell_type": "code",
   "execution_count": null,
   "metadata": {},
   "outputs": [],
   "source": [
    "data_within.to_pickle(path_to_data + \"/pkl/data_within.pkl\")\n",
    "data_within.to_csv(path_to_data + \"/csv/data_within.csv\")"
   ]
  },
  {
   "cell_type": "code",
   "execution_count": null,
   "metadata": {},
   "outputs": [],
   "source": [
    "data_within_coop = data_within.drop_duplicates(subset = [\"session_no\", \"pid\", \"round\"], keep = \"first\").reset_index()\n",
    "data_within_coop.to_pickle(path_to_data + \"/pkl/data_within_coop.pkl\")\n",
    "data_within_coop.to_csv(path_to_data + \"/csv/data_within_coop.csv\")"
   ]
  },
  {
   "cell_type": "code",
   "execution_count": null,
   "metadata": {},
   "outputs": [],
   "source": [
    "data_within_pid = data_within.drop_duplicates(subset = [\"session_no\", \"pid\"], keep = \"first\").reset_index()\n",
    "data_within_pid.to_pickle(path_to_data + \"/pkl/data_within_pid.pkl\")\n",
    "data_within_pid.to_csv(path_to_data + \"/csv/data_within_pid.csv\")"
   ]
  },
  {
   "cell_type": "markdown",
   "metadata": {},
   "source": [
    "### Within-session"
   ]
  },
  {
   "cell_type": "code",
   "execution_count": null,
   "metadata": {},
   "outputs": [],
   "source": [
    "session_data_v1 = data_final[data_final['version'] == 1].groupby(\n",
    "    ['session_no', 'round']).mean()[['version', 'earned', 'equal', 'addChoice', 'cutChoice',\n",
    "                                     'coopChoiceAlter_add', 'coopChoiceAlter_cut', \n",
    "                                     'giniLocal']].reset_index()\n",
    "\n",
    "session_data_v1.columns = [\"session_no\", \"round\", \"version1\", \"earned1\", \"equal1\", \"addChoice1\", \"cutChoice1\",\n",
    "                           \"coopChoiceAlter_add1\", \"coopChoiceAlter_cut1\", \"giniLocal1\"]\n",
    "\n",
    "session_data_v2 = data_final[data_final['version'] == 2].groupby(\n",
    "    ['session_no', 'round']).mean()[['version', 'earned', 'equal', 'addChoice', 'cutChoice',\n",
    "                                     'coopChoiceAlter_add', 'coopChoiceAlter_cut',\n",
    "                                     'giniLocal']].reset_index()\n",
    "\n",
    "session_data_v2.columns = [\"session_no\", \"round\", \"version2\", \"earned2\", \"equal2\", \"addChoice2\", \"cutChoice2\",\n",
    "                           \"coopChoiceAlter_add2\", \"coopChoiceAlter_cut2\", \"giniLocal2\"]\n",
    "\n",
    "session_data_within = session_data_v1.merge(right = session_data_v2, \n",
    "                                            how = \"inner\",\n",
    "                                            on = [\"session_no\", \"round\"])\n",
    "\n",
    "session_data_within[\"delta_earned\"]    = session_data_within[\"earned2\"]    - session_data_within[\"earned1\"]\n",
    "session_data_within[\"delta_equal\"]     = session_data_within[\"equal2\"]     - session_data_within[\"equal1\"]\n",
    "session_data_within[\"delta_addChoice\"] = session_data_within[\"addChoice2\"] - session_data_within[\"addChoice1\"]\n",
    "session_data_within[\"delta_cutChoice\"] = session_data_within[\"cutChoice2\"] - session_data_within[\"cutChoice1\"]\n",
    "\n",
    "session_data_within[\"delta_coopChoiceAlter_add\"] = session_data_within[\"coopChoiceAlter_add2\"] - \\\n",
    "                                                   session_data_within[\"coopChoiceAlter_add1\"]\n",
    "session_data_within[\"delta_coopChoiceAlter_cut\"] = session_data_within[\"coopChoiceAlter_cut2\"] - \\\n",
    "                                                   session_data_within[\"coopChoiceAlter_cut1\"]\n",
    "\n",
    "session_data_within[\"delta_giniLocal\"] = session_data_within[\"giniLocal2\"] - session_data_within[\"giniLocal1\"]\n",
    "\n",
    "session_data_within = session_data_within[[\"session_no\", \n",
    "                                           \"round\", \n",
    "                                           \"delta_earned\", \n",
    "                                           \"delta_equal\", \n",
    "                                           \"earned1\", \"equal1\", \"earned2\", \"equal2\", \n",
    "                                           \"delta_addChoice\",\n",
    "                                           \"delta_cutChoice\",\n",
    "                                           \"delta_coopChoiceAlter_add\",\n",
    "                                           \"delta_coopChoiceAlter_cut\",\n",
    "                                           \"delta_giniLocal\"]]\n",
    "\n",
    "session_data_within.to_pickle(path_to_data + \"/pkl/session_data_within.pkl\")\n",
    "session_data_within.to_csv(path_to_data + \"/csv/session_data_within.csv\")"
   ]
  },
  {
   "cell_type": "code",
   "execution_count": null,
   "metadata": {},
   "outputs": [],
   "source": [
    "session_data_v1 = data_final_coop[data_final_coop['version'] == 1].groupby(\n",
    "    ['session_no', 'round']).mean()[['version', 'earned', 'equal', 'coopChoice', 'scoreBeforeCoop',\n",
    "                                     'giniLocal']].reset_index()\n",
    "\n",
    "session_data_v1.columns = [\"session_no\", \"round\", \"version1\", \"earned1\", \"equal1\", \"coopChoice1\", \"scoreBeforeCoop1\",\n",
    "                           \"giniLocal1\"]\n",
    "\n",
    "session_data_v2 = data_final_coop[data_final_coop['version'] == 2].groupby(\n",
    "    ['session_no', 'round']).mean()[['version', 'earned', 'equal', 'coopChoice', 'scoreBeforeCoop',\n",
    "                                     'giniLocal']].reset_index()\n",
    "\n",
    "session_data_v2.columns = [\"session_no\", \"round\", \"version2\", \"earned2\", \"equal2\", \"coopChoice2\", \"scoreBeforeCoop2\",\n",
    "                           \"giniLocal2\"]\n",
    "\n",
    "session_data_within = session_data_v1.merge(right = session_data_v2, \n",
    "                                            how = \"inner\",\n",
    "                                            on = [\"session_no\", \"round\"])\n",
    "\n",
    "session_data_within[\"delta_earned\"]     = session_data_within[\"earned2\"]     - session_data_within[\"earned1\"]\n",
    "session_data_within[\"delta_equal\"]      = session_data_within[\"equal2\"]      - session_data_within[\"equal1\"]\n",
    "session_data_within[\"delta_coopChoice\"] = session_data_within[\"coopChoice2\"] - session_data_within[\"coopChoice1\"]\n",
    "\n",
    "session_data_within[\"delta_scoreBeforeCoop\"] = session_data_within[\"scoreBeforeCoop2\"] - \\\n",
    "                                               session_data_within[\"scoreBeforeCoop1\"]\n",
    "\n",
    "session_data_within[\"delta_giniLocal\"] = session_data_within[\"giniLocal2\"] - session_data_within[\"giniLocal1\"]\n",
    "\n",
    "session_data_within = session_data_within[[\"session_no\", \n",
    "                                           \"round\", \n",
    "                                           \"delta_earned\", \n",
    "                                           \"delta_equal\", \n",
    "                                           \"earned1\", \"equal1\", \"earned2\", \"equal2\", \n",
    "                                           \"delta_coopChoice\",\n",
    "                                           \"delta_scoreBeforeCoop\",\n",
    "                                           \"delta_giniLocal\"]]\n",
    "\n",
    "session_data_within.to_pickle(path_to_data + \"/pkl/session_data_within_coop.pkl\")\n",
    "session_data_within.to_csv(path_to_data + \"/csv/session_data_within_coop.csv\")"
   ]
  },
  {
   "cell_type": "code",
   "execution_count": null,
   "metadata": {},
   "outputs": [],
   "source": [
    "session_data_v1 = data_pid_version[data_pid_version['version'] == 1].groupby(\n",
    "    ['session_no']).mean()[['version', 'earned', 'equal', 'f_score', 'trust_score', 'change_in_score']].reset_index()\n",
    "\n",
    "session_data_v1.columns = [\"session_no\", \"version1\", \"earned1\", \"equal1\", \"f_score1\", \"trust_score1\",\n",
    "                           \"change_in_score1\"]\n",
    "\n",
    "session_data_v2 = data_pid_version[data_pid_version['version'] == 2].groupby(\n",
    "    ['session_no']).mean()[['version', 'earned', 'equal', 'f_score', 'trust_score', 'change_in_score']].reset_index()\n",
    "\n",
    "session_data_v2.columns = [\"session_no\", \"version2\", \"earned2\", \"equal2\", \"f_score2\", \"trust_score2\",\n",
    "                           \"change_in_score2\"]\n",
    "\n",
    "session_data_within = session_data_v1.merge(right = session_data_v2, \n",
    "                                            how = \"inner\",\n",
    "                                            on = [\"session_no\"])\n",
    "\n",
    "session_data_within[\"delta_earned\"]      = session_data_within[\"earned2\"]      - session_data_within[\"earned1\"]\n",
    "session_data_within[\"delta_equal\"]       = session_data_within[\"equal2\"]       - session_data_within[\"equal1\"]\n",
    "session_data_within[\"delta_f_score\"]     = session_data_within[\"f_score2\"]     - session_data_within[\"f_score1\"]\n",
    "session_data_within[\"delta_trust_score\"] = session_data_within[\"trust_score2\"] - session_data_within[\"trust_score1\"]\n",
    "\n",
    "session_data_within[\"delta_change_in_score\"] = session_data_within[\"change_in_score2\"] - \\\n",
    "                                               session_data_within[\"change_in_score1\"]\n",
    "\n",
    "session_data_within = session_data_within[[\"session_no\", \n",
    "                                           \"delta_earned\", \n",
    "                                           \"delta_equal\", \n",
    "                                           \"earned1\", \"equal1\", \"earned2\", \"equal2\", \n",
    "                                           \"delta_f_score\",\n",
    "                                           \"delta_trust_score\",\n",
    "                                           \"delta_change_in_score\"]]\n",
    "\n",
    "session_data_within.to_pickle(path_to_data + \"/pkl/session_data_within_pid.pkl\")\n",
    "session_data_within.to_csv(path_to_data + \"/csv/session_data_within_pid.csv\")"
   ]
  },
  {
   "cell_type": "code",
   "execution_count": null,
   "metadata": {},
   "outputs": [],
   "source": []
  }
 ],
 "metadata": {
  "kernelspec": {
   "display_name": "Python 3",
   "language": "python",
   "name": "python3"
  },
  "language_info": {
   "codemirror_mode": {
    "name": "ipython",
    "version": 3
   },
   "file_extension": ".py",
   "mimetype": "text/x-python",
   "name": "python",
   "nbconvert_exporter": "python",
   "pygments_lexer": "ipython3",
   "version": "3.7.1"
  }
 },
 "nbformat": 4,
 "nbformat_minor": 2
}
