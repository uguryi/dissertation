{
 "cells": [
  {
   "cell_type": "markdown",
   "metadata": {},
   "source": [
    "### Import necessary libraries, set options"
   ]
  },
  {
   "cell_type": "code",
   "execution_count": null,
   "metadata": {},
   "outputs": [],
   "source": [
    "#!pip install git+https://github.com/mmngreco/IneqPy.git"
   ]
  },
  {
   "cell_type": "code",
   "execution_count": null,
   "metadata": {},
   "outputs": [],
   "source": [
    "import ineqpy\n",
    "import numpy as np\n",
    "import os\n",
    "import pandas as pd\n",
    "import re\n",
    "import time\n",
    "\n",
    "pd.set_option('display.max_columns', 125)"
   ]
  },
  {
   "cell_type": "markdown",
   "metadata": {},
   "source": [
    "### Combine separate datasets into one"
   ]
  },
  {
   "cell_type": "code",
   "execution_count": null,
   "metadata": {},
   "outputs": [],
   "source": [
    "path_to_data = os.path.join(\"path/to/data/processed-data\")\n",
    "path_to_data"
   ]
  },
  {
   "cell_type": "code",
   "execution_count": null,
   "metadata": {},
   "outputs": [],
   "source": [
    "data = None\n",
    "session_no = 1\n",
    "for file in sorted(os.listdir(path_to_data)):\n",
    "    if file.endswith(\".csv\") and file != \"experiment-logs.csv\": \n",
    "        temp = pd.read_csv(os.path.join(path_to_data, file))\n",
    "        temp = temp.rename(columns = {\"coopChoice\": \"coopChoiceTemp\",\n",
    "                                      \"coopChoiceEgo_add\": \"coopChoiceEgo_addTemp\",\n",
    "                                      \"coopChoiceAlter_add\": \"coopChoiceAlter_addTemp\",\n",
    "                                      \"coopChoiceEgo_cut\": \"coopChoiceEgo_cutTemp\",\n",
    "                                      \"coopChoiceAlter_cut\": \"coopChoiceAlter_cutTemp\",\n",
    "                                      \"pid\": \"pidTemp\",\n",
    "                                      \"prefer\": \"preferTemp\",\n",
    "                                      \"round\": \"roundTemp\",\n",
    "                                      \"score\": \"scoreAfterCoop\",\n",
    "                                      \"Unnamed: 0\": \"original_idx\"})\n",
    "        temp[\"file_name\"] = file\n",
    "        temp[\"session_no\"] = session_no\n",
    "        if data is None:\n",
    "            data = temp.copy()\n",
    "        else:\n",
    "            data = pd.concat([data, temp], axis = 0, ignore_index = True, sort = True)\n",
    "        session_no += 1"
   ]
  },
  {
   "cell_type": "code",
   "execution_count": null,
   "metadata": {
    "scrolled": true
   },
   "outputs": [],
   "source": [
    "print(len(data))\n",
    "print(len(data.columns))\n",
    "print(len(np.unique(data.session_no)))\n",
    "data.head(25)"
   ]
  },
  {
   "cell_type": "markdown",
   "metadata": {},
   "source": [
    "### Recode cooperation from -1/1 to 0/1"
   ]
  },
  {
   "cell_type": "code",
   "execution_count": null,
   "metadata": {
    "scrolled": true
   },
   "outputs": [],
   "source": [
    "def recode_coop(row):\n",
    "    if row[0] == 1:\n",
    "        return 1\n",
    "    elif row[0] == -1:\n",
    "        return 0\n",
    "    else:\n",
    "        return np.nan\n",
    "    \n",
    "data['coopChoice']          = data[['coopChoiceTemp']].apply(recode_coop, axis = 1)\n",
    "data['coopChoiceEgo_add']   = data[['coopChoiceEgo_addTemp']].apply(recode_coop, axis = 1)\n",
    "data['coopChoiceAlter_add'] = data[['coopChoiceAlter_addTemp']].apply(recode_coop, axis = 1)\n",
    "data['coopChoiceEgo_cut']   = data[['coopChoiceEgo_cutTemp']].apply(recode_coop, axis = 1)\n",
    "data['coopChoiceAlter_cut'] = data[['coopChoiceAlter_cutTemp']].apply(recode_coop, axis = 1)\n",
    "\n",
    "data.head()"
   ]
  },
  {
   "cell_type": "markdown",
   "metadata": {},
   "source": [
    "### Create new columns"
   ]
  },
  {
   "cell_type": "markdown",
   "metadata": {},
   "source": [
    "##### (i) Neighbors as Python list"
   ]
  },
  {
   "cell_type": "code",
   "execution_count": null,
   "metadata": {
    "scrolled": true
   },
   "outputs": [],
   "source": [
    "def get_neighbors_as_list(row):\n",
    "    neighbors = row['neighbors']\n",
    "    if neighbors != neighbors:\n",
    "        neighborsList = []\n",
    "    else:\n",
    "        neighborsList = re.sub('(\\[|\\])', '', neighbors).split(\", \")\n",
    "    return neighborsList\n",
    "\n",
    "data['neighborsListTemp'] = data.apply(get_neighbors_as_list, axis = 1)\n",
    "data.head()"
   ]
  },
  {
   "cell_type": "markdown",
   "metadata": {},
   "source": [
    "##### (ii) Score before making cooperate/defect choice"
   ]
  },
  {
   "cell_type": "code",
   "execution_count": null,
   "metadata": {
    "scrolled": true
   },
   "outputs": [],
   "source": [
    "def get_score_before_coop(row):\n",
    "    scoreAfter = row['scoreAfterCoop']\n",
    "    coopChoice = row['coopChoice']\n",
    "    if coopChoice == 1:\n",
    "        scoreBefore = scoreAfter + 50*len(row['neighborsListTemp'])\n",
    "    elif coopChoice == 0:\n",
    "        scoreBefore = scoreAfter\n",
    "    else:\n",
    "        scoreBefore = np.nan\n",
    "    return scoreBefore\n",
    "        \n",
    "data['scoreBeforeCoop'] = data.apply(get_score_before_coop, axis = 1)\n",
    "data.head()"
   ]
  },
  {
   "cell_type": "markdown",
   "metadata": {},
   "source": [
    "### Assign unique pid to players"
   ]
  },
  {
   "cell_type": "code",
   "execution_count": null,
   "metadata": {},
   "outputs": [],
   "source": [
    "pid_dict = {}\n",
    "idx = 1\n",
    "\n",
    "for index, row in data.iterrows():\n",
    "    if row['pidTemp']:\n",
    "        pid = row['pidTemp']\n",
    "        new_pid = pid + \"_\" + str(row['session_no'])\n",
    "        if new_pid in pid_dict.keys():\n",
    "            continue\n",
    "        else:\n",
    "            pid_dict[new_pid] = idx\n",
    "            idx += 1\n",
    "\n",
    "print(max(pid_dict.values()))\n",
    "list(pid_dict.items())[:5]"
   ]
  },
  {
   "cell_type": "code",
   "execution_count": null,
   "metadata": {
    "scrolled": true
   },
   "outputs": [],
   "source": [
    "def gen_unique_pid(row):\n",
    "    if row['pidTemp']:\n",
    "        pid = row['pidTemp']\n",
    "        new_pid = pid + \"_\" + str(row['session_no'])\n",
    "        return pid_dict[new_pid]\n",
    "    else:\n",
    "        return \"\"\n",
    "\n",
    "data['pid'] = data.apply(gen_unique_pid, axis = 1)\n",
    "data.head()"
   ]
  },
  {
   "cell_type": "code",
   "execution_count": null,
   "metadata": {
    "scrolled": true
   },
   "outputs": [],
   "source": [
    "def gen_unique_pid_neighbors(row):\n",
    "    global idx\n",
    "    if row['neighborsListTemp']:\n",
    "        new_lst = []\n",
    "        for neighbor in row['neighborsListTemp']:\n",
    "            new_pid = neighbor + \"_\" + str(row['session_no'])\n",
    "            if new_pid not in pid_dict.keys():  \n",
    "                #print(new_pid)                \n",
    "                pid_dict[new_pid] = idx\n",
    "                idx += 1\n",
    "            new_lst.append(pid_dict[new_pid])\n",
    "        return new_lst\n",
    "    else:\n",
    "        return []\n",
    "\n",
    "data['neighborsList'] = data.apply(gen_unique_pid_neighbors, axis = 1)\n",
    "print(max(pid_dict.values()))\n",
    "data.head()"
   ]
  },
  {
   "cell_type": "markdown",
   "metadata": {},
   "source": [
    "### Replace words first/second with actual conditions"
   ]
  },
  {
   "cell_type": "code",
   "execution_count": null,
   "metadata": {
    "scrolled": true
   },
   "outputs": [],
   "source": [
    "def gen_more_fair(row):\n",
    "    if row['first_vs_second'] == \"first\":\n",
    "        more_fair = row['first_version']\n",
    "    elif row['first_vs_second'] == \"second\":\n",
    "        more_fair = row['second_version']\n",
    "    else:\n",
    "        more_fair = \"\"\n",
    "    return more_fair\n",
    "\n",
    "data['more_fair'] = data.apply(gen_more_fair, axis = 1)\n",
    "data.head()"
   ]
  },
  {
   "cell_type": "code",
   "execution_count": null,
   "metadata": {
    "scrolled": true
   },
   "outputs": [],
   "source": [
    "def gen_prefer(row):\n",
    "    if row['preferTemp'] == \"first\":\n",
    "        prefer = row['first_version']\n",
    "    elif row['preferTemp'] == \"second\":\n",
    "        prefer = row['second_version']\n",
    "    else:\n",
    "        prefer = \"\"\n",
    "    return prefer\n",
    "\n",
    "data['prefer'] = data.apply(gen_prefer, axis = 1)\n",
    "data.head()"
   ]
  },
  {
   "cell_type": "markdown",
   "metadata": {},
   "source": [
    "### Add flag for sessions 68 and earlier"
   ]
  },
  {
   "cell_type": "code",
   "execution_count": null,
   "metadata": {
    "scrolled": true
   },
   "outputs": [],
   "source": [
    "data['flag'] = data.apply(lambda row: int(row['session_no'] <= 68), axis = 1)\n",
    "data.head()"
   ]
  },
  {
   "cell_type": "markdown",
   "metadata": {},
   "source": [
    "### Increment version 2 rounds  by 1 (round 0 -> round 1, round 1 -> round 2, etc.)"
   ]
  },
  {
   "cell_type": "code",
   "execution_count": null,
   "metadata": {},
   "outputs": [],
   "source": [
    "def increment_version2_rounds(row):\n",
    "    if row['version'] == 1:\n",
    "        return row['roundTemp']\n",
    "    elif row['version'] == 2:\n",
    "        return int(row['roundTemp'] + 1)\n",
    "    else:\n",
    "        return np.nan\n",
    "    \n",
    "data['round'] = data.apply(increment_version2_rounds, axis = 1)\n",
    "data.head(25)"
   ]
  },
  {
   "cell_type": "markdown",
   "metadata": {},
   "source": [
    "### Calculate average level of cooperation"
   ]
  },
  {
   "cell_type": "code",
   "execution_count": null,
   "metadata": {},
   "outputs": [],
   "source": [
    "rewiring_cols = [\n",
    "    \"addChoice\", \"scoreEgo_add\", \"scoreAlter_add\", \"coopChoiceEgo_add\", \"coopChoiceAlter_add\",\n",
    "    \"cutChoice\", \"scoreEgo_cut\", \"scoreAlter_cut\", \"coopChoiceEgo_cut\", \"coopChoiceAlter_cut\",\n",
    "    \"coopChoiceEgo_addTemp\", \"coopChoiceAlter_addTemp\",\n",
    "    \"coopChoiceEgo_cutTemp\", \"coopChoiceAlter_cutTemp\"\n",
    "]"
   ]
  },
  {
   "cell_type": "code",
   "execution_count": null,
   "metadata": {
    "scrolled": true
   },
   "outputs": [],
   "source": [
    "dataRest = data.loc[:, ~data.columns.isin(rewiring_cols)]\n",
    "dataRest.drop_duplicates(subset = [\"session_no\", \"version\", \"round\", \"pid\"], \n",
    "                         keep = \"first\", \n",
    "                         inplace = True) \n",
    "\n",
    "print(len(dataRest))\n",
    "dataRest.head(25)"
   ]
  },
  {
   "cell_type": "markdown",
   "metadata": {},
   "source": [
    "##### (i) In the network (global)"
   ]
  },
  {
   "cell_type": "code",
   "execution_count": null,
   "metadata": {
    "scrolled": false
   },
   "outputs": [],
   "source": [
    "avgCoopGlobal = pd.DataFrame(dataRest.groupby(['session_no', \n",
    "                                               'version', \n",
    "                                               'round'])['coopChoice'].mean().reset_index())\n",
    "\n",
    "avgCoopGlobal.columns = ['session_no', 'version', 'round', 'avgCoopGlobal']\n",
    "\n",
    "print(len(avgCoopGlobal))\n",
    "avgCoopGlobal.head()"
   ]
  },
  {
   "cell_type": "code",
   "execution_count": null,
   "metadata": {
    "scrolled": true
   },
   "outputs": [],
   "source": [
    "dataRest2 = dataRest.merge(avgCoopGlobal, on = [\"session_no\", \"version\", \"round\"])\n",
    "print(len(dataRest2))\n",
    "dataRest2.head()"
   ]
  },
  {
   "cell_type": "markdown",
   "metadata": {},
   "source": [
    "##### (ii) In a particular neighborhood of the network (local)"
   ]
  },
  {
   "cell_type": "code",
   "execution_count": null,
   "metadata": {},
   "outputs": [],
   "source": [
    "avgCoopLocal = pd.DataFrame(data = np.zeros((len(dataRest), 5)), \n",
    "                            columns = [\"session_no\", \"version\", \"round\", \"pid\", \"avgCoopLocal\"])\n",
    "\n",
    "avgCoopLocal.head()"
   ]
  },
  {
   "cell_type": "code",
   "execution_count": null,
   "metadata": {},
   "outputs": [],
   "source": [
    "time0 = time.time()\n",
    "\n",
    "ix = 0\n",
    "for session in range(1, max(dataRest['session_no']) + 1):\n",
    "    for version in [1, 2]:\n",
    "        for rnd in np.unique(dataRest[dataRest['version'] == version]['round']):\n",
    "            temp = dataRest[(dataRest['session_no'] == session) &\n",
    "                            (dataRest['version'] == version) &\n",
    "                            (dataRest['round'] == rnd)]\n",
    "            for pid in temp['pid']:\n",
    "                temp_lst = []\n",
    "                for neighbor in temp[temp['pid'] == pid]['neighborsList'].iloc[0]:\n",
    "                    if neighbor in list(temp['pid']):\n",
    "                        temp_lst.append(temp[temp['pid'] == neighbor]['coopChoice'].iloc[0])\n",
    "                temp_lst.append(temp[temp['pid'] == pid]['coopChoice'].iloc[0])\n",
    "                temp_avg = np.mean(temp_lst)\n",
    "                avgCoopLocal.loc[ix] = [session, version, rnd, pid, temp_avg]\n",
    "                ix += 1\n",
    "    \n",
    "time1 = time.time()\n",
    "print((time1-time0)/60)"
   ]
  },
  {
   "cell_type": "code",
   "execution_count": null,
   "metadata": {
    "scrolled": true
   },
   "outputs": [],
   "source": [
    "print(len(avgCoopLocal))\n",
    "avgCoopLocal.head()"
   ]
  },
  {
   "cell_type": "code",
   "execution_count": null,
   "metadata": {
    "scrolled": true
   },
   "outputs": [],
   "source": [
    "dataRest3 = dataRest2.merge(avgCoopLocal, on = [\"session_no\", \"version\", \"round\", \"pid\"])\n",
    "print(len(dataRest3))\n",
    "dataRest3.head()"
   ]
  },
  {
   "cell_type": "markdown",
   "metadata": {},
   "source": [
    "### Calculate level of inequality (using the Gini index)"
   ]
  },
  {
   "cell_type": "markdown",
   "metadata": {},
   "source": [
    "##### (i) In the network (global)"
   ]
  },
  {
   "cell_type": "code",
   "execution_count": null,
   "metadata": {},
   "outputs": [],
   "source": [
    "giniGlobal = pd.DataFrame(data = np.zeros((len(avgCoopGlobal), 4)), \n",
    "                          columns = [\"session_no\", \"version\", \"round\", \"giniGlobal\"])\n",
    "\n",
    "giniGlobal.head()"
   ]
  },
  {
   "cell_type": "code",
   "execution_count": null,
   "metadata": {
    "scrolled": true
   },
   "outputs": [],
   "source": [
    "ix = 0\n",
    "for session in range(1, max(dataRest['session_no']) + 1):\n",
    "    for version in [1, 2]:\n",
    "        for rnd in np.unique(dataRest[dataRest['version'] == version]['round']):\n",
    "            temp = dataRest[(dataRest['session_no'] == session) &\n",
    "                            (dataRest['version'] == version) &\n",
    "                            (dataRest['round'] == rnd)]\n",
    "            scores = np.array(temp['scoreBeforeCoop'])\n",
    "            scores = scores[~np.isnan(scores)]\n",
    "            if len(scores) > 1:\n",
    "                gini_global = ineqpy.gini(income = scores)\n",
    "                if gini_global != gini_global:\n",
    "                    print(session, version, rnd)\n",
    "                    print(scores)\n",
    "            else:\n",
    "                gini_global = np.nan\n",
    "            giniGlobal.loc[ix] = [session, version, rnd, gini_global]\n",
    "            ix += 1"
   ]
  },
  {
   "cell_type": "code",
   "execution_count": null,
   "metadata": {},
   "outputs": [],
   "source": [
    "print(len(giniGlobal))\n",
    "giniGlobal.head()"
   ]
  },
  {
   "cell_type": "code",
   "execution_count": null,
   "metadata": {
    "scrolled": true
   },
   "outputs": [],
   "source": [
    "dataRest4 = dataRest3.merge(giniGlobal, on = [\"session_no\", \"version\", \"round\"])\n",
    "print(len(dataRest4))\n",
    "dataRest4.head()"
   ]
  },
  {
   "cell_type": "markdown",
   "metadata": {},
   "source": [
    "##### (ii) In a particular neighborhood of the network (local)"
   ]
  },
  {
   "cell_type": "code",
   "execution_count": null,
   "metadata": {},
   "outputs": [],
   "source": [
    "giniLocal = pd.DataFrame(data = np.zeros((len(dataRest), 5)), \n",
    "                         columns = [\"session_no\", \"version\", \"round\", \"pid\", \"giniLocal\"])\n",
    "\n",
    "giniLocal.head()"
   ]
  },
  {
   "cell_type": "code",
   "execution_count": null,
   "metadata": {},
   "outputs": [],
   "source": [
    "time0 = time.time()\n",
    "\n",
    "ix = 0\n",
    "for session in range(1, max(dataRest['session_no']) + 1):\n",
    "    for version in [1, 2]:\n",
    "        for rnd in np.unique(dataRest[dataRest['version'] == version]['round']):\n",
    "            temp = dataRest[(dataRest['session_no'] == session) &\n",
    "                            (dataRest['version'] == version) &\n",
    "                            (dataRest['round'] == rnd)]\n",
    "            for pid in temp['pid']:\n",
    "                temp_lst = []\n",
    "                for neighbor in temp[temp['pid'] == pid]['neighborsList'].iloc[0]:\n",
    "                    if neighbor in list(temp['pid']):\n",
    "                        temp_lst.append(temp[temp['pid'] == neighbor]['scoreBeforeCoop'].iloc[0])\n",
    "                temp_lst.append(temp[temp['pid'] == pid]['scoreBeforeCoop'].iloc[0])\n",
    "                scores = np.array(temp_lst)\n",
    "                scores = scores[~np.isnan(scores)]\n",
    "                if len(scores) > 1:\n",
    "                    gini_local = ineqpy.gini(income = scores)\n",
    "                else:\n",
    "                    gini_local = np.nan\n",
    "                giniLocal.loc[ix] = [session, version, rnd, pid, gini_local]\n",
    "                ix += 1\n",
    "    \n",
    "time1 = time.time()\n",
    "print((time1-time0)/60)"
   ]
  },
  {
   "cell_type": "code",
   "execution_count": null,
   "metadata": {},
   "outputs": [],
   "source": [
    "print(len(giniLocal))\n",
    "giniLocal.head()"
   ]
  },
  {
   "cell_type": "code",
   "execution_count": null,
   "metadata": {
    "scrolled": true
   },
   "outputs": [],
   "source": [
    "dataRest5 = dataRest4.merge(giniLocal, on = [\"session_no\", \"version\", \"round\", \"pid\"])\n",
    "print(len(dataRest5))\n",
    "dataRest5.head()"
   ]
  },
  {
   "cell_type": "markdown",
   "metadata": {},
   "source": [
    "### Re-arrange data such that choiceStep and rewiringStep rounds align"
   ]
  },
  {
   "cell_type": "code",
   "execution_count": null,
   "metadata": {
    "scrolled": true
   },
   "outputs": [],
   "source": [
    "dataRewiring = data[[\"session_no\", \"version\", \"round\", \"pid\"] + rewiring_cols]\n",
    "\n",
    "dataRewiring[\"roundMinusOne\"] = dataRewiring.apply(lambda row: int(row[\"round\"] - 1), axis = 1)\n",
    "\n",
    "dataRewiring = dataRewiring.drop(columns = ['round'])\n",
    "\n",
    "print(len(dataRewiring))\n",
    "dataRewiring.head()"
   ]
  },
  {
   "cell_type": "code",
   "execution_count": null,
   "metadata": {
    "scrolled": true
   },
   "outputs": [],
   "source": [
    "data_final_temp = dataRest5.merge(dataRewiring, \n",
    "                                  left_on = [\"session_no\", \"version\", \"round\", \"pid\"],\n",
    "                                  right_on = [\"session_no\", \"version\", \"roundMinusOne\", \"pid\"],\n",
    "                                  how = \"left\")\n",
    "\n",
    "print(len(data_final_temp))\n",
    "data_final_temp.head()"
   ]
  },
  {
   "cell_type": "markdown",
   "metadata": {},
   "source": [
    "### Add row-specific columns"
   ]
  },
  {
   "cell_type": "code",
   "execution_count": null,
   "metadata": {
    "scrolled": true
   },
   "outputs": [],
   "source": [
    "time0 = time.time()\n",
    "\n",
    "def add_condition_rs(row):\n",
    "    earned1 = row['earned1']\n",
    "    equal1  = row['equal1']\n",
    "    earned2 = row['earned2']\n",
    "    equal2  = row['equal2']\n",
    "    version = row['version']\n",
    "    f_score1 = row['f_score2']\n",
    "    f_score2 = row['f_score3']\n",
    "    trust_score1 = row['trust_score2']\n",
    "    trust_score2 = row['trust_score3']\n",
    "    if version == 1:\n",
    "        if earned1 == 0 and equal1 == 0:\n",
    "            row['earned'] = 0\n",
    "            row['equal'] = 0\n",
    "            row['condition'] = 'ru'\n",
    "        elif earned1 == 0 and equal1 == 1:\n",
    "            row['earned'] = 0\n",
    "            row['equal'] = 1\n",
    "            row['condition'] = 're'\n",
    "        elif earned1 == 1 and equal1 == 0:\n",
    "            row['earned'] = 1\n",
    "            row['equal'] = 0\n",
    "            row['condition'] = 'eu'\n",
    "        elif earned1 == 1 and equal1 == 1:\n",
    "            row['earned'] = 1\n",
    "            row['equal'] = 1\n",
    "            row['condition'] = 'ee'\n",
    "        else:\n",
    "            row['earned'] = np.nan\n",
    "            row['equal'] = np.nan\n",
    "            row['condition'] = np.nan\n",
    "        row['f_score'] = f_score1\n",
    "        row['trust_score'] = trust_score1\n",
    "    elif version == 2:\n",
    "        if earned2 == 0 and equal2 == 0:\n",
    "            row['earned'] = 0\n",
    "            row['equal'] = 0\n",
    "            row['condition'] = 'ru'\n",
    "        elif earned2 == 0 and equal2 == 1:\n",
    "            row['earned'] = 0\n",
    "            row['equal'] = 1\n",
    "            row['condition'] = 're'\n",
    "        elif earned2 == 1 and equal2 == 0:\n",
    "            row['earned'] = 1\n",
    "            row['equal'] = 0\n",
    "            row['condition'] = 'eu'\n",
    "        elif earned2 == 1 and equal2 == 1:\n",
    "            row['earned'] = 1\n",
    "            row['equal'] = 1\n",
    "            row['condition'] = 'ee'\n",
    "        else:\n",
    "            row['earned'] = np.nan\n",
    "            row['equal'] = np.nan\n",
    "            row['condition'] = np.nan\n",
    "        row['f_score'] = f_score2\n",
    "        row['trust_score'] = trust_score2\n",
    "    else:\n",
    "        row['earned'] = np.nan\n",
    "        row['equal'] = np.nan\n",
    "        row['condition'] = np.nan\n",
    "        row['f_score'] = np.nan\n",
    "        row['trust_score'] = np.nan\n",
    "    return row\n",
    "\n",
    "data_final_temp2 = data_final_temp.apply(add_condition_rs, axis = 1)\n",
    "\n",
    "time1 = time.time()\n",
    "print((time1-time0)/60)\n",
    "\n",
    "print(len(data_final_temp2))\n",
    "data_final_temp2.head()"
   ]
  },
  {
   "cell_type": "markdown",
   "metadata": {},
   "source": [
    "### Generate column that shows how player's score changed from word game to PG game"
   ]
  },
  {
   "cell_type": "code",
   "execution_count": null,
   "metadata": {
    "scrolled": true
   },
   "outputs": [],
   "source": [
    "change_in_score = data_final_temp2.drop_duplicates(subset = [\"session_no\", \"version\", \"pid\"], keep = \"first\")\n",
    "change_in_score = change_in_score[change_in_score['round'] == 1].reset_index()\n",
    "change_in_score = change_in_score[['session_no', 'version', 'pid', 'round', 'scoreBeforeCoop', 'score1']]\n",
    "change_in_score.head()"
   ]
  },
  {
   "cell_type": "code",
   "execution_count": null,
   "metadata": {
    "scrolled": true
   },
   "outputs": [],
   "source": [
    "def get_change_in_score(row):\n",
    "    if row['round'] == 1:\n",
    "        return row['scoreBeforeCoop'] - row['score1'] \n",
    "    else:\n",
    "        return np.nan\n",
    "    \n",
    "change_in_score['change_in_score'] = change_in_score.apply(get_change_in_score, axis = 1)\n",
    "change_in_score = change_in_score[['session_no', 'version', 'pid', 'score1', 'change_in_score']]\n",
    "change_in_score.head()"
   ]
  },
  {
   "cell_type": "code",
   "execution_count": null,
   "metadata": {
    "scrolled": true
   },
   "outputs": [],
   "source": [
    "data_final = data_final_temp2.merge(change_in_score, on = [\"session_no\", \"version\", \"pid\", \"score1\"])\n",
    "print(len(data_final))\n",
    "data_final.head()"
   ]
  },
  {
   "cell_type": "markdown",
   "metadata": {},
   "source": [
    "### Turn why_coop to list"
   ]
  },
  {
   "cell_type": "code",
   "execution_count": null,
   "metadata": {},
   "outputs": [],
   "source": [
    "def turn_why_coop_to_list(row):\n",
    "    why_coop = row['why_coop']\n",
    "    if why_coop != why_coop:\n",
    "        res = np.nan\n",
    "    else:\n",
    "        res = re.sub('(\\[|\\])', '', why_coop).split(\", \")\n",
    "    return res\n",
    "\n",
    "data_final['why_coop_list'] = data_final.apply(turn_why_coop_to_list, axis = 1)\n",
    "data_final.head(25)"
   ]
  },
  {
   "cell_type": "markdown",
   "metadata": {},
   "source": [
    "### Add variable for number of players in a given session/version/round"
   ]
  },
  {
   "cell_type": "code",
   "execution_count": null,
   "metadata": {},
   "outputs": [],
   "source": [
    "num_players = data_final.groupby(['session_no', 'version', 'round'])['pid'].nunique().reset_index()\n",
    "num_players.columns = ['session_no', 'version', 'round', 'num_players']\n",
    "num_players.head()"
   ]
  },
  {
   "cell_type": "code",
   "execution_count": null,
   "metadata": {
    "scrolled": true
   },
   "outputs": [],
   "source": [
    "data_final = data_final.merge(right = num_players, how = \"inner\", on = [\"session_no\", \"version\", \"round\"])\n",
    "print(len(data_final))\n",
    "data_final.head()"
   ]
  },
  {
   "cell_type": "markdown",
   "metadata": {},
   "source": [
    "### Re-order columns in a more logical way"
   ]
  },
  {
   "cell_type": "code",
   "execution_count": null,
   "metadata": {
    "scrolled": true
   },
   "outputs": [],
   "source": [
    "main_vars = [\n",
    "    \"session_no\", \"earned1\", \"equal1\", \"earned2\", \"equal2\", \"first_version\", \"second_version\",\n",
    "    \"version\", \"round\", \"pid\",\n",
    "    \"earned\", \"equal\", \"condition\",\n",
    "    \"coopChoice\", \"scoreBeforeCoop\",\n",
    "    \"addChoice\", \"scoreEgo_add\", \"scoreAlter_add\", \"coopChoiceEgo_add\", \"coopChoiceAlter_add\",\n",
    "    \"cutChoice\", \"scoreEgo_cut\", \"scoreAlter_cut\", \"coopChoiceEgo_cut\", \"coopChoiceAlter_cut\",\n",
    "    \"avgCoopGlobal\", \"avgCoopLocal\", \"giniGlobal\", \"giniLocal\",\n",
    "    \"score1\", \"score2\", \"score3\", \"change_in_score\",\n",
    "    \"f_score2\", \"f_score3\", \"f_score\",\n",
    "    \"trust_score2\", \"trust_score3\", \"trust_score\",\n",
    "    \"more_fair\", \"prefer\",\n",
    "    \"why_coop_list\", \"why_coop_other\",\n",
    "    \"num_other\",\n",
    "    \"age\", \"gender\", \"race\", \"education\", \"income\", \"politics\",\n",
    "    \"neighborsList\",\n",
    "    \"num_players\"\n",
    "]\n",
    "\n",
    "aux_vars = [\n",
    "    \"coopChoiceTemp\", \n",
    "    \"coopChoiceEgo_addTemp\", \"coopChoiceAlter_addTemp\", \"coopChoiceEgo_cutTemp\", \"coopChoiceAlter_cutTemp\",\n",
    "    \"country\", \"ip_to_country\",\n",
    "    \"date\", \"hour\",\n",
    "    \"file_name\",\n",
    "    \"first_vs_second\", \"preferTemp\",\n",
    "    \"flag\",\n",
    "    \"neighbors\", \"neighborsListTemp\",\n",
    "    \"original_idx\",\n",
    "    \"pidTemp\",\n",
    "    \"roundMinusOne\", \"roundTemp\",\n",
    "    \"scoreAfterCoop\",\n",
    "    \"screenAnswer\",\n",
    "    \"why_coop\",\n",
    "    \"words\",\n",
    "    \"Tutorial100\", \"Tutorial101\", \"Tutorial102\", \"Tutorial103\", \"Tutorial104\", \"Tutorial105\",\n",
    "    \"Tutorial106\", \"Tutorial107\", \"Tutorial108\", \"Tutorial109\", \"Tutorial110\", \n",
    "    \"Tutorial200\", \"Tutorial201\", \"Tutorial202\", \"Tutorial203\", \"Tutorial204\", \n",
    "    \"Tutorial205\", \"Tutorial206\", \"Tutorial207\", \"Tutorial208\", \"Tutorial209\", \n",
    "    \"Tutorial300\", \"Tutorial301\", \"Tutorial302\", \"Tutorial303\", \"Tutorial304\"\n",
    "]\n",
    "\n",
    "data_final = data_final[main_vars + aux_vars]\n",
    "\n",
    "print(len(data_final))\n",
    "print(len(data_final.columns))\n",
    "data_final.head(25)"
   ]
  },
  {
   "cell_type": "markdown",
   "metadata": {},
   "source": [
    "### Pickle final dataset for later use"
   ]
  },
  {
   "cell_type": "code",
   "execution_count": null,
   "metadata": {},
   "outputs": [],
   "source": [
    "data_final.to_pickle(path_to_data + \"/pkl/data_final.pkl\")\n",
    "data_final.to_csv(path_to_data + \"/csv/data_final.csv\")"
   ]
  },
  {
   "cell_type": "code",
   "execution_count": null,
   "metadata": {},
   "outputs": [],
   "source": []
  }
 ],
 "metadata": {
  "kernelspec": {
   "display_name": "Python 3",
   "language": "python",
   "name": "python3"
  },
  "language_info": {
   "codemirror_mode": {
    "name": "ipython",
    "version": 3
   },
   "file_extension": ".py",
   "mimetype": "text/x-python",
   "name": "python",
   "nbconvert_exporter": "python",
   "pygments_lexer": "ipython3",
   "version": "3.7.1"
  }
 },
 "nbformat": 4,
 "nbformat_minor": 2
}
