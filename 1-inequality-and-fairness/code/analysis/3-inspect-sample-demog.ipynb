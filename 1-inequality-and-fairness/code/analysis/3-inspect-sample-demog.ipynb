{
 "cells": [
  {
   "cell_type": "markdown",
   "metadata": {},
   "source": [
    "### Import necessary libraries, set options"
   ]
  },
  {
   "cell_type": "code",
   "execution_count": null,
   "metadata": {},
   "outputs": [],
   "source": [
    "import numpy as np\n",
    "import os\n",
    "import pandas as pd\n",
    "import warnings\n",
    "\n",
    "pd.set_option('display.max_columns', 125)\n",
    "warnings.filterwarnings(\"ignore\")"
   ]
  },
  {
   "cell_type": "markdown",
   "metadata": {},
   "source": [
    "### Read in pickled datasets"
   ]
  },
  {
   "cell_type": "code",
   "execution_count": null,
   "metadata": {},
   "outputs": [],
   "source": [
    "path_to_data = os.path.join(\"path/to/data/processed-data\")"
   ]
  },
  {
   "cell_type": "markdown",
   "metadata": {},
   "source": [
    "##### Between-individual"
   ]
  },
  {
   "cell_type": "code",
   "execution_count": null,
   "metadata": {
    "scrolled": true
   },
   "outputs": [],
   "source": [
    "data_pid = pd.read_pickle(path_to_data + \"/pkl/data_pid.pkl\")\n",
    "print(len(data_pid))\n",
    "data_pid.head()"
   ]
  },
  {
   "cell_type": "markdown",
   "metadata": {},
   "source": [
    "### Sample size"
   ]
  },
  {
   "cell_type": "markdown",
   "metadata": {
    "scrolled": true
   },
   "source": [
    "##### Number of participants"
   ]
  },
  {
   "cell_type": "code",
   "execution_count": null,
   "metadata": {
    "scrolled": true
   },
   "outputs": [],
   "source": [
    "print(\"Total number of participants (including those who got dropped along the way):\")\n",
    "print(len(data_pid))\n",
    "print()\n",
    "\n",
    "print(\"Number of participants who finished the task in its entirety:\")\n",
    "print(len(data_pid[data_pid['country'] == data_pid['country']]))\n",
    "print()\n",
    "\n",
    "print(\"Number of participants from the US:\")\n",
    "print(len(data_pid[data_pid['country'] == 'yes']))\n",
    "print(len(data_pid[data_pid['ip_to_country'] == 'US']))\n",
    "print(len(data_pid[(data_pid['country'] == 'yes') & (data_pid['ip_to_country'] == 'US')]))\n",
    "print()"
   ]
  },
  {
   "cell_type": "markdown",
   "metadata": {
    "scrolled": true
   },
   "source": [
    "##### Number of participants per condition"
   ]
  },
  {
   "cell_type": "code",
   "execution_count": null,
   "metadata": {
    "scrolled": true
   },
   "outputs": [],
   "source": [
    "print(\"Including participants who got dropped along the way:\")\n",
    "print(data_pid.groupby(['earned1', 'equal1', 'earned2', 'equal2'])['pid'].count())\n",
    "print()\n",
    "\n",
    "print(\"Excluding participants who got dropped along the way:\")\n",
    "print(data_pid[data_pid['country'] == data_pid['country']].groupby(['earned1', 'equal1', \n",
    "                                                                    'earned2', 'equal2'])['pid'].count())"
   ]
  },
  {
   "cell_type": "markdown",
   "metadata": {},
   "source": [
    "### Demographics"
   ]
  },
  {
   "cell_type": "code",
   "execution_count": null,
   "metadata": {},
   "outputs": [],
   "source": [
    "def get_percentage(row):\n",
    "    vals = list(row[4:])\n",
    "    vals_sum = np.sum(vals)\n",
    "    vals_norm = vals / vals_sum * 100\n",
    "    for i in range(len(vals)):\n",
    "        row['temp_col_' + str(i)] = vals_norm[i]\n",
    "    return row"
   ]
  },
  {
   "cell_type": "markdown",
   "metadata": {
    "scrolled": true
   },
   "source": [
    "##### Experience"
   ]
  },
  {
   "cell_type": "code",
   "execution_count": null,
   "metadata": {
    "scrolled": true
   },
   "outputs": [],
   "source": [
    "print(np.mean(data_pid['num_other']))\n",
    "print(np.nanmedian(data_pid['num_other']))\n",
    "\n",
    "experience = pd.DataFrame(\n",
    "    data_pid.groupby(['earned1', 'equal1',\n",
    "                      'earned2', 'equal2'])['num_other'].agg(['mean', 'median']).reset_index()\n",
    ")\n",
    "\n",
    "experience.columns = ['earned1', 'equal1', 'earned2', 'equal2', 'mean_num_other', 'median_num_other']\n",
    "\n",
    "experience"
   ]
  },
  {
   "cell_type": "markdown",
   "metadata": {
    "scrolled": true
   },
   "source": [
    "##### Age"
   ]
  },
  {
   "cell_type": "code",
   "execution_count": null,
   "metadata": {
    "scrolled": true
   },
   "outputs": [],
   "source": [
    "print(np.mean(data_pid['age']))\n",
    "print(np.nanmedian(data_pid['age']))\n",
    "\n",
    "age = pd.DataFrame(\n",
    "    data_pid.groupby(['earned1', 'equal1',\n",
    "                      'earned2', 'equal2'])['age'].agg(['mean', 'median']).reset_index()\n",
    ")\n",
    "\n",
    "age.columns = ['earned1', 'equal1', 'earned2', 'equal2', 'mean_age', 'median_age']\n",
    "\n",
    "age"
   ]
  },
  {
   "cell_type": "markdown",
   "metadata": {
    "scrolled": true
   },
   "source": [
    "##### Gender"
   ]
  },
  {
   "cell_type": "code",
   "execution_count": null,
   "metadata": {
    "scrolled": true
   },
   "outputs": [],
   "source": [
    "gender = pd.DataFrame(\n",
    "    data_pid.groupby(['earned1', 'equal1',\n",
    "                      'earned2', 'equal2',\n",
    "                      'gender'])['gender'].agg(['count']).reset_index()\n",
    ")\n",
    "\n",
    "gender = gender.pivot_table(index = ['earned1', 'equal1', 'earned2', 'equal2'],\n",
    "                            columns = 'gender',\n",
    "                            values = 'count').reset_index().rename_axis(None, 1)\n",
    "\n",
    "gender = gender.fillna(0)\n",
    "\n",
    "gender = pd.DataFrame(gender.apply(get_percentage, axis = 1))\n",
    "\n",
    "gender.columns = ['earned1', 'equal1', 'earned2', 'equal2',\n",
    "                  'female', 'male', 'other',\n",
    "                  'female_perc', 'male_perc', 'other_perc']\n",
    "\n",
    "gender = gender[['earned1', 'equal1', 'earned2', 'equal2', \n",
    "                 'male_perc', \n",
    "                 'female_perc', \n",
    "                 'other_perc',\n",
    "                 'male', 'female', 'other']]\n",
    "\n",
    "print(\n",
    "    pd.DataFrame(\n",
    "        data = [gender[['male', 'female', 'other']].sum().values / \n",
    "                gender[['male', 'female', 'other']].sum().sum() * 100],\n",
    "        columns = ['male_perc', 'female_perc', 'other_perc']\n",
    "    )\n",
    ")\n",
    "\n",
    "gender"
   ]
  },
  {
   "cell_type": "markdown",
   "metadata": {
    "scrolled": true
   },
   "source": [
    "##### Race"
   ]
  },
  {
   "cell_type": "code",
   "execution_count": null,
   "metadata": {
    "scrolled": true
   },
   "outputs": [],
   "source": [
    "race = pd.DataFrame(\n",
    "    data_pid.groupby(['earned1', 'equal1',\n",
    "                      'earned2', 'equal2',\n",
    "                      'race'])['race'].agg(['count']).reset_index()\n",
    ")\n",
    "\n",
    "race = race.pivot_table(index = ['earned1', 'equal1', 'earned2', 'equal2'],\n",
    "                        columns = 'race',\n",
    "                        values = 'count').reset_index().rename_axis(None, 1)\n",
    "\n",
    "race = race.fillna(0)\n",
    "\n",
    "race = pd.DataFrame(race.apply(get_percentage, axis = 1))\n",
    "\n",
    "race.columns = ['earned1', 'equal1', 'earned2', 'equal2',\n",
    "                'asian', 'black', 'hispanic', 'other', 'white',\n",
    "                'asian_perc', 'black_perc', 'hispanic_perc', 'other_perc', 'white_perc']\n",
    "\n",
    "race = race[['earned1', 'equal1', 'earned2', 'equal2',\n",
    "             'white_perc', \n",
    "             'black_perc', \n",
    "             'asian_perc', \n",
    "             'hispanic_perc', \n",
    "             'other_perc',\n",
    "             'white', 'black', 'asian', 'hispanic', 'other']]\n",
    "\n",
    "print(\n",
    "    pd.DataFrame(\n",
    "        data = [race[['white', 'black', 'asian', 'hispanic', 'other']].sum().values / \n",
    "                race[['white', 'black', 'asian', 'hispanic', 'other']].sum().sum() * 100],\n",
    "        columns = ['white_perc', 'black_perc', 'asian_perc', 'hispanic_perc', 'other_perc']\n",
    "    )\n",
    ")\n",
    "\n",
    "race"
   ]
  },
  {
   "cell_type": "markdown",
   "metadata": {
    "scrolled": true
   },
   "source": [
    "##### Education"
   ]
  },
  {
   "cell_type": "code",
   "execution_count": null,
   "metadata": {
    "scrolled": true
   },
   "outputs": [],
   "source": [
    "education = pd.DataFrame(\n",
    "    data_pid.groupby(['earned1', 'equal1',\n",
    "                      'earned2', 'equal2',\n",
    "                      'education'])['education'].agg(['count']).reset_index()\n",
    ")\n",
    "\n",
    "education = education.pivot_table(index = ['earned1', 'equal1', 'earned2', 'equal2'],\n",
    "                                  columns = 'education',\n",
    "                                  values = 'count').reset_index().rename_axis(None, 1)\n",
    "\n",
    "education = education.fillna(0)\n",
    "\n",
    "education = pd.DataFrame(education.apply(get_percentage, axis = 1))\n",
    "\n",
    "education.columns = ['earned1', 'equal1', 'earned2', 'equal2',\n",
    "                     'college_degree', 'graduate_degree', 'hs', 'less_than_hs', 'other', 'some_college',\n",
    "                     'college_degree_perc', 'graduate_degree_perc', 'hs_perc', \n",
    "                     'less_than_hs_perc', 'other_perc', 'some_college_perc']\n",
    "\n",
    "education = education[['earned1', 'equal1', 'earned2', 'equal2',\n",
    "                       'less_than_hs_perc', \n",
    "                       'hs_perc', \n",
    "                       'some_college_perc', \n",
    "                       'college_degree_perc',\n",
    "                       'graduate_degree_perc', \n",
    "                       'other_perc',\n",
    "                       'less_than_hs', 'hs', 'some_college', 'college_degree', 'graduate_degree', 'other']]\n",
    "\n",
    "print(\n",
    "    pd.DataFrame(\n",
    "        data = [education[['less_than_hs', 'hs', 'some_college',\n",
    "                           'college_degree', 'graduate_degree', 'other']].sum().values / \n",
    "                education[['less_than_hs', 'hs', 'some_college',\n",
    "                           'college_degree', 'graduate_degree', 'other']].sum().sum() * 100],\n",
    "        columns = ['less_than_hs_perc', 'hs_perc', 'some_college_perc',\n",
    "                   'college_degree_perc', 'graduate_degree_perc', 'other_perc']\n",
    "    )\n",
    ")\n",
    "\n",
    "education"
   ]
  },
  {
   "cell_type": "markdown",
   "metadata": {
    "scrolled": true
   },
   "source": [
    "##### Income"
   ]
  },
  {
   "cell_type": "code",
   "execution_count": null,
   "metadata": {
    "scrolled": true
   },
   "outputs": [],
   "source": [
    "income = pd.DataFrame(\n",
    "    data_pid.groupby(['earned1', 'equal1', \n",
    "                      'earned2', 'equal2',\n",
    "                      'income'])['income'].agg(['count']).reset_index()\n",
    ")\n",
    "\n",
    "income = income.pivot_table(index = ['earned1', 'equal1', 'earned2', 'equal2'],\n",
    "                            columns = 'income', \n",
    "                            values = 'count').reset_index().rename_axis(None, 1)\n",
    "\n",
    "income = income.fillna(0)\n",
    "\n",
    "income = pd.DataFrame(income.apply(get_percentage, axis = 1))\n",
    "\n",
    "income.columns = ['earned1', 'equal1', 'earned2', 'equal2',\n",
    "                  '20k_to_40k', '40k_to_60k', '60k_to_80k', '80k_to_100k', 'less_than_20k', 'more_than_100k',\n",
    "                  '20k_to_40k_perc', '40k_to_60k_perc', '60k_to_80k_perc', \n",
    "                  '80k_to_100k_perc', 'less_than_20k_perc', 'more_than_100k_perc']\n",
    "\n",
    "income = income[['earned1', 'equal1', 'earned2', 'equal2',\n",
    "                 'less_than_20k_perc',\n",
    "                 '20k_to_40k_perc',\n",
    "                 '40k_to_60k_perc',\n",
    "                 '60k_to_80k_perc',\n",
    "                 '80k_to_100k_perc',\n",
    "                 'more_than_100k_perc',\n",
    "                 'less_than_20k', '20k_to_40k', '40k_to_60k', '60k_to_80k', '80k_to_100k', 'more_than_100k']]\n",
    "\n",
    "print(\n",
    "    pd.DataFrame(\n",
    "        data = [income[['less_than_20k', '20k_to_40k', '40k_to_60k',\n",
    "                        '60k_to_80k', '80k_to_100k', 'more_than_100k']].sum().values / \n",
    "                income[['less_than_20k', '20k_to_40k', '40k_to_60k',\n",
    "                        '60k_to_80k', '80k_to_100k', 'more_than_100k']].sum().sum() * 100],\n",
    "        columns = ['less_than_20k_perc', '20k_to_40k_perc', '40k_to_60k_perc',\n",
    "                   '60k_to_80k_perc', '80k_to_100k_perc', 'more_than_100k_perc']\n",
    "    )\n",
    ")\n",
    "\n",
    "income"
   ]
  },
  {
   "cell_type": "markdown",
   "metadata": {
    "scrolled": true
   },
   "source": [
    "##### Politics"
   ]
  },
  {
   "cell_type": "code",
   "execution_count": null,
   "metadata": {
    "scrolled": true
   },
   "outputs": [],
   "source": [
    "politics = pd.DataFrame(\n",
    "    data_pid.groupby(['earned1', 'equal1', \n",
    "                      'earned2', 'equal2',\n",
    "                      'politics'])['politics'].agg(['count']).reset_index()\n",
    ")\n",
    "\n",
    "politics = politics.pivot_table(index = ['earned1', 'equal1', 'earned2', 'equal2'],\n",
    "                                columns = 'politics', \n",
    "                                values = 'count').reset_index().rename_axis(None, 1)\n",
    "\n",
    "politics = politics.fillna(0)\n",
    "\n",
    "politics = pd.DataFrame(politics.apply(get_percentage, axis = 1))\n",
    "\n",
    "politics.columns = ['earned1', 'equal1', 'earned2', 'equal2',\n",
    "                    'conservative', 'liberal', 'middle', 'very_conservative', 'very_liberal',\n",
    "                    'conservative_perc', 'liberal_perc', 'middle_perc', \n",
    "                    'very_conservative_perc', 'very_liberal_perc']\n",
    "\n",
    "politics = politics[['earned1', 'equal1', 'earned2', 'equal2',\n",
    "                     'very_liberal_perc',\n",
    "                     'liberal_perc',\n",
    "                     'middle_perc',\n",
    "                     'conservative_perc',\n",
    "                     'very_conservative_perc',\n",
    "                     'very_liberal', 'liberal', 'middle', 'conservative', 'very_conservative']]\n",
    "\n",
    "print(\n",
    "    pd.DataFrame(\n",
    "        data = [politics[['very_liberal', 'liberal', 'middle',\n",
    "                          'conservative', 'very_conservative']].sum().values / \n",
    "                politics[['very_liberal', 'liberal', 'middle',\n",
    "                          'conservative', 'very_conservative']].sum().sum() * 100],\n",
    "        columns = ['very_liberal_perc', 'liberal_perc', 'middle_perc', \n",
    "                   'conservative_perc', 'very_conservative_perc']\n",
    "    )\n",
    ")\n",
    "\n",
    "politics"
   ]
  },
  {
   "cell_type": "code",
   "execution_count": null,
   "metadata": {},
   "outputs": [],
   "source": []
  }
 ],
 "metadata": {
  "kernelspec": {
   "display_name": "Python 3",
   "language": "python",
   "name": "python3"
  },
  "language_info": {
   "codemirror_mode": {
    "name": "ipython",
    "version": 3
   },
   "file_extension": ".py",
   "mimetype": "text/x-python",
   "name": "python",
   "nbconvert_exporter": "python",
   "pygments_lexer": "ipython3",
   "version": "3.7.1"
  }
 },
 "nbformat": 4,
 "nbformat_minor": 2
}
