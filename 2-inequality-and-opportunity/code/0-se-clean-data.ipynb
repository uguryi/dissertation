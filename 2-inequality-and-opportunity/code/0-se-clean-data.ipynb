{
 "cells": [
  {
   "cell_type": "markdown",
   "metadata": {},
   "source": [
    "### Import necessary libraries, set options"
   ]
  },
  {
   "cell_type": "code",
   "execution_count": null,
   "metadata": {},
   "outputs": [],
   "source": [
    "import numpy as np\n",
    "import os\n",
    "import pandas as pd\n",
    "import re\n",
    "\n",
    "pd.set_option('display.max_columns', 175)"
   ]
  },
  {
   "cell_type": "markdown",
   "metadata": {},
   "source": [
    "### Read in dataset"
   ]
  },
  {
   "cell_type": "code",
   "execution_count": null,
   "metadata": {},
   "outputs": [],
   "source": [
    "path_to_raw_data = os.path.join(\"path/to/raw/data\")\n",
    "\n",
    "data = pd.read_csv(os.path.join(path_to_raw_data, \n",
    "                                \"raw-data.csv\"))\n",
    "\n",
    "# Initialize condition columns\n",
    "data[\"condition\"] = np.nan\n",
    "data[\"ineq_condition\"] = np.nan\n",
    "data[\"mobil_condition\"] = np.nan"
   ]
  },
  {
   "cell_type": "code",
   "execution_count": null,
   "metadata": {
    "scrolled": false
   },
   "outputs": [],
   "source": [
    "print(data.shape)\n",
    "data.head()"
   ]
  },
  {
   "cell_type": "markdown",
   "metadata": {},
   "source": [
    "### Remove unnecessary rows"
   ]
  },
  {
   "cell_type": "code",
   "execution_count": null,
   "metadata": {
    "scrolled": true
   },
   "outputs": [],
   "source": [
    "data2 = data.drop([0,1], axis = 0)\n",
    "data2 = data2[data2.Status != \"Survey Preview\"]\n",
    "print(data2.shape)\n",
    "data2.head()"
   ]
  },
  {
   "cell_type": "code",
   "execution_count": null,
   "metadata": {
    "scrolled": true
   },
   "outputs": [],
   "source": [
    "data2.tail()"
   ]
  },
  {
   "cell_type": "markdown",
   "metadata": {},
   "source": [
    "### Verify respondents unique"
   ]
  },
  {
   "cell_type": "code",
   "execution_count": null,
   "metadata": {},
   "outputs": [],
   "source": [
    "len(np.unique(data2.rid))"
   ]
  },
  {
   "cell_type": "code",
   "execution_count": null,
   "metadata": {},
   "outputs": [],
   "source": [
    "data2[data2.duplicated(subset = \"rid\")]"
   ]
  },
  {
   "cell_type": "code",
   "execution_count": null,
   "metadata": {},
   "outputs": [],
   "source": [
    "#data2[data2.rid == \"XXXXXXXX-XXXX-XXXX-XXXX-XXXXXXXXXXXX\"] # Didn't give consent, so will be dropped anyway"
   ]
  },
  {
   "cell_type": "markdown",
   "metadata": {},
   "source": [
    "### Remove respondents who said \"No\" to the consent question"
   ]
  },
  {
   "cell_type": "code",
   "execution_count": null,
   "metadata": {},
   "outputs": [],
   "source": [
    "data3 = data2[data2[\"IRB Consent\"] == \n",
    "              \"Yes, I would like to take part in this study, and confirm that I AM A US RESIDENT and am 18 or older\"]"
   ]
  },
  {
   "cell_type": "code",
   "execution_count": null,
   "metadata": {
    "scrolled": true
   },
   "outputs": [],
   "source": [
    "print(data3.shape)\n",
    "data3.head()"
   ]
  },
  {
   "cell_type": "markdown",
   "metadata": {},
   "source": [
    "### Reorganize/rename columns, removing sensitive info along the way"
   ]
  },
  {
   "cell_type": "code",
   "execution_count": null,
   "metadata": {},
   "outputs": [],
   "source": [
    "exp_main = [\n",
    "    \"condition\", \"ineq_condition\", \"mobil_condition\",\n",
    "    \"IIQ\", \"IDQ\", \"MDQ\", \"MIQ\",\n",
    "    \"FL_3_DO\", \"FL_19_DO\", \"FL_20_DO\"\n",
    "]\n",
    "\n",
    "outcome = [\n",
    "    \"O1.1\", \"O1.2\", \"O1.3\", \n",
    "    \"O2.1\", \"O2.2_1\", \"O2.2_2\", \"O2.2_3\", \"O2.2_4\", \"O2.2_5\", \"O2.3\", \n",
    "    \"O3.1\", \"O3.2\", \"O3.3\", \n",
    "    \"O4.1\", \"O4.2\", \"O4.3\", \"O4.4\", \"O4.5\",\n",
    "    \"FL_34_DO\", \"O1_DO\", \"O2_DO\", \"O3_DO\", \"O4_DO\"\n",
    "]\n",
    "\n",
    "mc = [\n",
    "    \"MC1\", \"MC2\", \"MC_DO\"\n",
    "]\n",
    "\n",
    "demog = [\n",
    "    \"DQ1\", \"DQ2\", \"DQ3\", \"DQ4\", \"DQ5\", \n",
    "    \"DQ6\", \"DQ7\", \"DQ8\", \"DQ9\", \"DQ10\", \n",
    "    \"DQ11\", \"DQ12\", \"DQ13\", \"DQ14\", \"DQ15\"\n",
    "]"
   ]
  },
  {
   "cell_type": "code",
   "execution_count": null,
   "metadata": {},
   "outputs": [],
   "source": [
    "exp_aux = [\n",
    "    \"SEQ\",\n",
    "    \"TSEAT_First Click\", \"TSEAT_Last Click\", \"TSEAT_Page Submit\", \"TSEAT_Click Count\",\n",
    "    \"TSEAF_First Click\", \"TSEAF_Last Click\", \"TSEAF_Page Submit\", \"TSEAF_Click Count\",\n",
    "    \"LTQ\",\n",
    "    \"TLTAT_First Click\", \"TLTAT_Last Click\", \"TLTAT_Page Submit\", \"TLTAT_Click Count\",\n",
    "    \"TLTAF_First Click\", \"TLTAF_Last Click\", \"TLTAF_Page Submit\", \"TLTAF_Click Count\",\n",
    "    \"TIIAT_First Click\", \"TIIAT_Last Click\", \"TIIAT_Page Submit\", \"TIIAT_Click Count\", \n",
    "    \"TIIAF_First Click\", \"TIIAF_Last Click\", \"TIIAF_Page Submit\", \"TIIAF_Click Count\",\n",
    "    \"TIDAT_First Click\", \"TIDAT_Last Click\", \"TIDAT_Page Submit\", \"TIDAT_Click Count\",\n",
    "    \"TIDAF_First Click\", \"TIDAF_Last Click\", \"TIDAF_Page Submit\", \"TIDAF_Click Count\",\n",
    "    \"TMDAT_First Click\", \"TMDAT_Last Click\", \"TMDAT_Page Submit\", \"TMDAT_Click Count\",\n",
    "    \"TMDAF_First Click\", \"TMDAF_Last Click\", \"TMDAF_Page Submit\", \"TMDAF_Click Count\",\n",
    "    \"TMIAT_First Click\", \"TMIAT_Last Click\", \"TMIAT_Page Submit\", \"TMIAT_Click Count\",\n",
    "    \"TMIAF_First Click\", \"TMIAF_Last Click\", \"TMIAF_Page Submit\", \"TMIAF_Click Count\"\n",
    "]\n",
    "\n",
    "consent = [\n",
    "    \"IRB Consent\"\n",
    "]\n",
    "\n",
    "qualtrics_other = [\n",
    "    \"StartDate\", \"EndDate\", \"Status\", \"Progress\", \"Duration (in seconds)\", \"Finished\", \"RecordedDate\", \n",
    "    \"RecipientLastName\", \"RecipientFirstName\", \"RecipientEmail\", \"ExternalReference\", \"DistributionChannel\", \n",
    "    \"UserLanguage\"\n",
    "]\n",
    "\n",
    "lucid_other = [\n",
    "    \"age\", \"gender\", \"hhi\", \"ethnicity\", \"hispanic\", \"education\", \"political_party\", \"region\"\n",
    "]"
   ]
  },
  {
   "cell_type": "code",
   "execution_count": null,
   "metadata": {},
   "outputs": [],
   "source": [
    "qualtrics_sensitive = [\n",
    "    \"IPAddress\", \"ResponseId\", \"LocationLatitude\", \"LocationLongitude\"\n",
    "]\n",
    "\n",
    "lucid_sensitive = [\n",
    "    \"rid\", \"zip\"\n",
    "]"
   ]
  },
  {
   "cell_type": "code",
   "execution_count": null,
   "metadata": {},
   "outputs": [],
   "source": [
    "data4 = data3[\n",
    "   exp_main + outcome + mc + demog + exp_aux + consent + qualtrics_other + lucid_other\n",
    "]"
   ]
  },
  {
   "cell_type": "code",
   "execution_count": null,
   "metadata": {
    "scrolled": true
   },
   "outputs": [],
   "source": [
    "data4.head()"
   ]
  },
  {
   "cell_type": "code",
   "execution_count": null,
   "metadata": {},
   "outputs": [],
   "source": [
    "data5 = data4[\n",
    "   exp_main + outcome + mc + demog\n",
    "]"
   ]
  },
  {
   "cell_type": "code",
   "execution_count": null,
   "metadata": {
    "scrolled": true
   },
   "outputs": [],
   "source": [
    "data5.head()"
   ]
  },
  {
   "cell_type": "code",
   "execution_count": null,
   "metadata": {},
   "outputs": [],
   "source": [
    "data6 = data5.rename(columns = {\n",
    "    \"IIQ\" :      \"ineq_ans_ii\",\n",
    "    \"IDQ\" :      \"ineq_ans_id\",\n",
    "    \"MDQ\" :      \"mobil_ans_md\",\n",
    "    \"MIQ\" :      \"mobil_ans_mi\",\n",
    "    \"FL_3_DO\" :  \"ineq_or_mobil_first\", \n",
    "    \"FL_19_DO\" : \"ineq_condition_text\", \n",
    "    \"FL_20_DO\" : \"mobil_condition_text\",\n",
    "    \"O1.1\" :     \"income_result_of_circumstances\", \n",
    "    \"O1.2\" :     \"equal_outcomes\", \n",
    "    \"O1.3\" :     \"govt_should_take_active_steps\",\n",
    "    \"O2.1\" :     \"ineq_is_a_serious_problem\",\n",
    "    \"O2.2_1\" :   \"how_to_fix_ineq_1st_choice\",\n",
    "    \"O2.2_2\" :   \"how_to_fix_ineq_2nd_choice\",\n",
    "    \"O2.2_3\" :   \"how_to_fix_ineq_3rd_choice\",\n",
    "    \"O2.2_4\" :   \"how_to_fix_ineq_4th_choice\",    \n",
    "    \"O2.2_5\" :   \"how_to_fix_ineq_5th_choice\",\n",
    "    \"O2.3\"  :    \"how_to_fix_ineq_text\",\n",
    "    \"O3.1\" :     \"high_earners_rarely_deserving\",\n",
    "    \"O3.2\" :     \"increase_taxes_on_millionares\",\n",
    "    \"O3.3\" :     \"increase_estate_tax\",\n",
    "    \"O4.1\" :     \"increase_min_wage\",\n",
    "    \"O4.2\" :     \"increase_aid_to_poor\",\n",
    "    \"O4.3\" :     \"increase_food_stamps\",\n",
    "    \"O4.4\" :     \"support_entrepreneurs\",\n",
    "    \"O4.5\" :     \"support_housing\",\n",
    "    \"FL_34_DO\" : \"outcome_blocks_order\",\n",
    "    \"O1_DO\" :    \"outcome_block1_order\", \n",
    "    \"O2_DO\" :    \"outcome_block2_order\",\n",
    "    \"O3_DO\" :    \"outcome_block3_order\",\n",
    "    \"O4_DO\" :    \"outcome_block4_order\",\n",
    "    \"MC1\" :      \"gap_btw_rich_and_poor_increasing\",\n",
    "    \"MC2\" :      \"children_have_worse_chances\",\n",
    "    \"MC_DO\" :    \"mc_order\",\n",
    "    \"DQ1\" :      \"is_us_resident\",\n",
    "    \"DQ2\" :      \"state\",\n",
    "    \"DQ3\" :      \"gender\",\n",
    "    \"DQ4\" :      \"age\",\n",
    "    \"DQ5\" :      \"marital_status\",\n",
    "    \"DQ6\" :      \"has_children\",\n",
    "    \"DQ7\" :      \"race\",\n",
    "    \"DQ8\" :      \"education\",\n",
    "    \"DQ9\" :      \"employment_status\",\n",
    "    \"DQ10\" :     \"income\",\n",
    "    \"DQ11\" :     \"intergen_mobility_down\",\n",
    "    \"DQ12\" :     \"intragen_mobility_down\",\n",
    "    \"DQ13\" :     \"income_volatility\",\n",
    "    \"DQ14\" :     \"liberal_vs_conservative\",\n",
    "    \"DQ15\" :     \"democrat_vs_republican\"\n",
    "})"
   ]
  },
  {
   "cell_type": "code",
   "execution_count": null,
   "metadata": {
    "scrolled": true
   },
   "outputs": [],
   "source": [
    "data6.head()"
   ]
  },
  {
   "cell_type": "markdown",
   "metadata": {},
   "source": [
    "### Fill in condition values"
   ]
  },
  {
   "cell_type": "code",
   "execution_count": null,
   "metadata": {},
   "outputs": [],
   "source": [
    "data7 = data6.reset_index(drop = True).copy()"
   ]
  },
  {
   "cell_type": "code",
   "execution_count": null,
   "metadata": {},
   "outputs": [],
   "source": [
    "for index, row in data7.iterrows():\n",
    "    if row['ineq_ans_ii'] == row['ineq_ans_ii']:\n",
    "        data7.loc[index, 'ineq_condition'] = 1\n",
    "    elif row['ineq_ans_id'] == row['ineq_ans_id']:\n",
    "        data7.loc[index, 'ineq_condition'] = 0\n",
    "        \n",
    "    if row['mobil_ans_md'] == row['mobil_ans_md']:\n",
    "        data7.loc[index, 'mobil_condition'] = 1\n",
    "    elif row['mobil_ans_mi'] == row['mobil_ans_mi']:\n",
    "        data7.loc[index, 'mobil_condition'] = 0"
   ]
  },
  {
   "cell_type": "code",
   "execution_count": null,
   "metadata": {
    "scrolled": true
   },
   "outputs": [],
   "source": [
    "data7.head()"
   ]
  },
  {
   "cell_type": "code",
   "execution_count": null,
   "metadata": {},
   "outputs": [],
   "source": [
    "for index, row in data7.iterrows():\n",
    "    if row['ineq_condition'] == 0 and row['mobil_condition'] == 0:\n",
    "        data7.loc[index, 'condition'] = 'decr_ineq_incr_mobil'\n",
    "    elif row['ineq_condition'] == 0 and row['mobil_condition'] == 1:\n",
    "        data7.loc[index, 'condition'] = 'decr_ineq_decr_mobil'\n",
    "    elif row['ineq_condition'] == 1 and row['mobil_condition'] == 0:\n",
    "        data7.loc[index, 'condition'] = 'incr_ineq_incr_mobil'\n",
    "    elif row['ineq_condition'] == 1 and row['mobil_condition'] == 1:\n",
    "        data7.loc[index, 'condition'] = 'incr_ineq_decr_mobil'"
   ]
  },
  {
   "cell_type": "code",
   "execution_count": null,
   "metadata": {
    "scrolled": true
   },
   "outputs": [],
   "source": [
    "data7.head()"
   ]
  },
  {
   "cell_type": "markdown",
   "metadata": {},
   "source": [
    "### Combine quiz answers in a single column"
   ]
  },
  {
   "cell_type": "code",
   "execution_count": null,
   "metadata": {
    "scrolled": true
   },
   "outputs": [],
   "source": [
    "data8 = data7.copy()\n",
    "\n",
    "data8[\"ineq_quiz_ans\"]  = data8[\"ineq_ans_ii\"]\n",
    "data8[\"ineq_quiz_ans\"]  = data8['ineq_quiz_ans'].fillna(data8[\"ineq_ans_id\"])\n",
    "\n",
    "data8[\"mobil_quiz_ans\"] = data8[\"mobil_ans_md\"]\n",
    "data8[\"mobil_quiz_ans\"] = data8['mobil_quiz_ans'].fillna(data8[\"mobil_ans_mi\"])\n",
    "\n",
    "data8.head()"
   ]
  },
  {
   "cell_type": "markdown",
   "metadata": {},
   "source": [
    "### Parse display order columns"
   ]
  },
  {
   "cell_type": "code",
   "execution_count": null,
   "metadata": {},
   "outputs": [],
   "source": [
    "data9 = data8.copy()"
   ]
  },
  {
   "cell_type": "code",
   "execution_count": null,
   "metadata": {
    "scrolled": true
   },
   "outputs": [],
   "source": [
    "def parse_exp_do(row):\n",
    "    entry = row['ineq_or_mobil_first']\n",
    "    if entry != entry:\n",
    "        display_order = []\n",
    "    else:\n",
    "        temp = re.sub('FL_19', 'ineq', entry)\n",
    "        display_order = re.sub('FL_20', 'mobil', temp).split(\"|\")\n",
    "    return display_order\n",
    "\n",
    "data9['exp_display_order'] = data9.apply(parse_exp_do, axis = 1)\n",
    "data9.head()"
   ]
  },
  {
   "cell_type": "code",
   "execution_count": null,
   "metadata": {},
   "outputs": [],
   "source": [
    "data10 = data9.copy()"
   ]
  },
  {
   "cell_type": "code",
   "execution_count": null,
   "metadata": {
    "scrolled": true
   },
   "outputs": [],
   "source": [
    "def parse_outcome_do(row):\n",
    "    entry = row['outcome_blocks_order']\n",
    "    if entry != entry:\n",
    "        display_order = []\n",
    "    else:\n",
    "        temp_list = entry.split(\"|\")\n",
    "        temp_str = \"\"\n",
    "        for e in temp_list:\n",
    "            if e == \"O1\":\n",
    "                temp_str += row['outcome_block1_order'] + \"|\"\n",
    "            elif e == \"O2\":\n",
    "                temp_str += row['outcome_block2_order'] + \"|\"\n",
    "            elif e == \"O3\":\n",
    "                temp_str += row['outcome_block3_order'] + \"|\"\n",
    "            elif e == \"O4\":\n",
    "                temp_str += row['outcome_block4_order'] + \"|\"\n",
    "        temp_str2 = re.sub(\"O1.1\", \"income_result_of_circumstances\", temp_str[:-1])\n",
    "        temp_str2 = re.sub(\"O1.2\", \"equal_outcomes\", temp_str2)\n",
    "        temp_str2 = re.sub(\"O1.3\", \"govt_should_take_active_steps\", temp_str2)\n",
    "        temp_str2 = re.sub(\"O2.1\", \"ineq_is_a_serious_problem\", temp_str2)\n",
    "        temp_str2 = re.sub(\"O2.2\", \"how_to_fix_ineq_rank\", temp_str2)\n",
    "        temp_str2 = re.sub(\"O2.3\", \"how_to_fix_ineq_text\", temp_str2)\n",
    "        temp_str2 = re.sub(\"O3.1\", \"high_earners_rarely_deserving\", temp_str2)\n",
    "        temp_str2 = re.sub(\"O3.2\", \"increase_taxes_on_millionares\", temp_str2)\n",
    "        temp_str2 = re.sub(\"O3.3\", \"increase_estate_tax\", temp_str2)\n",
    "        temp_str2 = re.sub(\"O4.1\", \"increase_min_wage\", temp_str2)\n",
    "        temp_str2 = re.sub(\"O4.2\", \"increase_aid_to_poor\", temp_str2)\n",
    "        temp_str2 = re.sub(\"O4.3\", \"increase_food_stamps\", temp_str2)\n",
    "        temp_str2 = re.sub(\"O4.4\", \"support_entrepreneurs\", temp_str2)\n",
    "        temp_str2 = re.sub(\"O4.5\", \"support_housing\", temp_str2)\n",
    "        display_order = temp_str2.split(\"|\")\n",
    "        return display_order\n",
    "\n",
    "data10['outcome_display_order'] = data10.apply(parse_outcome_do, axis = 1)\n",
    "data10.head()"
   ]
  },
  {
   "cell_type": "code",
   "execution_count": null,
   "metadata": {},
   "outputs": [],
   "source": [
    "data11 = data10.copy()"
   ]
  },
  {
   "cell_type": "code",
   "execution_count": null,
   "metadata": {
    "scrolled": true
   },
   "outputs": [],
   "source": [
    "def parse_mc_do(row):\n",
    "    entry = row['mc_order']\n",
    "    if entry != entry:\n",
    "        display_order = []\n",
    "    else:\n",
    "        temp = re.sub('MC1', 'ineq_mc', entry)\n",
    "        display_order = re.sub('MC2', 'mobil_mc', temp).split(\"|\")\n",
    "    return display_order\n",
    "\n",
    "data11['mc_display_order'] = data11.apply(parse_mc_do, axis = 1)\n",
    "data11.head()"
   ]
  },
  {
   "cell_type": "markdown",
   "metadata": {},
   "source": [
    "### Recode values into numeric"
   ]
  },
  {
   "cell_type": "code",
   "execution_count": null,
   "metadata": {},
   "outputs": [],
   "source": [
    "data12 = data11.copy()"
   ]
  },
  {
   "cell_type": "code",
   "execution_count": null,
   "metadata": {},
   "outputs": [],
   "source": [
    "data12['ineq_quiz_ans'] = data12['ineq_quiz_ans'].map({\n",
    "    \"Decreased (More wealth for most)\": 1,\n",
    "    \"Stayed the same\":                  2,\n",
    "    \"Increased (Less wealth for most)\": 3})\n",
    "\n",
    "data12['mobil_quiz_ans'] = data12['mobil_quiz_ans'].map({\n",
    "    \"Increased (Rising incomes for most)\":  1,\n",
    "    \"Stayed the same\":                      2,\n",
    "    \"Decreased (Falling incomes for most)\": 3})\n",
    "    \n",
    "data12.head(3)"
   ]
  },
  {
   "cell_type": "code",
   "execution_count": null,
   "metadata": {},
   "outputs": [],
   "source": [
    "data12['income_result_of_circumstances'] = data12['income_result_of_circumstances'].map({\n",
    "    \"One’s income and position in society is mostly the result of one’s individual effort\": 0, \n",
    "    \"One’s income and position in society is to a large extent the outcome of elements outside of one’s control \\\n",
    "(e.g., family background, luck, health issues)\": 1\n",
    "})\n",
    "\n",
    "data12['equal_outcomes'] = data12['equal_outcomes'].map({\n",
    "    \"Equal opportunity\": 0, \n",
    "    \"Equal outcomes\":    1\n",
    "})\n",
    "\n",
    "data12['govt_should_take_active_steps'] = data12['govt_should_take_active_steps'].map({\n",
    "    \"1 - The government should do only those things necessary to provide the most basic government functions\": 1, \n",
    "    \"2\": 2,\n",
    "    \"3\": 3,\n",
    "    \"4\": 4,\n",
    "    \"5 - The government should take active steps in every area it can to try and improve the lives of its \\\n",
    "citizens\": 5,\n",
    "})\n",
    "\n",
    "data12.head(3)"
   ]
  },
  {
   "cell_type": "code",
   "execution_count": null,
   "metadata": {},
   "outputs": [],
   "source": [
    "data12['ineq_is_a_serious_problem'] = data12['ineq_is_a_serious_problem'].map({\n",
    "    \"Not a problem at all\":   1,\n",
    "    \"A small problem\":        2,\n",
    "    \"A problem\":              3,\n",
    "    \"A serious problem\":      4,\n",
    "    \"A very serious problem\": 5 \n",
    "})\n",
    "\n",
    "data12['how_to_fix_ineq_1st_choice'] = data12['how_to_fix_ineq_1st_choice'].map({\n",
    "    \"1\": 1, # Education Policies\n",
    "    \"2\": 2, # Government Regulation (e.g., min wage, caps on top compensation)\n",
    "    \"3\": 3, # Government Transfers (e.g., food stamps, Medicaid)\n",
    "    \"4\": 4, # Private Charity\n",
    "    \"5\": 5, # Progressive Taxes\n",
    "})\n",
    "\n",
    "data12['how_to_fix_ineq_2nd_choice'] = data12['how_to_fix_ineq_2nd_choice'].map({\n",
    "    \"1\": 1, # Education Policies\n",
    "    \"2\": 2, # Government Regulation (e.g., min wage, caps on top compensation)\n",
    "    \"3\": 3, # Government Transfers (e.g., food stamps, Medicaid)\n",
    "    \"4\": 4, # Private Charity\n",
    "    \"5\": 5, # Progressive Taxes\n",
    "})\n",
    "\n",
    "data12['how_to_fix_ineq_3rd_choice'] = data12['how_to_fix_ineq_3rd_choice'].map({\n",
    "    \"1\": 1, # Education Policies\n",
    "    \"2\": 2, # Government Regulation (e.g., min wage, caps on top compensation)\n",
    "    \"3\": 3, # Government Transfers (e.g., food stamps, Medicaid)\n",
    "    \"4\": 4, # Private Charity\n",
    "    \"5\": 5, # Progressive Taxes\n",
    "})\n",
    "\n",
    "data12['how_to_fix_ineq_4th_choice'] = data12['how_to_fix_ineq_4th_choice'].map({\n",
    "    \"1\": 1, # Education Policies\n",
    "    \"2\": 2, # Government Regulation (e.g., min wage, caps on top compensation)\n",
    "    \"3\": 3, # Government Transfers (e.g., food stamps, Medicaid)\n",
    "    \"4\": 4, # Private Charity\n",
    "    \"5\": 5, # Progressive Taxes\n",
    "})\n",
    "\n",
    "data12['how_to_fix_ineq_5th_choice'] = data12['how_to_fix_ineq_5th_choice'].map({\n",
    "    \"1\": 1, # Education Policies\n",
    "    \"2\": 2, # Government Regulation (e.g., min wage, caps on top compensation)\n",
    "    \"3\": 3, # Government Transfers (e.g., food stamps, Medicaid)\n",
    "    \"4\": 4, # Private Charity\n",
    "    \"5\": 5, # Progressive Taxes\n",
    "})\n",
    "\n",
    "# how_to_fix_ineq_text stays as is for now\n",
    "\n",
    "data12.head(3)"
   ]
  },
  {
   "cell_type": "code",
   "execution_count": null,
   "metadata": {},
   "outputs": [],
   "source": [
    "data12['high_earners_rarely_deserving'] = data12['high_earners_rarely_deserving'].map({\n",
    "    \"Most of the time\": 1, \n",
    "    \"Sometimes\":        2,\n",
    "    \"Rarely\":           3\n",
    "})\n",
    "\n",
    "data12['increase_taxes_on_millionares'] = data12['increase_taxes_on_millionares'].map({\n",
    "    \"Decreased\":     1, \n",
    "    \"Stay the same\": 2,\n",
    "    \"Increased\":     3\n",
    "})\n",
    "\n",
    "data12['increase_estate_tax'] = data12['increase_estate_tax'].map({\n",
    "    \"Decreased\":  1, \n",
    "    \"Left as is\": 2,\n",
    "    \"Increased\":  3\n",
    "})\n",
    "\n",
    "data12.head(3)"
   ]
  },
  {
   "cell_type": "code",
   "execution_count": null,
   "metadata": {},
   "outputs": [],
   "source": [
    "data12['increase_min_wage'] = data12['increase_min_wage'].map({\n",
    "    \"Decreased\":     1, \n",
    "    \"Stay the same\": 2,\n",
    "    \"Increased\":     3\n",
    "})\n",
    "\n",
    "data12['increase_aid_to_poor'] = data12['increase_aid_to_poor'].map({\n",
    "    \"Significantly decrease\": 1,\n",
    "    \"Slightly decrease\":      2,\n",
    "    \"Keep at current level\":  3,\n",
    "    \"Slightly increase\":      4,\n",
    "    \"Significantly increase\": 5\n",
    "})\n",
    "\n",
    "data12['increase_food_stamps'] = data12['increase_food_stamps'].map({\n",
    "    \"Significantly decrease\": 1,\n",
    "    \"Slightly decrease\":      2,\n",
    "    \"Keep at current level\":  3,\n",
    "    \"Slightly increase\":      4,\n",
    "    \"Significantly increase\": 5\n",
    "})\n",
    "\n",
    "data12['support_entrepreneurs'] = data12['support_entrepreneurs'].map({\n",
    "    \"No\":  0, \n",
    "    \"Yes\": 1\n",
    "})\n",
    "\n",
    "data12['support_housing'] = data12['support_housing'].map({\n",
    "    \"No\":  0, \n",
    "    \"Yes\": 1\n",
    "})\n",
    "\n",
    "data12.head(3)"
   ]
  },
  {
   "cell_type": "code",
   "execution_count": null,
   "metadata": {},
   "outputs": [],
   "source": [
    "data12['gap_btw_rich_and_poor_increasing'] = data12['gap_btw_rich_and_poor_increasing'].map({\n",
    "    \"Decreasing\": 1, \n",
    "    \"Same\":       2,\n",
    "    \"Increasing\": 3,    \n",
    "})\n",
    "\n",
    "data12['children_have_worse_chances'] = data12['children_have_worse_chances'].map({\n",
    "    \"Better\": 1, \n",
    "    \"Same\":   2,\n",
    "    \"Worse\":  3,    \n",
    "})\n",
    "\n",
    "data12.head(3)"
   ]
  },
  {
   "cell_type": "code",
   "execution_count": null,
   "metadata": {},
   "outputs": [],
   "source": [
    "data12['is_us_resident'] = data12['is_us_resident'].map({\n",
    "    \"No\":  0,\n",
    "    \"Yes\": 1\n",
    "})\n",
    "\n",
    "# state stays as is for now\n",
    "\n",
    "data12.head(3)"
   ]
  },
  {
   "cell_type": "code",
   "execution_count": null,
   "metadata": {},
   "outputs": [],
   "source": [
    "data12['gender'] = data12['gender'].map({\n",
    "    \"Other\":  1,\n",
    "    \"Male\":   2,\n",
    "    \"Female\": 3\n",
    "})\n",
    "\n",
    "data12['age'] = data12['age'].astype(int)\n",
    "\n",
    "data12['marital_status'] = data12['marital_status'].map({\n",
    "    \"Single\":  0,\n",
    "    \"Married\": 1\n",
    "})\n",
    "\n",
    "data12['has_children'] = data12['has_children'].map({\n",
    "    \"No\":  0,\n",
    "    \"Yes\": 1\n",
    "})\n",
    "\n",
    "data12.head(3)"
   ]
  },
  {
   "cell_type": "code",
   "execution_count": null,
   "metadata": {},
   "outputs": [],
   "source": [
    "data12['race'] = data12['race'].map({\n",
    "    \"European American/White\": 1,\n",
    "    \"African American/Black\":  2 ,\n",
    "    \"Hispanic/Latino\":         3,\n",
    "    \"Asian/Asian American\":    4,\n",
    "    \"Other\":                   5\n",
    "})\n",
    "\n",
    "data12['education'] = data12['education'].map({\n",
    "    \"Eighth Grade or Less\":              1,\n",
    "    \"Some High School\":                  2,\n",
    "    \"High School Degree/GED\":            3,\n",
    "    \"Some College\":                      4,\n",
    "    \"2-year College Degree\":             5,\n",
    "    \"4-year College Degree\":             6,\n",
    "    \"Master's Degree\":                   7,\n",
    "    \"Doctoral Degree\":                   8,\n",
    "    \"Professional Degree (JD, MD, MBA)\": 9,\n",
    "})\n",
    "\n",
    "data12.head(3)"
   ]
  },
  {
   "cell_type": "code",
   "execution_count": null,
   "metadata": {},
   "outputs": [],
   "source": [
    "data12['employment_status'] = data12['employment_status'].map({\n",
    "    \"Full-time employee\":                                             1,\n",
    "    \"Part-time employee\":                                             2,\n",
    "    \"Self-employed or small business owner\":                          3,\n",
    "    \"Unemployed and looking for work\":                                4,\n",
    "    \"Student\":                                                        5,\n",
    "    \"Not in labor force (for example: retired, or full-time parent)\": 6,\n",
    "})\n",
    "\n",
    "data12['income'] = data12['income'].map({\n",
    "    \"$0 - $9,999\":         1,\n",
    "    \"$10,000 - 14,999\":    2, # Typo in the original survey (missing $)\n",
    "    \"$15,000 - $19,999\":   3,\n",
    "    \"$20,000 - $29,999\":   4,\n",
    "    \"$30,000 - $39,999\":   5,\n",
    "    \"$40,000 - $49,999\":   6,\n",
    "    \"$50,000 - $74,999\":   7,\n",
    "    \"$75,000 - $99,999\":   8,\n",
    "    \"$100,00 - $124,999\":  9,\n",
    "    \"$125,000 - $149,999\": 10,\n",
    "    \"$150,000 - $199,999\": 11,\n",
    "    \"$200,000+\":           12 \n",
    "})\n",
    "\n",
    "data12['intergen_mobility_down'] = data12['intergen_mobility_down'].map({\n",
    "    \"Much worse\":      5,\n",
    "    \"Somewhat worse\":  4,\n",
    "    \"About the same\":  3,\n",
    "    \"Somewhat better\": 2,\n",
    "    \"Much better\":     1\n",
    "})\n",
    "\n",
    "data12['intragen_mobility_down'] = data12['intragen_mobility_down'].map({\n",
    "    \"Much worse\":      5,\n",
    "    \"Somewhat worse\":  4,\n",
    "    \"About the same\":  3,\n",
    "    \"Somewhat better\": 2,\n",
    "    \"Much better\":     1\n",
    "})\n",
    "\n",
    "data12['income_volatility'] = data12['income_volatility'].map({\n",
    "    \"Income varies a lot from month to month\":    3,\n",
    "    \"Income varies somewhat from month to month\": 2,\n",
    "    \"Income is about the same each month\":        1\n",
    "})\n",
    "\n",
    "data12.head(3)"
   ]
  },
  {
   "cell_type": "code",
   "execution_count": null,
   "metadata": {},
   "outputs": [],
   "source": [
    "data12['liberal_vs_conservative'] = data12['liberal_vs_conservative'].map({\n",
    "    \"Very conservative\": 1,\n",
    "    \"Conservative\":      2,\n",
    "    \"Moderate\":          3,\n",
    "    \"Liberal\":           4,\n",
    "    \"Very liberal\":      5\n",
    "})\n",
    "\n",
    "data12['democrat_vs_republican'] = data12['democrat_vs_republican'].map({\n",
    "    \"Republican\":  1,\n",
    "    \"Democrat\":    2,\n",
    "    \"Independent\": 3,\n",
    "    \"None\":        4\n",
    "})\n",
    "\n",
    "data12.head(3)"
   ]
  },
  {
   "cell_type": "markdown",
   "metadata": {},
   "source": [
    "### Reorganize columns again, leaving out unnecessary ones along the way"
   ]
  },
  {
   "cell_type": "code",
   "execution_count": null,
   "metadata": {},
   "outputs": [],
   "source": [
    "exp_cols = [\n",
    "    \"condition\", \"ineq_condition\", \"mobil_condition\", \"ineq_quiz_ans\", \"mobil_quiz_ans\", \"exp_display_order\"\n",
    "]\n",
    "\n",
    "outcome_cols = [\n",
    "    \"income_result_of_circumstances\", \"equal_outcomes\", \"govt_should_take_active_steps\",\n",
    "    \"ineq_is_a_serious_problem\", \n",
    "    \"how_to_fix_ineq_1st_choice\", \"how_to_fix_ineq_2nd_choice\", \"how_to_fix_ineq_3rd_choice\",\n",
    "    \"how_to_fix_ineq_4th_choice\", \"how_to_fix_ineq_5th_choice\", \n",
    "    \"how_to_fix_ineq_text\",\n",
    "    \"high_earners_rarely_deserving\", \"increase_taxes_on_millionares\", \"increase_estate_tax\",\n",
    "    \"increase_min_wage\", \"increase_aid_to_poor\", \"increase_food_stamps\", \"support_entrepreneurs\", \"support_housing\",\n",
    "    \"outcome_display_order\"\n",
    "]\n",
    "\n",
    "mc_cols = [\n",
    "    \"gap_btw_rich_and_poor_increasing\", \"children_have_worse_chances\", \"mc_display_order\"\n",
    "]\n",
    "\n",
    "demog_cols = [\n",
    "    \"is_us_resident\", \"state\", \n",
    "    \"gender\", \"age\", \"marital_status\", \"has_children\", \n",
    "    \"race\", \"education\", \n",
    "    \"employment_status\", \"income\", \"intergen_mobility_down\", \"intragen_mobility_down\", \"income_volatility\", \n",
    "    \"liberal_vs_conservative\", \"democrat_vs_republican\"\n",
    "]\n",
    "\n",
    "data13 = data12[exp_cols + outcome_cols + mc_cols + demog_cols]\n",
    "data13.head()"
   ]
  },
  {
   "cell_type": "markdown",
   "metadata": {},
   "source": [
    "### Export to csv/pkl"
   ]
  },
  {
   "cell_type": "code",
   "execution_count": null,
   "metadata": {},
   "outputs": [],
   "source": [
    "path_to_processed_data = os.path.join(\"path/to/processed/data\")"
   ]
  },
  {
   "cell_type": "code",
   "execution_count": null,
   "metadata": {},
   "outputs": [],
   "source": [
    "data13.to_csv(os.path.join(path_to_processed_data, \"survey_exp_data.csv\"))"
   ]
  },
  {
   "cell_type": "code",
   "execution_count": null,
   "metadata": {},
   "outputs": [],
   "source": [
    "data13.to_pickle(os.path.join(path_to_processed_data, \"survey_exp_data.pkl\"))"
   ]
  },
  {
   "cell_type": "markdown",
   "metadata": {},
   "source": [
    "### Export text only data"
   ]
  },
  {
   "cell_type": "code",
   "execution_count": null,
   "metadata": {},
   "outputs": [],
   "source": [
    "data14 = data13[['condition', 'ineq_condition', 'mobil_condition', \n",
    "                 'is_us_resident', 'state', \n",
    "                 'gender', 'age', 'marital_status', 'has_children', 'race', 'education', \n",
    "                 'employment_status', 'income', 'income_volatility', \n",
    "                 'liberal_vs_conservative', 'democrat_vs_republican', \n",
    "                 'how_to_fix_ineq_text']]\n",
    "print(data14.shape)\n",
    "data14.head()"
   ]
  },
  {
   "cell_type": "code",
   "execution_count": null,
   "metadata": {},
   "outputs": [],
   "source": [
    "data14.to_csv(os.path.join(path_to_processed_data, \"survey_exp_data_text.csv\"))"
   ]
  },
  {
   "cell_type": "code",
   "execution_count": null,
   "metadata": {},
   "outputs": [],
   "source": []
  }
 ],
 "metadata": {
  "kernelspec": {
   "display_name": "Python 3",
   "language": "python",
   "name": "python3"
  },
  "language_info": {
   "codemirror_mode": {
    "name": "ipython",
    "version": 3
   },
   "file_extension": ".py",
   "mimetype": "text/x-python",
   "name": "python",
   "nbconvert_exporter": "python",
   "pygments_lexer": "ipython3",
   "version": "3.7.1"
  }
 },
 "nbformat": 4,
 "nbformat_minor": 2
}
