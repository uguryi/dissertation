{
 "cells": [
  {
   "cell_type": "markdown",
   "metadata": {},
   "source": [
    "### Libraries, options"
   ]
  },
  {
   "cell_type": "code",
   "execution_count": null,
   "metadata": {},
   "outputs": [],
   "source": [
    "import numpy as np\n",
    "import os\n",
    "import pandas as pd\n",
    "import patsy\n",
    "import re\n",
    "import statsmodels.api as sm\n",
    "\n",
    "pd.set_option('display.max_columns', 250)\n",
    "pd.set_option('display.max_rows', 250)"
   ]
  },
  {
   "cell_type": "markdown",
   "metadata": {},
   "source": [
    "### Read data"
   ]
  },
  {
   "cell_type": "code",
   "execution_count": null,
   "metadata": {
    "scrolled": false
   },
   "outputs": [],
   "source": [
    "path_to_data = \"path/to/data\"\n",
    "data = pd.read_csv(os.path.join(path_to_data, \"survey-exp-data-corona.csv\"), low_memory = False)\n",
    "data = data.drop(columns = [\"Unnamed: 0\"])\n",
    "print(len(data))\n",
    "data.head()"
   ]
  },
  {
   "cell_type": "markdown",
   "metadata": {},
   "source": [
    "### Check comprehension question"
   ]
  },
  {
   "cell_type": "code",
   "execution_count": null,
   "metadata": {},
   "outputs": [],
   "source": [
    "data[\"comprehension_q\"] = data[\"comprehension_q\"].str.lower()"
   ]
  },
  {
   "cell_type": "code",
   "execution_count": null,
   "metadata": {},
   "outputs": [],
   "source": [
    "def check_control(row):\n",
    "    entry = row['comprehension_q']\n",
    "    pattern = \"(corona|corono|rona|virus|vairus|verious|covid|co vid|codv|19|\\\n",
    "disease|desisea|outbreak|pandemic|pandemoic|pndemic|epidemic)\"\n",
    "    if re.search(pattern, entry):\n",
    "        return 1\n",
    "    else:\n",
    "        return 0\n",
    "    \n",
    "data['control_check'] = data.apply(check_control, axis = 1)\n",
    "data[data['condition'] == 'corona_control'][['condition', \n",
    "                                             'control_check',\n",
    "                                             'comprehension_q']].groupby([\"condition\", \n",
    "                                                                          \"control_check\"]).count()"
   ]
  },
  {
   "cell_type": "code",
   "execution_count": null,
   "metadata": {},
   "outputs": [],
   "source": [
    "data[(data['condition'] == 'corona_control') & (data['control_check'] == 0)]"
   ]
  },
  {
   "cell_type": "code",
   "execution_count": null,
   "metadata": {},
   "outputs": [],
   "source": [
    "def check_natural_ineq(row):\n",
    "    entry = row['comprehension_q']\n",
    "    pattern = \"(elderly|ederly|elderley|elder|old|older|0lder|okder|weak|65|\\\n",
    "underlying|undsrline|medical|conditions|at risk|at most risk|higher risk|greater risk|extra care|\\\n",
    "susceptible|different|differently|differentky|affected most|most affected|affected the worst|\\\n",
    "vulnerability|valuable|vulable|vulnerable|certain populations|certain groups|same|heart|specific groups|\\\n",
    "some people more|poor health|hi risk|disproportionately|certain people|risk|people it affects|most|age|\\\n",
    "not affect|higher|group|affected|who|dffetenty|varing|more likely|affecting|diseased people|health|comorbidities|\\\n",
    "disproportionate|people infected|morbidities|infected by|differ|previous|with disease|disproportion)\"\n",
    "    if re.search(pattern, entry):\n",
    "        return 1\n",
    "    else:\n",
    "        return 0\n",
    "    \n",
    "data['natural_ineq_check'] = data.apply(check_natural_ineq, axis = 1)\n",
    "data[data['condition'] == 'corona_natural_ineq'][['condition', \n",
    "                                                  'natural_ineq_check',\n",
    "                                                  'comprehension_q']].groupby([\"condition\", \n",
    "                                                                               \"natural_ineq_check\"]).count()"
   ]
  },
  {
   "cell_type": "code",
   "execution_count": null,
   "metadata": {},
   "outputs": [],
   "source": [
    "data[(data['condition'] == 'corona_natural_ineq') & (data['natural_ineq_check'] == 0)]"
   ]
  },
  {
   "cell_type": "code",
   "execution_count": null,
   "metadata": {},
   "outputs": [],
   "source": [
    "def check_class_ineq(row):\n",
    "    entry = row['comprehension_q']\n",
    "    pattern = \"(poor|minority|minorities|low|black|hispanic|latin|color|same|\\\n",
    "different|differently|who|community|some people|racism|certain groups|certain races|race|\\\n",
    "groups|ethnic|sertin|differant|communities|miniorities|disproportional|certain|differntly|racial|\\\n",
    "inequality|equal|disproportionate|minorites|poc|less fortunate|not affected everyone|demog|comunitty|\\\n",
    "disproportion|most likely|group|isn’t affecting everyone|highly effected|surtane|affected|affecting|hard|\\\n",
    "proportion|affects|death rate|at risk)\"\n",
    "    if re.search(pattern, entry):\n",
    "        return 1\n",
    "    else:\n",
    "        return 0\n",
    "    \n",
    "data['class_ineq_check'] = data.apply(check_class_ineq, axis = 1)\n",
    "data[data['condition'] == 'corona_class_ineq'][['condition', \n",
    "                                                'class_ineq_check',\n",
    "                                                'comprehension_q']].groupby([\"condition\", \n",
    "                                                                             \"class_ineq_check\"]).count()"
   ]
  },
  {
   "cell_type": "code",
   "execution_count": null,
   "metadata": {},
   "outputs": [],
   "source": [
    "data[(data['condition'] == 'corona_class_ineq') & (data['class_ineq_check'] == 0)]"
   ]
  },
  {
   "cell_type": "markdown",
   "metadata": {},
   "source": [
    "### Fit models"
   ]
  },
  {
   "cell_type": "code",
   "execution_count": null,
   "metadata": {
    "scrolled": false
   },
   "outputs": [],
   "source": [
    "temp = data[(data['control_check'] == 1) | (data['natural_ineq_check'] == 1) | (data['class_ineq_check'] == 1)]\n",
    "print(temp.shape)\n",
    "temp.head()"
   ]
  },
  {
   "cell_type": "markdown",
   "metadata": {},
   "source": [
    "##### Figure 1"
   ]
  },
  {
   "cell_type": "code",
   "execution_count": null,
   "metadata": {
    "scrolled": true
   },
   "outputs": [],
   "source": [
    "y, X = patsy.dmatrices('coronavirus_serious_threat ~ C(condition) - 1', temp, return_type = 'dataframe')\n",
    "ols = sm.OLS(y, X)\n",
    "ols.fit().summary()"
   ]
  },
  {
   "cell_type": "code",
   "execution_count": null,
   "metadata": {
    "scrolled": true
   },
   "outputs": [],
   "source": [
    "y, X = patsy.dmatrices('must_save_economy ~ C(condition) - 1', temp, return_type = 'dataframe')\n",
    "ols = sm.OLS(y, X)\n",
    "ols.fit().summary()"
   ]
  },
  {
   "cell_type": "markdown",
   "metadata": {},
   "source": [
    "##### Figure 2"
   ]
  },
  {
   "cell_type": "code",
   "execution_count": null,
   "metadata": {
    "scrolled": true
   },
   "outputs": [],
   "source": [
    "def get_at_risk(row):\n",
    "    entry1 = row['self_at_risk']\n",
    "    entry2 = row['family_member_at_risk']\n",
    "    if entry1 + entry2 > 0:\n",
    "        return 1\n",
    "    else:\n",
    "        return 0\n",
    "\n",
    "temp['at_risk'] = temp.apply(get_at_risk, axis = 1)\n",
    "temp.head()"
   ]
  },
  {
   "cell_type": "code",
   "execution_count": null,
   "metadata": {
    "scrolled": true
   },
   "outputs": [],
   "source": [
    "y, X = patsy.dmatrices('coronavirus_serious_threat ~ C(condition) - 1', \n",
    "                       temp[temp['at_risk'] == 1], \n",
    "                       return_type = 'dataframe')\n",
    "ols = sm.OLS(y, X)\n",
    "ols.fit().summary()"
   ]
  },
  {
   "cell_type": "code",
   "execution_count": null,
   "metadata": {
    "scrolled": true
   },
   "outputs": [],
   "source": [
    "y, X = patsy.dmatrices('coronavirus_serious_threat ~ C(condition) - 1', \n",
    "                       temp[temp['at_risk'] == 0], \n",
    "                       return_type = 'dataframe')\n",
    "ols = sm.OLS(y, X)\n",
    "ols.fit().summary()"
   ]
  },
  {
   "cell_type": "code",
   "execution_count": null,
   "metadata": {
    "scrolled": true
   },
   "outputs": [],
   "source": [
    "y, X = patsy.dmatrices('must_save_economy ~ C(condition) - 1', \n",
    "                       temp[temp['at_risk'] == 1], \n",
    "                       return_type = 'dataframe')\n",
    "ols = sm.OLS(y, X)\n",
    "ols.fit().summary()"
   ]
  },
  {
   "cell_type": "code",
   "execution_count": null,
   "metadata": {
    "scrolled": true
   },
   "outputs": [],
   "source": [
    "y, X = patsy.dmatrices('must_save_economy ~ C(condition) - 1', \n",
    "                       temp[temp['at_risk'] == 0], \n",
    "                       return_type = 'dataframe')\n",
    "ols = sm.OLS(y, X)\n",
    "ols.fit().summary()"
   ]
  },
  {
   "cell_type": "code",
   "execution_count": null,
   "metadata": {},
   "outputs": [],
   "source": []
  }
 ],
 "metadata": {
  "kernelspec": {
   "display_name": "Python 3",
   "language": "python",
   "name": "python3"
  },
  "language_info": {
   "codemirror_mode": {
    "name": "ipython",
    "version": 3
   },
   "file_extension": ".py",
   "mimetype": "text/x-python",
   "name": "python",
   "nbconvert_exporter": "python",
   "pygments_lexer": "ipython3",
   "version": "3.7.1"
  }
 },
 "nbformat": 4,
 "nbformat_minor": 2
}
