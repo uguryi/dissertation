{
 "cells": [
  {
   "cell_type": "markdown",
   "metadata": {},
   "source": [
    "### Import necessary libraries, set options"
   ]
  },
  {
   "cell_type": "code",
   "execution_count": null,
   "metadata": {},
   "outputs": [],
   "source": [
    "import numpy as np\n",
    "import os\n",
    "import pandas as pd\n",
    "import re\n",
    "\n",
    "pd.set_option('display.max_columns', 250)\n",
    "pd.set_option('display.max_rows', 250)"
   ]
  },
  {
   "cell_type": "markdown",
   "metadata": {},
   "source": [
    "### Read in dataset"
   ]
  },
  {
   "cell_type": "code",
   "execution_count": null,
   "metadata": {
    "scrolled": true
   },
   "outputs": [],
   "source": [
    "path_to_raw_data = os.path.join(\"path/to/raw/data\")\n",
    "data = pd.read_csv(os.path.join(path_to_raw_data, \n",
    "                                \"raw-data.csv\"), low_memory = False)\n",
    "data[\"condition\"] = np.nan\n",
    "print(data.shape)\n",
    "data.head()"
   ]
  },
  {
   "cell_type": "markdown",
   "metadata": {},
   "source": [
    "### Remove unnecessary rows"
   ]
  },
  {
   "cell_type": "code",
   "execution_count": null,
   "metadata": {
    "scrolled": true
   },
   "outputs": [],
   "source": [
    "data2 = data.drop([0,1], axis = 0)\n",
    "data2 = data2[(data2.Status != \"Survey Preview\") & (data2.Status != \"Spam\") & (data2.Finished == \"True\")]\n",
    "print(data2.shape)\n",
    "data2.head()"
   ]
  },
  {
   "cell_type": "code",
   "execution_count": null,
   "metadata": {
    "scrolled": true
   },
   "outputs": [],
   "source": [
    "data2.tail()"
   ]
  },
  {
   "cell_type": "markdown",
   "metadata": {},
   "source": [
    "### Verify respondents unique"
   ]
  },
  {
   "cell_type": "code",
   "execution_count": null,
   "metadata": {},
   "outputs": [],
   "source": [
    "len(np.unique(data2.rid))\n",
    "data2[data2.duplicated(subset = \"rid\")]"
   ]
  },
  {
   "cell_type": "code",
   "execution_count": null,
   "metadata": {
    "scrolled": true
   },
   "outputs": [],
   "source": [
    "#data2[data2.rid == \"XXXXXXXX-XXXX-XXXX-XXXX-XXXXXXXXXXXX\"]"
   ]
  },
  {
   "cell_type": "code",
   "execution_count": null,
   "metadata": {
    "scrolled": true
   },
   "outputs": [],
   "source": [
    "#data2 = data2[data2['ResponseId'] != \"X_XXXXXXXXXXXXXXX\"]"
   ]
  },
  {
   "cell_type": "markdown",
   "metadata": {},
   "source": [
    "### Remove respondents who said \"No\" to the consent question"
   ]
  },
  {
   "cell_type": "code",
   "execution_count": null,
   "metadata": {},
   "outputs": [],
   "source": [
    "data3 = data2[data2[\"IRB Consent\"] == \n",
    "              \"Yes, I would like to take part in this study, and confirm that I AM A US RESIDENT and am 18 or older\"]"
   ]
  },
  {
   "cell_type": "code",
   "execution_count": null,
   "metadata": {},
   "outputs": [],
   "source": [
    "data3 = data3.reset_index(drop = True).copy()"
   ]
  },
  {
   "cell_type": "code",
   "execution_count": null,
   "metadata": {
    "scrolled": true
   },
   "outputs": [],
   "source": [
    "print(data3.shape)\n",
    "data3.head()"
   ]
  },
  {
   "cell_type": "markdown",
   "metadata": {},
   "source": [
    "### Reorganize/rename columns, removing sensitive info along the way"
   ]
  },
  {
   "cell_type": "code",
   "execution_count": null,
   "metadata": {},
   "outputs": [],
   "source": [
    "exp_main = [\n",
    "    \"condition\",\n",
    "    \"FL_3_DO\"\n",
    "]\n",
    "\n",
    "mc = [\n",
    "    \"SA.1\"\n",
    "]\n",
    "\n",
    "opinion = [\n",
    "    \"DS.1\", \"DS.2\", \"DS.3\", \"DS.4\", \"DS.5\", \"DS.6\", \"DS.7\", \"DS.8\", \"DS.9\",\n",
    "    \"DS.1R\", \"DS.2R\", \"DS.3R\", \"DS.4R\", \"DS.5R\", \"DS.6R\", \"DS.7R\", \"DS.8R\", \"DS.9R\",\n",
    "    \"EO.1\", \"EO.2\",\n",
    "    \"EO.1R\", \"EO.2R\",\n",
    "    \"LHW.1\", \"LHW.2\",\n",
    "    \"LHW.1R\", \"LHW.2R\",\n",
    "    \"ED.1\", \"ED.2\",\n",
    "    \"ED.1R\", \"ED.2R\",\n",
    "    \"ISP.1\", \"ISP.2\", \"ISP.3\", \"ISP.4\",\n",
    "    \"ISP.1R\", \"ISP.2R\", \"ISP.3R\", \"ISP.4R\",\n",
    "    \"GT.1\", \"GT.2\", \"GT.3\", \"GT.4\", \"GT.5\",\n",
    "    \"GT.1R\", \"GT.2R\", \"GT.3R\", \"GT.4R\", \"GT.5R\",\n",
    "    \"GMC.1\", \"GMC.2\", \"GMC.3\",\n",
    "    \"GMC.1R\", \"GMC.2R\", \"GMC.3R\",\n",
    "]\n",
    "\n",
    "demog = [\n",
    "    \"DQ1\", \"DQ2\", \"DQ3\", \"DQ4\", \"DQ5\", \n",
    "    \"DQ6\", \"DQ7\", \"DQ8\", \"DQ9\", \"DQ10\", \"DQ11\", \n",
    "    \"DQ12\", \"DQ13\", \"DQ14\", \"DQ15\", \"DQ16\", \"DQ17\", \"DQ18\", \"DQ19\", \"DQ20\",\n",
    "    \"DQ12R\", \"DQ13R\", \"DQ14R\", \"DQ15R\", \"DQ16R\", \"DQ17R\", \"DQ18R\", \"DQ19R\", \"DQ20R\",\n",
    "]\n",
    "\n",
    "parents = [\n",
    "    \"PQ1\", \"PQ2\", \"PQ3\", \"PQ4\", \n",
    "    \"PQ5\", \"PQ6\",\n",
    "    \"PQ5R\", \"PQ6R\"\n",
    "]\n",
    "\n",
    "coronavirus = [\n",
    "    \"CQ1\", \"CQ2\", \"CQ3\", \"CQ4\", \"CQ5\", \"CQ6\", \"CQ6_10_TEXT\", \"CQ7\",\n",
    "    \"CQ1R\", \"CQ2R\", \"CQ3R\", \"CQ4R\", \"CQ5R\", \"CQ6R\", \"CQ6R_10_TEXT\", \"CQ7R\"\n",
    "]"
   ]
  },
  {
   "cell_type": "code",
   "execution_count": null,
   "metadata": {},
   "outputs": [],
   "source": [
    "exp_aux = [\n",
    "    \"TCOR_First Click\", \"TCOR_Last Click\", \"TCOR_Page Submit\", \"TCOR_Click Count\",\n",
    "    \"TCORN_First Click\", \"TCORN_Last Click\", \"TCORN_Page Submit\", \"TCORN_Click Count\",\n",
    "    \"TCORC_First Click\", \"TCORC_Last Click\", \"TCORC_Page Submit\", \"TCORC_Click Count\",\n",
    "    \"TINT_First Click\", \"TINT_Last Click\", \"TINT_Page Submit\", \"TINT_Click Count\",\n",
    "    \"TNAT_First Click\", \"TNAT_Last Click\", \"TNAT_Page Submit\", \"TNAT_Click Count\",\n",
    "    \"TCLA_First Click\", \"TCLA_Last Click\", \"TCLA_Page Submit\", \"TCLA_Click Count\"\n",
    "]\n",
    "\n",
    "order = [\n",
    "    \"FL_59_DO\", \"FL_60_DO\", \"FL_61_DO\",\n",
    "    \"FL_70_DO\", \"FL_71_DO\", \"FL_72_DO\", \"FL_73_DO\", \"FL_74_DO\", \"FL_75_DO\", \"FL_76_DO\", \n",
    "    \"FL_78_DO\",\n",
    "    \"FL_83_DO\", \"FL_84_DO\",\n",
    "    \"DS_DO\", \"EO_DO\", \"LHW_DO\", \"ED_DO\", \"ISP_DO\", \"GT_DO\", \"GMC_DO\",\n",
    "    \"DS_Reverse_DO\", \"EO_Reverse_DO\", \"LHW_Reverse_DO\", \"ED_Reverse_DO\", \"ISP_Reverse_DO\", \n",
    "    \"GT_Reverse_DO\", \"GMC_Reverse_DO\",\n",
    "    \"GMC.3_DO\", \"GMC.3R_DO\",\n",
    "    \"DQ18_DO\", \"DQ18R_DO\"\n",
    "]\n",
    "\n",
    "consent = [\n",
    "    \"IRB Consent\"\n",
    "]\n",
    "\n",
    "qualtrics_other = [\n",
    "    \"StartDate\", \"EndDate\", \"Status\", \"Progress\", \"Duration (in seconds)\", \"Finished\", \"RecordedDate\", \n",
    "    \"RecipientLastName\", \"RecipientFirstName\", \"RecipientEmail\", \"ExternalReference\", \"DistributionChannel\", \n",
    "    \"UserLanguage\"\n",
    "]\n",
    "\n",
    "lucid_other = [\n",
    "    \"age\", \"gender\", \"hhi\", \"ethnicity\", \"hispanic\", \"education\", \"political_party\", \"region\"\n",
    "]"
   ]
  },
  {
   "cell_type": "code",
   "execution_count": null,
   "metadata": {},
   "outputs": [],
   "source": [
    "qualtrics_sensitive = [\n",
    "    \"IPAddress\", \"ResponseId\", \"LocationLatitude\", \"LocationLongitude\"\n",
    "]\n",
    "\n",
    "lucid_sensitive = [\n",
    "    \"rid\", \"zip\"\n",
    "]"
   ]
  },
  {
   "cell_type": "code",
   "execution_count": null,
   "metadata": {},
   "outputs": [],
   "source": [
    "data4 = data3[\n",
    "   exp_main + mc + opinion + demog + parents + coronavirus + order + \\\n",
    "   exp_aux + consent + qualtrics_other + lucid_other\n",
    "]"
   ]
  },
  {
   "cell_type": "code",
   "execution_count": null,
   "metadata": {
    "scrolled": true
   },
   "outputs": [],
   "source": [
    "data4.head()"
   ]
  },
  {
   "cell_type": "code",
   "execution_count": null,
   "metadata": {},
   "outputs": [],
   "source": [
    "data5 = data4[\n",
    "   exp_main + mc + opinion + demog + parents + coronavirus + order\n",
    "]"
   ]
  },
  {
   "cell_type": "code",
   "execution_count": null,
   "metadata": {
    "scrolled": true
   },
   "outputs": [],
   "source": [
    "data5.head()"
   ]
  },
  {
   "cell_type": "code",
   "execution_count": null,
   "metadata": {},
   "outputs": [],
   "source": [
    "data6 = data5.rename(columns = {\n",
    "    \"FL_3_DO\" : \"text_shown\",\n",
    "    \"SA.1\" : \"comprehension_q\",\n",
    "    \"DS.1\" : \"wealthy_family_essential\",\n",
    "    \"DS.2\" : \"educated_parents_essential\",\n",
    "    \"DS.3\" : \"having_ambition_essential\",\n",
    "    \"DS.4\" : \"hard_work_essential\",\n",
    "    \"DS.5\" : \"talent_essential\",\n",
    "    \"DS.6\" : \"luck_essential\",\n",
    "    \"DS.7\" : \"connections_essential\",\n",
    "    \"DS.8\" : \"good_education_essential\",\n",
    "    \"DS.9\" : \"political_influence_essential\",\n",
    "    \"DS.1R\" : \"wealthy_family_essential_r\",\n",
    "    \"DS.2R\" : \"educated_parents_essential_r\",\n",
    "    \"DS.3R\" : \"having_ambition_essential_r\",\n",
    "    \"DS.4R\" : \"hard_work_essential_r\",\n",
    "    \"DS.5R\" : \"talent_essential_r\",\n",
    "    \"DS.6R\" : \"luck_essential_r\",\n",
    "    \"DS.7R\" : \"connections_essential_r\",\n",
    "    \"DS.8R\" : \"good_education_essential_r\",\n",
    "    \"DS.9R\" : \"political_influence_essential_r\",\n",
    "    \"EO.1\" : \"enough_opportunities\",\n",
    "    \"EO.2\" : \"more_opportunities_than_parents\",\n",
    "    \"EO.1R\" : \"enough_opportunities_r\",\n",
    "    \"EO.2R\" : \"more_opportunities_than_parents_r\",\n",
    "    \"LHW.1\" : \"hard_work_brings_better_life\",\n",
    "    \"LHW.2\" : \"people_poor_because_laziness\",\n",
    "    \"LHW.1R\" : \"hard_work_brings_better_life_r\",\n",
    "    \"LHW.2R\" : \"people_poor_because_laziness_r\",\n",
    "    \"ED.1\" : \"high_earners_deserve_high\",\n",
    "    \"ED.2\" : \"low_earners_deserve_low\",\n",
    "    \"ED.1R\" : \"high_earners_deserve_high_r\",\n",
    "    \"ED.2R\" : \"low_earners_deserve_low_r\",\n",
    "    \"ISP.1\" : \"ineq_serious_problem\",\n",
    "    \"ISP.2\" : \"poverty_serious_problem\",\n",
    "    \"ISP.3\" : \"unequal_hcare_serious_problem\",\n",
    "    \"ISP.4\" : \"ineq_increasing\",\n",
    "    \"ISP.1R\" : \"ineq_serious_problem_r\",\n",
    "    \"ISP.2R\" : \"poverty_serious_problem_r\",\n",
    "    \"ISP.3R\" : \"unequal_hcare_serious_problem_r\",\n",
    "    \"ISP.4R\" : \"ineq_increasing_r\",\n",
    "    \"GT.1\" : \"govt_regulation_effective\",\n",
    "    \"GT.2\" : \"govt_transfers_effective\",\n",
    "    \"GT.3\" : \"progressive_taxes_effective\",\n",
    "    \"GT.4\" : \"educ_policies_effective\",\n",
    "    \"GT.5\" : \"private_charity_effective\",\n",
    "    \"GT.1R\" : \"govt_regulation_effective_r\",\n",
    "    \"GT.2R\" : \"govt_transfers_effective_r\",\n",
    "    \"GT.3R\" : \"progressive_taxes_effective_r\",\n",
    "    \"GT.4R\" : \"educ_policies_effective_r\",\n",
    "    \"GT.5R\" : \"private_charity_effective_r\",\n",
    "    \"GMC.1\" : \"govt_should_decrease_ineq\",\n",
    "    \"GMC.2\" : \"companies_should_decrease_ineq\",\n",
    "    \"GMC.3\" : \"who_most_responsible\",\n",
    "    \"GMC.1R\" : \"govt_should_decrease_ineq_r\",\n",
    "    \"GMC.2R\" : \"companies_should_decrease_ineq_r\",\n",
    "    \"GMC.3R\" : \"who_most_responsible_r\",\n",
    "    \"DQ1\" : \"is_resident\",\n",
    "    \"DQ2\" : \"state\",\n",
    "    \"DQ3\" : \"gender\",\n",
    "    \"DQ4\" : \"age\",\n",
    "    \"DQ5\" : \"married\",\n",
    "    \"DQ6\" : \"has_children\",\n",
    "    \"DQ7\" : \"race\",\n",
    "    \"DQ8\" : \"religion\",\n",
    "    \"DQ9\" : \"education\",\n",
    "    \"DQ10\" : \"emp_status\",\n",
    "    \"DQ11\" : \"occupation\",\n",
    "    \"DQ12\" : \"household_income\",\n",
    "    \"DQ13\" : \"subj_relative_income\",\n",
    "    \"DQ14\" : \"income_volatile\",\n",
    "    \"DQ15\" : \"sol_better_than_past\",\n",
    "    \"DQ16\" : \"sol_better_in_future\",\n",
    "    \"DQ17\" : \"liberal\",\n",
    "    \"DQ18\" : \"political_party\",\n",
    "    \"DQ19\" : \"follow_news\",\n",
    "    \"DQ20\" : \"has_confidence_in_science\",\n",
    "    \"DQ12R\" : \"household_income_r\",\n",
    "    \"DQ13R\" : \"subj_relative_income_r\",\n",
    "    \"DQ14R\" : \"income_volatile_r\",\n",
    "    \"DQ15R\" : \"sol_better_than_past_r\",\n",
    "    \"DQ16R\" : \"sol_better_in_future_r\",\n",
    "    \"DQ17R\" : \"liberal_r\",\n",
    "    \"DQ18R\" : \"political_party_r\",\n",
    "    \"DQ19R\" : \"follow_news_r\",\n",
    "    \"DQ20R\" : \"has_confidence_in_science_r\",\n",
    "    \"PQ1\" : \"father_occ\",\n",
    "    \"PQ2\" : \"mother_occ\",\n",
    "    \"PQ3\" : \"father_educ\",\n",
    "    \"PQ4\" : \"mother_educ\",\n",
    "    \"PQ5\" : \"subj_relative_income_16_yrs\",\n",
    "    \"PQ6\" : \"sol_better_than_parents\",\n",
    "    \"PQ5R\" : \"subj_relative_income_16_yrs_r\",\n",
    "    \"PQ6R\" : \"sol_better_than_parents_r\",\n",
    "    \"CQ1\" : \"coronavirus_serious_threat\",\n",
    "    \"CQ2\" : \"must_save_economy\",\n",
    "    \"CQ3\" : \"satisfied_with_city\",\n",
    "    \"CQ4\" : \"satisfied_with_state\",\n",
    "    \"CQ5\" : \"satisfied_with_federal_govt\",\n",
    "    \"CQ6\" : \"how_affected_by_coronavirus\",\n",
    "    \"CQ6_10_TEXT\" : \"how_affected_by_coronavirus_other\",\n",
    "    \"CQ7\" : \"days_out_in_past_week\",\n",
    "    \"CQ1R\" : \"coronavirus_serious_threat_r\",\n",
    "    \"CQ2R\" : \"must_save_economy_r\",\n",
    "    \"CQ3R\" : \"satisfied_with_city_r\",\n",
    "    \"CQ4R\" : \"satisfied_with_state_r\",\n",
    "    \"CQ5R\" : \"satisfied_with_federal_govt_r\",\n",
    "    \"CQ6R\" : \"how_affected_by_coronavirus_r\",\n",
    "    \"CQ6R_10_TEXT\" : \"how_affected_by_coronavirus_other_r\",\n",
    "    \"CQ7R\" : \"days_out_in_past_week_r\",\n",
    "    \"FL_59_DO\" : \"perceptions_or_preferences_DO\",\n",
    "    \"FL_60_DO\" : \"perceptions_DO\",\n",
    "    \"FL_61_DO\" : \"preferences_DO\",\n",
    "    \"DS_DO\" : \"DS_DO\", \n",
    "    \"EO_DO\" : \"EO_DO\", \n",
    "    \"LHW_DO\" : \"LHW_DO\", \n",
    "    \"ED_DO\" : \"ED_DO\", \n",
    "    \"ISP_DO\" : \"ISP_DO\", \n",
    "    \"GT_DO\" : \"GT_DO\", \n",
    "    \"GMC_DO\" : \"GMC_DO\",\n",
    "    \"DS_Reverse_DO\" : \"DS_Reverse_DO\", \n",
    "    \"EO_Reverse_DO\" : \"EO_Reverse_DO\", \n",
    "    \"LHW_Reverse_DO\" : \"LHW_Reverse_DO\", \n",
    "    \"ED_Reverse_DO\" : \"ED_Reverse_DO\", \n",
    "    \"ISP_Reverse_DO\" : \"ISP_Reverse_DO\", \n",
    "    \"GT_Reverse_DO\" : \"GT_Reverse_DO\", \n",
    "    \"GMC_Reverse_DO\" : \"GMC_Reverse_DO\",\n",
    "    \"FL_72_DO\" : \"DS_regular_or_reverse\", \n",
    "    \"FL_73_DO\" : \"EO_regular_or_reverse\", \n",
    "    \"FL_74_DO\" : \"LHW_regular_or_reverse\", \n",
    "    \"FL_75_DO\" : \"ED_regular_or_reverse\", \n",
    "    \"FL_76_DO\" : \"ISP_regular_or_reverse\", \n",
    "    \"FL_70_DO\" : \"GT_regular_or_reverse\",\n",
    "    \"FL_71_DO\" : \"GMC_regular_or_reverse\",\n",
    "    \"FL_83_DO\" : \"Demog_end_regular_or_reverse\", \n",
    "    \"FL_84_DO\" : \"Parents_end_regular_or_reverse\",\n",
    "    \"FL_78_DO\" : \"Corona_regular_or_reverse\",\n",
    "    \"GMC.3_DO\" : \"GMC.3_DO\", \n",
    "    \"GMC.3R_DO\" : \"GMC.3R_DO\",\n",
    "    \"DQ18_DO\" : \"DQ18_DO\", \n",
    "    \"DQ18R_DO\" : \"DQ18R_DO\"\n",
    "})"
   ]
  },
  {
   "cell_type": "code",
   "execution_count": null,
   "metadata": {
    "scrolled": true
   },
   "outputs": [],
   "source": [
    "data6.head()"
   ]
  },
  {
   "cell_type": "markdown",
   "metadata": {},
   "source": [
    "### Recode values into numeric"
   ]
  },
  {
   "cell_type": "code",
   "execution_count": null,
   "metadata": {},
   "outputs": [],
   "source": [
    "data7 = data6.copy()"
   ]
  },
  {
   "cell_type": "code",
   "execution_count": null,
   "metadata": {},
   "outputs": [],
   "source": [
    "data7['wealthy_family_essential'] = data7['wealthy_family_essential'].map({\n",
    "    \"Essential\" : 5,\n",
    "    \"Very important\" : 4,\n",
    "    \"Fairly important\" : 3,\n",
    "    \"Not very important\" : 2,\n",
    "    \"Not important at all\" : 1})\n",
    "\n",
    "data7['educated_parents_essential'] = data7['educated_parents_essential'].map({\n",
    "    \"Essential\" : 5,\n",
    "    \"Very important\" : 4,\n",
    "    \"Fairly important\" : 3,\n",
    "    \"Not very important\" : 2,\n",
    "    \"Not important at all\" : 1})\n",
    "\n",
    "data7['having_ambition_essential'] = data7['having_ambition_essential'].map({\n",
    "    \"Essential\" : 5,\n",
    "    \"Very important\" : 4,\n",
    "    \"Fairly important\" : 3,\n",
    "    \"Not very important\" : 2,\n",
    "    \"Not important at all\" : 1})\n",
    "\n",
    "data7['hard_work_essential'] = data7['hard_work_essential'].map({\n",
    "    \"Essential\" : 5,\n",
    "    \"Very important\" : 4,\n",
    "    \"Fairly important\" : 3,\n",
    "    \"Not very important\" : 2,\n",
    "    \"Not important at all\" : 1})\n",
    "\n",
    "data7['talent_essential'] = data7['talent_essential'].map({\n",
    "    \"Essential\" : 5,\n",
    "    \"Very important\" : 4,\n",
    "    \"Fairly important\" : 3,\n",
    "    \"Not very important\" : 2,\n",
    "    \"Not important at all\" : 1})\n",
    "\n",
    "data7['luck_essential'] = data7['luck_essential'].map({\n",
    "    \"Essential\" : 5,\n",
    "    \"Very important\" : 4,\n",
    "    \"Fairly important\" : 3,\n",
    "    \"Not very important\" : 2,\n",
    "    \"Not important at all\" : 1})\n",
    "\n",
    "data7['connections_essential'] = data7['connections_essential'].map({\n",
    "    \"Essential\" : 5,\n",
    "    \"Very important\" : 4,\n",
    "    \"Fairly important\" : 3,\n",
    "    \"Not very important\" : 2,\n",
    "    \"Not important at all\" : 1})\n",
    "\n",
    "data7['good_education_essential'] = data7['good_education_essential'].map({\n",
    "    \"Essential\" : 5,\n",
    "    \"Very important\" : 4,\n",
    "    \"Fairly important\" : 3,\n",
    "    \"Not very important\" : 2,\n",
    "    \"Not important at all\" : 1})\n",
    "\n",
    "data7['political_influence_essential'] = data7['political_influence_essential'].map({\n",
    "    \"Essential\" : 5,\n",
    "    \"Very important\" : 4,\n",
    "    \"Fairly important\" : 3,\n",
    "    \"Not very important\" : 2,\n",
    "    \"Not important at all\" : 1})\n",
    "\n",
    "data7.head(3)"
   ]
  },
  {
   "cell_type": "code",
   "execution_count": null,
   "metadata": {},
   "outputs": [],
   "source": [
    "data7['wealthy_family_essential_r'] = data7['wealthy_family_essential_r'].map({\n",
    "    \"Essential\" : 5,\n",
    "    \"Very important\" : 4,\n",
    "    \"Fairly important\" : 3,\n",
    "    \"Not very important\" : 2,\n",
    "    \"Not important at all\" : 1})\n",
    "\n",
    "data7['educated_parents_essential_r'] = data7['educated_parents_essential_r'].map({\n",
    "    \"Essential\" : 5,\n",
    "    \"Very important\" : 4,\n",
    "    \"Fairly important\" : 3,\n",
    "    \"Not very important\" : 2,\n",
    "    \"Not important at all\" : 1})\n",
    "\n",
    "data7['having_ambition_essential_r'] = data7['having_ambition_essential_r'].map({\n",
    "    \"Essential\" : 5,\n",
    "    \"Very important\" : 4,\n",
    "    \"Fairly important\" : 3,\n",
    "    \"Not very important\" : 2,\n",
    "    \"Not important at all\" : 1})\n",
    "\n",
    "data7['hard_work_essential_r'] = data7['hard_work_essential_r'].map({\n",
    "    \"Essential\" : 5,\n",
    "    \"Very important\" : 4,\n",
    "    \"Fairly important\" : 3,\n",
    "    \"Not very important\" : 2,\n",
    "    \"Not important at all\" : 1})\n",
    "\n",
    "data7['talent_essential_r'] = data7['talent_essential_r'].map({\n",
    "    \"Essential\" : 5,\n",
    "    \"Very important\" : 4,\n",
    "    \"Fairly important\" : 3,\n",
    "    \"Not very important\" : 2,\n",
    "    \"Not important at all\" : 1})\n",
    "\n",
    "data7['luck_essential_r'] = data7['luck_essential_r'].map({\n",
    "    \"Essential\" : 5,\n",
    "    \"Very important\" : 4,\n",
    "    \"Fairly important\" : 3,\n",
    "    \"Not very important\" : 2,\n",
    "    \"Not important at all\" : 1})\n",
    "\n",
    "data7['connections_essential_r'] = data7['connections_essential_r'].map({\n",
    "    \"Essential\" : 5,\n",
    "    \"Very important\" : 4,\n",
    "    \"Fairly important\" : 3,\n",
    "    \"Not very important\" : 2,\n",
    "    \"Not important at all\" : 1})\n",
    "\n",
    "data7['good_education_essential_r'] = data7['good_education_essential_r'].map({\n",
    "    \"Essential\" : 5,\n",
    "    \"Very important\" : 4,\n",
    "    \"Fairly important\" : 3,\n",
    "    \"Not very important\" : 2,\n",
    "    \"Not important at all\" : 1})\n",
    "\n",
    "data7['political_influence_essential_r'] = data7['political_influence_essential_r'].map({\n",
    "    \"Essential\" : 5,\n",
    "    \"Very important\" : 4,\n",
    "    \"Fairly important\" : 3,\n",
    "    \"Not very important\" : 2,\n",
    "    \"Not important at all\" : 1})\n",
    "\n",
    "data7.head(3)"
   ]
  },
  {
   "cell_type": "code",
   "execution_count": null,
   "metadata": {},
   "outputs": [],
   "source": [
    "data7['enough_opportunities'] = data7['enough_opportunities'].map({\n",
    "    \"No or very little opportunity\" : 1,\n",
    "    \"Some opportunity\" : 2,\n",
    "    \"Plenty of opportunity\" : 3})\n",
    "\n",
    "data7['more_opportunities_than_parents'] = data7['more_opportunities_than_parents'].map({\n",
    "    \"Less\" : 1,\n",
    "    \"Same\" : 2,\n",
    "    \"More\" : 3})\n",
    "\n",
    "data7.head(3)"
   ]
  },
  {
   "cell_type": "code",
   "execution_count": null,
   "metadata": {},
   "outputs": [],
   "source": [
    "data7['enough_opportunities_r'] = data7['enough_opportunities_r'].map({\n",
    "    \"No or very little opportunity\" : 1,\n",
    "    \"Some opportunity\" : 2,\n",
    "    \"Plenty of opportunity\" : 3})\n",
    "\n",
    "data7['more_opportunities_than_parents_r'] = data7['more_opportunities_than_parents_r'].map({\n",
    "    \"Less\" : 1,\n",
    "    \"Same\" : 2,\n",
    "    \"More\" : 3})\n",
    "\n",
    "data7.head(3)"
   ]
  },
  {
   "cell_type": "code",
   "execution_count": null,
   "metadata": {},
   "outputs": [],
   "source": [
    "data7['hard_work_brings_better_life'] = data7['hard_work_brings_better_life'].map({\n",
    "    \"1 - In the long run, hard work usually brings a better life\" : 7,\n",
    "    \"2\" : 6,\n",
    "    \"3\" : 5,\n",
    "    \"4\" : 4,\n",
    "    \"5\" : 3,\n",
    "    \"6\" : 2,\n",
    "    \"7 - Hard work doesn’t generally bring success—it’s more a matter of luck and connections\" : 1\n",
    "})\n",
    "\n",
    "data7['people_poor_because_laziness'] = data7['people_poor_because_laziness'].map({\n",
    "    \"1 - People are poor because of laziness and lack of willpower\" : 7,\n",
    "    \"2\" : 6,\n",
    "    \"3\" : 5,\n",
    "    \"4\" : 4,\n",
    "    \"5\" : 3,\n",
    "    \"6\" : 2,\n",
    "    \"7 - People are poor because of an unfair society\" : 1\n",
    "})\n",
    "\n",
    "data7.head(3)"
   ]
  },
  {
   "cell_type": "code",
   "execution_count": null,
   "metadata": {},
   "outputs": [],
   "source": [
    "data7['hard_work_brings_better_life_r'] = data7['hard_work_brings_better_life_r'].map({\n",
    "    \"1 - Hard work doesn’t generally bring success—it’s more a matter of luck and connections\" : 1,\n",
    "    \"2\" : 2,\n",
    "    \"3\" : 3,\n",
    "    \"4\" : 4,\n",
    "    \"5\" : 5,\n",
    "    \"6\" : 6,\n",
    "    \"7 - In the long run, hard work usually brings a better life\" : 7\n",
    "})\n",
    "\n",
    "data7['people_poor_because_laziness_r'] = data7['people_poor_because_laziness_r'].map({\n",
    "    \"1 - People are poor because of an unfair society\" : 1,\n",
    "    \"2\" : 2,\n",
    "    \"3\" : 3,\n",
    "    \"4\" : 4,\n",
    "    \"5\" : 5,\n",
    "    \"6\" : 6,\n",
    "    \"7 - People are poor because of laziness and lack of willpower\" : 7\n",
    "})\n",
    "\n",
    "data7.head(3)"
   ]
  },
  {
   "cell_type": "code",
   "execution_count": null,
   "metadata": {},
   "outputs": [],
   "source": [
    "data7['high_earners_deserve_high'] = data7['high_earners_deserve_high'].map({\n",
    "    \"Always\" : 5,\n",
    "    \"Most of the time\" : 4,\n",
    "    \"Sometimes\" : 3,\n",
    "    \"Rarely\" : 2,\n",
    "    \"Never\" : 1})\n",
    "\n",
    "data7['low_earners_deserve_low'] = data7['low_earners_deserve_low'].map({\n",
    "    \"Always\" : 5,\n",
    "    \"Most of the time\" : 4,\n",
    "    \"Sometimes\" : 3,\n",
    "    \"Rarely\" : 2,\n",
    "    \"Never\" : 1})\n",
    "\n",
    "data7.head(3)"
   ]
  },
  {
   "cell_type": "code",
   "execution_count": null,
   "metadata": {},
   "outputs": [],
   "source": [
    "data7['high_earners_deserve_high_r'] = data7['high_earners_deserve_high_r'].map({\n",
    "    \"Always\" : 5,\n",
    "    \"Most of the time\" : 4,\n",
    "    \"Sometimes\" : 3,\n",
    "    \"Rarely\" : 2,\n",
    "    \"Never\" : 1})\n",
    "\n",
    "data7['low_earners_deserve_low_r'] = data7['low_earners_deserve_low_r'].map({\n",
    "    \"Always\" : 5,\n",
    "    \"Most of the time\" : 4,\n",
    "    \"Sometimes\" : 3,\n",
    "    \"Rarely\" : 2,\n",
    "    \"Never\" : 1})\n",
    "\n",
    "data7.head(3)"
   ]
  },
  {
   "cell_type": "code",
   "execution_count": null,
   "metadata": {},
   "outputs": [],
   "source": [
    "data7['ineq_serious_problem'] = data7['ineq_serious_problem'].map({\n",
    "    \"Not a problem at all\" : 1,\n",
    "    \"A small problem\" : 2,\n",
    "    \"A problem\" : 3,\n",
    "    \"A serious problem\" : 4,\n",
    "    \"A very serious problem\" : 5})\n",
    "\n",
    "data7['poverty_serious_problem'] = data7['poverty_serious_problem'].map({\n",
    "    \"Not a problem at all\" : 1,\n",
    "    \"A small problem\" : 2,\n",
    "    \"A problem\" : 3,\n",
    "    \"A serious problem\" : 4,\n",
    "    \"A very serious problem\" : 5})\n",
    "\n",
    "data7['unequal_hcare_serious_problem'] = data7['unequal_hcare_serious_problem'].map({\n",
    "    \"Not a problem at all\" : 1,\n",
    "    \"A small problem\" : 2,\n",
    "    \"A problem\" : 3,\n",
    "    \"A serious problem\" : 4,\n",
    "    \"A very serious problem\" : 5})\n",
    "\n",
    "data7['ineq_increasing'] = data7['ineq_increasing'].map({\n",
    "    \"Decreasing\" : 1,\n",
    "    \"Same\" : 2,\n",
    "    \"Increasing\" : 3})\n",
    "\n",
    "data7.head(3)"
   ]
  },
  {
   "cell_type": "code",
   "execution_count": null,
   "metadata": {},
   "outputs": [],
   "source": [
    "data7['ineq_serious_problem_r'] = data7['ineq_serious_problem_r'].map({\n",
    "    \"Not a problem at all\" : 1,\n",
    "    \"A small problem\" : 2,\n",
    "    \"A problem\" : 3,\n",
    "    \"A serious problem\" : 4,\n",
    "    \"A very serious problem\" : 5})\n",
    "\n",
    "data7['poverty_serious_problem_r'] = data7['poverty_serious_problem_r'].map({\n",
    "    \"Not a problem at all\" : 1,\n",
    "    \"A small problem\" : 2,\n",
    "    \"A problem\" : 3,\n",
    "    \"A serious problem\" : 4,\n",
    "    \"A very serious problem\" : 5})\n",
    "\n",
    "data7['unequal_hcare_serious_problem_r'] = data7['unequal_hcare_serious_problem_r'].map({\n",
    "    \"Not a problem at all\" : 1,\n",
    "    \"A small problem\" : 2,\n",
    "    \"A problem\" : 3,\n",
    "    \"A serious problem\" : 4,\n",
    "    \"A very serious problem\" : 5})\n",
    "\n",
    "data7['ineq_increasing_r'] = data7['ineq_increasing_r'].map({\n",
    "    \"Decreasing\" : 1,\n",
    "    \"Same\" : 2,\n",
    "    \"Increasing\" : 3})\n",
    "\n",
    "data7.head(3)"
   ]
  },
  {
   "cell_type": "code",
   "execution_count": null,
   "metadata": {},
   "outputs": [],
   "source": [
    "data7['govt_regulation_effective'] = data7['govt_regulation_effective'].map({\n",
    "    \"1 - Extremely effective\" : 5,\n",
    "    \"2\" : 4,\n",
    "    \"3\" : 3,\n",
    "    \"4\" : 2,\n",
    "    \"5 - Not at all effective\" : 1})\n",
    "\n",
    "data7['govt_transfers_effective'] = data7['govt_transfers_effective'].map({\n",
    "    \"1 - Extremely effective\" : 5,\n",
    "    \"2\" : 4,\n",
    "    \"3\" : 3,\n",
    "    \"4\" : 2,\n",
    "    \"5 - Not at all effective\" : 1})\n",
    "\n",
    "data7['progressive_taxes_effective'] = data7['progressive_taxes_effective'].map({\n",
    "    \"1 - Extremely effective\" : 5,\n",
    "    \"2\" : 4,\n",
    "    \"3\" : 3,\n",
    "    \"4\" : 2,\n",
    "    \"5 - Not at all effective\" : 1})\n",
    "\n",
    "data7['educ_policies_effective'] = data7['educ_policies_effective'].map({\n",
    "    \"1 - Extremely effective\" : 5,\n",
    "    \"2\" : 4,\n",
    "    \"3\" : 3,\n",
    "    \"4\" : 2,\n",
    "    \"5 - Not at all effective\" : 1})\n",
    "\n",
    "data7['private_charity_effective'] = data7['private_charity_effective'].map({\n",
    "    \"1 - Extremely effective\" : 5,\n",
    "    \"2\" : 4,\n",
    "    \"3\" : 3,\n",
    "    \"4\" : 2,\n",
    "    \"5 - Not at all effective\" : 1})\n",
    "\n",
    "data7.head(3)"
   ]
  },
  {
   "cell_type": "code",
   "execution_count": null,
   "metadata": {},
   "outputs": [],
   "source": [
    "data7['govt_regulation_effective_r'] = data7['govt_regulation_effective_r'].map({\n",
    "    \"1 - Not at all effective\" : 1,\n",
    "    \"2\" : 2,\n",
    "    \"3\" : 3,\n",
    "    \"4\" : 4,\n",
    "    \"5 - Extremely effective\" : 5})\n",
    "\n",
    "data7['govt_transfers_effective_r'] = data7['govt_transfers_effective_r'].map({\n",
    "    \"1 - Not at all effective\" : 1,\n",
    "    \"2\" : 2,\n",
    "    \"3\" : 3,\n",
    "    \"4\" : 4,\n",
    "    \"5 - Extremely effective\" : 5})\n",
    "\n",
    "data7['progressive_taxes_effective_r'] = data7['progressive_taxes_effective_r'].map({\n",
    "    \"1 - Not at all effective\" : 1,\n",
    "    \"2\" : 2,\n",
    "    \"3\" : 3,\n",
    "    \"4\" : 4,\n",
    "    \"5 - Extremely effective\" : 5})\n",
    "\n",
    "data7['educ_policies_effective_r'] = data7['educ_policies_effective_r'].map({\n",
    "    \"1 - Not at all effective\" : 1,\n",
    "    \"2\" : 2,\n",
    "    \"3\" : 3,\n",
    "    \"4\" : 4,\n",
    "    \"5 - Extremely effective\" : 5})\n",
    "\n",
    "data7['private_charity_effective_r'] = data7['private_charity_effective_r'].map({\n",
    "    \"1 - Not at all effective\" : 1,\n",
    "    \"2\" : 2,\n",
    "    \"3\" : 3,\n",
    "    \"4\" : 4,\n",
    "    \"5 - Extremely effective\" : 5})\n",
    "\n",
    "data7.head(3)"
   ]
  },
  {
   "cell_type": "code",
   "execution_count": null,
   "metadata": {},
   "outputs": [],
   "source": [
    "data7['govt_should_decrease_ineq'] = data7['govt_should_decrease_ineq'].map({\n",
    "    \"1 - The government should not concern itself with reducing income differences\" : 1,\n",
    "    \"2\" : 2,\n",
    "    \"3\" : 3,\n",
    "    \"4\" : 4,\n",
    "    \"5\" : 5,\n",
    "    \"6\" : 6,\n",
    "    \"7 - The government ought to reduce the income differences between rich and poor—perhaps by \\\n",
    "raising the taxes of wealthy families or by giving income assistance to the poor\" : 7\n",
    "})\n",
    "\n",
    "data7['companies_should_decrease_ineq'] = data7['companies_should_decrease_ineq'].map({\n",
    "    \"1 - Major companies should not concern themselves with reducing pay differences\" : 1,\n",
    "    \"2\" : 2,\n",
    "    \"3\" : 3,\n",
    "    \"4\" : 4,\n",
    "    \"5\" : 5,\n",
    "    \"6\" : 6,\n",
    "    \"7 - Major companies ought to reduce the pay differences between employees with high pay \\\n",
    "and those with low pay—perhaps by reducing the pay of executives or by increasing the pay of unskilled workers\" : 7\n",
    "})\n",
    "\n",
    "data7['who_most_responsible'] = data7['who_most_responsible'].map({\n",
    "    \"Government\" : 6,\n",
    "    \"Major companies\" : 5,\n",
    "    \"Private charities\" : 4,\n",
    "    \"High income individuals themselves\" : 3,\n",
    "    \"Low income individuals themselves\" : 2,\n",
    "    \"Income differences do not need to be reduced\" : 1})\n",
    "\n",
    "data7.head(3)"
   ]
  },
  {
   "cell_type": "code",
   "execution_count": null,
   "metadata": {},
   "outputs": [],
   "source": [
    "data7['govt_should_decrease_ineq_r'] = data7['govt_should_decrease_ineq_r'].map({\n",
    "    \"1 - The government ought to reduce the income differences between rich and poor—perhaps by \\\n",
    "raising the taxes of wealthy families or by giving income assistance to the poor\" : 7,\n",
    "    \"2\" : 6,\n",
    "    \"3\" : 5,\n",
    "    \"4\" : 4,\n",
    "    \"5\" : 3,\n",
    "    \"6\" : 2,\n",
    "    \"7 - The government should not concern itself with reducing income differences\" : 1\n",
    "})\n",
    "\n",
    "data7['companies_should_decrease_ineq_r'] = data7['companies_should_decrease_ineq_r'].map({\n",
    "    \"1 - Major companies ought to reduce the pay differences between employees with high pay \\\n",
    "and those with low pay—perhaps by reducing the pay of executives or by increasing the pay of unskilled workers\" : 7,\n",
    "    \"2\" : 6,\n",
    "    \"3\" : 5,\n",
    "    \"4\" : 4,\n",
    "    \"5\" : 3,\n",
    "    \"6\" : 2,\n",
    "    \"7 - Major companies should not concern themselves with reducing pay differences\" : 1\n",
    "})\n",
    "\n",
    "data7['who_most_responsible_r'] = data7['who_most_responsible_r'].map({\n",
    "    \"Government\" : 6,\n",
    "    \"Major companies\" : 5,\n",
    "    \"Private charities\" : 4,\n",
    "    \"High income individuals themselves\" : 3,\n",
    "    \"Low income individuals themselves\" : 2,\n",
    "    \"Income differences do not need to be reduced\" : 1})\n",
    "\n",
    "data7.head(3)"
   ]
  },
  {
   "cell_type": "code",
   "execution_count": null,
   "metadata": {},
   "outputs": [],
   "source": [
    "data7['is_resident'] = data7['is_resident'].map({\n",
    "    \"Yes\" : 1,\n",
    "    \"No\" : 0\n",
    "})\n",
    "\n",
    "data7.head(3)"
   ]
  },
  {
   "cell_type": "code",
   "execution_count": null,
   "metadata": {},
   "outputs": [],
   "source": [
    "data7['gender'] = data7['gender'].map({\n",
    "    \"Male\" : 1,\n",
    "    \"Female\" : 2,\n",
    "    \"Other\" : 3\n",
    "})\n",
    "\n",
    "data7['age'] = data7['age'].astype(int)\n",
    "\n",
    "data7['married'] = data7['married'].map({\n",
    "    \"Single\" : 0,\n",
    "    \"Married\" : 1\n",
    "})\n",
    "\n",
    "data7['has_children'] = data7['has_children'].map({\n",
    "    \"Yes\" : 1,\n",
    "    \"No\" : 0\n",
    "})\n",
    "\n",
    "data7.head(3)"
   ]
  },
  {
   "cell_type": "code",
   "execution_count": null,
   "metadata": {},
   "outputs": [],
   "source": [
    "data7['race'] = data7['race'].map({\n",
    "    \"European American/White\" : 1,\n",
    "    \"African American/Black\" : 2 ,\n",
    "    \"Hispanic/Latino\" : 3,\n",
    "    \"Asian/Asian American\" : 4,\n",
    "    \"Other\" : 5\n",
    "})\n",
    "\n",
    "data7['religion'] = data7['religion'].map({\n",
    "    \"Christian (Protestant)\" : 1,\n",
    "    \"Christian (Catholic)\" : 2,\n",
    "    \"Christian (Mormon)\" : 3,\n",
    "    \"Christian (Other)\" : 4,\n",
    "    \"Jewish\" : 5,\n",
    "    \"Muslim\" : 6,\n",
    "    \"Hindu\" : 7,\n",
    "    \"Buddhist\" : 8,\n",
    "    \"Other religion\" : 9,\n",
    "    \"No religion\" : 10\n",
    "})\n",
    "\n",
    "data7['education'] = data7['education'].map({\n",
    "    \"Eighth Grade or Less\" : 1,\n",
    "    \"Some High School\" : 2,\n",
    "    \"High School Degree/GED\" : 3,\n",
    "    \"Some College\" : 4,\n",
    "    \"2-year College Degree\" : 5,\n",
    "    \"4-year College Degree\" : 6,\n",
    "    \"Master's Degree\" : 7,\n",
    "    \"Doctoral Degree\" : 8,\n",
    "    \"Professional Degree (JD, MD, MBA)\" : 9,\n",
    "})\n",
    "\n",
    "data7.head(3)"
   ]
  },
  {
   "cell_type": "code",
   "execution_count": null,
   "metadata": {},
   "outputs": [],
   "source": [
    "data7['emp_status'] = data7['emp_status'].map({\n",
    "    \"Full-time employee\" : 1,\n",
    "    \"Part-time employee\" : 2,\n",
    "    \"Self-employed or small business owner\" : 3,\n",
    "    \"Unemployed and looking for work\" : 4,\n",
    "    \"Student\" : 5,\n",
    "    \"Not in labor force (for example: retired, or full-time parent)\" : 6,\n",
    "})"
   ]
  },
  {
   "cell_type": "code",
   "execution_count": null,
   "metadata": {},
   "outputs": [],
   "source": [
    "data7['household_income'] = data7['household_income'].map({\n",
    "    \"$0 - $9,999\": 1,\n",
    "    \"$10,000 - $14,999\": 2,\n",
    "    \"$15,000 - $19,999\": 3,\n",
    "    \"$20,000 - $29,999\": 4,\n",
    "    \"$30,000 - $39,999\": 5,\n",
    "    \"$40,000 - $49,999\": 6,\n",
    "    \"$50,000 - $74,999\": 7,\n",
    "    \"$75,000 - $99,999\": 8,\n",
    "    \"$100,00 - $124,999\": 9,\n",
    "    \"$125,000 - $149,999\": 10,\n",
    "    \"$150,000 - $199,999\": 11,\n",
    "    \"$200,000+\": 12 \n",
    "})\n",
    "\n",
    "data7['subj_relative_income'] = data7['subj_relative_income'].map({\n",
    "    \"Far below average\": 1,\n",
    "    \"Below average\": 2,\n",
    "    \"Average\": 3,\n",
    "    \"Above average\": 4,\n",
    "    \"Far above average\": 5\n",
    "})\n",
    "\n",
    "data7['income_volatile'] = data7['income_volatile'].map({\n",
    "    \"Income varies a lot from month to month\":    3,\n",
    "    \"Income varies somewhat from month to month\": 2,\n",
    "    \"Income is about the same each month\":        1\n",
    "})\n",
    "\n",
    "data7.head(3)"
   ]
  },
  {
   "cell_type": "code",
   "execution_count": null,
   "metadata": {},
   "outputs": [],
   "source": [
    "data7['household_income_r'] = data7['household_income_r'].map({\n",
    "    \"$0 - $9,999\": 1,\n",
    "    \"$10,000 - $14,999\": 2,\n",
    "    \"$15,000 - $19,999\": 3,\n",
    "    \"$20,000 - $29,999\": 4,\n",
    "    \"$30,000 - $39,999\": 5,\n",
    "    \"$40,000 - $49,999\": 6,\n",
    "    \"$50,000 - $74,999\": 7,\n",
    "    \"$75,000 - $99,999\": 8,\n",
    "    \"$100,00 - $124,999\": 9,\n",
    "    \"$125,000 - $149,999\": 10,\n",
    "    \"$150,000 - $199,999\": 11,\n",
    "    \"$200,000+\": 12 \n",
    "})\n",
    "\n",
    "data7['subj_relative_income_r'] = data7['subj_relative_income_r'].map({\n",
    "    \"Far below average\": 1,\n",
    "    \"Below average\": 2,\n",
    "    \"Average\": 3,\n",
    "    \"Above average\": 4,\n",
    "    \"Far above average\": 5\n",
    "})\n",
    "\n",
    "data7['income_volatile_r'] = data7['income_volatile_r'].map({\n",
    "    \"Income varies a lot from month to month\":    3,\n",
    "    \"Income varies somewhat from month to month\": 2,\n",
    "    \"Income is about the same each month\":        1\n",
    "})\n",
    "\n",
    "data7.head(3)"
   ]
  },
  {
   "cell_type": "code",
   "execution_count": null,
   "metadata": {},
   "outputs": [],
   "source": [
    "data7['sol_better_than_past'] = data7['sol_better_than_past'].map({\n",
    "    \"Much better\": 5,\n",
    "    \"Somewhat better\": 4,\n",
    "    \"About the same\": 3,\n",
    "    \"Somewhat worse\": 2,\n",
    "    \"Much worse\": 1\n",
    "})\n",
    "\n",
    "data7['sol_better_in_future'] = data7['sol_better_in_future'].map({\n",
    "    \"Much better\": 5,\n",
    "    \"Somewhat better\": 4,\n",
    "    \"About the same\": 3,\n",
    "    \"Somewhat worse\": 2,\n",
    "    \"Much worse\": 1\n",
    "})\n",
    "\n",
    "data7.head(3)"
   ]
  },
  {
   "cell_type": "code",
   "execution_count": null,
   "metadata": {},
   "outputs": [],
   "source": [
    "data7['sol_better_than_past_r'] = data7['sol_better_than_past_r'].map({\n",
    "    \"Much better\": 5,\n",
    "    \"Somewhat better\": 4,\n",
    "    \"About the same\": 3,\n",
    "    \"Somewhat worse\": 2,\n",
    "    \"Much worse\": 1\n",
    "})\n",
    "\n",
    "data7['sol_better_in_future_r'] = data7['sol_better_in_future_r'].map({\n",
    "    \"Much better\": 5,\n",
    "    \"Somewhat better\": 4,\n",
    "    \"About the same\": 3,\n",
    "    \"Somewhat worse\": 2,\n",
    "    \"Much worse\": 1\n",
    "})\n",
    "\n",
    "data7.head(3)"
   ]
  },
  {
   "cell_type": "code",
   "execution_count": null,
   "metadata": {},
   "outputs": [],
   "source": [
    "data7['liberal'] = data7['liberal'].map({\n",
    "    \"Very conservative\": 1,\n",
    "    \"Conservative\": 2,\n",
    "    \"Moderate\": 3,\n",
    "    \"Liberal\": 4,\n",
    "    \"Very liberal\": 5\n",
    "})\n",
    "\n",
    "data7['political_party'] = data7['political_party'].map({\n",
    "    \"Republican\": 1,\n",
    "    \"Democrat\": 2,\n",
    "    \"Independent\": 3,\n",
    "    \"None\": 4\n",
    "})\n",
    "\n",
    "data7.head(3)"
   ]
  },
  {
   "cell_type": "code",
   "execution_count": null,
   "metadata": {},
   "outputs": [],
   "source": [
    "data7['liberal_r'] = data7['liberal_r'].map({\n",
    "    \"Very conservative\": 1,\n",
    "    \"Conservative\": 2,\n",
    "    \"Moderate\": 3,\n",
    "    \"Liberal\": 4,\n",
    "    \"Very liberal\": 5\n",
    "})\n",
    "\n",
    "data7['political_party_r'] = data7['political_party_r'].map({\n",
    "    \"Republican\": 1,\n",
    "    \"Democrat\": 2,\n",
    "    \"Independent\": 3,\n",
    "    \"None\": 4\n",
    "})\n",
    "\n",
    "data7.head(3)"
   ]
  },
  {
   "cell_type": "code",
   "execution_count": null,
   "metadata": {},
   "outputs": [],
   "source": [
    "data7['follow_news'] = data7['follow_news'].map({\n",
    "    \"Every day\": 5,\n",
    "    \"A few times a week\": 4,\n",
    "    \"Once a week\": 3,\n",
    "    \"Less than once a week\": 2,\n",
    "    \"Never\": 1\n",
    "})\n",
    "\n",
    "data7['has_confidence_in_science'] = data7['has_confidence_in_science'].map({\n",
    "    \"A great deal of confidence\": 3,\n",
    "    \"Only some confidence\": 2,\n",
    "    \"Hardly any confidence at all\": 1\n",
    "})\n",
    "\n",
    "data7.head(3)"
   ]
  },
  {
   "cell_type": "code",
   "execution_count": null,
   "metadata": {},
   "outputs": [],
   "source": [
    "data7['follow_news_r'] = data7['follow_news_r'].map({\n",
    "    \"Every day\": 5,\n",
    "    \"A few times a week\": 4,\n",
    "    \"Once a week\": 3,\n",
    "    \"Less than once a week\": 2,\n",
    "    \"Never\": 1\n",
    "})\n",
    "\n",
    "data7['has_confidence_in_science_r'] = data7['has_confidence_in_science_r'].map({\n",
    "    \"A great deal of confidence\": 3,\n",
    "    \"Only some confidence\": 2,\n",
    "    \"Hardly any confidence at all\": 1\n",
    "})\n",
    "\n",
    "data7.head(3)"
   ]
  },
  {
   "cell_type": "code",
   "execution_count": null,
   "metadata": {},
   "outputs": [],
   "source": [
    "data7['father_educ'] = data7['father_educ'].map({\n",
    "    \"Eighth Grade or Less\" : 1,\n",
    "    \"Some High School\" : 2,\n",
    "    \"High School Degree/GED\" : 3,\n",
    "    \"Some College\" : 4,\n",
    "    \"2-year College Degree\" : 5,\n",
    "    \"4-year College Degree\" : 6,\n",
    "    \"Master's Degree\" : 7,\n",
    "    \"Doctoral Degree\" : 8,\n",
    "    \"Professional Degree (JD, MD, MBA)\" : 9,\n",
    "    \"Not Applicable\" : 10\n",
    "})\n",
    "\n",
    "data7['mother_educ'] = data7['mother_educ'].map({\n",
    "    \"Eighth Grade or Less\" : 1,\n",
    "    \"Some High School\" : 2,\n",
    "    \"High School Degree/GED\" : 3,\n",
    "    \"Some College\" : 4,\n",
    "    \"2-year College Degree\" : 5,\n",
    "    \"4-year College Degree\" : 6,\n",
    "    \"Master's Degree\" : 7,\n",
    "    \"Doctoral Degree\" : 8,\n",
    "    \"Professional Degree (JD, MD, MBA)\" : 9,\n",
    "    \"Not Applicable\" : 10\n",
    "})"
   ]
  },
  {
   "cell_type": "code",
   "execution_count": null,
   "metadata": {},
   "outputs": [],
   "source": [
    "data7['subj_relative_income_16_yrs'] = data7['subj_relative_income_16_yrs'].map({\n",
    "    \"Far below average\": 1,\n",
    "    \"Below average\": 2,\n",
    "    \"Average\": 3,\n",
    "    \"Above average\": 4,\n",
    "    \"Far above average\": 5,\n",
    "    \"Not Applicable\" : 6\n",
    "})\n",
    "\n",
    "data7['sol_better_than_parents'] = data7['sol_better_than_parents'].map({\n",
    "    \"Much better\": 5,\n",
    "    \"Somewhat better\": 4,\n",
    "    \"About the same\": 3,\n",
    "    \"Somewhat worse\": 2,\n",
    "    \"Much worse\": 1,\n",
    "    \"Not Applicable\" : 6\n",
    "})\n",
    "\n",
    "data7.head(3)"
   ]
  },
  {
   "cell_type": "code",
   "execution_count": null,
   "metadata": {},
   "outputs": [],
   "source": [
    "data7['subj_relative_income_16_yrs_r'] = data7['subj_relative_income_16_yrs_r'].map({\n",
    "    \"Far below average\": 1,\n",
    "    \"Below average\": 2,\n",
    "    \"Average\": 3,\n",
    "    \"Above average\": 4,\n",
    "    \"Far above average\": 5,\n",
    "    \"Not Applicable\" : 6\n",
    "})\n",
    "\n",
    "data7['sol_better_than_parents_r'] = data7['sol_better_than_parents_r'].map({\n",
    "    \"Much better\": 5,\n",
    "    \"Somewhat better\": 4,\n",
    "    \"About the same\": 3,\n",
    "    \"Somewhat worse\": 2,\n",
    "    \"Much worse\": 1,\n",
    "    \"Not Applicable\" : 6\n",
    "})\n",
    "\n",
    "data7.head(3)"
   ]
  },
  {
   "cell_type": "code",
   "execution_count": null,
   "metadata": {},
   "outputs": [],
   "source": [
    "data7['coronavirus_serious_threat'] = data7['coronavirus_serious_threat'].map({\n",
    "    \"Not a threat at all\" : 1,\n",
    "    \"A small threat\" : 2,\n",
    "    \"A threat\" : 3,\n",
    "    \"A serious threat\" : 4,\n",
    "    \"A very serious threat\" : 5})\n",
    "\n",
    "data7['must_save_economy'] = data7['must_save_economy'].map({\n",
    "    \"1 - Saving lives must be the priority even if it means the economy will suffer\" : 1,\n",
    "    \"2\" : 2,\n",
    "    \"3\" : 3,\n",
    "    \"4\" : 4,\n",
    "    \"5 - Saving the economy must be the priority even if it means lives will be lost\" : 5})\n",
    "\n",
    "data7['satisfied_with_city'] = data7['satisfied_with_city'].map({\n",
    "    \"Very satisfied\" : 5,\n",
    "    \"Fairly satisfied\" : 4,\n",
    "    \"Neither satisfied nor dissatisfied\" : 3,\n",
    "    \"Not very satisfied\" : 2,\n",
    "    \"Not satisfied at all\" : 1})\n",
    "\n",
    "data7['satisfied_with_state'] = data7['satisfied_with_state'].map({\n",
    "    \"Very satisfied\" : 5,\n",
    "    \"Fairly satisfied\" : 4,\n",
    "    \"Neither satisfied nor dissatisfied\" : 3,\n",
    "    \"Not very satisfied\" : 2,\n",
    "    \"Not satisfied at all\" : 1})\n",
    "\n",
    "data7['satisfied_with_federal_govt'] = data7['satisfied_with_federal_govt'].map({\n",
    "    \"Very satisfied\" : 5,\n",
    "    \"Fairly satisfied\" : 4,\n",
    "    \"Neither satisfied nor dissatisfied\" : 3,\n",
    "    \"Not very satisfied\" : 2,\n",
    "    \"Not satisfied at all\" : 1})\n",
    "\n",
    "data7['days_out_in_past_week'] = data7['days_out_in_past_week'].map({\n",
    "    \"0\" : 0,\n",
    "    \"1\" : 1,\n",
    "    \"2\" : 2,\n",
    "    \"3\" : 3,\n",
    "    \"4\" : 4,\n",
    "    \"5\" : 5,\n",
    "    \"6\" : 6,\n",
    "    \"7\" : 7})\n",
    "\n",
    "data7.head(3)"
   ]
  },
  {
   "cell_type": "code",
   "execution_count": null,
   "metadata": {},
   "outputs": [],
   "source": [
    "data7['coronavirus_serious_threat_r'] = data7['coronavirus_serious_threat_r'].map({\n",
    "    \"Not a threat at all\" : 1,\n",
    "    \"A small threat\" : 2,\n",
    "    \"A threat\" : 3,\n",
    "    \"A serious threat\" : 4,\n",
    "    \"A very serious threat\" : 5})\n",
    "\n",
    "data7['must_save_economy_r'] = data7['must_save_economy_r'].map({\n",
    "    \"1 - Saving the economy must be the priority even if it means lives will be lost\" : 5,\n",
    "    \"2\" : 4,\n",
    "    \"3\" : 3,\n",
    "    \"4\" : 2,\n",
    "    \"5 - Saving lives must be the priority even if it means the economy will suffer\" : 1})\n",
    "\n",
    "data7['satisfied_with_city_r'] = data7['satisfied_with_city_r'].map({\n",
    "    \"Very satisfied\" : 5,\n",
    "    \"Fairly satisfied\" : 4,\n",
    "    \"Neither satisfied nor dissatisfied\" : 3,\n",
    "    \"Not very satisfied\" : 2,\n",
    "    \"Not satisfied at all\" : 1})\n",
    "\n",
    "data7['satisfied_with_state_r'] = data7['satisfied_with_state_r'].map({\n",
    "    \"Very satisfied\" : 5,\n",
    "    \"Fairly satisfied\" : 4,\n",
    "    \"Neither satisfied nor dissatisfied\" : 3,\n",
    "    \"Not very satisfied\" : 2,\n",
    "    \"Not satisfied at all\" : 1})\n",
    "\n",
    "data7['satisfied_with_federal_govt_r'] = data7['satisfied_with_federal_govt_r'].map({\n",
    "    \"Very satisfied\" : 5,\n",
    "    \"Fairly satisfied\" : 4,\n",
    "    \"Neither satisfied nor dissatisfied\" : 3,\n",
    "    \"Not very satisfied\" : 2,\n",
    "    \"Not satisfied at all\" : 1})\n",
    "\n",
    "data7['days_out_in_past_week_r'] = data7['days_out_in_past_week_r'].map({\n",
    "    \"0\" : 0,\n",
    "    \"1\" : 1,\n",
    "    \"2\" : 2,\n",
    "    \"3\" : 3,\n",
    "    \"4\" : 4,\n",
    "    \"5\" : 5,\n",
    "    \"6\" : 6,\n",
    "    \"7\" : 7})\n",
    "\n",
    "data7.head(3)"
   ]
  },
  {
   "cell_type": "markdown",
   "metadata": {},
   "source": [
    "### Combine regular and reverse-coded columns"
   ]
  },
  {
   "cell_type": "code",
   "execution_count": null,
   "metadata": {},
   "outputs": [],
   "source": [
    "data8 = data7.copy()"
   ]
  },
  {
   "cell_type": "code",
   "execution_count": null,
   "metadata": {
    "scrolled": true
   },
   "outputs": [],
   "source": [
    "data8['wealthy_family_essential'].fillna(data8['wealthy_family_essential_r'], inplace = True)\n",
    "data8['educated_parents_essential'].fillna(data8['educated_parents_essential_r'], inplace = True)\n",
    "data8['having_ambition_essential'].fillna(data8['having_ambition_essential_r'], inplace = True)\n",
    "data8['hard_work_essential'].fillna(data8['hard_work_essential_r'], inplace = True)\n",
    "data8['talent_essential'].fillna(data8['talent_essential_r'], inplace = True)\n",
    "data8['luck_essential'].fillna(data8['luck_essential_r'], inplace = True)\n",
    "data8['connections_essential'].fillna(data8['connections_essential_r'], inplace = True)\n",
    "data8['good_education_essential'].fillna(data8['good_education_essential_r'], inplace = True)\n",
    "data8['political_influence_essential'].fillna(data8['political_influence_essential_r'], inplace = True)"
   ]
  },
  {
   "cell_type": "code",
   "execution_count": null,
   "metadata": {},
   "outputs": [],
   "source": [
    "data8['enough_opportunities'].fillna(data8['enough_opportunities_r'], inplace = True)\n",
    "data8['more_opportunities_than_parents'].fillna(data8['more_opportunities_than_parents_r'], inplace = True)"
   ]
  },
  {
   "cell_type": "code",
   "execution_count": null,
   "metadata": {},
   "outputs": [],
   "source": [
    "data8['hard_work_brings_better_life'].fillna(data8['hard_work_brings_better_life_r'], inplace = True)\n",
    "data8['people_poor_because_laziness'].fillna(data8['people_poor_because_laziness_r'], inplace = True)"
   ]
  },
  {
   "cell_type": "code",
   "execution_count": null,
   "metadata": {},
   "outputs": [],
   "source": [
    "data8['high_earners_deserve_high'].fillna(data8['high_earners_deserve_high_r'], inplace = True)\n",
    "data8['low_earners_deserve_low'].fillna(data8['low_earners_deserve_low_r'], inplace = True)"
   ]
  },
  {
   "cell_type": "code",
   "execution_count": null,
   "metadata": {},
   "outputs": [],
   "source": [
    "data8['ineq_serious_problem'].fillna(data8['ineq_serious_problem_r'], inplace = True)\n",
    "data8['poverty_serious_problem'].fillna(data8['poverty_serious_problem_r'], inplace = True)\n",
    "data8['unequal_hcare_serious_problem'].fillna(data8['unequal_hcare_serious_problem_r'], inplace = True)\n",
    "data8['ineq_increasing'].fillna(data8['ineq_increasing_r'], inplace = True)"
   ]
  },
  {
   "cell_type": "code",
   "execution_count": null,
   "metadata": {},
   "outputs": [],
   "source": [
    "data8['govt_regulation_effective'].fillna(data8['govt_regulation_effective_r'], inplace = True)\n",
    "data8['govt_transfers_effective'].fillna(data8['govt_transfers_effective_r'], inplace = True)\n",
    "data8['progressive_taxes_effective'].fillna(data8['progressive_taxes_effective_r'], inplace = True)\n",
    "data8['educ_policies_effective'].fillna(data8['educ_policies_effective_r'], inplace = True)\n",
    "data8['private_charity_effective'].fillna(data8['private_charity_effective_r'], inplace = True)"
   ]
  },
  {
   "cell_type": "code",
   "execution_count": null,
   "metadata": {},
   "outputs": [],
   "source": [
    "data8['govt_should_decrease_ineq'].fillna(data8['govt_should_decrease_ineq_r'], inplace = True)\n",
    "data8['companies_should_decrease_ineq'].fillna(data8['companies_should_decrease_ineq_r'], inplace = True)\n",
    "data8['who_most_responsible'].fillna(data8['who_most_responsible_r'], inplace = True)"
   ]
  },
  {
   "cell_type": "code",
   "execution_count": null,
   "metadata": {},
   "outputs": [],
   "source": [
    "data8['household_income'].fillna(data8['household_income_r'], inplace = True)\n",
    "data8['subj_relative_income'].fillna(data8['subj_relative_income_r'], inplace = True)\n",
    "data8['income_volatile'].fillna(data8['income_volatile_r'], inplace = True)\n",
    "data8['sol_better_than_past'].fillna(data8['sol_better_than_past_r'], inplace = True)\n",
    "data8['sol_better_in_future'].fillna(data8['sol_better_in_future_r'], inplace = True)\n",
    "data8['liberal'].fillna(data8['liberal_r'], inplace = True)\n",
    "data8['political_party'].fillna(data8['political_party_r'], inplace = True)\n",
    "data8['follow_news'].fillna(data8['follow_news_r'], inplace = True)\n",
    "data8['has_confidence_in_science'].fillna(data8['has_confidence_in_science_r'], inplace = True)"
   ]
  },
  {
   "cell_type": "code",
   "execution_count": null,
   "metadata": {},
   "outputs": [],
   "source": [
    "data8['subj_relative_income_16_yrs'].fillna(data8['subj_relative_income_16_yrs_r'], inplace = True)\n",
    "data8['sol_better_than_parents'].fillna(data8['sol_better_than_parents_r'], inplace = True)"
   ]
  },
  {
   "cell_type": "code",
   "execution_count": null,
   "metadata": {},
   "outputs": [],
   "source": [
    "data8['coronavirus_serious_threat'].fillna(data8['coronavirus_serious_threat_r'], inplace = True)\n",
    "data8['must_save_economy'].fillna(data8['must_save_economy_r'], inplace = True)\n",
    "data8['satisfied_with_city'].fillna(data8['satisfied_with_city_r'], inplace = True)\n",
    "data8['satisfied_with_state'].fillna(data8['satisfied_with_state_r'], inplace = True)\n",
    "data8['satisfied_with_federal_govt'].fillna(data8['satisfied_with_federal_govt_r'], inplace = True)\n",
    "data8['how_affected_by_coronavirus'].fillna(data8['how_affected_by_coronavirus_r'], inplace = True)\n",
    "data8['how_affected_by_coronavirus_other'].fillna(data8['how_affected_by_coronavirus_other_r'], inplace = True)\n",
    "data8['days_out_in_past_week'].fillna(data8['days_out_in_past_week_r'], inplace = True)"
   ]
  },
  {
   "cell_type": "code",
   "execution_count": null,
   "metadata": {},
   "outputs": [],
   "source": [
    "data8['GMC.3_DO'].fillna(data8['GMC.3R_DO'], inplace = True)\n",
    "data8['DQ18_DO'].fillna(data8['DQ18R_DO'], inplace = True)"
   ]
  },
  {
   "cell_type": "code",
   "execution_count": null,
   "metadata": {},
   "outputs": [],
   "source": [
    "data8.head(3)"
   ]
  },
  {
   "cell_type": "markdown",
   "metadata": {},
   "source": [
    "### Parse display orders"
   ]
  },
  {
   "cell_type": "code",
   "execution_count": null,
   "metadata": {},
   "outputs": [],
   "source": [
    "data9 = data8.copy()"
   ]
  },
  {
   "cell_type": "code",
   "execution_count": null,
   "metadata": {
    "scrolled": false
   },
   "outputs": [],
   "source": [
    "def get_opinion_q_order(row):\n",
    "    entry = row['perceptions_or_preferences_DO']\n",
    "    temp_lst = entry.split(\"|\")\n",
    "    if temp_lst[0] == \"FL_60\":\n",
    "        temp_str = row['perceptions_DO'] + \"|\" + row[\"preferences_DO\"]\n",
    "    elif temp_lst[0] == \"FL_61\":\n",
    "        temp_str = row[\"preferences_DO\"] + \"|\" + row['perceptions_DO']\n",
    "    temp_lst2 = temp_str.split(\"|\")\n",
    "    temp_str2 = \"\"\n",
    "    for b in temp_lst2:\n",
    "        if b == \"FL_72\":\n",
    "            if row['DS_DO'] == row['DS_DO']:\n",
    "                temp_str2 += row['DS_DO'] + \"|\"\n",
    "                temp_str2 = re.sub(\"DS.0|\", \"\", temp_str2)\n",
    "                temp_str2 = re.sub(\"DS.1\", \"wealthy_family_essential\", temp_str2)\n",
    "                temp_str2 = re.sub(\"DS.2\", \"educated_parents_essential\", temp_str2)\n",
    "                temp_str2 = re.sub(\"DS.3\", \"having_ambition_essential\", temp_str2)\n",
    "                temp_str2 = re.sub(\"DS.4\", \"hard_work_essential\", temp_str2)\n",
    "                temp_str2 = re.sub(\"DS.5\", \"talent_essential\", temp_str2)\n",
    "                temp_str2 = re.sub(\"DS.6\", \"luck_essential\", temp_str2)\n",
    "                temp_str2 = re.sub(\"DS.7\", \"connections_essential\", temp_str2)\n",
    "                temp_str2 = re.sub(\"DS.8\", \"good_education_essential\", temp_str2)\n",
    "                temp_str2 = re.sub(\"DS.9\", \"political_influence_essential\", temp_str2)\n",
    "            else:\n",
    "                temp_str2 += row['DS_Reverse_DO'] + \"|\"\n",
    "                temp_str2 = re.sub(\"DS.0R|\", \"\", temp_str2)\n",
    "                temp_str2 = re.sub(\"DS.1R\", \"wealthy_family_essential\", temp_str2)\n",
    "                temp_str2 = re.sub(\"DS.2R\", \"educated_parents_essential\", temp_str2)\n",
    "                temp_str2 = re.sub(\"DS.3R\", \"having_ambition_essential\", temp_str2)\n",
    "                temp_str2 = re.sub(\"DS.4R\", \"hard_work_essential\", temp_str2)\n",
    "                temp_str2 = re.sub(\"DS.5R\", \"talent_essential\", temp_str2)\n",
    "                temp_str2 = re.sub(\"DS.6R\", \"luck_essential\", temp_str2)\n",
    "                temp_str2 = re.sub(\"DS.7R\", \"connections_essential\", temp_str2)\n",
    "                temp_str2 = re.sub(\"DS.8R\", \"good_education_essential\", temp_str2)\n",
    "                temp_str2 = re.sub(\"DS.9R\", \"political_influence_essential\", temp_str2)\n",
    "        elif b == \"FL_73\":\n",
    "            if row['EO_DO'] == row['EO_DO']:\n",
    "                temp_str2 += row['EO_DO'] + \"|\"\n",
    "                temp_str2 = re.sub(\"EO.1\", \"enough_opportunities\", temp_str2)\n",
    "                temp_str2 = re.sub(\"EO.2\", \"more_opportunities_than_parents\", temp_str2)\n",
    "            else:\n",
    "                temp_str2 += row['EO_Reverse_DO'] + \"|\"\n",
    "                temp_str2 = re.sub(\"EO.1R\", \"enough_opportunities\", temp_str2)\n",
    "                temp_str2 = re.sub(\"EO.2R\", \"more_opportunities_than_parents\", temp_str2)\n",
    "        elif b == \"FL_74\":\n",
    "            if row['LHW_DO'] == row['LHW_DO']:\n",
    "                temp_str2 += row['LHW_DO'] + \"|\"\n",
    "                temp_str2 = re.sub(\"LHW.1\", \"hard_work_brings_better_life\", temp_str2)\n",
    "                temp_str2 = re.sub(\"LHW.2\", \"people_poor_because_laziness\", temp_str2)\n",
    "            else:\n",
    "                temp_str2 += row['LHW_Reverse_DO'] + \"|\"\n",
    "                temp_str2 = re.sub(\"LHW.1R\", \"hard_work_brings_better_life\", temp_str2)\n",
    "                temp_str2 = re.sub(\"LHW.2R\", \"people_poor_because_laziness\", temp_str2)\n",
    "        elif b == \"FL_75\":\n",
    "            if row['ED_DO'] == row['ED_DO']:\n",
    "                temp_str2 += row['ED_DO'] + \"|\"\n",
    "                temp_str2 = re.sub(\"ED.1\", \"high_earners_deserve_high\", temp_str2)\n",
    "                temp_str2 = re.sub(\"ED.2\", \"low_earners_deserve_low\", temp_str2)\n",
    "            else:\n",
    "                temp_str2 += row['ED_Reverse_DO'] + \"|\"\n",
    "                temp_str2 = re.sub(\"ED.1R\", \"high_earners_deserve_high\", temp_str2)\n",
    "                temp_str2 = re.sub(\"ED.2R\", \"low_earners_deserve_low\", temp_str2)\n",
    "        elif b == \"FL_76\":\n",
    "            if row['ISP_DO'] == row['ISP_DO']:\n",
    "                temp_str2 += row['ISP_DO'] + \"|\"\n",
    "                temp_str2 = re.sub(\"ISP.1\", \"ineq_serious_problem\", temp_str2)\n",
    "                temp_str2 = re.sub(\"ISP.2\", \"poverty_serious_problem\", temp_str2)\n",
    "                temp_str2 = re.sub(\"ISP.3\", \"unequal_hcare_serious_problem\", temp_str2)\n",
    "                temp_str2 = re.sub(\"ISP.4\", \"ineq_increasing\", temp_str2)\n",
    "            else:\n",
    "                temp_str2 += row['ISP_Reverse_DO'] + \"|\"\n",
    "                temp_str2 = re.sub(\"ISP.1R\", \"ineq_serious_problem\", temp_str2)\n",
    "                temp_str2 = re.sub(\"ISP.2R\", \"poverty_serious_problem\", temp_str2)\n",
    "                temp_str2 = re.sub(\"ISP.3R\", \"unequal_hcare_serious_problem\", temp_str2)\n",
    "                temp_str2 = re.sub(\"ISP.4R\", \"ineq_increasing\", temp_str2)\n",
    "        elif b == \"FL_70\":\n",
    "            if row['GT_DO'] == row['GT_DO']:\n",
    "                temp_str2 += row['GT_DO'] + \"|\"\n",
    "                temp_str2 = re.sub(\"GT.1\", \"govt_regulation_effective\", temp_str2)\n",
    "                temp_str2 = re.sub(\"GT.2\", \"govt_transfers_effective\", temp_str2)\n",
    "                temp_str2 = re.sub(\"GT.3\", \"progressive_taxes_effective\", temp_str2)\n",
    "                temp_str2 = re.sub(\"GT.4\", \"educ_policies_effective\", temp_str2)\n",
    "                temp_str2 = re.sub(\"GT.5\", \"private_charity_effective\", temp_str2)\n",
    "            else:\n",
    "                temp_str2 += row['GT_Reverse_DO'] + \"|\"\n",
    "                temp_str2 = re.sub(\"GT.1R\", \"govt_regulation_effective\", temp_str2)\n",
    "                temp_str2 = re.sub(\"GT.2R\", \"govt_transfers_effective\", temp_str2)\n",
    "                temp_str2 = re.sub(\"GT.3R\", \"progressive_taxes_effective\", temp_str2)\n",
    "                temp_str2 = re.sub(\"GT.4R\", \"educ_policies_effective\", temp_str2)\n",
    "                temp_str2 = re.sub(\"GT.5R\", \"private_charity_effective\", temp_str2)\n",
    "        elif b == \"FL_71\":\n",
    "            if row['GMC_DO'] == row['GMC_DO']:\n",
    "                temp_str2 += row['GMC_DO'] + \"|\"\n",
    "                temp_str2 = re.sub(\"GMC.1\", \"govt_should_decrease_ineq\", temp_str2)\n",
    "                temp_str2 = re.sub(\"GMC.2\", \"companies_should_decrease_ineq\", temp_str2)\n",
    "                temp_str2 = re.sub(\"GMC.3\", \"who_most_responsible\", temp_str2)\n",
    "            else:\n",
    "                temp_str2 += row['GMC_Reverse_DO'] + \"|\"\n",
    "                temp_str2 = re.sub(\"GMC.1R\", \"govt_should_decrease_ineq\", temp_str2)\n",
    "                temp_str2 = re.sub(\"GMC.2R\", \"companies_should_decrease_ineq\", temp_str2)\n",
    "                temp_str2 = re.sub(\"GMC.3R\", \"who_most_responsible\", temp_str2)\n",
    "    temp_str2 = temp_str2[:-1]\n",
    "    display_order = temp_str2.split(\"|\")\n",
    "    return display_order\n",
    "\n",
    "data9['opinion_q_DO'] = data9.apply(get_opinion_q_order, axis = 1)\n",
    "data9.head()"
   ]
  },
  {
   "cell_type": "markdown",
   "metadata": {},
   "source": [
    "### Fill in condition values"
   ]
  },
  {
   "cell_type": "code",
   "execution_count": null,
   "metadata": {},
   "outputs": [],
   "source": [
    "data10 = data9.copy()"
   ]
  },
  {
   "cell_type": "code",
   "execution_count": null,
   "metadata": {
    "scrolled": true
   },
   "outputs": [],
   "source": [
    "def get_condition(row):\n",
    "    if   row['text_shown'] == 'Coronavirustext':                  return \"corona_control\"\n",
    "    elif row['text_shown'] == 'Coronavirusnaturalinequalitytext': return \"corona_natural_ineq\"\n",
    "    elif row['text_shown'] == 'Coronavirusclassinequalitytext':   return \"corona_class_ineq\"\n",
    "    elif row['text_shown'] == 'Internettext':                     return \"control\"\n",
    "    elif row['text_shown'] == 'Naturalinequalitytext':            return \"natural_ineq\"\n",
    "    elif row['text_shown'] == 'Classinequalitytext':              return \"class_ineq\"\n",
    "    \n",
    "data10['condition'] = data10.apply(get_condition, axis = 1)\n",
    "data10.head()"
   ]
  },
  {
   "cell_type": "code",
   "execution_count": null,
   "metadata": {
    "scrolled": true
   },
   "outputs": [],
   "source": [
    "data10.groupby(\"condition\").count()"
   ]
  },
  {
   "cell_type": "markdown",
   "metadata": {},
   "source": [
    "### Parse `how_affected_by_coronavirus` answers"
   ]
  },
  {
   "cell_type": "code",
   "execution_count": null,
   "metadata": {},
   "outputs": [],
   "source": [
    "data11 = data10.copy()"
   ]
  },
  {
   "cell_type": "code",
   "execution_count": null,
   "metadata": {},
   "outputs": [],
   "source": [
    "def get_how_affected_answers(row):\n",
    "    entry = row['how_affected_by_coronavirus']\n",
    "    lst = entry.split(\",\")\n",
    "    return lst\n",
    "\n",
    "data11['how_affected_by_coronavirus_lst'] = data11.apply(get_how_affected_answers, axis = 1)"
   ]
  },
  {
   "cell_type": "code",
   "execution_count": null,
   "metadata": {},
   "outputs": [],
   "source": [
    "def get_self_became_ill(row):\n",
    "    if \"I contracted coronavirus and became ill.\" in row['how_affected_by_coronavirus_lst']:\n",
    "        return 1\n",
    "    else:\n",
    "        return 0\n",
    "    \n",
    "def get_family_member_became_ill(row):\n",
    "    if \"Someone in my family contracted coronavirus and became ill.\" in row['how_affected_by_coronavirus_lst']:\n",
    "        return 1\n",
    "    else:\n",
    "        return 0\n",
    "\n",
    "def get_self_lost_job(row):\n",
    "    if \"I lost my job because of coronavirus.\" in row['how_affected_by_coronavirus_lst']:\n",
    "        return 1\n",
    "    else:\n",
    "        return 0\n",
    "    \n",
    "def get_family_member_lost_job(row):\n",
    "    if \"Someone in my family lost their job because of coronavirus.\" in row['how_affected_by_coronavirus_lst']:\n",
    "        return 1\n",
    "    else:\n",
    "        return 0\n",
    "    \n",
    "def get_self_lost_income(row):\n",
    "    if \"I experienced a significant decrease in income due to coronavirus.\" in row['how_affected_by_coronavirus_lst']:\n",
    "        return 1\n",
    "    else:\n",
    "        return 0\n",
    "    \n",
    "def get_family_member_lost_income(row):\n",
    "    if \"Someone in my family experienced a significant decrease in income due to coronavirus.\" \\\n",
    "        in row['how_affected_by_coronavirus_lst']:\n",
    "        return 1\n",
    "    else:\n",
    "        return 0\n",
    "    \n",
    "def get_self_at_risk(row):\n",
    "    if \"I have an underlying medical condition that puts me at greater risk for severe illness.\" \\\n",
    "        in row['how_affected_by_coronavirus_lst']:\n",
    "        return 1\n",
    "    else:\n",
    "        return 0\n",
    "    \n",
    "def get_family_member_at_risk(row):\n",
    "    if \"Someone in my family has an underlying medical condition that puts them at greater risk for severe illness.\" \\\n",
    "        in row['how_affected_by_coronavirus_lst']:\n",
    "        return 1\n",
    "    else:\n",
    "        return 0\n",
    "    \n",
    "def get_not_affected(row):\n",
    "    if \"I have not been affected by coronavirus in any major way.\" in row['how_affected_by_coronavirus_lst']:\n",
    "        return 1\n",
    "    else:\n",
    "        return 0\n",
    "    \n",
    "def get_affected_in_other_way(row):\n",
    "    if \"Other (please specify)\" in row['how_affected_by_coronavirus_lst']:\n",
    "        return 1\n",
    "    else:\n",
    "        return 0"
   ]
  },
  {
   "cell_type": "code",
   "execution_count": null,
   "metadata": {},
   "outputs": [],
   "source": [
    "data11['self_became_ill'] = data11.apply(get_self_became_ill, axis = 1)"
   ]
  },
  {
   "cell_type": "code",
   "execution_count": null,
   "metadata": {},
   "outputs": [],
   "source": [
    "data11['family_member_became_ill'] = data11.apply(get_family_member_became_ill, axis = 1)"
   ]
  },
  {
   "cell_type": "code",
   "execution_count": null,
   "metadata": {},
   "outputs": [],
   "source": [
    "data11['self_lost_job'] = data11.apply(get_self_lost_job, axis = 1)"
   ]
  },
  {
   "cell_type": "code",
   "execution_count": null,
   "metadata": {},
   "outputs": [],
   "source": [
    "data11['family_member_lost_job'] = data11.apply(get_family_member_lost_job, axis = 1)"
   ]
  },
  {
   "cell_type": "code",
   "execution_count": null,
   "metadata": {},
   "outputs": [],
   "source": [
    "data11['self_lost_income'] = data11.apply(get_self_lost_income, axis = 1)"
   ]
  },
  {
   "cell_type": "code",
   "execution_count": null,
   "metadata": {},
   "outputs": [],
   "source": [
    "data11['family_member_lost_income'] = data11.apply(get_family_member_lost_income, axis = 1)"
   ]
  },
  {
   "cell_type": "code",
   "execution_count": null,
   "metadata": {},
   "outputs": [],
   "source": [
    "data11['self_at_risk'] = data11.apply(get_self_at_risk, axis = 1)"
   ]
  },
  {
   "cell_type": "code",
   "execution_count": null,
   "metadata": {},
   "outputs": [],
   "source": [
    "data11['family_member_at_risk'] = data11.apply(get_family_member_at_risk, axis = 1)"
   ]
  },
  {
   "cell_type": "code",
   "execution_count": null,
   "metadata": {},
   "outputs": [],
   "source": [
    "data11['not_affected'] = data11.apply(get_not_affected, axis = 1)"
   ]
  },
  {
   "cell_type": "code",
   "execution_count": null,
   "metadata": {},
   "outputs": [],
   "source": [
    "data11['affected_in_other_way'] = data11.apply(get_affected_in_other_way, axis = 1)"
   ]
  },
  {
   "cell_type": "code",
   "execution_count": null,
   "metadata": {},
   "outputs": [],
   "source": [
    "data11.head()"
   ]
  },
  {
   "cell_type": "markdown",
   "metadata": {},
   "source": [
    "### Keep necessary variables only"
   ]
  },
  {
   "cell_type": "code",
   "execution_count": null,
   "metadata": {},
   "outputs": [],
   "source": [
    "data12 = data11[[\"condition\",\n",
    "                 \"comprehension_q\",\n",
    "                 \"wealthy_family_essential\", \"educated_parents_essential\", \"having_ambition_essential\",\n",
    "                 \"hard_work_essential\", \"talent_essential\", \"luck_essential\", \"connections_essential\",\n",
    "                 \"good_education_essential\", \"political_influence_essential\",\n",
    "                 \"enough_opportunities\", \"more_opportunities_than_parents\",\n",
    "                 \"hard_work_brings_better_life\", \"people_poor_because_laziness\",\n",
    "                 \"high_earners_deserve_high\", \"low_earners_deserve_low\",\n",
    "                 \"ineq_serious_problem\", \"poverty_serious_problem\", \"unequal_hcare_serious_problem\",\n",
    "                 \"ineq_increasing\",\n",
    "                 \"govt_regulation_effective\", \"govt_transfers_effective\", \"progressive_taxes_effective\",\n",
    "                 \"educ_policies_effective\", \"private_charity_effective\",\n",
    "                 \"govt_should_decrease_ineq\", \"companies_should_decrease_ineq\",\n",
    "                 \"who_most_responsible\",\n",
    "                 \"is_resident\", \"state\",\n",
    "                 \"gender\", \"age\", \"married\", \"has_children\",\n",
    "                 \"race\", \"religion\", \"education\",\n",
    "                 \"emp_status\", \"occupation\",\n",
    "                 \"household_income\", \"subj_relative_income\", \"income_volatile\",\n",
    "                 \"sol_better_than_past\", \"sol_better_in_future\",\n",
    "                 \"liberal\", \"political_party\",\n",
    "                 \"follow_news\", \"has_confidence_in_science\",\n",
    "                 \"father_occ\", \"mother_occ\", \"father_educ\", \"mother_educ\",\n",
    "                 \"subj_relative_income_16_yrs\", \"sol_better_than_parents\",\n",
    "                 \"coronavirus_serious_threat\", \"must_save_economy\",\n",
    "                 \"satisfied_with_city\", \"satisfied_with_state\", \"satisfied_with_federal_govt\",\n",
    "                 \"self_became_ill\", \"family_member_became_ill\", \"self_lost_income\", \"family_member_lost_income\",\n",
    "                 \"self_at_risk\", \"family_member_at_risk\", \"not_affected\", \"affected_in_other_way\",\n",
    "                 \"how_affected_by_coronavirus_other\",\n",
    "                 \"days_out_in_past_week\",\n",
    "                 \"opinion_q_DO\",\n",
    "                 \"DS_regular_or_reverse\", \"EO_regular_or_reverse\", \"LHW_regular_or_reverse\", \n",
    "                 \"ED_regular_or_reverse\", \"ISP_regular_or_reverse\", \n",
    "                 \"GT_regular_or_reverse\", \"GMC_regular_or_reverse\",\n",
    "                 \"Demog_end_regular_or_reverse\", \"Parents_end_regular_or_reverse\", \"Corona_regular_or_reverse\",\n",
    "                 \"GMC.3_DO\", \"DQ18_DO\"]]\n",
    "\n",
    "print(len(data12))"
   ]
  },
  {
   "cell_type": "code",
   "execution_count": null,
   "metadata": {},
   "outputs": [],
   "source": [
    "data13 = data12[(data12['condition'] == \"corona_control\") | \n",
    "                (data12['condition'] == \"corona_natural_ineq\") | \n",
    "                (data12['condition'] == \"corona_class_ineq\") | \n",
    "                (data12['condition'] != data12['condition'])]\n",
    "\n",
    "print(len(data13))"
   ]
  },
  {
   "cell_type": "code",
   "execution_count": null,
   "metadata": {},
   "outputs": [],
   "source": [
    "data14 = data12[(data12['condition'] == \"control\") | \n",
    "                (data12['condition'] == \"natural_ineq\") | \n",
    "                (data12['condition'] == \"class_ineq\") | \n",
    "                (data12['condition'] != data12['condition'])]\n",
    "\n",
    "print(len(data14))"
   ]
  },
  {
   "cell_type": "markdown",
   "metadata": {},
   "source": [
    "### Export to csv"
   ]
  },
  {
   "cell_type": "code",
   "execution_count": null,
   "metadata": {},
   "outputs": [],
   "source": [
    "path_to_processed_data = os.path.join(\"path/to/processed/data\")"
   ]
  },
  {
   "cell_type": "code",
   "execution_count": null,
   "metadata": {},
   "outputs": [],
   "source": [
    "data12.to_csv(os.path.join(path_to_processed_data, \"survey-exp-data.csv\"))"
   ]
  },
  {
   "cell_type": "code",
   "execution_count": null,
   "metadata": {},
   "outputs": [],
   "source": [
    "data13.to_csv(os.path.join(path_to_processed_data, \"survey-exp-data-corona.csv\"))"
   ]
  },
  {
   "cell_type": "code",
   "execution_count": null,
   "metadata": {},
   "outputs": [],
   "source": [
    "data14.to_csv(os.path.join(path_to_processed_data, \"survey-exp-data-general.csv\"))"
   ]
  },
  {
   "cell_type": "code",
   "execution_count": null,
   "metadata": {},
   "outputs": [],
   "source": []
  }
 ],
 "metadata": {
  "kernelspec": {
   "display_name": "Python 3",
   "language": "python",
   "name": "python3"
  },
  "language_info": {
   "codemirror_mode": {
    "name": "ipython",
    "version": 3
   },
   "file_extension": ".py",
   "mimetype": "text/x-python",
   "name": "python",
   "nbconvert_exporter": "python",
   "pygments_lexer": "ipython3",
   "version": "3.7.1"
  }
 },
 "nbformat": 4,
 "nbformat_minor": 2
}
